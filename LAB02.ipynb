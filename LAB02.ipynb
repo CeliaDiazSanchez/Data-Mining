{
  "nbformat": 4,
  "nbformat_minor": 0,
  "metadata": {
    "colab": {
      "provenance": [],
      "gpuType": "T4"
    },
    "kernelspec": {
      "name": "python3",
      "display_name": "Python 3"
    },
    "language_info": {
      "name": "python"
    }
  },
  "cells": [
    {
      "cell_type": "markdown",
      "source": [
        "#**LABORATORIO 2**\n",
        "**Grupo**: B01\n",
        "\n",
        "**Integrantes**: Claudia Esnarrizaga, Ana Robledano, Celia Díaz, Julia Callaba"
      ],
      "metadata": {
        "id": "pMSEp4AsW0WI"
      }
    },
    {
      "cell_type": "markdown",
      "source": [
        "## **PRÁCTICA 1 (Reglas de Asociación)**"
      ],
      "metadata": {
        "id": "CCDukk5mGNOZ"
      }
    },
    {
      "cell_type": "markdown",
      "source": [
        "##**Enunciado**\n",
        "\n",
        "Usa la librería `mlxtend` que nos permita solucionar todos los problemas relacionados con las reglas de\n",
        "asociación. Para ello tendremos que usar el algoritmo Apriori y una serie de métodos para obtener la distinta\n",
        "información que este genera.\n",
        "\n",
        "Usaremos la librería con el Dataset **Market_Basket_Optimisation.csv** que se ha proporcionado."
      ],
      "metadata": {
        "id": "4-KozIuiGpTN"
      }
    },
    {
      "cell_type": "markdown",
      "source": [
        "Prueba al menos tres configuraciones de soporte y frecuencia para cada tipo de puntuación."
      ],
      "metadata": {
        "id": "qc3qJTNuG7Kp"
      }
    },
    {
      "cell_type": "markdown",
      "source": [
        "Importamos las librerías necesarias y el archivo."
      ],
      "metadata": {
        "id": "TWr05TseIYD2"
      }
    },
    {
      "cell_type": "code",
      "source": [
        "import requests\n",
        "import warnings\n",
        "import pandas as pd\n",
        "import numpy as np\n",
        "import plotly.express as px\n",
        "from mlxtend.preprocessing import TransactionEncoder\n",
        "from mlxtend.frequent_patterns import fpgrowth\n",
        "from mlxtend.frequent_patterns import association_rules\n",
        "import networkx as nx\n",
        "import matplotlib.pyplot as plt\n",
        "\n",
        "# URL del archivo CSV en GitHub\n",
        "url = \"https://raw.githubusercontent.com/CeliaDiazSanchez/Data-Mining/LAB02/Market_Basket_Optimisation.csv\"\n",
        "nombre = 'Market_Basket_Optimisation.csv'\n",
        "\n",
        "\n",
        "# Realizar la solicitud GET para obtener el contenido del archivo\n",
        "response = requests.get(url)\n",
        "\n",
        "# Verificar si la solicitud fue exitosa (código de estado 200)\n",
        "if response.status_code == 200:\n",
        "     # Guardar el contenido del archivo en un archivo local\n",
        "    with open(nombre, 'wb') as f:\n",
        "        f.write(response.content)\n",
        "    print(\"Archivo descargado exitosamente.\")\n",
        "else:\n",
        "    print(\"Error al descargar el archivo.\")"
      ],
      "metadata": {
        "colab": {
          "base_uri": "https://localhost:8080/"
        },
        "id": "n-CK4GE6KNJ1",
        "outputId": "d9991039-15e7-44c0-effa-14ed0fa9c2f0"
      },
      "execution_count": 1,
      "outputs": [
        {
          "output_type": "stream",
          "name": "stdout",
          "text": [
            "Archivo descargado exitosamente.\n"
          ]
        }
      ]
    },
    {
      "cell_type": "markdown",
      "source": [
        "Cargamos el archivo de Market_Basket_Optimisation CSV en un DataFrame de pandas que llamamos ds."
      ],
      "metadata": {
        "id": "YJyXqgZDIRjl"
      }
    },
    {
      "cell_type": "code",
      "source": [
        "ds = pd.read_csv('Market_Basket_Optimisation.csv')\n",
        "# Mostramos las 5 primeras entradas del dataset\n",
        "ds.head(5)"
      ],
      "metadata": {
        "colab": {
          "base_uri": "https://localhost:8080/",
          "height": 206
        },
        "id": "o3jjDtEVG4ut",
        "outputId": "77510cd8-f6d6-4db4-9147-4fec78a04236"
      },
      "execution_count": 2,
      "outputs": [
        {
          "output_type": "execute_result",
          "data": {
            "text/plain": [
              "           shrimp    almonds     avocado    vegetables mix green grapes  \\\n",
              "0         burgers  meatballs        eggs               NaN          NaN   \n",
              "1         chutney        NaN         NaN               NaN          NaN   \n",
              "2          turkey    avocado         NaN               NaN          NaN   \n",
              "3   mineral water       milk  energy bar  whole wheat rice    green tea   \n",
              "4  low fat yogurt        NaN         NaN               NaN          NaN   \n",
              "\n",
              "  whole weat flour yams cottage cheese energy drink tomato juice  \\\n",
              "0              NaN  NaN            NaN          NaN          NaN   \n",
              "1              NaN  NaN            NaN          NaN          NaN   \n",
              "2              NaN  NaN            NaN          NaN          NaN   \n",
              "3              NaN  NaN            NaN          NaN          NaN   \n",
              "4              NaN  NaN            NaN          NaN          NaN   \n",
              "\n",
              "  low fat yogurt green tea honey salad mineral water salmon antioxydant juice  \\\n",
              "0            NaN       NaN   NaN   NaN           NaN    NaN               NaN   \n",
              "1            NaN       NaN   NaN   NaN           NaN    NaN               NaN   \n",
              "2            NaN       NaN   NaN   NaN           NaN    NaN               NaN   \n",
              "3            NaN       NaN   NaN   NaN           NaN    NaN               NaN   \n",
              "4            NaN       NaN   NaN   NaN           NaN    NaN               NaN   \n",
              "\n",
              "  frozen smoothie spinach  olive oil  \n",
              "0             NaN     NaN        NaN  \n",
              "1             NaN     NaN        NaN  \n",
              "2             NaN     NaN        NaN  \n",
              "3             NaN     NaN        NaN  \n",
              "4             NaN     NaN        NaN  "
            ],
            "text/html": [
              "<div>\n",
              "<style scoped>\n",
              "    .dataframe tbody tr th:only-of-type {\n",
              "        vertical-align: middle;\n",
              "    }\n",
              "\n",
              "    .dataframe tbody tr th {\n",
              "        vertical-align: top;\n",
              "    }\n",
              "\n",
              "    .dataframe thead th {\n",
              "        text-align: right;\n",
              "    }\n",
              "</style>\n",
              "<table border=\"1\" class=\"dataframe\">\n",
              "  <thead>\n",
              "    <tr style=\"text-align: right;\">\n",
              "      <th></th>\n",
              "      <th>shrimp</th>\n",
              "      <th>almonds</th>\n",
              "      <th>avocado</th>\n",
              "      <th>vegetables mix</th>\n",
              "      <th>green grapes</th>\n",
              "      <th>whole weat flour</th>\n",
              "      <th>yams</th>\n",
              "      <th>cottage cheese</th>\n",
              "      <th>energy drink</th>\n",
              "      <th>tomato juice</th>\n",
              "      <th>low fat yogurt</th>\n",
              "      <th>green tea</th>\n",
              "      <th>honey</th>\n",
              "      <th>salad</th>\n",
              "      <th>mineral water</th>\n",
              "      <th>salmon</th>\n",
              "      <th>antioxydant juice</th>\n",
              "      <th>frozen smoothie</th>\n",
              "      <th>spinach</th>\n",
              "      <th>olive oil</th>\n",
              "    </tr>\n",
              "  </thead>\n",
              "  <tbody>\n",
              "    <tr>\n",
              "      <th>0</th>\n",
              "      <td>burgers</td>\n",
              "      <td>meatballs</td>\n",
              "      <td>eggs</td>\n",
              "      <td>NaN</td>\n",
              "      <td>NaN</td>\n",
              "      <td>NaN</td>\n",
              "      <td>NaN</td>\n",
              "      <td>NaN</td>\n",
              "      <td>NaN</td>\n",
              "      <td>NaN</td>\n",
              "      <td>NaN</td>\n",
              "      <td>NaN</td>\n",
              "      <td>NaN</td>\n",
              "      <td>NaN</td>\n",
              "      <td>NaN</td>\n",
              "      <td>NaN</td>\n",
              "      <td>NaN</td>\n",
              "      <td>NaN</td>\n",
              "      <td>NaN</td>\n",
              "      <td>NaN</td>\n",
              "    </tr>\n",
              "    <tr>\n",
              "      <th>1</th>\n",
              "      <td>chutney</td>\n",
              "      <td>NaN</td>\n",
              "      <td>NaN</td>\n",
              "      <td>NaN</td>\n",
              "      <td>NaN</td>\n",
              "      <td>NaN</td>\n",
              "      <td>NaN</td>\n",
              "      <td>NaN</td>\n",
              "      <td>NaN</td>\n",
              "      <td>NaN</td>\n",
              "      <td>NaN</td>\n",
              "      <td>NaN</td>\n",
              "      <td>NaN</td>\n",
              "      <td>NaN</td>\n",
              "      <td>NaN</td>\n",
              "      <td>NaN</td>\n",
              "      <td>NaN</td>\n",
              "      <td>NaN</td>\n",
              "      <td>NaN</td>\n",
              "      <td>NaN</td>\n",
              "    </tr>\n",
              "    <tr>\n",
              "      <th>2</th>\n",
              "      <td>turkey</td>\n",
              "      <td>avocado</td>\n",
              "      <td>NaN</td>\n",
              "      <td>NaN</td>\n",
              "      <td>NaN</td>\n",
              "      <td>NaN</td>\n",
              "      <td>NaN</td>\n",
              "      <td>NaN</td>\n",
              "      <td>NaN</td>\n",
              "      <td>NaN</td>\n",
              "      <td>NaN</td>\n",
              "      <td>NaN</td>\n",
              "      <td>NaN</td>\n",
              "      <td>NaN</td>\n",
              "      <td>NaN</td>\n",
              "      <td>NaN</td>\n",
              "      <td>NaN</td>\n",
              "      <td>NaN</td>\n",
              "      <td>NaN</td>\n",
              "      <td>NaN</td>\n",
              "    </tr>\n",
              "    <tr>\n",
              "      <th>3</th>\n",
              "      <td>mineral water</td>\n",
              "      <td>milk</td>\n",
              "      <td>energy bar</td>\n",
              "      <td>whole wheat rice</td>\n",
              "      <td>green tea</td>\n",
              "      <td>NaN</td>\n",
              "      <td>NaN</td>\n",
              "      <td>NaN</td>\n",
              "      <td>NaN</td>\n",
              "      <td>NaN</td>\n",
              "      <td>NaN</td>\n",
              "      <td>NaN</td>\n",
              "      <td>NaN</td>\n",
              "      <td>NaN</td>\n",
              "      <td>NaN</td>\n",
              "      <td>NaN</td>\n",
              "      <td>NaN</td>\n",
              "      <td>NaN</td>\n",
              "      <td>NaN</td>\n",
              "      <td>NaN</td>\n",
              "    </tr>\n",
              "    <tr>\n",
              "      <th>4</th>\n",
              "      <td>low fat yogurt</td>\n",
              "      <td>NaN</td>\n",
              "      <td>NaN</td>\n",
              "      <td>NaN</td>\n",
              "      <td>NaN</td>\n",
              "      <td>NaN</td>\n",
              "      <td>NaN</td>\n",
              "      <td>NaN</td>\n",
              "      <td>NaN</td>\n",
              "      <td>NaN</td>\n",
              "      <td>NaN</td>\n",
              "      <td>NaN</td>\n",
              "      <td>NaN</td>\n",
              "      <td>NaN</td>\n",
              "      <td>NaN</td>\n",
              "      <td>NaN</td>\n",
              "      <td>NaN</td>\n",
              "      <td>NaN</td>\n",
              "      <td>NaN</td>\n",
              "      <td>NaN</td>\n",
              "    </tr>\n",
              "  </tbody>\n",
              "</table>\n",
              "</div>"
            ]
          },
          "metadata": {},
          "execution_count": 2
        }
      ]
    },
    {
      "cell_type": "markdown",
      "source": [
        "#### Exploración y limpieza de la base de datos"
      ],
      "metadata": {
        "id": "JY_pYNuIIca_"
      }
    },
    {
      "cell_type": "markdown",
      "source": [
        "Si vemos la base de datos, parece corrupta porque tiene muchos NaNs y sale que el título de cada columna es un alimento. Pero al abrir la base de datos en su formato original, observamos que en realidad son filas con la lista de la compra de 7501 personas.\n",
        "\n",
        "Por ello, no tenemos que limpiar nada, ya que esos NaNs no nos están sesgando, simplemente delimitan la información.\n",
        "\n",
        "Estas serían las 10 entradas líneas de nuestra base de datos:\n",
        "![image.png](data:image/png;base64,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)"
      ],
      "metadata": {
        "id": "N29iQu8QRL_x"
      }
    },
    {
      "cell_type": "markdown",
      "source": [
        "Se trata de una base de datos con listas de compras de productos de supermercado."
      ],
      "metadata": {
        "id": "Uv2TUU2hVw20"
      }
    },
    {
      "cell_type": "code",
      "source": [
        "ds.shape"
      ],
      "metadata": {
        "colab": {
          "base_uri": "https://localhost:8080/"
        },
        "id": "ftqTCwlaWJks",
        "outputId": "da8ff63f-eb43-48b4-e428-3656aabfdc20"
      },
      "execution_count": 3,
      "outputs": [
        {
          "output_type": "execute_result",
          "data": {
            "text/plain": [
              "(7500, 20)"
            ]
          },
          "metadata": {},
          "execution_count": 3
        }
      ]
    },
    {
      "cell_type": "markdown",
      "source": [
        "Tiene `7501` **filas** (más 1 de la fila de etiquetas de columna que conforma una compra más). Y `20` **columnas** pero que no aportan ninguna información ya que los elementos son productos ordenados."
      ],
      "metadata": {
        "id": "DjROb7pJWPiI"
      }
    },
    {
      "cell_type": "markdown",
      "source": [
        "Queremos registrar todos los productos en una lista para estudiarlos posteriormente."
      ],
      "metadata": {
        "id": "89uubsEbjSPz"
      }
    },
    {
      "cell_type": "code",
      "source": [
        "# Inicializamos la lista de nombres de productos\n",
        "transacciones = []\n",
        "# Guardamos en una lista los elementos Del dataFrame\n",
        "# Las etiquetas de columna (que representan la primera transacción) + Resto de productos en el DataFrame\n",
        "transacciones = ds.columns.tolist()  + ds.stack().tolist()"
      ],
      "metadata": {
        "id": "V2Z9JIKTXp8I"
      },
      "execution_count": 4,
      "outputs": []
    },
    {
      "cell_type": "markdown",
      "source": [
        "El método `stack()` en pandas se utiliza para \"apilar\" los niveles de columna en un DataFrame, lo que significa que convierte las columnas en el nivel más interno del índice. Antes hemos transpuesto el DataFrame para que lo recorra por filas y no por columnas, así se mantiene el orden de las transacciones, aunque para el caso de contar las frecuencias con `k=1` el orden no importará.\n",
        "\n",
        "En resumen, `ds.T.stack().tolist()` toma un DataFrame, lo transpone para que las filas se conviertan en columnas y viceversa, apila todas las columnas convertidas en filas, elimina cualquier fila que contenga un valor NaN y finalmente convierte los valores en una lista de Python.\n",
        "\n",
        "\n",
        "\n",
        "\n",
        "\n"
      ],
      "metadata": {
        "id": "r-9NT5Aefd1J"
      }
    },
    {
      "cell_type": "markdown",
      "source": [
        "Como son muchos datos (7501 filas con varios elementos cada una), sale un warning de la librería numpy que vamos a ignorar."
      ],
      "metadata": {
        "id": "CmCvC3IfS_Lm"
      }
    },
    {
      "cell_type": "code",
      "source": [
        "warnings.filterwarnings(\"ignore\", category=DeprecationWarning)"
      ],
      "metadata": {
        "id": "iiBivj_aPC67"
      },
      "execution_count": 5,
      "outputs": []
    },
    {
      "cell_type": "markdown",
      "source": [
        "Mostramos las primeras 25 compras."
      ],
      "metadata": {
        "id": "JzWCan0NvgSO"
      }
    },
    {
      "cell_type": "code",
      "source": [
        "transacciones[:20]"
      ],
      "metadata": {
        "colab": {
          "base_uri": "https://localhost:8080/"
        },
        "id": "C1oJNT68X84-",
        "outputId": "6145c41b-f9c9-44d2-ae3f-2b6d841a8a49"
      },
      "execution_count": 6,
      "outputs": [
        {
          "output_type": "execute_result",
          "data": {
            "text/plain": [
              "['shrimp',\n",
              " 'almonds',\n",
              " 'avocado',\n",
              " 'vegetables mix',\n",
              " 'green grapes',\n",
              " 'whole weat flour',\n",
              " 'yams',\n",
              " 'cottage cheese',\n",
              " 'energy drink',\n",
              " 'tomato juice',\n",
              " 'low fat yogurt',\n",
              " 'green tea',\n",
              " 'honey',\n",
              " 'salad',\n",
              " 'mineral water',\n",
              " 'salmon',\n",
              " 'antioxydant juice',\n",
              " 'frozen smoothie',\n",
              " 'spinach',\n",
              " 'olive oil']"
            ]
          },
          "metadata": {},
          "execution_count": 6
        }
      ]
    },
    {
      "cell_type": "markdown",
      "source": [
        "Comprobamos que la lista obtenida coincide con los valores del DataFrame ignorando los NaNs."
      ],
      "metadata": {
        "id": "y2IsRvIqb7fk"
      }
    },
    {
      "cell_type": "code",
      "source": [
        "ds.head(3)"
      ],
      "metadata": {
        "colab": {
          "base_uri": "https://localhost:8080/",
          "height": 143
        },
        "id": "nuCANGCyb_mn",
        "outputId": "9bfd2227-fa53-44e2-f1e7-37343a228022"
      },
      "execution_count": 7,
      "outputs": [
        {
          "output_type": "execute_result",
          "data": {
            "text/plain": [
              "    shrimp    almonds avocado vegetables mix green grapes whole weat flour  \\\n",
              "0  burgers  meatballs    eggs            NaN          NaN              NaN   \n",
              "1  chutney        NaN     NaN            NaN          NaN              NaN   \n",
              "2   turkey    avocado     NaN            NaN          NaN              NaN   \n",
              "\n",
              "  yams cottage cheese energy drink tomato juice low fat yogurt green tea  \\\n",
              "0  NaN            NaN          NaN          NaN            NaN       NaN   \n",
              "1  NaN            NaN          NaN          NaN            NaN       NaN   \n",
              "2  NaN            NaN          NaN          NaN            NaN       NaN   \n",
              "\n",
              "  honey salad mineral water salmon antioxydant juice frozen smoothie spinach  \\\n",
              "0   NaN   NaN           NaN    NaN               NaN             NaN     NaN   \n",
              "1   NaN   NaN           NaN    NaN               NaN             NaN     NaN   \n",
              "2   NaN   NaN           NaN    NaN               NaN             NaN     NaN   \n",
              "\n",
              "   olive oil  \n",
              "0        NaN  \n",
              "1        NaN  \n",
              "2        NaN  "
            ],
            "text/html": [
              "<div>\n",
              "<style scoped>\n",
              "    .dataframe tbody tr th:only-of-type {\n",
              "        vertical-align: middle;\n",
              "    }\n",
              "\n",
              "    .dataframe tbody tr th {\n",
              "        vertical-align: top;\n",
              "    }\n",
              "\n",
              "    .dataframe thead th {\n",
              "        text-align: right;\n",
              "    }\n",
              "</style>\n",
              "<table border=\"1\" class=\"dataframe\">\n",
              "  <thead>\n",
              "    <tr style=\"text-align: right;\">\n",
              "      <th></th>\n",
              "      <th>shrimp</th>\n",
              "      <th>almonds</th>\n",
              "      <th>avocado</th>\n",
              "      <th>vegetables mix</th>\n",
              "      <th>green grapes</th>\n",
              "      <th>whole weat flour</th>\n",
              "      <th>yams</th>\n",
              "      <th>cottage cheese</th>\n",
              "      <th>energy drink</th>\n",
              "      <th>tomato juice</th>\n",
              "      <th>low fat yogurt</th>\n",
              "      <th>green tea</th>\n",
              "      <th>honey</th>\n",
              "      <th>salad</th>\n",
              "      <th>mineral water</th>\n",
              "      <th>salmon</th>\n",
              "      <th>antioxydant juice</th>\n",
              "      <th>frozen smoothie</th>\n",
              "      <th>spinach</th>\n",
              "      <th>olive oil</th>\n",
              "    </tr>\n",
              "  </thead>\n",
              "  <tbody>\n",
              "    <tr>\n",
              "      <th>0</th>\n",
              "      <td>burgers</td>\n",
              "      <td>meatballs</td>\n",
              "      <td>eggs</td>\n",
              "      <td>NaN</td>\n",
              "      <td>NaN</td>\n",
              "      <td>NaN</td>\n",
              "      <td>NaN</td>\n",
              "      <td>NaN</td>\n",
              "      <td>NaN</td>\n",
              "      <td>NaN</td>\n",
              "      <td>NaN</td>\n",
              "      <td>NaN</td>\n",
              "      <td>NaN</td>\n",
              "      <td>NaN</td>\n",
              "      <td>NaN</td>\n",
              "      <td>NaN</td>\n",
              "      <td>NaN</td>\n",
              "      <td>NaN</td>\n",
              "      <td>NaN</td>\n",
              "      <td>NaN</td>\n",
              "    </tr>\n",
              "    <tr>\n",
              "      <th>1</th>\n",
              "      <td>chutney</td>\n",
              "      <td>NaN</td>\n",
              "      <td>NaN</td>\n",
              "      <td>NaN</td>\n",
              "      <td>NaN</td>\n",
              "      <td>NaN</td>\n",
              "      <td>NaN</td>\n",
              "      <td>NaN</td>\n",
              "      <td>NaN</td>\n",
              "      <td>NaN</td>\n",
              "      <td>NaN</td>\n",
              "      <td>NaN</td>\n",
              "      <td>NaN</td>\n",
              "      <td>NaN</td>\n",
              "      <td>NaN</td>\n",
              "      <td>NaN</td>\n",
              "      <td>NaN</td>\n",
              "      <td>NaN</td>\n",
              "      <td>NaN</td>\n",
              "      <td>NaN</td>\n",
              "    </tr>\n",
              "    <tr>\n",
              "      <th>2</th>\n",
              "      <td>turkey</td>\n",
              "      <td>avocado</td>\n",
              "      <td>NaN</td>\n",
              "      <td>NaN</td>\n",
              "      <td>NaN</td>\n",
              "      <td>NaN</td>\n",
              "      <td>NaN</td>\n",
              "      <td>NaN</td>\n",
              "      <td>NaN</td>\n",
              "      <td>NaN</td>\n",
              "      <td>NaN</td>\n",
              "      <td>NaN</td>\n",
              "      <td>NaN</td>\n",
              "      <td>NaN</td>\n",
              "      <td>NaN</td>\n",
              "      <td>NaN</td>\n",
              "      <td>NaN</td>\n",
              "      <td>NaN</td>\n",
              "      <td>NaN</td>\n",
              "      <td>NaN</td>\n",
              "    </tr>\n",
              "  </tbody>\n",
              "</table>\n",
              "</div>"
            ]
          },
          "metadata": {},
          "execution_count": 7
        }
      ]
    },
    {
      "cell_type": "markdown",
      "source": [
        "Contamos con `29363` productos comprados. Recordamos que pueden repetirse entre las transacciones."
      ],
      "metadata": {
        "id": "8cp18hAWccwo"
      }
    },
    {
      "cell_type": "code",
      "source": [
        "len(transacciones)"
      ],
      "metadata": {
        "colab": {
          "base_uri": "https://localhost:8080/"
        },
        "id": "WCTRqwQZZb_p",
        "outputId": "88eebcad-b8dc-4d93-84d3-b64f0bb868fd"
      },
      "execution_count": 8,
      "outputs": [
        {
          "output_type": "execute_result",
          "data": {
            "text/plain": [
              "29363"
            ]
          },
          "metadata": {},
          "execution_count": 8
        }
      ]
    },
    {
      "cell_type": "markdown",
      "source": [
        "Y `120` productos únicos."
      ],
      "metadata": {
        "id": "DuH1P6lXcn_I"
      }
    },
    {
      "cell_type": "code",
      "source": [
        "len(set(transacciones))"
      ],
      "metadata": {
        "colab": {
          "base_uri": "https://localhost:8080/"
        },
        "id": "RUI38F-ocOBM",
        "outputId": "8afa1897-93cb-44b3-e952-e0e0c90b0fac"
      },
      "execution_count": 9,
      "outputs": [
        {
          "output_type": "execute_result",
          "data": {
            "text/plain": [
              "120"
            ]
          },
          "metadata": {},
          "execution_count": 9
        }
      ]
    },
    {
      "cell_type": "markdown",
      "source": [
        "Para evitar errores de transcripción, como el mismo producto escrito en mayúsculas, pasamos todos los elementos de la lista a minúsculas."
      ],
      "metadata": {
        "id": "-VTgSDTTdSCk"
      }
    },
    {
      "cell_type": "code",
      "source": [
        "# Convertir todos los elementos a minúsculas\n",
        "transacciones = [elemento.lower() for elemento in transacciones]"
      ],
      "metadata": {
        "id": "u0CWQKTadSSu"
      },
      "execution_count": 10,
      "outputs": []
    },
    {
      "cell_type": "markdown",
      "source": [
        "## **Resolución**"
      ],
      "metadata": {
        "id": "65bvAQFZJlwW"
      }
    },
    {
      "cell_type": "markdown",
      "source": [
        "Instalamos la librería `mlxtend`. Esta librería se utiliza comúnmente para extender las capacidades de otras bibliotecas populares de machine learning, como scikit-learn."
      ],
      "metadata": {
        "id": "-OEx4zSzJud7"
      }
    },
    {
      "cell_type": "code",
      "source": [
        "!pip install mlxtend"
      ],
      "metadata": {
        "colab": {
          "base_uri": "https://localhost:8080/"
        },
        "id": "pO3bYMVDJqc1",
        "outputId": "c326f52f-ec51-4e60-e3c4-4dc1ac2e06ee"
      },
      "execution_count": 11,
      "outputs": [
        {
          "output_type": "stream",
          "name": "stdout",
          "text": [
            "Requirement already satisfied: mlxtend in c:\\users\\felixd\\appdata\\local\\programs\\python\\python310\\lib\\site-packages (0.23.1)\n",
            "Requirement already satisfied: scipy>=1.2.1 in c:\\users\\felixd\\appdata\\local\\programs\\python\\python310\\lib\\site-packages (from mlxtend) (1.12.0)\n",
            "Requirement already satisfied: numpy>=1.16.2 in c:\\users\\felixd\\appdata\\local\\programs\\python\\python310\\lib\\site-packages (from mlxtend) (1.26.4)\n",
            "Requirement already satisfied: pandas>=0.24.2 in c:\\users\\felixd\\appdata\\local\\programs\\python\\python310\\lib\\site-packages (from mlxtend) (2.2.1)\n",
            "Requirement already satisfied: scikit-learn>=1.0.2 in c:\\users\\felixd\\appdata\\local\\programs\\python\\python310\\lib\\site-packages (from mlxtend) (1.4.1.post1)\n",
            "Requirement already satisfied: matplotlib>=3.0.0 in c:\\users\\felixd\\appdata\\local\\programs\\python\\python310\\lib\\site-packages (from mlxtend) (3.8.3)\n",
            "Requirement already satisfied: joblib>=0.13.2 in c:\\users\\felixd\\appdata\\local\\programs\\python\\python310\\lib\\site-packages (from mlxtend) (1.3.2)\n",
            "Requirement already satisfied: contourpy>=1.0.1 in c:\\users\\felixd\\appdata\\local\\programs\\python\\python310\\lib\\site-packages (from matplotlib>=3.0.0->mlxtend) (1.2.0)\n",
            "Requirement already satisfied: cycler>=0.10 in c:\\users\\felixd\\appdata\\local\\programs\\python\\python310\\lib\\site-packages (from matplotlib>=3.0.0->mlxtend) (0.12.1)\n",
            "Requirement already satisfied: fonttools>=4.22.0 in c:\\users\\felixd\\appdata\\local\\programs\\python\\python310\\lib\\site-packages (from matplotlib>=3.0.0->mlxtend) (4.50.0)\n",
            "Requirement already satisfied: kiwisolver>=1.3.1 in c:\\users\\felixd\\appdata\\local\\programs\\python\\python310\\lib\\site-packages (from matplotlib>=3.0.0->mlxtend) (1.4.5)\n",
            "Requirement already satisfied: packaging>=20.0 in c:\\users\\felixd\\appdata\\local\\programs\\python\\python310\\lib\\site-packages (from matplotlib>=3.0.0->mlxtend) (24.0)\n",
            "Requirement already satisfied: pillow>=8 in c:\\users\\felixd\\appdata\\local\\programs\\python\\python310\\lib\\site-packages (from matplotlib>=3.0.0->mlxtend) (10.2.0)\n",
            "Requirement already satisfied: pyparsing>=2.3.1 in c:\\users\\felixd\\appdata\\local\\programs\\python\\python310\\lib\\site-packages (from matplotlib>=3.0.0->mlxtend) (3.1.2)\n",
            "Requirement already satisfied: python-dateutil>=2.7 in c:\\users\\felixd\\appdata\\local\\programs\\python\\python310\\lib\\site-packages (from matplotlib>=3.0.0->mlxtend) (2.9.0.post0)\n",
            "Requirement already satisfied: pytz>=2020.1 in c:\\users\\felixd\\appdata\\local\\programs\\python\\python310\\lib\\site-packages (from pandas>=0.24.2->mlxtend) (2024.1)\n",
            "Requirement already satisfied: tzdata>=2022.7 in c:\\users\\felixd\\appdata\\local\\programs\\python\\python310\\lib\\site-packages (from pandas>=0.24.2->mlxtend) (2024.1)\n",
            "Requirement already satisfied: threadpoolctl>=2.0.0 in c:\\users\\felixd\\appdata\\local\\programs\\python\\python310\\lib\\site-packages (from scikit-learn>=1.0.2->mlxtend) (3.3.0)\n",
            "Requirement already satisfied: six>=1.5 in c:\\users\\felixd\\appdata\\local\\programs\\python\\python310\\lib\\site-packages (from python-dateutil>=2.7->matplotlib>=3.0.0->mlxtend) (1.16.0)\n"
          ]
        }
      ]
    },
    {
      "cell_type": "markdown",
      "source": [
        "Anteriormente hemos filtrado los datos y los hemos introducimos en una lista para aplicar el algoritmo Apriori."
      ],
      "metadata": {
        "id": "8BnSjwbGKO7k"
      }
    },
    {
      "cell_type": "markdown",
      "source": [
        "Es necesario tener las transacciones en un array unidimensional porque el algoritmo Apriori de `mlxtend` espera un conjunto de transacciones, donde cada transacción es una lista de elementos."
      ],
      "metadata": {
        "id": "xExGuBdERd2h"
      }
    },
    {
      "cell_type": "markdown",
      "source": [
        "###**Preprocesamiento y análisis exploratorio de datos**"
      ],
      "metadata": {
        "id": "K0TI07NSTr5g"
      }
    },
    {
      "cell_type": "markdown",
      "source": [
        "#### **k = 1**"
      ],
      "metadata": {
        "id": "ETI1L3EXU7jK"
      }
    },
    {
      "cell_type": "markdown",
      "source": [
        "**1. Creación del DataFrame inicial:**"
      ],
      "metadata": {
        "id": "-80bOvPHUFkG"
      }
    },
    {
      "cell_type": "markdown",
      "source": [
        "Contiene todos los productos tantas veces como hayan sido comprados."
      ],
      "metadata": {
        "id": "nAHZRPU8quWX"
      }
    },
    {
      "cell_type": "code",
      "source": [
        "df = pd.DataFrame(transacciones, columns=[\"items\"])"
      ],
      "metadata": {
        "id": "8FapBo1qS0mh"
      },
      "execution_count": 12,
      "outputs": []
    },
    {
      "cell_type": "markdown",
      "source": [
        "**2. Eliminar filas con valor \"nan\" en la columna 'items'**"
      ],
      "metadata": {
        "id": "eAgciYRcUWkQ"
      }
    },
    {
      "cell_type": "markdown",
      "source": [
        "En este caso, como ya hemos filtrado los datos anteriormente, no hay ningún NaN que eliminar."
      ],
      "metadata": {
        "id": "4IkjJRH2kEWM"
      }
    },
    {
      "cell_type": "code",
      "source": [
        "cantidad_nans = df.isna().sum().sum()\n",
        "if cantidad_nans != 0:\n",
        "  indexNames = df[df['items'] == \"nan\" ].index\n",
        "  df.drop(indexNames , inplace=True)\n",
        "  print('Se eliminaron los NaNs')\n",
        "else:\n",
        "  print('No hay NaNs en el data frame')"
      ],
      "metadata": {
        "colab": {
          "base_uri": "https://localhost:8080/"
        },
        "id": "y1PqA7qXUb5E",
        "outputId": "12be219b-538f-48b5-e92a-0698fa812681"
      },
      "execution_count": 13,
      "outputs": [
        {
          "output_type": "stream",
          "name": "stdout",
          "text": [
            "No hay NaNs en el data frame\n"
          ]
        }
      ]
    },
    {
      "cell_type": "markdown",
      "source": [
        "**3. Agrupar y contar la frecuencia de cada elemento ('items'):**"
      ],
      "metadata": {
        "id": "-zyDJVC2Uf99"
      }
    },
    {
      "cell_type": "markdown",
      "source": [
        "Con `value_counts()` se cuenta la frecuencia de cada valor único en el DataFrame original."
      ],
      "metadata": {
        "id": "U3wtXi5MyfbM"
      }
    },
    {
      "cell_type": "code",
      "source": [
        "df.value_counts()"
      ],
      "metadata": {
        "colab": {
          "base_uri": "https://localhost:8080/"
        },
        "id": "iUmCpTQJyaOm",
        "outputId": "80c2f7af-45de-4278-b64d-0fc6f8e5e55f"
      },
      "execution_count": 14,
      "outputs": [
        {
          "output_type": "execute_result",
          "data": {
            "text/plain": [
              "items        \n",
              "mineral water    1788\n",
              "eggs             1348\n",
              "spaghetti        1306\n",
              "french fries     1282\n",
              "chocolate        1230\n",
              "                 ... \n",
              "bramble            14\n",
              "cream               7\n",
              "napkins             5\n",
              "water spray         3\n",
              " asparagus          1\n",
              "Name: count, Length: 120, dtype: int64"
            ]
          },
          "metadata": {},
          "execution_count": 14
        }
      ]
    },
    {
      "cell_type": "markdown",
      "source": [
        "Usaremos esta función y reorganizaremos los resultados en un nuevo DataFrame (df_table) con dos columnas: una columna que contiene los valores únicos y otra columna que contiene la frecuencia de cada valor único."
      ],
      "metadata": {
        "id": "5zBNHUS3yWtf"
      }
    },
    {
      "cell_type": "code",
      "source": [
        "df_table = df.value_counts().reset_index().rename(columns={ 0: \"Frecuencia soporte\"})\n",
        "# .reset_index(): resetea el índice de la Serie resultante de value_counts() para convertir los índices en una nueva columna del DataFrame\n",
        "# .rename(): la columna de frecuencia se renombra como \"Frecuencia soporte\" para mayor claridad"
      ],
      "metadata": {
        "id": "oD7AuJ0dUgPb"
      },
      "execution_count": 15,
      "outputs": []
    },
    {
      "cell_type": "markdown",
      "source": [
        "Obtenemos un DataFrame con 2 columnas, para el nombre del producto y su frecuencia y 120 entradas para cada producto (único)."
      ],
      "metadata": {
        "id": "xh5k7NC1pmoj"
      }
    },
    {
      "cell_type": "code",
      "source": [
        "df_table.shape"
      ],
      "metadata": {
        "id": "_2F96KyTln-y",
        "outputId": "b8d6ae9b-e5bf-4811-8978-826426dc1175",
        "colab": {
          "base_uri": "https://localhost:8080/"
        }
      },
      "execution_count": 16,
      "outputs": [
        {
          "output_type": "execute_result",
          "data": {
            "text/plain": [
              "(120, 2)"
            ]
          },
          "metadata": {},
          "execution_count": 16
        }
      ]
    },
    {
      "cell_type": "markdown",
      "source": [
        "**4. Visualización de las primeras 10 frecuencias con estilo de degradado de color:**"
      ],
      "metadata": {
        "id": "gopsmRwkUgiv"
      }
    },
    {
      "cell_type": "code",
      "source": [
        "df_table.head(10).style.background_gradient(cmap='Blues')"
      ],
      "metadata": {
        "colab": {
          "base_uri": "https://localhost:8080/",
          "height": 254
        },
        "id": "qFAvlOxWUg1s",
        "outputId": "e9cdf9a7-77cb-42c6-b644-a2a501530c7d"
      },
      "execution_count": 17,
      "outputs": [
        {
          "output_type": "execute_result",
          "data": {
            "text/plain": [
              "<pandas.io.formats.style.Styler at 0x1ae2639fc70>"
            ],
            "text/html": [
              "<style type=\"text/css\">\n",
              "#T_b9500_row0_col1 {\n",
              "  background-color: #08306b;\n",
              "  color: #f1f1f1;\n",
              "}\n",
              "#T_b9500_row1_col1 {\n",
              "  background-color: #4d99ca;\n",
              "  color: #f1f1f1;\n",
              "}\n",
              "#T_b9500_row2_col1 {\n",
              "  background-color: #5aa2cf;\n",
              "  color: #f1f1f1;\n",
              "}\n",
              "#T_b9500_row3_col1 {\n",
              "  background-color: #61a7d2;\n",
              "  color: #f1f1f1;\n",
              "}\n",
              "#T_b9500_row4_col1 {\n",
              "  background-color: #72b2d8;\n",
              "  color: #f1f1f1;\n",
              "}\n",
              "#T_b9500_row5_col1 {\n",
              "  background-color: #c3daee;\n",
              "  color: #000000;\n",
              "}\n",
              "#T_b9500_row6_col1 {\n",
              "  background-color: #c8dcf0;\n",
              "  color: #000000;\n",
              "}\n",
              "#T_b9500_row7_col1 {\n",
              "  background-color: #f3f8fe;\n",
              "  color: #000000;\n",
              "}\n",
              "#T_b9500_row8_col1, #T_b9500_row9_col1 {\n",
              "  background-color: #f7fbff;\n",
              "  color: #000000;\n",
              "}\n",
              "</style>\n",
              "<table id=\"T_b9500\">\n",
              "  <thead>\n",
              "    <tr>\n",
              "      <th class=\"blank level0\" >&nbsp;</th>\n",
              "      <th id=\"T_b9500_level0_col0\" class=\"col_heading level0 col0\" >items</th>\n",
              "      <th id=\"T_b9500_level0_col1\" class=\"col_heading level0 col1\" >count</th>\n",
              "    </tr>\n",
              "  </thead>\n",
              "  <tbody>\n",
              "    <tr>\n",
              "      <th id=\"T_b9500_level0_row0\" class=\"row_heading level0 row0\" >0</th>\n",
              "      <td id=\"T_b9500_row0_col0\" class=\"data row0 col0\" >mineral water</td>\n",
              "      <td id=\"T_b9500_row0_col1\" class=\"data row0 col1\" >1788</td>\n",
              "    </tr>\n",
              "    <tr>\n",
              "      <th id=\"T_b9500_level0_row1\" class=\"row_heading level0 row1\" >1</th>\n",
              "      <td id=\"T_b9500_row1_col0\" class=\"data row1 col0\" >eggs</td>\n",
              "      <td id=\"T_b9500_row1_col1\" class=\"data row1 col1\" >1348</td>\n",
              "    </tr>\n",
              "    <tr>\n",
              "      <th id=\"T_b9500_level0_row2\" class=\"row_heading level0 row2\" >2</th>\n",
              "      <td id=\"T_b9500_row2_col0\" class=\"data row2 col0\" >spaghetti</td>\n",
              "      <td id=\"T_b9500_row2_col1\" class=\"data row2 col1\" >1306</td>\n",
              "    </tr>\n",
              "    <tr>\n",
              "      <th id=\"T_b9500_level0_row3\" class=\"row_heading level0 row3\" >3</th>\n",
              "      <td id=\"T_b9500_row3_col0\" class=\"data row3 col0\" >french fries</td>\n",
              "      <td id=\"T_b9500_row3_col1\" class=\"data row3 col1\" >1282</td>\n",
              "    </tr>\n",
              "    <tr>\n",
              "      <th id=\"T_b9500_level0_row4\" class=\"row_heading level0 row4\" >4</th>\n",
              "      <td id=\"T_b9500_row4_col0\" class=\"data row4 col0\" >chocolate</td>\n",
              "      <td id=\"T_b9500_row4_col1\" class=\"data row4 col1\" >1230</td>\n",
              "    </tr>\n",
              "    <tr>\n",
              "      <th id=\"T_b9500_level0_row5\" class=\"row_heading level0 row5\" >5</th>\n",
              "      <td id=\"T_b9500_row5_col0\" class=\"data row5 col0\" >green tea</td>\n",
              "      <td id=\"T_b9500_row5_col1\" class=\"data row5 col1\" >991</td>\n",
              "    </tr>\n",
              "    <tr>\n",
              "      <th id=\"T_b9500_level0_row6\" class=\"row_heading level0 row6\" >6</th>\n",
              "      <td id=\"T_b9500_row6_col0\" class=\"data row6 col0\" >milk</td>\n",
              "      <td id=\"T_b9500_row6_col1\" class=\"data row6 col1\" >972</td>\n",
              "    </tr>\n",
              "    <tr>\n",
              "      <th id=\"T_b9500_level0_row7\" class=\"row_heading level0 row7\" >7</th>\n",
              "      <td id=\"T_b9500_row7_col0\" class=\"data row7 col0\" >ground beef</td>\n",
              "      <td id=\"T_b9500_row7_col1\" class=\"data row7 col1\" >737</td>\n",
              "    </tr>\n",
              "    <tr>\n",
              "      <th id=\"T_b9500_level0_row8\" class=\"row_heading level0 row8\" >8</th>\n",
              "      <td id=\"T_b9500_row8_col0\" class=\"data row8 col0\" >frozen vegetables</td>\n",
              "      <td id=\"T_b9500_row8_col1\" class=\"data row8 col1\" >715</td>\n",
              "    </tr>\n",
              "    <tr>\n",
              "      <th id=\"T_b9500_level0_row9\" class=\"row_heading level0 row9\" >9</th>\n",
              "      <td id=\"T_b9500_row9_col0\" class=\"data row9 col0\" >pancakes</td>\n",
              "      <td id=\"T_b9500_row9_col1\" class=\"data row9 col1\" >713</td>\n",
              "    </tr>\n",
              "  </tbody>\n",
              "</table>\n"
            ]
          },
          "metadata": {},
          "execution_count": 17
        }
      ]
    },
    {
      "cell_type": "markdown",
      "source": [
        "Cada línea muestra un elemento y la cantidad de veces que aparece en las transacciones. Está ordenado de mayor a menor, siendo **\"mineral water\"** el elemento que más aparece en las transacciones y *asparagus* el que menos (solamente aparece una vez)."
      ],
      "metadata": {
        "id": "a3tiB0IxWa_o"
      }
    },
    {
      "cell_type": "markdown",
      "source": [
        "A continuación lo mostraremos usando un `treemap interactivo` para visualizar la frecuencia de los 60 elementos con la mayor frecuencia en el conjunto de datos."
      ],
      "metadata": {
        "id": "RQI2ZOYUXaZJ"
      }
    },
    {
      "cell_type": "code",
      "source": [
        "# Desactivamos los warnings\n",
        "warnings.filterwarnings('ignore')\n",
        "\n",
        "df_table[\"all\"] = \"60 items that have highest freqs\"\n",
        "\n",
        "fig = px.treemap(df_table.head(60), path=['all', \"items\"], values='Frecuencia soporte',\n",
        "                  color=df_table[\"Frecuencia soporte\"].head(60), hover_data=['items'],\n",
        "                  color_continuous_scale='Blues',\n",
        "                )\n",
        "\n",
        "fig.show()\n",
        "\n",
        "# Volvemos a activar los warnings\n",
        "warnings.filterwarnings('default')\n",
        "# Eliminamos la columna auxiliar que usamos para el treemap.\n",
        "df_table.drop(columns='all',inplace=True)"
      ],
      "metadata": {
        "colab": {
          "base_uri": "https://localhost:8080/",
          "height": 922
        },
        "id": "7ZthngVjT3H1",
        "outputId": "e0851c98-8665-4728-87d6-fdb6282c3f70"
      },
      "execution_count": 22,
      "outputs": [
        {
          "output_type": "error",
          "ename": "KeyError",
          "evalue": "'Frecuencia soporte'",
          "traceback": [
            "\u001b[1;31m---------------------------------------------------------------------------\u001b[0m",
            "\u001b[1;31mKeyError\u001b[0m                                  Traceback (most recent call last)",
            "File \u001b[1;32m~\\AppData\\Local\\Programs\\Python\\Python310\\lib\\site-packages\\pandas\\core\\indexes\\base.py:3805\u001b[0m, in \u001b[0;36mIndex.get_loc\u001b[1;34m(self, key)\u001b[0m\n\u001b[0;32m   3804\u001b[0m \u001b[38;5;28;01mtry\u001b[39;00m:\n\u001b[1;32m-> 3805\u001b[0m     \u001b[38;5;28;01mreturn\u001b[39;00m \u001b[38;5;28;43mself\u001b[39;49m\u001b[38;5;241;43m.\u001b[39;49m\u001b[43m_engine\u001b[49m\u001b[38;5;241;43m.\u001b[39;49m\u001b[43mget_loc\u001b[49m\u001b[43m(\u001b[49m\u001b[43mcasted_key\u001b[49m\u001b[43m)\u001b[49m\n\u001b[0;32m   3806\u001b[0m \u001b[38;5;28;01mexcept\u001b[39;00m \u001b[38;5;167;01mKeyError\u001b[39;00m \u001b[38;5;28;01mas\u001b[39;00m err:\n",
            "File \u001b[1;32mindex.pyx:167\u001b[0m, in \u001b[0;36mpandas._libs.index.IndexEngine.get_loc\u001b[1;34m()\u001b[0m\n",
            "File \u001b[1;32mindex.pyx:196\u001b[0m, in \u001b[0;36mpandas._libs.index.IndexEngine.get_loc\u001b[1;34m()\u001b[0m\n",
            "File \u001b[1;32mpandas\\\\_libs\\\\hashtable_class_helper.pxi:7081\u001b[0m, in \u001b[0;36mpandas._libs.hashtable.PyObjectHashTable.get_item\u001b[1;34m()\u001b[0m\n",
            "File \u001b[1;32mpandas\\\\_libs\\\\hashtable_class_helper.pxi:7089\u001b[0m, in \u001b[0;36mpandas._libs.hashtable.PyObjectHashTable.get_item\u001b[1;34m()\u001b[0m\n",
            "\u001b[1;31mKeyError\u001b[0m: 'Frecuencia soporte'",
            "\nThe above exception was the direct cause of the following exception:\n",
            "\u001b[1;31mKeyError\u001b[0m                                  Traceback (most recent call last)",
            "Cell \u001b[1;32mIn[22], line 7\u001b[0m\n\u001b[0;32m      2\u001b[0m warnings\u001b[38;5;241m.\u001b[39mfilterwarnings(\u001b[38;5;124m'\u001b[39m\u001b[38;5;124mignore\u001b[39m\u001b[38;5;124m'\u001b[39m)\n\u001b[0;32m      4\u001b[0m df_table[\u001b[38;5;124m\"\u001b[39m\u001b[38;5;124mall\u001b[39m\u001b[38;5;124m\"\u001b[39m] \u001b[38;5;241m=\u001b[39m \u001b[38;5;124m\"\u001b[39m\u001b[38;5;124m60 items that have highest freqs\u001b[39m\u001b[38;5;124m\"\u001b[39m\n\u001b[0;32m      6\u001b[0m fig \u001b[38;5;241m=\u001b[39m px\u001b[38;5;241m.\u001b[39mtreemap(df_table\u001b[38;5;241m.\u001b[39mhead(\u001b[38;5;241m60\u001b[39m), path\u001b[38;5;241m=\u001b[39m[\u001b[38;5;124m'\u001b[39m\u001b[38;5;124mall\u001b[39m\u001b[38;5;124m'\u001b[39m, \u001b[38;5;124m\"\u001b[39m\u001b[38;5;124mitems\u001b[39m\u001b[38;5;124m\"\u001b[39m], values\u001b[38;5;241m=\u001b[39m\u001b[38;5;124m'\u001b[39m\u001b[38;5;124mFrecuencia soporte\u001b[39m\u001b[38;5;124m'\u001b[39m,\n\u001b[1;32m----> 7\u001b[0m                   color\u001b[38;5;241m=\u001b[39m\u001b[43mdf_table\u001b[49m\u001b[43m[\u001b[49m\u001b[38;5;124;43m\"\u001b[39;49m\u001b[38;5;124;43mFrecuencia soporte\u001b[39;49m\u001b[38;5;124;43m\"\u001b[39;49m\u001b[43m]\u001b[49m\u001b[38;5;241m.\u001b[39mhead(\u001b[38;5;241m60\u001b[39m), hover_data\u001b[38;5;241m=\u001b[39m[\u001b[38;5;124m'\u001b[39m\u001b[38;5;124mitems\u001b[39m\u001b[38;5;124m'\u001b[39m],\n\u001b[0;32m      8\u001b[0m                   color_continuous_scale\u001b[38;5;241m=\u001b[39m\u001b[38;5;124m'\u001b[39m\u001b[38;5;124mBlues\u001b[39m\u001b[38;5;124m'\u001b[39m,\n\u001b[0;32m      9\u001b[0m                 )\n\u001b[0;32m     11\u001b[0m fig\u001b[38;5;241m.\u001b[39mshow()\n\u001b[0;32m     13\u001b[0m \u001b[38;5;66;03m# Volvemos a activar los warnings\u001b[39;00m\n",
            "File \u001b[1;32m~\\AppData\\Local\\Programs\\Python\\Python310\\lib\\site-packages\\pandas\\core\\frame.py:4090\u001b[0m, in \u001b[0;36mDataFrame.__getitem__\u001b[1;34m(self, key)\u001b[0m\n\u001b[0;32m   4088\u001b[0m \u001b[38;5;28;01mif\u001b[39;00m \u001b[38;5;28mself\u001b[39m\u001b[38;5;241m.\u001b[39mcolumns\u001b[38;5;241m.\u001b[39mnlevels \u001b[38;5;241m>\u001b[39m \u001b[38;5;241m1\u001b[39m:\n\u001b[0;32m   4089\u001b[0m     \u001b[38;5;28;01mreturn\u001b[39;00m \u001b[38;5;28mself\u001b[39m\u001b[38;5;241m.\u001b[39m_getitem_multilevel(key)\n\u001b[1;32m-> 4090\u001b[0m indexer \u001b[38;5;241m=\u001b[39m \u001b[38;5;28;43mself\u001b[39;49m\u001b[38;5;241;43m.\u001b[39;49m\u001b[43mcolumns\u001b[49m\u001b[38;5;241;43m.\u001b[39;49m\u001b[43mget_loc\u001b[49m\u001b[43m(\u001b[49m\u001b[43mkey\u001b[49m\u001b[43m)\u001b[49m\n\u001b[0;32m   4091\u001b[0m \u001b[38;5;28;01mif\u001b[39;00m is_integer(indexer):\n\u001b[0;32m   4092\u001b[0m     indexer \u001b[38;5;241m=\u001b[39m [indexer]\n",
            "File \u001b[1;32m~\\AppData\\Local\\Programs\\Python\\Python310\\lib\\site-packages\\pandas\\core\\indexes\\base.py:3812\u001b[0m, in \u001b[0;36mIndex.get_loc\u001b[1;34m(self, key)\u001b[0m\n\u001b[0;32m   3807\u001b[0m     \u001b[38;5;28;01mif\u001b[39;00m \u001b[38;5;28misinstance\u001b[39m(casted_key, \u001b[38;5;28mslice\u001b[39m) \u001b[38;5;129;01mor\u001b[39;00m (\n\u001b[0;32m   3808\u001b[0m         \u001b[38;5;28misinstance\u001b[39m(casted_key, abc\u001b[38;5;241m.\u001b[39mIterable)\n\u001b[0;32m   3809\u001b[0m         \u001b[38;5;129;01mand\u001b[39;00m \u001b[38;5;28many\u001b[39m(\u001b[38;5;28misinstance\u001b[39m(x, \u001b[38;5;28mslice\u001b[39m) \u001b[38;5;28;01mfor\u001b[39;00m x \u001b[38;5;129;01min\u001b[39;00m casted_key)\n\u001b[0;32m   3810\u001b[0m     ):\n\u001b[0;32m   3811\u001b[0m         \u001b[38;5;28;01mraise\u001b[39;00m InvalidIndexError(key)\n\u001b[1;32m-> 3812\u001b[0m     \u001b[38;5;28;01mraise\u001b[39;00m \u001b[38;5;167;01mKeyError\u001b[39;00m(key) \u001b[38;5;28;01mfrom\u001b[39;00m \u001b[38;5;21;01merr\u001b[39;00m\n\u001b[0;32m   3813\u001b[0m \u001b[38;5;28;01mexcept\u001b[39;00m \u001b[38;5;167;01mTypeError\u001b[39;00m:\n\u001b[0;32m   3814\u001b[0m     \u001b[38;5;66;03m# If we have a listlike key, _check_indexing_error will raise\u001b[39;00m\n\u001b[0;32m   3815\u001b[0m     \u001b[38;5;66;03m#  InvalidIndexError. Otherwise we fall through and re-raise\u001b[39;00m\n\u001b[0;32m   3816\u001b[0m     \u001b[38;5;66;03m#  the TypeError.\u001b[39;00m\n\u001b[0;32m   3817\u001b[0m     \u001b[38;5;28mself\u001b[39m\u001b[38;5;241m.\u001b[39m_check_indexing_error(key)\n",
            "\u001b[1;31mKeyError\u001b[0m: 'Frecuencia soporte'"
          ]
        }
      ]
    },
    {
      "cell_type": "markdown",
      "source": [
        "Observamos que los productos más frecuentes después del agua son los huevos, spaghetti, patatas fritas y el chocolate.  Sin embargo el producto \"pasta\" que podría englobar los spaguettis tiene una frecuencia más baja. Y esto puede causar imprecisiones."
      ],
      "metadata": {
        "id": "lSgSpOZYzKVe"
      }
    },
    {
      "cell_type": "code",
      "source": [
        "df_table[(df_table['items'] == 'pasta') | (df_table['items'] == 'spaghetti')]"
      ],
      "metadata": {
        "id": "Da9i4xmO0Hbv"
      },
      "execution_count": null,
      "outputs": []
    },
    {
      "cell_type": "markdown",
      "source": [
        "Como los spaguetti es un tipo de pasta, consideramos que sería más interesante agrupar esos 2 items como uno solo. Ya que el supermercado debería colocar todos los productos de pasta en el mismo sitio.\n",
        "\n",
        "Por ejemplo, si obtuviésemos una regla del tipo `spaghetti -> pancakes`, querríamos colocar los spaghettis cerca de los pancakes, y los otros tipos de pasta también deberían estar en el mismo sitio que los spaghetti para mayor comodidad y eficiencia logística.\n",
        "\n",
        "Se podría tener en cuenta los spaghetti por separado si se quisiese abastecer el supermercado, sabiendo que se necesitaría mayor cantidad de spaghetti que de los otros tipos de pasta."
      ],
      "metadata": {
        "id": "CzGfLmvR1j-z"
      }
    },
    {
      "cell_type": "code",
      "source": [
        "# Cambiamos los valores de spaghetti por pasta en todo lo anterior\n",
        "ds.replace('spaghetti','pasta', inplace=True)\n",
        "df.replace('spaghetti','pasta', inplace=True)\n",
        "df_table = df.value_counts().reset_index().rename(columns={ 0: \"Frecuencia soporte\"})"
      ],
      "metadata": {
        "id": "jB_WMFd-2rGo"
      },
      "execution_count": null,
      "outputs": []
    },
    {
      "cell_type": "markdown",
      "source": [
        "Ahora la tabla de productos con sus frecuencias tiene una fila menos."
      ],
      "metadata": {
        "id": "R7jD1JPC9q-_"
      }
    },
    {
      "cell_type": "code",
      "source": [
        "df_table.shape"
      ],
      "metadata": {
        "id": "1i0FG0yb9mrI"
      },
      "execution_count": null,
      "outputs": []
    },
    {
      "cell_type": "markdown",
      "source": [
        "Con este cambio el nuevo mapa de frecuencias sería:"
      ],
      "metadata": {
        "id": "NVvy11YF7Vz-"
      }
    },
    {
      "cell_type": "code",
      "source": [
        "# Desactivamos los warnings\n",
        "warnings.filterwarnings('ignore')\n",
        "\n",
        "df_table[\"all\"] = \"60 items that have highest freqs\"\n",
        "\n",
        "fig = px.treemap(df_table.head(60), path=['all', \"items\"], values='Frecuencia soporte',\n",
        "                  color=df_table[\"Frecuencia soporte\"].head(60), hover_data=['items'],\n",
        "                  color_continuous_scale='Blues',\n",
        "                )\n",
        "\n",
        "fig.show()\n",
        "\n",
        "# Volvemos a activar los warnings\n",
        "warnings.filterwarnings('default')\n",
        "# Eliminamos la columna auxiliar que usamos para el treemap.\n",
        "df_table.drop(columns='all',inplace=True)"
      ],
      "metadata": {
        "id": "jfGYC9Z77aM9"
      },
      "execution_count": null,
      "outputs": []
    },
    {
      "cell_type": "markdown",
      "source": [
        "El producto **pasta** ha mejorado su posición en el ranking de frecuencias, ya que al agrupar los spaghetti con pasta, se sumaron las frecuencias soportes de ambos."
      ],
      "metadata": {
        "id": "drcAqTA-8Z6O"
      }
    },
    {
      "cell_type": "markdown",
      "source": [
        "#### **k = 2**"
      ],
      "metadata": {
        "id": "fMVoJ6G_U_tN"
      }
    },
    {
      "cell_type": "markdown",
      "source": [
        "Realizamos el mismo proceso para k = 2. Ahora nuestra lista de transacciones será una lista de listas, con las combinaciones de los elementos anteriores."
      ],
      "metadata": {
        "id": "NeAsNZ0gXpmX"
      }
    },
    {
      "cell_type": "code",
      "source": [
        "# Desactivamos los warnings\n",
        "warnings.filterwarnings('ignore')\n",
        "\n",
        "# Guardar los valores de ds en una matriz\n",
        "# Recordamos que los nombres de las columnas son la primera fila de la matriz\n",
        "k2_transacciones =  np.vstack((ds.columns, ds.values.astype(str)))\n",
        "\n",
        "# Volvemos a activar los warnings\n",
        "warnings.filterwarnings('default')"
      ],
      "metadata": {
        "id": "jIVhOMGHVx4N"
      },
      "execution_count": null,
      "outputs": []
    },
    {
      "cell_type": "code",
      "source": [
        "k2_transacciones[:2]"
      ],
      "metadata": {
        "id": "pfLWPk_KQiMt"
      },
      "execution_count": null,
      "outputs": []
    },
    {
      "cell_type": "markdown",
      "source": [
        "`TransactionEncoder` es una herramienta de la librería `mlxtend` diseñada para convertir una lista de transacciones en una matriz binaria.\n",
        "\n",
        "En esta matriz, cada columna corresponde a un item, y cada fila representa una transacción, con valores binarios indicando la presencia o ausencia de cada item en dicha transacción.\n",
        "\n",
        "El proceso de ajuste y transformación se realiza mediante la combinación de `te.fit(transacciones).transform(transacciones)`, donde se ajusta el `TransactionEncoder` a las transacciones y se transforman en una matriz binaria.\n",
        "\n",
        "Posteriormente, crearemos un DataFrame de pandas (`pd.DataFrame`) con la matriz binaria transformada, utilizando las etiquetas originales de los items como nombres de columnas. La visualización de las primeras filas del DataFrame mediante `ds.head()` nos permite inspeccionar la estructura y contenido de la matriz binaria resultante."
      ],
      "metadata": {
        "id": "_L1GEOwrb9rY"
      }
    },
    {
      "cell_type": "code",
      "source": [
        "TE = TransactionEncoder()\n",
        "\n",
        "# Ajustar y transformar las transacciones usando TransactionEncoder\n",
        "matriz = TE.fit(k2_transacciones).transform(k2_transacciones)\n",
        "\n",
        "# Crear un DataFrame con la matriz transformada y columnas etiquetadas\n",
        "ds_TE = pd.DataFrame(matriz, columns = TE.columns_)\n",
        "\n",
        "# Mostrar las primeras filas del DataFrame resultante\n",
        "ds_TE.head(5)"
      ],
      "metadata": {
        "id": "QQuHssOJYDtx"
      },
      "execution_count": null,
      "outputs": []
    },
    {
      "cell_type": "markdown",
      "source": [
        "Creamos un nuevo DataFrame que conserva todas las filas, pero solo incluye las columnas cuyos nombres corresponden a los items únicos encontrados en el DataFrame `df_table`."
      ],
      "metadata": {
        "id": "eHDUPqlCcPnT"
      }
    },
    {
      "cell_type": "code",
      "source": [
        "ds_limpia = df_table[\"items\"].values\n",
        "ds_TE = ds_TE.loc[:, ds_limpia]"
      ],
      "metadata": {
        "id": "Qpt3cF5QYZ2z"
      },
      "execution_count": null,
      "outputs": []
    },
    {
      "cell_type": "markdown",
      "source": [
        "####**FP-Growth**"
      ],
      "metadata": {
        "id": "93L0-10wubV5"
      }
    },
    {
      "cell_type": "markdown",
      "source": [
        "Utilizamos el algoritmo FP-Growth (Frequent Pattern Growth) para encontrar conjuntos de ítems frecuentes."
      ],
      "metadata": {
        "id": "nGIuF9Wweig6"
      }
    },
    {
      "cell_type": "code",
      "source": [
        "itemsets_frec_005 = fpgrowth(ds_TE, min_support=0.05, use_colnames=True)"
      ],
      "metadata": {
        "id": "JYFD_oYOWj3S"
      },
      "execution_count": null,
      "outputs": []
    },
    {
      "cell_type": "code",
      "source": [
        "itemsets_frec_005.sort_values(\"support\",ascending=False)"
      ],
      "metadata": {
        "id": "F9pUXBYcXpkj"
      },
      "execution_count": null,
      "outputs": []
    },
    {
      "cell_type": "markdown",
      "source": [
        "Esto nos revela varios patrones de compra en el conjunto de datos.\n",
        "\n",
        "Los productos individuales más frecuentes son:\n",
        "- mineral water\n",
        "- pasta\n",
        "- eggs\n",
        "- french fries\n",
        "\n",
        "Además, se identificaron combinaciones frecuentes, como:\n",
        "- (mineral water, pasta)\n",
        "- (mineral water, chocolate)\n",
        "- (mineral water, eggs)\n",
        "\n",
        "\n",
        "Esto nos sugiere tendencias de compra específicas, lo que podría ser valioso para estrategias de colocación de productos y promociones en el supermercado. El análisis proporciona información sobre la frecuencia y asociaciones de productos que podrían ser utilizadas para mejorar la experiencia del cliente y aumentar las ventas.\n",
        "\n",
        "Concretamente el agua debería ser un producto que se encontrase en el medio del establecimiento, teniendo a su alrededor pasta, chocolate y huevos. Así se aprovecha al máximo estas relaciones de compra."
      ],
      "metadata": {
        "id": "3_y5080ng8Io"
      }
    },
    {
      "cell_type": "markdown",
      "source": [
        "A continuación probaremos con un soporte mayor:"
      ],
      "metadata": {
        "id": "4otjKgLJhZjO"
      }
    },
    {
      "cell_type": "code",
      "source": [
        "itemsets_frec_01 = fpgrowth(ds_TE, min_support=0.1, use_colnames=True)"
      ],
      "metadata": {
        "id": "C4F38-O-hd33"
      },
      "execution_count": null,
      "outputs": []
    },
    {
      "cell_type": "code",
      "source": [
        "itemsets_frec_01.sort_values(\"support\",ascending=False)"
      ],
      "metadata": {
        "id": "l_7toQCKiAtM"
      },
      "execution_count": null,
      "outputs": []
    },
    {
      "cell_type": "markdown",
      "source": [
        "Al aumentar el soporte mínimo, nos da muchos menos itemsets. Probemos con uno aún menor que el 0.05:"
      ],
      "metadata": {
        "id": "k6e3M2XeiLnH"
      }
    },
    {
      "cell_type": "code",
      "source": [
        "itemsets_frec_0025 = fpgrowth(ds_TE, min_support=0.025, use_colnames=True)"
      ],
      "metadata": {
        "id": "ngzNPnnEiX5x"
      },
      "execution_count": null,
      "outputs": []
    },
    {
      "cell_type": "code",
      "source": [
        "itemsets_frec_0025.sort_values(\"support\",ascending=False)"
      ],
      "metadata": {
        "id": "N6vBq-X-iM_Z"
      },
      "execution_count": null,
      "outputs": []
    },
    {
      "cell_type": "markdown",
      "source": [
        "Ahora, como podíamos esperar, tenemos muchos más patrones."
      ],
      "metadata": {
        "id": "dy5wmx0Mieay"
      }
    },
    {
      "cell_type": "markdown",
      "source": [
        "**¿Qué diferencias hay entre usar soporte y frecuencia? Respalda la respuesta con datos**\n",
        "\n",
        "La principal diferencia radica en cómo se expresan los resultados. El soporte es una medida relativa que representa la proporción de transacciones que contiene un conjunto específico, mientras que la frecuencia es una medida absoluta que cuenta cuántas veces aparece ese conjunto.\n",
        "\n",
        "Por lo tanto, para el caso en el que el soporte mínimo es 0.01, tendríamos que sacar la frecuencia soporte que equivaldría a la multiplicación de 0.01 * número total de transacciones que tenemos (7501).\n",
        "\n",
        "Esto significa que estamos buscando conjuntos de ítems que aparezcan al menos 750 veces en las 7501 transacciones.\n"
      ],
      "metadata": {
        "id": "NiohxuzgimAp"
      }
    },
    {
      "cell_type": "code",
      "source": [
        "# Frecuencia mínima requerida\n",
        "frecuencia_minima = 750\n",
        "\n",
        "# Calcular el soporte mínimo\n",
        "min_support = frecuencia_minima / len(ds)\n",
        "\n",
        "# Utilizar fpgrowth con min_support calculado\n",
        "itemsets_frec_01 = fpgrowth(ds_TE, min_support=min_support, use_colnames=True)"
      ],
      "metadata": {
        "id": "c7CrriD6jwoC"
      },
      "execution_count": null,
      "outputs": []
    },
    {
      "cell_type": "code",
      "source": [
        "itemsets_frec_01.sort_values(\"support\",ascending=False)"
      ],
      "metadata": {
        "id": "4_XGE5GZl9wN"
      },
      "execution_count": null,
      "outputs": []
    },
    {
      "cell_type": "markdown",
      "source": [
        "Efectivamente nos da lo mismo que haciéndolo con el mínimo soporte."
      ],
      "metadata": {
        "id": "GF--_AEomBAz"
      }
    },
    {
      "cell_type": "markdown",
      "source": [
        "####**Reglas de asociación**"
      ],
      "metadata": {
        "id": "265RDfkduigJ"
      }
    },
    {
      "cell_type": "markdown",
      "source": [
        "Ahora crearemos las reglas de asociación para el caso donde el soporte mínimo es 0.05:"
      ],
      "metadata": {
        "id": "sAmy2sTOmThu"
      }
    },
    {
      "cell_type": "code",
      "source": [
        "reglas_asociacion_005 = association_rules(itemsets_frec_005, metric = \"lift\", min_threshold = 1.1)"
      ],
      "metadata": {
        "id": "2sb5-qNqYqqO"
      },
      "execution_count": null,
      "outputs": []
    },
    {
      "cell_type": "code",
      "source": [
        "reglas_asociacion_005.sort_values(\"confidence\", ascending = False)"
      ],
      "metadata": {
        "id": "v2P9dYp8Y4fd"
      },
      "execution_count": null,
      "outputs": []
    },
    {
      "cell_type": "markdown",
      "source": [
        "**¿Qué tipo de reglas desaparecen según la configuración usada y el tipo de puntuación? ¿Por qué?**\n",
        "\n",
        "Las reglas que han desaparecido son aquellas asociadas con items o combinaciones menos frecuentes y asociaciones más débiles. Si hacemos las reglas de asociación con aquellos itemsets en los que el soporte mínimo es menor, por ejemplo, las de 0.025, entonces obtendremos algunas reglas que se han descartado para el caso de soporte mínimo = 0.05.\n",
        "\n",
        "Vamos a comprobarlo:"
      ],
      "metadata": {
        "id": "L0WvLzP5HAkh"
      }
    },
    {
      "cell_type": "code",
      "source": [
        "reglas_asociacion_0025 = association_rules(itemsets_frec_0025, metric = \"lift\", min_threshold = 1.1)"
      ],
      "metadata": {
        "id": "afNUENKDoPUH"
      },
      "execution_count": null,
      "outputs": []
    },
    {
      "cell_type": "code",
      "source": [
        "reglas_asociacion_0025.sort_values(\"confidence\", ascending = False)"
      ],
      "metadata": {
        "id": "OXc-KYCaoXqe"
      },
      "execution_count": null,
      "outputs": []
    },
    {
      "cell_type": "markdown",
      "source": [
        "Efectivamente, podemos comprobar que disminuyendo el soporte nos saca muchas más reglas."
      ],
      "metadata": {
        "id": "f3_2hwl5ohHY"
      }
    },
    {
      "cell_type": "markdown",
      "source": [
        "**Para una de las configuraciones, interpreta algunas de las reglas que te hayan resultado curiosas obtenidas\n",
        "usando la clase `association_rules` y un par de configuraciones cambiando la variable `metric` y `min_threshold`.**"
      ],
      "metadata": {
        "id": "5vtWasPNHFhG"
      }
    },
    {
      "cell_type": "markdown",
      "source": [
        "Debido a que las reglas que nos genera el itemset con un soporte 0.025 es más exacto y nos da mayores confianzas, vamos a utilizar ese para modificar el valor del lift:"
      ],
      "metadata": {
        "id": "58Eo5fOhtN7e"
      }
    },
    {
      "cell_type": "code",
      "source": [
        "itemsets_rules_lift = association_rules(itemsets_frec_0025, metric=\"lift\", min_threshold=1.3)\n",
        "itemsets_rules_lift.sort_values(\"confidence\", ascending = False)"
      ],
      "metadata": {
        "id": "sTLipBV7o7nb"
      },
      "execution_count": null,
      "outputs": []
    },
    {
      "cell_type": "markdown",
      "source": [
        "Hemos aumentado un poco el valorde `min_threshold` para ver qué nos devuelve y nos depura un poco más las reglas.\n",
        "\n",
        "Por ejemplo, para la Regla 2: olive oil ----> mineral water, interpretamos que la compra de olive oil está asociada con una mayor probabilidad (1.75 veces más) de comprar mineral water. Esto nos puede indicar una tendencia de los clientes a combinar estos dos productos."
      ],
      "metadata": {
        "id": "rCXdk98aqLfy"
      }
    },
    {
      "cell_type": "markdown",
      "source": [
        "**Dadas las mejores configuraciones. ¿Existen reglas o patrones que se repitan? ¿Podemos generalizar de alguna\n",
        "manera como se comportan los clientes del supermercado?**"
      ],
      "metadata": {
        "id": "yNOdmY6hHJ2Z"
      }
    },
    {
      "cell_type": "markdown",
      "source": [
        "Hemos visto que la mejor configuración es la utilizada anteriormente (soporte = 0.025). No se repite ninguna regla pero sí que es verdad que mineral water está casi siempre incluida, como antecedente y como consecuente."
      ],
      "metadata": {
        "id": "xAcE-aY3rgVd"
      }
    },
    {
      "cell_type": "markdown",
      "source": [
        "**Dado un antecesor, devolver todas las reglas que contengan a dicho antecesor.**"
      ],
      "metadata": {
        "id": "jhlpfVvkrQsH"
      }
    },
    {
      "cell_type": "code",
      "source": [
        "antecedente = {\"pasta\"}\n",
        "\n",
        "reglas = itemsets_rules_lift[itemsets_rules_lift['antecedents'].apply(lambda x: antecedente.issubset(set(x)))]\n",
        "\n",
        "print(\"Reglas que contienen el antecesor deseado:\")\n",
        "reglas.sort_values(\"confidence\", ascending = False)"
      ],
      "metadata": {
        "id": "kwvr6jnErdJt"
      },
      "execution_count": null,
      "outputs": []
    },
    {
      "cell_type": "markdown",
      "source": [
        "Observamos que algunas reglas como:\n",
        "- (pasta) -> (ground beef)\n",
        "- (pasta)->\t(frozen vegetables)\n",
        "- (pasta) ->\t(shrimp)\n",
        "Podrían tener la explicación de que son condimentos de la pasta."
      ],
      "metadata": {
        "id": "wYRdFZUMZbhc"
      }
    },
    {
      "cell_type": "markdown",
      "source": [
        "**Dado un umbral mínimo devolver todas las reglas que cumplan con dicha confianza**"
      ],
      "metadata": {
        "id": "hae1l9FQsgRf"
      }
    },
    {
      "cell_type": "code",
      "source": [
        "umbral_confianza = 0.2\n",
        "\n",
        "reglas_umbral = reglas[reglas['confidence'] >= umbral_confianza]\n",
        "\n",
        "print(\"\\nReglas que cumplen con el umbral mínimo de confianza:\")\n",
        "reglas_umbral.sort_values(\"confidence\", ascending = False)"
      ],
      "metadata": {
        "id": "9_ZiJabUsrPd"
      },
      "execution_count": null,
      "outputs": []
    },
    {
      "cell_type": "markdown",
      "source": [
        "####**Gráficas**"
      ],
      "metadata": {
        "id": "K-F9uIKWuNBo"
      }
    },
    {
      "cell_type": "markdown",
      "source": [
        "A continuación representaremos las reglas que nos han quedado anteriormente."
      ],
      "metadata": {
        "id": "poTh11IouuGN"
      }
    },
    {
      "cell_type": "code",
      "source": [
        "reglas_umbral['etiqueta'] = reglas_umbral.apply(lambda row: f\"{list(row['antecedents'])} -> {list(row['consequents'])}\", axis=1)\n",
        "\n",
        "plt.barh(reglas_umbral['etiqueta'], reglas_umbral['confidence'], color='skyblue')\n",
        "plt.xlabel('Confianza')\n",
        "plt.title('Comparación de Confianza entre Reglas de Asociación')\n",
        "plt.show()"
      ],
      "metadata": {
        "id": "fREMp36Wuwa2"
      },
      "execution_count": null,
      "outputs": []
    },
    {
      "cell_type": "markdown",
      "source": [
        "Viendo el gráfico, vemos claramente que lo que, con una confianza de 0.35 pasta -> mineral water, es decir, si compras pasta entonces, con una confianza del 35%, comprarás mineral water."
      ],
      "metadata": {
        "id": "NMTYtgSOxoMk"
      }
    },
    {
      "cell_type": "code",
      "source": [
        "G = nx.Graph()\n",
        "\n",
        "# Agregar nodos y conexiones al grafo\n",
        "for idx, row in reglas_umbral.iterrows():\n",
        "    antecedents_list = list(row['antecedents'])\n",
        "    consequents_list = list(row['consequents'])\n",
        "\n",
        "    G.add_node(str(antecedents_list))\n",
        "    G.add_node(str(consequents_list))\n",
        "    G.add_edge(str(antecedents_list), str(consequents_list), weight=round(row['confidence'], 2))\n",
        "\n",
        "# Dibujar el grafo\n",
        "pos = nx.spring_layout(G)  # Puedes ajustar el layout según tus preferencias\n",
        "nx.draw(G, pos, with_labels=True, font_size=8, node_size=1500, font_color='black', node_color='skyblue', edge_color='gray', width=2, alpha=0.7, font_weight='bold', edge_cmap=plt.cm.Blues)\n",
        "labels = nx.get_edge_attributes(G, 'weight')\n",
        "labels_formatted = {edge: f\"{weight:.2f}\" for edge, weight in labels.items()}  # Formatear el peso\n",
        "nx.draw_networkx_edge_labels(G, pos, edge_labels=labels_formatted, font_color='red')\n",
        "\n",
        "plt.title('Grafo de Reglas de Asociación')\n",
        "plt.show()"
      ],
      "metadata": {
        "id": "93DNi4ENyRWx"
      },
      "execution_count": null,
      "outputs": []
    },
    {
      "cell_type": "markdown",
      "source": [
        "Proponer una oferta de pasta para los que compren carne podría incrementar las ventas del supermercado, además la pasta es una buena combinación con la carne, para hacer platos como pasta a la bolognesa."
      ],
      "metadata": {
        "id": "7wT5eXA6aHAI"
      }
    },
    {
      "cell_type": "markdown",
      "source": [
        "Hemos querido representar también las tres reglas definitivas que más confianza tienen:"
      ],
      "metadata": {
        "id": "uEQmMA0QzfWi"
      }
    },
    {
      "cell_type": "code",
      "source": [
        "umbral_confianza = 0.38\n",
        "\n",
        "reglas_umbral = itemsets_rules_lift[itemsets_rules_lift['confidence'] >= umbral_confianza]\n",
        "\n",
        "print(\"\\nReglas que cumplen con el umbral mínimo de confianza:\")\n",
        "reglas_umbral.sort_values(\"confidence\", ascending = False)"
      ],
      "metadata": {
        "id": "tc_7dchyz-hH"
      },
      "execution_count": null,
      "outputs": []
    },
    {
      "cell_type": "markdown",
      "source": [
        "Interpretamos que el agua y el aceite son productos de primera necesidad para la mayoría de personas. Esto queda reflejado en la regla (olive oil)-> (mineral water)"
      ],
      "metadata": {
        "id": "_lTel3jFan4S"
      }
    },
    {
      "cell_type": "markdown",
      "source": [
        "Ambos son productos líquidos envasados en botellas, aprovechando esta regla, sería más sencillo transportarlos a la misma zona del supermercado utilizando los mismos vehículos / carros. Además teniendo en cuenta que son productos algo pesados, se podrían colocar cercanos a la salida para que el cliente no tuviese que cargar con tanto peso en su recorrido de compra."
      ],
      "metadata": {
        "id": "_odCrCYHeEzr"
      }
    },
    {
      "cell_type": "code",
      "source": [
        "G = nx.Graph()\n",
        "\n",
        "# Agregar nodos y conexiones al grafo\n",
        "for idx, row in reglas_umbral.iterrows():\n",
        "    antecedents_list = list(row['antecedents'])\n",
        "    consequents_list = list(row['consequents'])\n",
        "\n",
        "    G.add_node(str(antecedents_list))\n",
        "    G.add_node(str(consequents_list))\n",
        "    G.add_edge(str(antecedents_list), str(consequents_list), weight=round(row['confidence'], 2))\n",
        "\n",
        "# Dibujar el grafo\n",
        "pos = nx.spring_layout(G)  # Puedes ajustar el layout según tus preferencias\n",
        "nx.draw(G, pos, with_labels=True, font_size=8, node_size=1500, font_color='black', node_color='skyblue', edge_color='gray', width=2, alpha=0.7, font_weight='bold', edge_cmap=plt.cm.Blues)\n",
        "labels = nx.get_edge_attributes(G, 'weight')\n",
        "labels_formatted = {edge: f\"{weight:.2f}\" for edge, weight in labels.items()}  # Formatear el peso\n",
        "nx.draw_networkx_edge_labels(G, pos, edge_labels=labels_formatted, font_color='red')\n",
        "\n",
        "plt.title('Grafo de Reglas de Asociación')\n",
        "plt.show()"
      ],
      "metadata": {
        "id": "h7o8p4_pzqb0"
      },
      "execution_count": null,
      "outputs": []
    },
    {
      "cell_type": "markdown",
      "source": [
        "Obtenemos una relación de productos con la que se podría emplear alguna estrategia de ventas. Por ejemplo hacer un anuncio de una persona cocinando con aceite de oliva pasta a la bolognesa, es una combinación que podría incentivar a los clientes a realizar estas compras. A pesar de que el agua no se mencionase en el anuncio, es un producto que ya de por sí individualmente tiene una muy alta frecuencia."
      ],
      "metadata": {
        "id": "yocglKXVbH5F"
      }
    },
    {
      "cell_type": "markdown",
      "source": [
        "## **PRÁCTICA 2 (Patronces Secuenciales)**\n",
        "\n",
        "\n"
      ],
      "metadata": {
        "id": "7arOjGHTGW0U"
      }
    },
    {
      "cell_type": "markdown",
      "source": [
        "##**Enunciado**\n",
        "\n",
        "El conjunto de datos “Online Retail.xlsx” contiene productos (definidos por la columna StockCode y\n",
        "Description) comprados por diferentes clientes (definidos por la columna CustomerID) en diferentes\n",
        "momentos (definidos por el campo InvoiceDate. Habrá que procesar el fichero para crear una lista de los\n",
        "distintos clientes con las secuencias de las transacciones de las compras realizadas en distintos instantes (2\n",
        "puntos).\n",
        "\n",
        "Una vez hecho esto y analizando esta información se pueden extraer conclusiones sobre en que orden\n",
        "compran los clientes los productos y así tomar decisiones de negocio. Este estudio se puede llevar a cabo\n",
        "aplicando el algoritmo Generalized Sequential Patterns utilizando la implementación de éste disponible en la\n",
        "librería gsppy.\n",
        "\n",
        "Prueba al menos dos configuraciones de soporte diferentes. (1 punto)\n",
        "Para una de ellas, interpreta algunos de los patrones secuenciales que te resulten curiosos. (1 punto)\n",
        "\n",
        "Saca conclusiones de negocio en virtud de algunas de las reglas elegidas por vosotros que mayor confianza\n",
        "tengan(1 punto)\n",
        "\n",
        "Librería gsppy:\n",
        "Podéis encontrar su documentación en el siguiente enlace: https://pypi.org/project/gsppy/"
      ],
      "metadata": {
        "id": "6kZvzze0H5JM"
      }
    },
    {
      "cell_type": "markdown",
      "metadata": {
        "id": "t36A4SS2owuj"
      },
      "source": [
        "Importamos las librerías necesarias y el archivo."
      ]
    },
    {
      "cell_type": "code",
      "execution_count": 23,
      "metadata": {
        "colab": {
          "base_uri": "https://localhost:8080/"
        },
        "id": "egzRWz7JKCWJ",
        "outputId": "e6d88e89-da63-46a5-8137-9c924ea7f973"
      },
      "outputs": [
        {
          "output_type": "stream",
          "name": "stdout",
          "text": [
            "Archivo descargado exitosamente.\n"
          ]
        }
      ],
      "source": [
        "import requests\n",
        "import pandas as pd\n",
        "\n",
        "# URL del archivo CSV en GitHub\n",
        "url = \"https://raw.githubusercontent.com/CeliaDiazSanchez/Data-Mining/LAB02/Online Retail.xlsx\"\n",
        "\n",
        "nombre = 'Online Retail.xlsx'\n",
        "\n",
        "\n",
        "# Realizar la solicitud GET para obtener el contenido del archivo\n",
        "response = requests.get(url)\n",
        "\n",
        "# Verificar si la solicitud fue exitosa (código de estado 200)\n",
        "if response.status_code == 200:\n",
        "     # Guardar el contenido del archivo en un archivo local\n",
        "    with open(nombre, 'wb') as f:\n",
        "        f.write(response.content)\n",
        "    print(\"Archivo descargado exitosamente.\")\n",
        "else:\n",
        "    print(\"Error al descargar el archivo.\")"
      ]
    },
    {
      "cell_type": "markdown",
      "metadata": {
        "id": "GAdLRsW6o8Qb"
      },
      "source": [
        "Cargamos el archivo de 'Online Retail.xlsx' en un DataFrame de pandas que llamamos `df`."
      ]
    },
    {
      "cell_type": "code",
      "execution_count": 24,
      "metadata": {
        "colab": {
          "base_uri": "https://localhost:8080/",
          "height": 143
        },
        "id": "yO3wuapcKyma",
        "outputId": "077f44e0-d674-4745-9dbf-f08c7caa2181"
      },
      "outputs": [
        {
          "output_type": "execute_result",
          "data": {
            "text/plain": [
              "  InvoiceNo StockCode                         Description  Quantity  \\\n",
              "0    536365    85123A  WHITE HANGING HEART T-LIGHT HOLDER         6   \n",
              "1    536365     71053                 WHITE METAL LANTERN         6   \n",
              "2    536365    84406B      CREAM CUPID HEARTS COAT HANGER         8   \n",
              "\n",
              "          InvoiceDate  UnitPrice  CustomerID         Country  \n",
              "0 2010-12-01 08:26:00       2.55       17850  United Kingdom  \n",
              "1 2010-12-01 08:26:00       3.39       17850  United Kingdom  \n",
              "2 2010-12-01 08:26:00       2.75       17850  United Kingdom  "
            ],
            "text/html": [
              "<div>\n",
              "<style scoped>\n",
              "    .dataframe tbody tr th:only-of-type {\n",
              "        vertical-align: middle;\n",
              "    }\n",
              "\n",
              "    .dataframe tbody tr th {\n",
              "        vertical-align: top;\n",
              "    }\n",
              "\n",
              "    .dataframe thead th {\n",
              "        text-align: right;\n",
              "    }\n",
              "</style>\n",
              "<table border=\"1\" class=\"dataframe\">\n",
              "  <thead>\n",
              "    <tr style=\"text-align: right;\">\n",
              "      <th></th>\n",
              "      <th>InvoiceNo</th>\n",
              "      <th>StockCode</th>\n",
              "      <th>Description</th>\n",
              "      <th>Quantity</th>\n",
              "      <th>InvoiceDate</th>\n",
              "      <th>UnitPrice</th>\n",
              "      <th>CustomerID</th>\n",
              "      <th>Country</th>\n",
              "    </tr>\n",
              "  </thead>\n",
              "  <tbody>\n",
              "    <tr>\n",
              "      <th>0</th>\n",
              "      <td>536365</td>\n",
              "      <td>85123A</td>\n",
              "      <td>WHITE HANGING HEART T-LIGHT HOLDER</td>\n",
              "      <td>6</td>\n",
              "      <td>2010-12-01 08:26:00</td>\n",
              "      <td>2.55</td>\n",
              "      <td>17850</td>\n",
              "      <td>United Kingdom</td>\n",
              "    </tr>\n",
              "    <tr>\n",
              "      <th>1</th>\n",
              "      <td>536365</td>\n",
              "      <td>71053</td>\n",
              "      <td>WHITE METAL LANTERN</td>\n",
              "      <td>6</td>\n",
              "      <td>2010-12-01 08:26:00</td>\n",
              "      <td>3.39</td>\n",
              "      <td>17850</td>\n",
              "      <td>United Kingdom</td>\n",
              "    </tr>\n",
              "    <tr>\n",
              "      <th>2</th>\n",
              "      <td>536365</td>\n",
              "      <td>84406B</td>\n",
              "      <td>CREAM CUPID HEARTS COAT HANGER</td>\n",
              "      <td>8</td>\n",
              "      <td>2010-12-01 08:26:00</td>\n",
              "      <td>2.75</td>\n",
              "      <td>17850</td>\n",
              "      <td>United Kingdom</td>\n",
              "    </tr>\n",
              "  </tbody>\n",
              "</table>\n",
              "</div>"
            ]
          },
          "metadata": {},
          "execution_count": 24
        }
      ],
      "source": [
        "df = pd.read_excel('Online Retail.xlsx')\n",
        "\n",
        "df.head(3)"
      ]
    },
    {
      "cell_type": "markdown",
      "metadata": {
        "id": "aXhxOdUKpEvu"
      },
      "source": [
        "Creamos una copia de `df` para modificarla sin afectar al original"
      ]
    },
    {
      "cell_type": "code",
      "execution_count": 25,
      "metadata": {
        "colab": {
          "base_uri": "https://localhost:8080/"
        },
        "id": "z1hgs0_3HZsB",
        "outputId": "6763a8b6-bedf-4736-ebdd-7986940bbb66"
      },
      "outputs": [
        {
          "output_type": "execute_result",
          "data": {
            "text/plain": [
              "(1847889735696, 1847476594304)"
            ]
          },
          "metadata": {},
          "execution_count": 25
        }
      ],
      "source": [
        "ds = df.copy()\n",
        "id(df), id(ds)"
      ]
    },
    {
      "cell_type": "markdown",
      "metadata": {
        "id": "A0xvF-sypGmo"
      },
      "source": [
        "##**Resolución**"
      ]
    },
    {
      "cell_type": "markdown",
      "source": [
        "###**Limpieza y preprocesamiento de la base de datos**"
      ],
      "metadata": {
        "id": "NBjSJq-_Ienb"
      }
    },
    {
      "cell_type": "markdown",
      "metadata": {
        "id": "mHKQXtDhp11g"
      },
      "source": [
        "Tenemos un DataFrame con 541909 registros y 8 atributos."
      ]
    },
    {
      "cell_type": "code",
      "execution_count": 26,
      "metadata": {
        "colab": {
          "base_uri": "https://localhost:8080/"
        },
        "id": "RBcyjAnGkZy9",
        "outputId": "37c69afb-68ce-445e-88f3-7b05d0269cf9"
      },
      "outputs": [
        {
          "output_type": "execute_result",
          "data": {
            "text/plain": [
              "(541909, 8)"
            ]
          },
          "metadata": {},
          "execution_count": 26
        }
      ],
      "source": [
        "df.shape"
      ]
    },
    {
      "cell_type": "code",
      "execution_count": 27,
      "metadata": {
        "colab": {
          "base_uri": "https://localhost:8080/",
          "height": 143
        },
        "id": "-H7S4HeHJjcQ",
        "outputId": "72c7d21a-3467-4763-db8b-a70e1485aa6a"
      },
      "outputs": [
        {
          "output_type": "execute_result",
          "data": {
            "text/plain": [
              "  InvoiceNo StockCode                         Description  Quantity  \\\n",
              "0    536365    85123A  WHITE HANGING HEART T-LIGHT HOLDER         6   \n",
              "1    536365     71053                 WHITE METAL LANTERN         6   \n",
              "2    536365    84406B      CREAM CUPID HEARTS COAT HANGER         8   \n",
              "\n",
              "          InvoiceDate  UnitPrice  CustomerID         Country  \n",
              "0 2010-12-01 08:26:00       2.55       17850  United Kingdom  \n",
              "1 2010-12-01 08:26:00       3.39       17850  United Kingdom  \n",
              "2 2010-12-01 08:26:00       2.75       17850  United Kingdom  "
            ],
            "text/html": [
              "<div>\n",
              "<style scoped>\n",
              "    .dataframe tbody tr th:only-of-type {\n",
              "        vertical-align: middle;\n",
              "    }\n",
              "\n",
              "    .dataframe tbody tr th {\n",
              "        vertical-align: top;\n",
              "    }\n",
              "\n",
              "    .dataframe thead th {\n",
              "        text-align: right;\n",
              "    }\n",
              "</style>\n",
              "<table border=\"1\" class=\"dataframe\">\n",
              "  <thead>\n",
              "    <tr style=\"text-align: right;\">\n",
              "      <th></th>\n",
              "      <th>InvoiceNo</th>\n",
              "      <th>StockCode</th>\n",
              "      <th>Description</th>\n",
              "      <th>Quantity</th>\n",
              "      <th>InvoiceDate</th>\n",
              "      <th>UnitPrice</th>\n",
              "      <th>CustomerID</th>\n",
              "      <th>Country</th>\n",
              "    </tr>\n",
              "  </thead>\n",
              "  <tbody>\n",
              "    <tr>\n",
              "      <th>0</th>\n",
              "      <td>536365</td>\n",
              "      <td>85123A</td>\n",
              "      <td>WHITE HANGING HEART T-LIGHT HOLDER</td>\n",
              "      <td>6</td>\n",
              "      <td>2010-12-01 08:26:00</td>\n",
              "      <td>2.55</td>\n",
              "      <td>17850</td>\n",
              "      <td>United Kingdom</td>\n",
              "    </tr>\n",
              "    <tr>\n",
              "      <th>1</th>\n",
              "      <td>536365</td>\n",
              "      <td>71053</td>\n",
              "      <td>WHITE METAL LANTERN</td>\n",
              "      <td>6</td>\n",
              "      <td>2010-12-01 08:26:00</td>\n",
              "      <td>3.39</td>\n",
              "      <td>17850</td>\n",
              "      <td>United Kingdom</td>\n",
              "    </tr>\n",
              "    <tr>\n",
              "      <th>2</th>\n",
              "      <td>536365</td>\n",
              "      <td>84406B</td>\n",
              "      <td>CREAM CUPID HEARTS COAT HANGER</td>\n",
              "      <td>8</td>\n",
              "      <td>2010-12-01 08:26:00</td>\n",
              "      <td>2.75</td>\n",
              "      <td>17850</td>\n",
              "      <td>United Kingdom</td>\n",
              "    </tr>\n",
              "  </tbody>\n",
              "</table>\n",
              "</div>"
            ]
          },
          "metadata": {},
          "execution_count": 27
        }
      ],
      "source": [
        "df.head(3)"
      ]
    },
    {
      "cell_type": "markdown",
      "metadata": {
        "id": "ciU5DDjepXM-"
      },
      "source": [
        "`df` contiene una base de datos de compras online de varios clientes a lo largo del tiempo. Para cada producto comprado por un cliente en una fecha se lleva un registro de las siguientes variables:"
      ]
    },
    {
      "cell_type": "code",
      "execution_count": 28,
      "metadata": {
        "colab": {
          "base_uri": "https://localhost:8080/"
        },
        "id": "XCK88sBshc_u",
        "outputId": "de34002d-0ef0-4e22-a23f-531dc17512e7"
      },
      "outputs": [
        {
          "output_type": "execute_result",
          "data": {
            "text/plain": [
              "Index(['InvoiceNo', 'StockCode', 'Description', 'Quantity', 'InvoiceDate',\n",
              "       'UnitPrice', 'CustomerID', 'Country'],\n",
              "      dtype='object')"
            ]
          },
          "metadata": {},
          "execution_count": 28
        }
      ],
      "source": [
        "df.columns"
      ]
    },
    {
      "cell_type": "markdown",
      "metadata": {
        "id": "OY6iqCzVNQ4Z"
      },
      "source": [
        "Con los siguientes tipos:"
      ]
    },
    {
      "cell_type": "code",
      "execution_count": 29,
      "metadata": {
        "colab": {
          "base_uri": "https://localhost:8080/"
        },
        "id": "1GFXwbYm1B_y",
        "outputId": "9e050433-f173-4ae0-9dbb-6e6ce80bfff5"
      },
      "outputs": [
        {
          "output_type": "execute_result",
          "data": {
            "text/plain": [
              "InvoiceNo              object\n",
              "StockCode              object\n",
              "Description            object\n",
              "Quantity                int64\n",
              "InvoiceDate    datetime64[ns]\n",
              "UnitPrice             float64\n",
              "CustomerID              int64\n",
              "Country                object\n",
              "dtype: object"
            ]
          },
          "metadata": {},
          "execution_count": 29
        }
      ],
      "source": [
        "df.dtypes"
      ]
    },
    {
      "cell_type": "markdown",
      "metadata": {
        "id": "ilC4gga1NXf0"
      },
      "source": [
        "- InvoiceNo: Este es el número de factura que identifica de forma única cada transacción de compra. Cada vez que se realiza una compra, se genera una nueva factura con un número de factura único.\n",
        "\n",
        "- StockCode: Este es un código único que identifica un producto específico en el inventario de la tienda en línea. Cada producto en el inventario tiene su propio código de stock.\n",
        "\n",
        "- Description: Esta columna proporciona una descripción del producto asociado con el código de stock. Proporciona información adicional sobre el producto, como su nombre o características.\n",
        "\n",
        "- Quantity: Esta columna indica la cantidad de unidades del producto que se compraron en la transacción correspondiente. Por ejemplo, si se compra un producto en múltiples cantidades, el valor en esta columna será mayor que 1.\n",
        "\n",
        "- InvoiceDate: Este es el timestamp que indica la fecha y hora en que se realizó la transacción de compra. Proporciona información sobre cuándo se llevó a cabo la compra.\n",
        "\n",
        "- UnitPrice: Este es el precio unitario del producto en la moneda local en la que se realizó la transacción. Indica cuánto cuesta una sola unidad del producto.\n",
        "\n",
        "- CustomerID: Este es el identificador único del cliente que realizó la compra. Cada cliente tiene un CustomerID único asociado con su cuenta en la tienda en línea.\n",
        "\n",
        "- Country: Esta columna indica el país donde se realizó la transacción. Proporciona información sobre la ubicación geográfica del cliente que realizó la compra."
      ]
    },
    {
      "cell_type": "markdown",
      "metadata": {
        "id": "TIvs9QEM1aTZ"
      },
      "source": [
        "Los países que compran de la tienda son los siguientes:"
      ]
    },
    {
      "cell_type": "code",
      "execution_count": 30,
      "metadata": {
        "colab": {
          "base_uri": "https://localhost:8080/"
        },
        "id": "h557G9_LZod0",
        "outputId": "cb7cbeb5-715f-4755-cbb5-c5e0cd308134"
      },
      "outputs": [
        {
          "output_type": "execute_result",
          "data": {
            "text/plain": [
              "array(['Australia', 'Austria', 'Bahrain', 'Belgium', 'Brazil', 'Canada',\n",
              "       'Channel Islands', 'Cyprus', 'Czech Republic', 'Denmark', 'EIRE',\n",
              "       'European Community', 'Finland', 'France', 'Germany', 'Greece',\n",
              "       'Hong Kong', 'Iceland', 'Israel', 'Italy', 'Japan', 'Lebanon',\n",
              "       'Lithuania', 'Malta', 'Netherlands', 'Norway', 'Poland',\n",
              "       'Portugal', 'RSA', 'Saudi Arabia', 'Singapore', 'Spain', 'Sweden',\n",
              "       'Switzerland', 'USA', 'United Arab Emirates', 'United Kingdom',\n",
              "       'Unspecified'], dtype=object)"
            ]
          },
          "metadata": {},
          "execution_count": 30
        }
      ],
      "source": [
        "import numpy as np\n",
        "np.sort(df['Country'].unique())"
      ]
    },
    {
      "cell_type": "markdown",
      "metadata": {
        "id": "73HbzgLeioOb"
      },
      "source": [
        "No parece que haya ningún error de transcripción, aunque sí que hay una categoría llamada `Unspecified`. Como en este estudio de patrones secuenciales no tendremos en cuenta el país, no hará falta hacer ninguna modificación."
      ]
    },
    {
      "cell_type": "markdown",
      "metadata": {
        "id": "OqIKp8TaQS2V"
      },
      "source": [
        "###**Algunas cifras del dataset:**\n",
        "\n",
        "---\n",
        "\n"
      ]
    },
    {
      "cell_type": "markdown",
      "metadata": {
        "id": "l0gjXJIcsUFD"
      },
      "source": [
        "Hay transacciones de `4372` clientes distintos determinados por su ID."
      ]
    },
    {
      "cell_type": "code",
      "execution_count": 32,
      "metadata": {
        "colab": {
          "base_uri": "https://localhost:8080/"
        },
        "id": "XQoAOormsKV3",
        "outputId": "7db81ffa-31be-4a8f-f53f-f7e9d07e13a9"
      },
      "outputs": [
        {
          "output_type": "execute_result",
          "data": {
            "text/plain": [
              "4372"
            ]
          },
          "metadata": {},
          "execution_count": 32
        }
      ],
      "source": [
        "df['CustomerID'].unique().size"
      ]
    },
    {
      "cell_type": "markdown",
      "metadata": {
        "id": "b5hy5P-KsjHj"
      },
      "source": [
        "`4070` productos distintos determinados por su código de producto. No obstante, más adelante analizaremos los códigos para eliminar posibles errores de transcripción o datos irrelevantes."
      ]
    },
    {
      "cell_type": "code",
      "execution_count": 33,
      "metadata": {
        "colab": {
          "base_uri": "https://localhost:8080/"
        },
        "id": "t7MLx-WpsgRM",
        "outputId": "bf967227-28ae-494b-d0b1-2d029eedf27a"
      },
      "outputs": [
        {
          "output_type": "execute_result",
          "data": {
            "text/plain": [
              "4070"
            ]
          },
          "metadata": {},
          "execution_count": 33
        }
      ],
      "source": [
        "df['StockCode'].unique().size"
      ]
    },
    {
      "cell_type": "markdown",
      "metadata": {
        "id": "eH5d2hLrtK28"
      },
      "source": [
        "`25900` facturas de compra distintas."
      ]
    },
    {
      "cell_type": "code",
      "execution_count": 34,
      "metadata": {
        "colab": {
          "base_uri": "https://localhost:8080/"
        },
        "id": "EZrYNYaetXZC",
        "outputId": "b74759f2-6316-4e64-9fc0-8157f5908628"
      },
      "outputs": [
        {
          "output_type": "execute_result",
          "data": {
            "text/plain": [
              "25900"
            ]
          },
          "metadata": {},
          "execution_count": 34
        }
      ],
      "source": [
        "df['InvoiceNo'].unique().size"
      ]
    },
    {
      "cell_type": "markdown",
      "metadata": {
        "id": "jtnYZF5gyXZ4"
      },
      "source": [
        "`23260` días en los que hubo transacciones."
      ]
    },
    {
      "cell_type": "code",
      "execution_count": 35,
      "metadata": {
        "colab": {
          "base_uri": "https://localhost:8080/"
        },
        "id": "s8pLMGkyyTZ9",
        "outputId": "c91141d7-981b-4bea-e316-82f9d25aa904"
      },
      "outputs": [
        {
          "output_type": "execute_result",
          "data": {
            "text/plain": [
              "23260"
            ]
          },
          "metadata": {},
          "execution_count": 35
        }
      ],
      "source": [
        "df['InvoiceDate'].unique().size"
      ]
    },
    {
      "cell_type": "markdown",
      "metadata": {
        "id": "sTZaKiHotadM"
      },
      "source": [
        "Una factura está compuesta de varios productos por lo que esta se repite en tantos registros como productos contenga."
      ]
    },
    {
      "cell_type": "code",
      "execution_count": 36,
      "metadata": {
        "colab": {
          "base_uri": "https://localhost:8080/"
        },
        "id": "EdsPj481tF2F",
        "outputId": "53684926-833f-45ee-88e7-98c3a4fc7e68"
      },
      "outputs": [
        {
          "output_type": "execute_result",
          "data": {
            "text/plain": [
              "InvoiceNo\n",
              "573585     1114\n",
              "581219      749\n",
              "581492      731\n",
              "580729      721\n",
              "558475      705\n",
              "           ... \n",
              "554023        1\n",
              "554022        1\n",
              "554021        1\n",
              "554020        1\n",
              "C558901       1\n",
              "Name: count, Length: 25900, dtype: int64"
            ]
          },
          "metadata": {},
          "execution_count": 36
        }
      ],
      "source": [
        "df['InvoiceNo'].value_counts()"
      ]
    },
    {
      "cell_type": "markdown",
      "metadata": {
        "id": "7IHefYD_z7IS"
      },
      "source": [
        "Los `StockCodes` también se repiten como es de esperar. Productos del mismo tipo pueden ser comprados por personas distintas y/o en días distintos."
      ]
    },
    {
      "cell_type": "code",
      "execution_count": 37,
      "metadata": {
        "colab": {
          "base_uri": "https://localhost:8080/"
        },
        "id": "Re2Qgn6yqb6N",
        "outputId": "2328c434-dc6d-4f43-c5ee-947133458308"
      },
      "outputs": [
        {
          "output_type": "execute_result",
          "data": {
            "text/plain": [
              "StockCode\n",
              "85123A    2313\n",
              "22423     2203\n",
              "85099B    2159\n",
              "47566     1727\n",
              "20725     1639\n",
              "          ... \n",
              "21431        1\n",
              "22275        1\n",
              "17001        1\n",
              "90187A       1\n",
              "72759        1\n",
              "Name: count, Length: 4070, dtype: int64"
            ]
          },
          "metadata": {},
          "execution_count": 37
        }
      ],
      "source": [
        "df['StockCode'].value_counts()"
      ]
    },
    {
      "cell_type": "markdown",
      "metadata": {
        "id": "GgVW1VX681v7"
      },
      "source": [
        "Sin embargo para un mismo producto asociado a un `StockCode` puede tomar precios por unidad distintos."
      ]
    },
    {
      "cell_type": "code",
      "execution_count": 38,
      "metadata": {
        "colab": {
          "base_uri": "https://localhost:8080/"
        },
        "id": "ATwjQWPs8M2k",
        "outputId": "cddd3c4a-33e8-4f9e-aae2-b3f9bae083c3"
      },
      "outputs": [
        {
          "output_type": "execute_result",
          "data": {
            "text/plain": [
              "StockCode\n",
              "10002                                   [0.85, 1.66, 1.63, 0.0]\n",
              "10080                                         [0.85, 0.39, 0.0]\n",
              "10120                                                    [0.21]\n",
              "10125                      [0.85, 1.66, 0.42, 0.81, 0.79, 1.63]\n",
              "10133           [0.85, 1.66, 0.42, 0.81, 0.79, 1.63, 0.83, 0.0]\n",
              "                                     ...                       \n",
              "gift_0001_20                                [17.02, 16.67, 0.0]\n",
              "gift_0001_30                                 [25.53, 25.0, 0.0]\n",
              "gift_0001_40                                     [34.04, 33.33]\n",
              "gift_0001_50                                     [42.55, 41.67]\n",
              "m                                                        [2.55]\n",
              "Name: UnitPrice, Length: 4070, dtype: object"
            ]
          },
          "metadata": {},
          "execution_count": 38
        }
      ],
      "source": [
        "df.groupby('StockCode')['UnitPrice'].unique()"
      ]
    },
    {
      "cell_type": "markdown",
      "metadata": {
        "id": "nIoJkSUkJLs2"
      },
      "source": [
        "Y también descripciones distintas, aunque algunas de ellas parecen errores ('nan', 'check')"
      ]
    },
    {
      "cell_type": "code",
      "execution_count": 39,
      "metadata": {
        "colab": {
          "base_uri": "https://localhost:8080/"
        },
        "id": "fPNFgVq6JEQc",
        "outputId": "ccbd9f8c-15a7-49ee-e3b0-1b79218a86ce"
      },
      "outputs": [
        {
          "output_type": "execute_result",
          "data": {
            "text/plain": [
              "StockCode\n",
              "10002                          [INFLATABLE POLITICAL GLOBE , nan]\n",
              "10080                      [GROOVY CACTUS INFLATABLE, nan, check]\n",
              "10120                                              [DOGGY RUBBER]\n",
              "10125                                   [MINI FUNKY DESIGN TAPES]\n",
              "10133                     [COLOURING PENCILS BROWN TUBE, damaged]\n",
              "                                      ...                        \n",
              "gift_0001_20    [Dotcomgiftshop Gift Voucher £20.00, to push o...\n",
              "gift_0001_30            [Dotcomgiftshop Gift Voucher £30.00, nan]\n",
              "gift_0001_40                 [Dotcomgiftshop Gift Voucher £40.00]\n",
              "gift_0001_50                 [Dotcomgiftshop Gift Voucher £50.00]\n",
              "m                                                        [Manual]\n",
              "Name: Description, Length: 4070, dtype: object"
            ]
          },
          "metadata": {},
          "execution_count": 39
        }
      ],
      "source": [
        "df.groupby('StockCode')['Description'].unique()"
      ]
    },
    {
      "cell_type": "markdown",
      "metadata": {
        "id": "2skdgSgCxvmS"
      },
      "source": [
        "**Nota:** *como aún no se ha limpiado la base de datos, estas cantidades son orientativas. Podría haber errores de transcripción o datos inconsistentes que alteran los resultados. Este análisis a priori es solo para hacernos una idea aproximada de las proporciones de cantidades de clientes, productos, facturas, ... posterior a la limpieza podríamos repetir el proceso para mayor precisión.*"
      ]
    },
    {
      "cell_type": "markdown",
      "metadata": {
        "id": "AovrhfMTzWOS"
      },
      "source": [
        "###**Ejemplo**\n",
        "\n",
        "---\n",
        "\n"
      ]
    },
    {
      "cell_type": "markdown",
      "metadata": {
        "id": "-nwLufxouDis"
      },
      "source": [
        "Vamos a tomar la primera factura de ejemplo, para analizar su contenido."
      ]
    },
    {
      "cell_type": "code",
      "execution_count": 40,
      "metadata": {
        "colab": {
          "base_uri": "https://localhost:8080/",
          "height": 206
        },
        "id": "2eZ6LKTytsJR",
        "outputId": "000c9092-ba0b-4123-a1c7-2189d4f0d7ee"
      },
      "outputs": [
        {
          "output_type": "execute_result",
          "data": {
            "text/plain": [
              "       InvoiceNo StockCode                  Description  Quantity  \\\n",
              "430237    573585     11001  ASSTD DESIGN RACING CAR PEN         2   \n",
              "430238    573585     15036    ASSORTED COLOURS SILK FAN        15   \n",
              "430239    573585     15039               SANDALWOOD FAN        15   \n",
              "430240    573585   15056BL      EDWARDIAN PARASOL BLACK         1   \n",
              "430241    573585    15056N    EDWARDIAN PARASOL NATURAL         1   \n",
              "\n",
              "               InvoiceDate  UnitPrice  CustomerID         Country  \n",
              "430237 2011-10-31 14:41:00       3.29       15287  United Kingdom  \n",
              "430238 2011-10-31 14:41:00       1.63       15287  United Kingdom  \n",
              "430239 2011-10-31 14:41:00       1.63       15287  United Kingdom  \n",
              "430240 2011-10-31 14:41:00      12.46       15287  United Kingdom  \n",
              "430241 2011-10-31 14:41:00      12.46       15287  United Kingdom  "
            ],
            "text/html": [
              "<div>\n",
              "<style scoped>\n",
              "    .dataframe tbody tr th:only-of-type {\n",
              "        vertical-align: middle;\n",
              "    }\n",
              "\n",
              "    .dataframe tbody tr th {\n",
              "        vertical-align: top;\n",
              "    }\n",
              "\n",
              "    .dataframe thead th {\n",
              "        text-align: right;\n",
              "    }\n",
              "</style>\n",
              "<table border=\"1\" class=\"dataframe\">\n",
              "  <thead>\n",
              "    <tr style=\"text-align: right;\">\n",
              "      <th></th>\n",
              "      <th>InvoiceNo</th>\n",
              "      <th>StockCode</th>\n",
              "      <th>Description</th>\n",
              "      <th>Quantity</th>\n",
              "      <th>InvoiceDate</th>\n",
              "      <th>UnitPrice</th>\n",
              "      <th>CustomerID</th>\n",
              "      <th>Country</th>\n",
              "    </tr>\n",
              "  </thead>\n",
              "  <tbody>\n",
              "    <tr>\n",
              "      <th>430237</th>\n",
              "      <td>573585</td>\n",
              "      <td>11001</td>\n",
              "      <td>ASSTD DESIGN RACING CAR PEN</td>\n",
              "      <td>2</td>\n",
              "      <td>2011-10-31 14:41:00</td>\n",
              "      <td>3.29</td>\n",
              "      <td>15287</td>\n",
              "      <td>United Kingdom</td>\n",
              "    </tr>\n",
              "    <tr>\n",
              "      <th>430238</th>\n",
              "      <td>573585</td>\n",
              "      <td>15036</td>\n",
              "      <td>ASSORTED COLOURS SILK FAN</td>\n",
              "      <td>15</td>\n",
              "      <td>2011-10-31 14:41:00</td>\n",
              "      <td>1.63</td>\n",
              "      <td>15287</td>\n",
              "      <td>United Kingdom</td>\n",
              "    </tr>\n",
              "    <tr>\n",
              "      <th>430239</th>\n",
              "      <td>573585</td>\n",
              "      <td>15039</td>\n",
              "      <td>SANDALWOOD FAN</td>\n",
              "      <td>15</td>\n",
              "      <td>2011-10-31 14:41:00</td>\n",
              "      <td>1.63</td>\n",
              "      <td>15287</td>\n",
              "      <td>United Kingdom</td>\n",
              "    </tr>\n",
              "    <tr>\n",
              "      <th>430240</th>\n",
              "      <td>573585</td>\n",
              "      <td>15056BL</td>\n",
              "      <td>EDWARDIAN PARASOL BLACK</td>\n",
              "      <td>1</td>\n",
              "      <td>2011-10-31 14:41:00</td>\n",
              "      <td>12.46</td>\n",
              "      <td>15287</td>\n",
              "      <td>United Kingdom</td>\n",
              "    </tr>\n",
              "    <tr>\n",
              "      <th>430241</th>\n",
              "      <td>573585</td>\n",
              "      <td>15056N</td>\n",
              "      <td>EDWARDIAN PARASOL NATURAL</td>\n",
              "      <td>1</td>\n",
              "      <td>2011-10-31 14:41:00</td>\n",
              "      <td>12.46</td>\n",
              "      <td>15287</td>\n",
              "      <td>United Kingdom</td>\n",
              "    </tr>\n",
              "  </tbody>\n",
              "</table>\n",
              "</div>"
            ]
          },
          "metadata": {},
          "execution_count": 40
        }
      ],
      "source": [
        "factura_test = df[df['InvoiceNo'] == 573585]\n",
        "factura_test.head(5)"
      ]
    },
    {
      "cell_type": "code",
      "execution_count": 41,
      "metadata": {
        "colab": {
          "base_uri": "https://localhost:8080/"
        },
        "id": "dkWQCjU_t33B",
        "outputId": "5c906e6d-dadb-4396-922b-2ba3923460f6"
      },
      "outputs": [
        {
          "output_type": "execute_result",
          "data": {
            "text/plain": [
              "1"
            ]
          },
          "metadata": {},
          "execution_count": 41
        }
      ],
      "source": [
        "factura_test['CustomerID'].unique().size"
      ]
    },
    {
      "cell_type": "code",
      "execution_count": 42,
      "metadata": {
        "colab": {
          "base_uri": "https://localhost:8080/"
        },
        "id": "WdNi8qhouJee",
        "outputId": "059a77b1-18e2-40e7-a64b-74575cd163e7"
      },
      "outputs": [
        {
          "output_type": "execute_result",
          "data": {
            "text/plain": [
              "1"
            ]
          },
          "metadata": {},
          "execution_count": 42
        }
      ],
      "source": [
        "factura_test['InvoiceDate'].unique().size"
      ]
    },
    {
      "cell_type": "markdown",
      "metadata": {
        "id": "xdJkq1vbudTD"
      },
      "source": [
        "De esta factura podemos sacar 3 observaciones:\n",
        "- El número de factura no es compartido por más de un cliente.\n",
        "- El número de factura no es compartido por más de una fecha.\n",
        "- La factura contiene varios productos determinados por su `StockCode`.\n",
        "Es decir, para cada compra de cada cliente en una fecha determinada, se crea una factura con ID único y que contiene ID's de productos."
      ]
    },
    {
      "cell_type": "markdown",
      "metadata": {
        "id": "bBQdfBgev5ep"
      },
      "source": [
        "En este caso hay 4 `StockCodes` repetidos, ya que la factura se repite en el dataset 1114 veces y solo hay 1110 `StockCodes` únicos para ese número de factura."
      ]
    },
    {
      "cell_type": "code",
      "execution_count": 43,
      "metadata": {
        "colab": {
          "base_uri": "https://localhost:8080/"
        },
        "id": "eSiAxvCOuQ8R",
        "outputId": "2a352747-fd23-4371-f952-4b0203af996b"
      },
      "outputs": [
        {
          "output_type": "execute_result",
          "data": {
            "text/plain": [
              "1110"
            ]
          },
          "metadata": {},
          "execution_count": 43
        }
      ],
      "source": [
        "factura_test['StockCode'].unique().size"
      ]
    },
    {
      "cell_type": "markdown",
      "metadata": {
        "id": "xhnKLopttnYs"
      },
      "source": [
        "4 no es una cantidad significativa, podría tratarse de errores en los datos del ejemplo elegido, veamos en otra factura si se da el mismo escenario:"
      ]
    },
    {
      "cell_type": "code",
      "execution_count": 44,
      "metadata": {
        "colab": {
          "base_uri": "https://localhost:8080/"
        },
        "id": "tBNMCE71wctT",
        "outputId": "33383bf0-60e4-4635-bd58-a7fe68855ffb"
      },
      "outputs": [
        {
          "output_type": "stream",
          "name": "stdout",
          "text": [
            "(749, 8)\n",
            "749\n"
          ]
        }
      ],
      "source": [
        "factura_test2 = df[df['InvoiceNo'] == 581219]\n",
        "# La factura aparece en 749 entradas\n",
        "print(factura_test2.shape)\n",
        "# Hay 749 StockCodes distintos asociados al nº de factura, uno para cada entrada\n",
        "print(factura_test2['StockCode'].unique().size)"
      ]
    },
    {
      "cell_type": "markdown",
      "metadata": {
        "id": "rWOp9ZvExAv8"
      },
      "source": [
        "En esta ocasión, no se repite ningún `StockCode` en la misma factura."
      ]
    },
    {
      "cell_type": "markdown",
      "metadata": {
        "id": "60ebyrIuxQQW"
      },
      "source": [
        "###**Estudio de NaNs**"
      ]
    },
    {
      "cell_type": "markdown",
      "metadata": {
        "id": "cgb7ZrfpraCy"
      },
      "source": [
        "Aparecen NaN's en el atributo `Description`, veremos qué porcentaje suponen y qué medidas tomar en base a ello."
      ]
    },
    {
      "cell_type": "code",
      "execution_count": 45,
      "metadata": {
        "colab": {
          "base_uri": "https://localhost:8080/"
        },
        "id": "CbrM4DpzrbAs",
        "outputId": "17ebc6cd-eba0-4507-bf3f-e18b3ef29bf8"
      },
      "outputs": [
        {
          "output_type": "execute_result",
          "data": {
            "text/plain": [
              "InvoiceNo         0\n",
              "StockCode         0\n",
              "Description    1454\n",
              "Quantity          0\n",
              "InvoiceDate       0\n",
              "UnitPrice         0\n",
              "CustomerID        0\n",
              "Country           0\n",
              "dtype: int64"
            ]
          },
          "metadata": {},
          "execution_count": 45
        }
      ],
      "source": [
        "df.isna().sum()"
      ]
    },
    {
      "cell_type": "code",
      "execution_count": 46,
      "metadata": {
        "id": "ZNEDMzAyHWge"
      },
      "outputs": [],
      "source": [
        "conteo_nans = df['Description'].isna().sum()\n",
        "conteo_no_nans = len(df) - conteo_nans"
      ]
    },
    {
      "cell_type": "code",
      "execution_count": 47,
      "metadata": {
        "colab": {
          "base_uri": "https://localhost:8080/",
          "height": 675
        },
        "id": "tX0MvLXcHOYD",
        "outputId": "0ffb19a6-c1b9-44df-a2d3-6eec83c8e5fb"
      },
      "outputs": [
        {
          "output_type": "display_data",
          "data": {
            "text/plain": [
              "<Figure size 800x800 with 1 Axes>"
            ],
            "image/png": "[encoded data removed]"
          },
          "metadata": {}
        }
      ],
      "source": [
        "import matplotlib.pyplot as plt\n",
        "\n",
        "sizes = [conteo_nans, conteo_no_nans]\n",
        "labels = ['NaN','no NaN']\n",
        "\n",
        "# Crear un gráfico circular\n",
        "plt.figure(figsize=(8, 8))\n",
        "plt.pie(sizes, labels=labels, autopct='%1.1f%%',colors=['red','green'], startangle=140)\n",
        "\n",
        "# Añadir título\n",
        "plt.title('Descripciones')\n",
        "\n",
        "# Mostrar el gráfico\n",
        "plt.show()\n"
      ]
    },
    {
      "cell_type": "markdown",
      "metadata": {
        "id": "3JuQnzeaHj0e"
      },
      "source": [
        "Las entradas con descripciones NaN suponen un porcentaje muy bajo de las totales, podríamos eliminar dichas entradas pero antes limpiaremos la base de datos ya que podrían ser eliminados igualmente si pertenecen a registros con otros datos inconsistentes."
      ]
    },
    {
      "cell_type": "markdown",
      "metadata": {
        "id": "qBUEHkQug8qz"
      },
      "source": [
        "###**Limpieza de la base de datos**"
      ]
    },
    {
      "cell_type": "markdown",
      "metadata": {
        "id": "FpP3i-th9PH2"
      },
      "source": [
        "####**Cantidades**"
      ]
    },
    {
      "cell_type": "markdown",
      "metadata": {
        "id": "2y3KhVIwlTtZ"
      },
      "source": [
        "Entendemos que la cantidad de un producto es positiva cuando el cliente se lleva de la tienda artículos y negativa cuando los devuelve. Para confirmar esta hipótesis procedemos a analizar los datos con cantidades negativas."
      ]
    },
    {
      "cell_type": "code",
      "execution_count": 48,
      "metadata": {
        "colab": {
          "base_uri": "https://localhost:8080/",
          "height": 206
        },
        "id": "U9sL8L_mmGzN",
        "outputId": "4794979f-1b3e-4523-e598-83e75e8056f1"
      },
      "outputs": [
        {
          "output_type": "execute_result",
          "data": {
            "text/plain": [
              "    InvoiceNo StockCode                       Description  Quantity  \\\n",
              "141   C536379         D                          Discount        -1   \n",
              "154   C536383    35004C   SET OF 3 COLOURED  FLYING DUCKS        -1   \n",
              "235   C536391     22556    PLASTERS IN TIN CIRCUS PARADE        -12   \n",
              "236   C536391     21984  PACK OF 12 PINK PAISLEY TISSUES        -24   \n",
              "237   C536391     21983  PACK OF 12 BLUE PAISLEY TISSUES        -24   \n",
              "\n",
              "            InvoiceDate  UnitPrice  CustomerID         Country  \n",
              "141 2010-12-01 09:41:00      27.50       14527  United Kingdom  \n",
              "154 2010-12-01 09:49:00       4.65       15311  United Kingdom  \n",
              "235 2010-12-01 10:24:00       1.65       17548  United Kingdom  \n",
              "236 2010-12-01 10:24:00       0.29       17548  United Kingdom  \n",
              "237 2010-12-01 10:24:00       0.29       17548  United Kingdom  "
            ],
            "text/html": [
              "<div>\n",
              "<style scoped>\n",
              "    .dataframe tbody tr th:only-of-type {\n",
              "        vertical-align: middle;\n",
              "    }\n",
              "\n",
              "    .dataframe tbody tr th {\n",
              "        vertical-align: top;\n",
              "    }\n",
              "\n",
              "    .dataframe thead th {\n",
              "        text-align: right;\n",
              "    }\n",
              "</style>\n",
              "<table border=\"1\" class=\"dataframe\">\n",
              "  <thead>\n",
              "    <tr style=\"text-align: right;\">\n",
              "      <th></th>\n",
              "      <th>InvoiceNo</th>\n",
              "      <th>StockCode</th>\n",
              "      <th>Description</th>\n",
              "      <th>Quantity</th>\n",
              "      <th>InvoiceDate</th>\n",
              "      <th>UnitPrice</th>\n",
              "      <th>CustomerID</th>\n",
              "      <th>Country</th>\n",
              "    </tr>\n",
              "  </thead>\n",
              "  <tbody>\n",
              "    <tr>\n",
              "      <th>141</th>\n",
              "      <td>C536379</td>\n",
              "      <td>D</td>\n",
              "      <td>Discount</td>\n",
              "      <td>-1</td>\n",
              "      <td>2010-12-01 09:41:00</td>\n",
              "      <td>27.50</td>\n",
              "      <td>14527</td>\n",
              "      <td>United Kingdom</td>\n",
              "    </tr>\n",
              "    <tr>\n",
              "      <th>154</th>\n",
              "      <td>C536383</td>\n",
              "      <td>35004C</td>\n",
              "      <td>SET OF 3 COLOURED  FLYING DUCKS</td>\n",
              "      <td>-1</td>\n",
              "      <td>2010-12-01 09:49:00</td>\n",
              "      <td>4.65</td>\n",
              "      <td>15311</td>\n",
              "      <td>United Kingdom</td>\n",
              "    </tr>\n",
              "    <tr>\n",
              "      <th>235</th>\n",
              "      <td>C536391</td>\n",
              "      <td>22556</td>\n",
              "      <td>PLASTERS IN TIN CIRCUS PARADE</td>\n",
              "      <td>-12</td>\n",
              "      <td>2010-12-01 10:24:00</td>\n",
              "      <td>1.65</td>\n",
              "      <td>17548</td>\n",
              "      <td>United Kingdom</td>\n",
              "    </tr>\n",
              "    <tr>\n",
              "      <th>236</th>\n",
              "      <td>C536391</td>\n",
              "      <td>21984</td>\n",
              "      <td>PACK OF 12 PINK PAISLEY TISSUES</td>\n",
              "      <td>-24</td>\n",
              "      <td>2010-12-01 10:24:00</td>\n",
              "      <td>0.29</td>\n",
              "      <td>17548</td>\n",
              "      <td>United Kingdom</td>\n",
              "    </tr>\n",
              "    <tr>\n",
              "      <th>237</th>\n",
              "      <td>C536391</td>\n",
              "      <td>21983</td>\n",
              "      <td>PACK OF 12 BLUE PAISLEY TISSUES</td>\n",
              "      <td>-24</td>\n",
              "      <td>2010-12-01 10:24:00</td>\n",
              "      <td>0.29</td>\n",
              "      <td>17548</td>\n",
              "      <td>United Kingdom</td>\n",
              "    </tr>\n",
              "  </tbody>\n",
              "</table>\n",
              "</div>"
            ]
          },
          "metadata": {},
          "execution_count": 48
        }
      ],
      "source": [
        "negative = df[df['Quantity'] < 0]\n",
        "negative.head(5)"
      ]
    },
    {
      "cell_type": "markdown",
      "metadata": {
        "id": "B6HnWE5E4PRe"
      },
      "source": [
        "Observamos que para el `StockCode` 'D', se trata de un descuento, que queda registrado como cantidad negativa."
      ]
    },
    {
      "cell_type": "code",
      "execution_count": 49,
      "metadata": {
        "colab": {
          "base_uri": "https://localhost:8080/",
          "height": 143
        },
        "id": "sV7vMY3E4iUw",
        "outputId": "03d253c8-03b7-4e56-f343-cda21c758406"
      },
      "outputs": [
        {
          "output_type": "execute_result",
          "data": {
            "text/plain": [
              "      InvoiceNo StockCode Description  Quantity         InvoiceDate  \\\n",
              "141     C536379         D    Discount        -1 2010-12-01 09:41:00   \n",
              "9038    C537164         D    Discount        -1 2010-12-05 13:21:00   \n",
              "14498   C537597         D    Discount        -1 2010-12-07 12:34:00   \n",
              "\n",
              "       UnitPrice  CustomerID         Country  \n",
              "141        27.50       14527  United Kingdom  \n",
              "9038       29.29       14527  United Kingdom  \n",
              "14498     281.00       15498  United Kingdom  "
            ],
            "text/html": [
              "<div>\n",
              "<style scoped>\n",
              "    .dataframe tbody tr th:only-of-type {\n",
              "        vertical-align: middle;\n",
              "    }\n",
              "\n",
              "    .dataframe tbody tr th {\n",
              "        vertical-align: top;\n",
              "    }\n",
              "\n",
              "    .dataframe thead th {\n",
              "        text-align: right;\n",
              "    }\n",
              "</style>\n",
              "<table border=\"1\" class=\"dataframe\">\n",
              "  <thead>\n",
              "    <tr style=\"text-align: right;\">\n",
              "      <th></th>\n",
              "      <th>InvoiceNo</th>\n",
              "      <th>StockCode</th>\n",
              "      <th>Description</th>\n",
              "      <th>Quantity</th>\n",
              "      <th>InvoiceDate</th>\n",
              "      <th>UnitPrice</th>\n",
              "      <th>CustomerID</th>\n",
              "      <th>Country</th>\n",
              "    </tr>\n",
              "  </thead>\n",
              "  <tbody>\n",
              "    <tr>\n",
              "      <th>141</th>\n",
              "      <td>C536379</td>\n",
              "      <td>D</td>\n",
              "      <td>Discount</td>\n",
              "      <td>-1</td>\n",
              "      <td>2010-12-01 09:41:00</td>\n",
              "      <td>27.50</td>\n",
              "      <td>14527</td>\n",
              "      <td>United Kingdom</td>\n",
              "    </tr>\n",
              "    <tr>\n",
              "      <th>9038</th>\n",
              "      <td>C537164</td>\n",
              "      <td>D</td>\n",
              "      <td>Discount</td>\n",
              "      <td>-1</td>\n",
              "      <td>2010-12-05 13:21:00</td>\n",
              "      <td>29.29</td>\n",
              "      <td>14527</td>\n",
              "      <td>United Kingdom</td>\n",
              "    </tr>\n",
              "    <tr>\n",
              "      <th>14498</th>\n",
              "      <td>C537597</td>\n",
              "      <td>D</td>\n",
              "      <td>Discount</td>\n",
              "      <td>-1</td>\n",
              "      <td>2010-12-07 12:34:00</td>\n",
              "      <td>281.00</td>\n",
              "      <td>15498</td>\n",
              "      <td>United Kingdom</td>\n",
              "    </tr>\n",
              "  </tbody>\n",
              "</table>\n",
              "</div>"
            ]
          },
          "metadata": {},
          "execution_count": 49
        }
      ],
      "source": [
        "discounts = df[df['StockCode'] == 'D']\n",
        "discounts.head(3)"
      ]
    },
    {
      "cell_type": "code",
      "execution_count": 50,
      "metadata": {
        "colab": {
          "base_uri": "https://localhost:8080/"
        },
        "id": "qaofHOrZ53I8",
        "outputId": "8b4a02ea-4251-44df-bf03-cf2f3d817882"
      },
      "outputs": [
        {
          "output_type": "stream",
          "name": "stdout",
          "text": [
            "77\n"
          ]
        }
      ],
      "source": [
        "print(discounts.shape[0])"
      ]
    },
    {
      "cell_type": "markdown",
      "metadata": {
        "id": "buxpw_V15iQ9"
      },
      "source": [
        "Queda registrado que hubo `77` descuentos en total, y tomaban las siguientes cantidades negativas en la columna de `Quantity`"
      ]
    },
    {
      "cell_type": "code",
      "execution_count": 51,
      "metadata": {
        "colab": {
          "base_uri": "https://localhost:8080/"
        },
        "id": "yqHUPkDc5ehI",
        "outputId": "2e975edb-e744-4a95-dac0-954ebba913ce"
      },
      "outputs": [
        {
          "output_type": "stream",
          "name": "stdout",
          "text": [
            "[  -1 -720 -240  -18  -48  -96]\n"
          ]
        }
      ],
      "source": [
        "print(discounts['Quantity'].unique())"
      ]
    },
    {
      "cell_type": "markdown",
      "metadata": {
        "id": "MUko1dYk7KaC"
      },
      "source": [
        "Algunos descuentos toman cifras muy elevadas, esto podría provocar pérdidas a la tienda pero comprobamos que se trata de descuentos con `UnitPrice` muy bajos."
      ]
    },
    {
      "cell_type": "code",
      "execution_count": 52,
      "metadata": {
        "colab": {
          "base_uri": "https://localhost:8080/"
        },
        "id": "yw_powLz7BOa",
        "outputId": "4aaa08c2-7c16-44a6-a92d-28f19a68a9af"
      },
      "outputs": [
        {
          "output_type": "execute_result",
          "data": {
            "text/plain": [
              "Quantity\n",
              "-720                                               [0.01]\n",
              "-240                                               [0.03]\n",
              "-96                                                 [0.7]\n",
              "-48                                                 [0.2]\n",
              "-18                                                [1.45]\n",
              "-1      [27.5, 29.29, 281.0, 267.12, 5.76, 42.5, 26.93...\n",
              "Name: UnitPrice, dtype: object"
            ]
          },
          "metadata": {},
          "execution_count": 52
        }
      ],
      "source": [
        "discounts.groupby('Quantity')['UnitPrice'].unique()"
      ]
    },
    {
      "cell_type": "markdown",
      "metadata": {
        "id": "QP2JDZSx6EDQ"
      },
      "source": [
        "Para analizar los demás registros con cantidades negativas, tomamos un ejemplo de un cliente que tiene una cantidad negativa en una de sus compras."
      ]
    },
    {
      "cell_type": "code",
      "execution_count": 53,
      "metadata": {
        "id": "pwOGPu4hnHfi"
      },
      "outputs": [],
      "source": [
        "test = df[df['CustomerID'] == 15311]"
      ]
    },
    {
      "cell_type": "markdown",
      "metadata": {
        "id": "bd9R8995-kx5"
      },
      "source": [
        "Queremos ver qué productos están en la transacción de la factura que contiene la cantidad negativa."
      ]
    },
    {
      "cell_type": "code",
      "execution_count": 54,
      "metadata": {
        "colab": {
          "base_uri": "https://localhost:8080/",
          "height": 81
        },
        "id": "Hmy5gDdS-039",
        "outputId": "5369c319-74b4-4007-962a-30e9d3940ee7"
      },
      "outputs": [
        {
          "output_type": "execute_result",
          "data": {
            "text/plain": [
              "    InvoiceNo StockCode                      Description  Quantity  \\\n",
              "154   C536383    35004C  SET OF 3 COLOURED  FLYING DUCKS        -1   \n",
              "\n",
              "            InvoiceDate  UnitPrice  CustomerID         Country  \n",
              "154 2010-12-01 09:49:00       4.65       15311  United Kingdom  "
            ],
            "text/html": [
              "<div>\n",
              "<style scoped>\n",
              "    .dataframe tbody tr th:only-of-type {\n",
              "        vertical-align: middle;\n",
              "    }\n",
              "\n",
              "    .dataframe tbody tr th {\n",
              "        vertical-align: top;\n",
              "    }\n",
              "\n",
              "    .dataframe thead th {\n",
              "        text-align: right;\n",
              "    }\n",
              "</style>\n",
              "<table border=\"1\" class=\"dataframe\">\n",
              "  <thead>\n",
              "    <tr style=\"text-align: right;\">\n",
              "      <th></th>\n",
              "      <th>InvoiceNo</th>\n",
              "      <th>StockCode</th>\n",
              "      <th>Description</th>\n",
              "      <th>Quantity</th>\n",
              "      <th>InvoiceDate</th>\n",
              "      <th>UnitPrice</th>\n",
              "      <th>CustomerID</th>\n",
              "      <th>Country</th>\n",
              "    </tr>\n",
              "  </thead>\n",
              "  <tbody>\n",
              "    <tr>\n",
              "      <th>154</th>\n",
              "      <td>C536383</td>\n",
              "      <td>35004C</td>\n",
              "      <td>SET OF 3 COLOURED  FLYING DUCKS</td>\n",
              "      <td>-1</td>\n",
              "      <td>2010-12-01 09:49:00</td>\n",
              "      <td>4.65</td>\n",
              "      <td>15311</td>\n",
              "      <td>United Kingdom</td>\n",
              "    </tr>\n",
              "  </tbody>\n",
              "</table>\n",
              "</div>"
            ]
          },
          "metadata": {},
          "execution_count": 54
        }
      ],
      "source": [
        "test[test['InvoiceNo'] == 'C536383']"
      ]
    },
    {
      "cell_type": "markdown",
      "metadata": {
        "id": "EoCD6us8-2zz"
      },
      "source": [
        "No compró otros productos en esa transacción."
      ]
    },
    {
      "cell_type": "markdown",
      "metadata": {
        "id": "ZAqfMXL2989C"
      },
      "source": [
        "Veamos si ese cliente compró el set de 3 patos coloreados voladores en otras ocasiones, y si aparecen con cantidades negativas."
      ]
    },
    {
      "cell_type": "code",
      "execution_count": 55,
      "metadata": {
        "colab": {
          "base_uri": "https://localhost:8080/",
          "height": 300
        },
        "id": "xkKBRC3t9w3v",
        "outputId": "c380a8f4-cd29-4c28-99a5-57ec9f4d80fe"
      },
      "outputs": [
        {
          "output_type": "execute_result",
          "data": {
            "text/plain": [
              "      InvoiceNo StockCode                      Description  Quantity  \\\n",
              "154     C536383    35004C  SET OF 3 COLOURED  FLYING DUCKS        -1   \n",
              "9200     537195    35004C  SET OF 3 COLOURED  FLYING DUCKS        12   \n",
              "18196   C537805    35004C  SET OF 3 COLOURED  FLYING DUCKS        -1   \n",
              "28630    538651    35004C  SET OF 3 COLOURED  FLYING DUCKS        12   \n",
              "39381   C539640    35004C  SET OF 3 COLOURED  FLYING DUCKS        -3   \n",
              "44157    540157    35004C  SET OF 3 COLOURED  FLYING DUCKS        12   \n",
              "59542    541293    35004C  SET OF 3 COLOURED  FLYING DUCKS        12   \n",
              "78333   C542866    35004C  SET OF 3 COLOURED  FLYING DUCKS        -2   \n",
              "\n",
              "              InvoiceDate  UnitPrice  CustomerID         Country  \n",
              "154   2010-12-01 09:49:00       4.65       15311  United Kingdom  \n",
              "9200  2010-12-05 13:55:00       4.65       15311  United Kingdom  \n",
              "18196 2010-12-08 13:18:00       4.65       15311  United Kingdom  \n",
              "28630 2010-12-13 15:07:00       4.65       15311  United Kingdom  \n",
              "39381 2010-12-20 15:27:00       4.65       15311  United Kingdom  \n",
              "44157 2011-01-05 11:41:00       4.65       15311  United Kingdom  \n",
              "59542 2011-01-17 13:39:00       4.65       15311  United Kingdom  \n",
              "78333 2011-02-01 12:14:00       4.65       15311  United Kingdom  "
            ],
            "text/html": [
              "<div>\n",
              "<style scoped>\n",
              "    .dataframe tbody tr th:only-of-type {\n",
              "        vertical-align: middle;\n",
              "    }\n",
              "\n",
              "    .dataframe tbody tr th {\n",
              "        vertical-align: top;\n",
              "    }\n",
              "\n",
              "    .dataframe thead th {\n",
              "        text-align: right;\n",
              "    }\n",
              "</style>\n",
              "<table border=\"1\" class=\"dataframe\">\n",
              "  <thead>\n",
              "    <tr style=\"text-align: right;\">\n",
              "      <th></th>\n",
              "      <th>InvoiceNo</th>\n",
              "      <th>StockCode</th>\n",
              "      <th>Description</th>\n",
              "      <th>Quantity</th>\n",
              "      <th>InvoiceDate</th>\n",
              "      <th>UnitPrice</th>\n",
              "      <th>CustomerID</th>\n",
              "      <th>Country</th>\n",
              "    </tr>\n",
              "  </thead>\n",
              "  <tbody>\n",
              "    <tr>\n",
              "      <th>154</th>\n",
              "      <td>C536383</td>\n",
              "      <td>35004C</td>\n",
              "      <td>SET OF 3 COLOURED  FLYING DUCKS</td>\n",
              "      <td>-1</td>\n",
              "      <td>2010-12-01 09:49:00</td>\n",
              "      <td>4.65</td>\n",
              "      <td>15311</td>\n",
              "      <td>United Kingdom</td>\n",
              "    </tr>\n",
              "    <tr>\n",
              "      <th>9200</th>\n",
              "      <td>537195</td>\n",
              "      <td>35004C</td>\n",
              "      <td>SET OF 3 COLOURED  FLYING DUCKS</td>\n",
              "      <td>12</td>\n",
              "      <td>2010-12-05 13:55:00</td>\n",
              "      <td>4.65</td>\n",
              "      <td>15311</td>\n",
              "      <td>United Kingdom</td>\n",
              "    </tr>\n",
              "    <tr>\n",
              "      <th>18196</th>\n",
              "      <td>C537805</td>\n",
              "      <td>35004C</td>\n",
              "      <td>SET OF 3 COLOURED  FLYING DUCKS</td>\n",
              "      <td>-1</td>\n",
              "      <td>2010-12-08 13:18:00</td>\n",
              "      <td>4.65</td>\n",
              "      <td>15311</td>\n",
              "      <td>United Kingdom</td>\n",
              "    </tr>\n",
              "    <tr>\n",
              "      <th>28630</th>\n",
              "      <td>538651</td>\n",
              "      <td>35004C</td>\n",
              "      <td>SET OF 3 COLOURED  FLYING DUCKS</td>\n",
              "      <td>12</td>\n",
              "      <td>2010-12-13 15:07:00</td>\n",
              "      <td>4.65</td>\n",
              "      <td>15311</td>\n",
              "      <td>United Kingdom</td>\n",
              "    </tr>\n",
              "    <tr>\n",
              "      <th>39381</th>\n",
              "      <td>C539640</td>\n",
              "      <td>35004C</td>\n",
              "      <td>SET OF 3 COLOURED  FLYING DUCKS</td>\n",
              "      <td>-3</td>\n",
              "      <td>2010-12-20 15:27:00</td>\n",
              "      <td>4.65</td>\n",
              "      <td>15311</td>\n",
              "      <td>United Kingdom</td>\n",
              "    </tr>\n",
              "    <tr>\n",
              "      <th>44157</th>\n",
              "      <td>540157</td>\n",
              "      <td>35004C</td>\n",
              "      <td>SET OF 3 COLOURED  FLYING DUCKS</td>\n",
              "      <td>12</td>\n",
              "      <td>2011-01-05 11:41:00</td>\n",
              "      <td>4.65</td>\n",
              "      <td>15311</td>\n",
              "      <td>United Kingdom</td>\n",
              "    </tr>\n",
              "    <tr>\n",
              "      <th>59542</th>\n",
              "      <td>541293</td>\n",
              "      <td>35004C</td>\n",
              "      <td>SET OF 3 COLOURED  FLYING DUCKS</td>\n",
              "      <td>12</td>\n",
              "      <td>2011-01-17 13:39:00</td>\n",
              "      <td>4.65</td>\n",
              "      <td>15311</td>\n",
              "      <td>United Kingdom</td>\n",
              "    </tr>\n",
              "    <tr>\n",
              "      <th>78333</th>\n",
              "      <td>C542866</td>\n",
              "      <td>35004C</td>\n",
              "      <td>SET OF 3 COLOURED  FLYING DUCKS</td>\n",
              "      <td>-2</td>\n",
              "      <td>2011-02-01 12:14:00</td>\n",
              "      <td>4.65</td>\n",
              "      <td>15311</td>\n",
              "      <td>United Kingdom</td>\n",
              "    </tr>\n",
              "  </tbody>\n",
              "</table>\n",
              "</div>"
            ]
          },
          "metadata": {},
          "execution_count": 55
        }
      ],
      "source": [
        "test = df[df['CustomerID'] == 15311]\n",
        "test[test['StockCode'] == '35004C']"
      ]
    },
    {
      "cell_type": "markdown",
      "metadata": {
        "id": "pajsUsF_9wW8"
      },
      "source": [
        "En efecto, realizó varias compras del set, en ocasiones la compra aparece con cantridad del producto negativa, por lo que interpretamos que se trata de devoluciones del producto."
      ]
    },
    {
      "cell_type": "code",
      "execution_count": 56,
      "metadata": {
        "colab": {
          "base_uri": "https://localhost:8080/"
        },
        "id": "eNjgUjqfqqBI",
        "outputId": "ce43650e-b859-4018-b247-3460a1cc124f"
      },
      "outputs": [
        {
          "output_type": "execute_result",
          "data": {
            "text/plain": [
              "10547"
            ]
          },
          "metadata": {},
          "execution_count": 56
        }
      ],
      "source": [
        "negative.shape[0] - discounts.shape[0]"
      ]
    },
    {
      "cell_type": "markdown",
      "metadata": {
        "id": "oZIx2vYpphvk"
      },
      "source": [
        "Parece que las cantidades negativas de productos se refieren a devoluciones o descuentos. Es interesante que de los `541909` eventos de productos comprados, `10421` son devueltos. Podría deberse a varios factores como que el producto estaba defectuoso, talla incorrecta, ... De cualquier manera, se trata de un problema distinto al de patrones secuenciales por lo que vamos a eliminar las entradas con valores negativos."
      ]
    },
    {
      "cell_type": "code",
      "execution_count": 57,
      "metadata": {
        "colab": {
          "base_uri": "https://localhost:8080/"
        },
        "id": "nC0T5aZrsKlH",
        "outputId": "acf11b00-3184-43d1-80d2-5623549b2a4e"
      },
      "outputs": [
        {
          "output_type": "stream",
          "name": "stdout",
          "text": [
            "Los registros con cantidades de producto negativas fueron eliminados\n"
          ]
        }
      ],
      "source": [
        "df = df.drop(df[df['Quantity'] < 0].index)\n",
        "if df[df['Quantity'] < 0].shape[0] == 0:\n",
        "  print('Los registros con cantidades de producto negativas fueron eliminados')"
      ]
    },
    {
      "cell_type": "markdown",
      "metadata": {
        "id": "govzTY7SIYIe"
      },
      "source": [
        "Por otra parte no hay ninguna cantidad 0 de producto(s) comprados."
      ]
    },
    {
      "cell_type": "code",
      "execution_count": 58,
      "metadata": {
        "colab": {
          "base_uri": "https://localhost:8080/",
          "height": 49
        },
        "id": "UElfxU85IH9i",
        "outputId": "7b231198-66b2-4bb7-e29c-d3b1c86f3cbb"
      },
      "outputs": [
        {
          "output_type": "execute_result",
          "data": {
            "text/plain": [
              "Empty DataFrame\n",
              "Columns: [InvoiceNo, StockCode, Description, Quantity, InvoiceDate, UnitPrice, CustomerID, Country]\n",
              "Index: []"
            ],
            "text/html": [
              "<div>\n",
              "<style scoped>\n",
              "    .dataframe tbody tr th:only-of-type {\n",
              "        vertical-align: middle;\n",
              "    }\n",
              "\n",
              "    .dataframe tbody tr th {\n",
              "        vertical-align: top;\n",
              "    }\n",
              "\n",
              "    .dataframe thead th {\n",
              "        text-align: right;\n",
              "    }\n",
              "</style>\n",
              "<table border=\"1\" class=\"dataframe\">\n",
              "  <thead>\n",
              "    <tr style=\"text-align: right;\">\n",
              "      <th></th>\n",
              "      <th>InvoiceNo</th>\n",
              "      <th>StockCode</th>\n",
              "      <th>Description</th>\n",
              "      <th>Quantity</th>\n",
              "      <th>InvoiceDate</th>\n",
              "      <th>UnitPrice</th>\n",
              "      <th>CustomerID</th>\n",
              "      <th>Country</th>\n",
              "    </tr>\n",
              "  </thead>\n",
              "  <tbody>\n",
              "  </tbody>\n",
              "</table>\n",
              "</div>"
            ]
          },
          "metadata": {},
          "execution_count": 58
        }
      ],
      "source": [
        "df[df['Quantity'] == 0]"
      ]
    },
    {
      "cell_type": "markdown",
      "metadata": {
        "id": "7zAFBaJsAWIE"
      },
      "source": [
        "####**Precios**"
      ]
    },
    {
      "cell_type": "markdown",
      "metadata": {
        "id": "i19NuSK8np-m"
      },
      "source": [
        "Hacemos el mismo proceso con los precios menores o iguales a 0."
      ]
    },
    {
      "cell_type": "code",
      "execution_count": 59,
      "metadata": {
        "colab": {
          "base_uri": "https://localhost:8080/",
          "height": 112
        },
        "id": "7pCsUJ0ylbOZ",
        "outputId": "800dea41-5f74-4e02-b02c-791623d3e242"
      },
      "outputs": [
        {
          "output_type": "execute_result",
          "data": {
            "text/plain": [
              "       InvoiceNo StockCode      Description  Quantity         InvoiceDate  \\\n",
              "299983   A563186         B  Adjust bad debt         1 2011-08-12 14:51:00   \n",
              "299984   A563187         B  Adjust bad debt         1 2011-08-12 14:52:00   \n",
              "\n",
              "        UnitPrice  CustomerID         Country  \n",
              "299983  -11062.06       15287  United Kingdom  \n",
              "299984  -11062.06       15287  United Kingdom  "
            ],
            "text/html": [
              "<div>\n",
              "<style scoped>\n",
              "    .dataframe tbody tr th:only-of-type {\n",
              "        vertical-align: middle;\n",
              "    }\n",
              "\n",
              "    .dataframe tbody tr th {\n",
              "        vertical-align: top;\n",
              "    }\n",
              "\n",
              "    .dataframe thead th {\n",
              "        text-align: right;\n",
              "    }\n",
              "</style>\n",
              "<table border=\"1\" class=\"dataframe\">\n",
              "  <thead>\n",
              "    <tr style=\"text-align: right;\">\n",
              "      <th></th>\n",
              "      <th>InvoiceNo</th>\n",
              "      <th>StockCode</th>\n",
              "      <th>Description</th>\n",
              "      <th>Quantity</th>\n",
              "      <th>InvoiceDate</th>\n",
              "      <th>UnitPrice</th>\n",
              "      <th>CustomerID</th>\n",
              "      <th>Country</th>\n",
              "    </tr>\n",
              "  </thead>\n",
              "  <tbody>\n",
              "    <tr>\n",
              "      <th>299983</th>\n",
              "      <td>A563186</td>\n",
              "      <td>B</td>\n",
              "      <td>Adjust bad debt</td>\n",
              "      <td>1</td>\n",
              "      <td>2011-08-12 14:51:00</td>\n",
              "      <td>-11062.06</td>\n",
              "      <td>15287</td>\n",
              "      <td>United Kingdom</td>\n",
              "    </tr>\n",
              "    <tr>\n",
              "      <th>299984</th>\n",
              "      <td>A563187</td>\n",
              "      <td>B</td>\n",
              "      <td>Adjust bad debt</td>\n",
              "      <td>1</td>\n",
              "      <td>2011-08-12 14:52:00</td>\n",
              "      <td>-11062.06</td>\n",
              "      <td>15287</td>\n",
              "      <td>United Kingdom</td>\n",
              "    </tr>\n",
              "  </tbody>\n",
              "</table>\n",
              "</div>"
            ]
          },
          "metadata": {},
          "execution_count": 59
        }
      ],
      "source": [
        "df[df['UnitPrice'] < 0]"
      ]
    },
    {
      "cell_type": "code",
      "source": [],
      "metadata": {
        "id": "evBWvzy4HKJh"
      },
      "execution_count": 59,
      "outputs": []
    },
    {
      "cell_type": "markdown",
      "metadata": {
        "id": "mzfmm2V1Jtfs"
      },
      "source": [
        "Según la descripción se trata de un error de cobro que fue arreglado."
      ]
    },
    {
      "cell_type": "code",
      "execution_count": 60,
      "metadata": {
        "id": "IJ479ccAKTIh"
      },
      "outputs": [],
      "source": [
        "df = df.drop(df[df['UnitPrice'] < 0].index)"
      ]
    },
    {
      "cell_type": "markdown",
      "metadata": {
        "id": "z9tlBrNsKVhz"
      },
      "source": [
        "A continuación veremos los precios que son 0."
      ]
    },
    {
      "cell_type": "code",
      "execution_count": 61,
      "metadata": {
        "colab": {
          "base_uri": "https://localhost:8080/",
          "height": 363
        },
        "id": "7MrqxT3lJnxq",
        "outputId": "7ca5987d-8930-4f62-daf0-4869331ac519"
      },
      "outputs": [
        {
          "output_type": "execute_result",
          "data": {
            "text/plain": [
              "     InvoiceNo StockCode Description  Quantity         InvoiceDate  UnitPrice  \\\n",
              "622     536414     22139         NaN        56 2010-12-01 11:52:00        0.0   \n",
              "1970    536545     21134         NaN         1 2010-12-01 14:32:00        0.0   \n",
              "1971    536546     22145         NaN         1 2010-12-01 14:33:00        0.0   \n",
              "1972    536547     37509         NaN         1 2010-12-01 14:33:00        0.0   \n",
              "1987    536549    85226A         NaN         1 2010-12-01 14:34:00        0.0   \n",
              "1988    536550     85044         NaN         1 2010-12-01 14:34:00        0.0   \n",
              "2024    536552     20950         NaN         1 2010-12-01 14:34:00        0.0   \n",
              "2025    536553     37461         NaN         3 2010-12-01 14:35:00        0.0   \n",
              "2026    536554     84670         NaN        23 2010-12-01 14:35:00        0.0   \n",
              "4348    536765    84952C         NaN        19 2010-12-02 14:43:00        0.0   \n",
              "\n",
              "      CustomerID         Country  \n",
              "622        15287  United Kingdom  \n",
              "1970       15287  United Kingdom  \n",
              "1971       15287  United Kingdom  \n",
              "1972       15287  United Kingdom  \n",
              "1987       15287  United Kingdom  \n",
              "1988       15287  United Kingdom  \n",
              "2024       15287  United Kingdom  \n",
              "2025       15287  United Kingdom  \n",
              "2026       15287  United Kingdom  \n",
              "4348       15287  United Kingdom  "
            ],
            "text/html": [
              "<div>\n",
              "<style scoped>\n",
              "    .dataframe tbody tr th:only-of-type {\n",
              "        vertical-align: middle;\n",
              "    }\n",
              "\n",
              "    .dataframe tbody tr th {\n",
              "        vertical-align: top;\n",
              "    }\n",
              "\n",
              "    .dataframe thead th {\n",
              "        text-align: right;\n",
              "    }\n",
              "</style>\n",
              "<table border=\"1\" class=\"dataframe\">\n",
              "  <thead>\n",
              "    <tr style=\"text-align: right;\">\n",
              "      <th></th>\n",
              "      <th>InvoiceNo</th>\n",
              "      <th>StockCode</th>\n",
              "      <th>Description</th>\n",
              "      <th>Quantity</th>\n",
              "      <th>InvoiceDate</th>\n",
              "      <th>UnitPrice</th>\n",
              "      <th>CustomerID</th>\n",
              "      <th>Country</th>\n",
              "    </tr>\n",
              "  </thead>\n",
              "  <tbody>\n",
              "    <tr>\n",
              "      <th>622</th>\n",
              "      <td>536414</td>\n",
              "      <td>22139</td>\n",
              "      <td>NaN</td>\n",
              "      <td>56</td>\n",
              "      <td>2010-12-01 11:52:00</td>\n",
              "      <td>0.0</td>\n",
              "      <td>15287</td>\n",
              "      <td>United Kingdom</td>\n",
              "    </tr>\n",
              "    <tr>\n",
              "      <th>1970</th>\n",
              "      <td>536545</td>\n",
              "      <td>21134</td>\n",
              "      <td>NaN</td>\n",
              "      <td>1</td>\n",
              "      <td>2010-12-01 14:32:00</td>\n",
              "      <td>0.0</td>\n",
              "      <td>15287</td>\n",
              "      <td>United Kingdom</td>\n",
              "    </tr>\n",
              "    <tr>\n",
              "      <th>1971</th>\n",
              "      <td>536546</td>\n",
              "      <td>22145</td>\n",
              "      <td>NaN</td>\n",
              "      <td>1</td>\n",
              "      <td>2010-12-01 14:33:00</td>\n",
              "      <td>0.0</td>\n",
              "      <td>15287</td>\n",
              "      <td>United Kingdom</td>\n",
              "    </tr>\n",
              "    <tr>\n",
              "      <th>1972</th>\n",
              "      <td>536547</td>\n",
              "      <td>37509</td>\n",
              "      <td>NaN</td>\n",
              "      <td>1</td>\n",
              "      <td>2010-12-01 14:33:00</td>\n",
              "      <td>0.0</td>\n",
              "      <td>15287</td>\n",
              "      <td>United Kingdom</td>\n",
              "    </tr>\n",
              "    <tr>\n",
              "      <th>1987</th>\n",
              "      <td>536549</td>\n",
              "      <td>85226A</td>\n",
              "      <td>NaN</td>\n",
              "      <td>1</td>\n",
              "      <td>2010-12-01 14:34:00</td>\n",
              "      <td>0.0</td>\n",
              "      <td>15287</td>\n",
              "      <td>United Kingdom</td>\n",
              "    </tr>\n",
              "    <tr>\n",
              "      <th>1988</th>\n",
              "      <td>536550</td>\n",
              "      <td>85044</td>\n",
              "      <td>NaN</td>\n",
              "      <td>1</td>\n",
              "      <td>2010-12-01 14:34:00</td>\n",
              "      <td>0.0</td>\n",
              "      <td>15287</td>\n",
              "      <td>United Kingdom</td>\n",
              "    </tr>\n",
              "    <tr>\n",
              "      <th>2024</th>\n",
              "      <td>536552</td>\n",
              "      <td>20950</td>\n",
              "      <td>NaN</td>\n",
              "      <td>1</td>\n",
              "      <td>2010-12-01 14:34:00</td>\n",
              "      <td>0.0</td>\n",
              "      <td>15287</td>\n",
              "      <td>United Kingdom</td>\n",
              "    </tr>\n",
              "    <tr>\n",
              "      <th>2025</th>\n",
              "      <td>536553</td>\n",
              "      <td>37461</td>\n",
              "      <td>NaN</td>\n",
              "      <td>3</td>\n",
              "      <td>2010-12-01 14:35:00</td>\n",
              "      <td>0.0</td>\n",
              "      <td>15287</td>\n",
              "      <td>United Kingdom</td>\n",
              "    </tr>\n",
              "    <tr>\n",
              "      <th>2026</th>\n",
              "      <td>536554</td>\n",
              "      <td>84670</td>\n",
              "      <td>NaN</td>\n",
              "      <td>23</td>\n",
              "      <td>2010-12-01 14:35:00</td>\n",
              "      <td>0.0</td>\n",
              "      <td>15287</td>\n",
              "      <td>United Kingdom</td>\n",
              "    </tr>\n",
              "    <tr>\n",
              "      <th>4348</th>\n",
              "      <td>536765</td>\n",
              "      <td>84952C</td>\n",
              "      <td>NaN</td>\n",
              "      <td>19</td>\n",
              "      <td>2010-12-02 14:43:00</td>\n",
              "      <td>0.0</td>\n",
              "      <td>15287</td>\n",
              "      <td>United Kingdom</td>\n",
              "    </tr>\n",
              "  </tbody>\n",
              "</table>\n",
              "</div>"
            ]
          },
          "metadata": {},
          "execution_count": 61
        }
      ],
      "source": [
        "cero_price = df[df['UnitPrice'] == 0]\n",
        "cero_price.head(10)"
      ]
    },
    {
      "cell_type": "markdown",
      "metadata": {
        "id": "biHVltZdArAH"
      },
      "source": [
        "A primera vista, aparecen bastantes NaN's. Veamos cuántos hay exactamente para este caso."
      ]
    },
    {
      "cell_type": "code",
      "execution_count": 62,
      "metadata": {
        "colab": {
          "base_uri": "https://localhost:8080/"
        },
        "id": "l4iLo_z0ogn8",
        "outputId": "5def5e2c-9939-4112-a66e-c63aff76548f"
      },
      "outputs": [
        {
          "output_type": "execute_result",
          "data": {
            "text/plain": [
              "9432"
            ]
          },
          "metadata": {},
          "execution_count": 62
        }
      ],
      "source": [
        "cero_price.size"
      ]
    },
    {
      "cell_type": "markdown",
      "metadata": {
        "id": "jWDZcx3f1yov"
      },
      "source": [
        "Las descripciones de los eventos con precios igual a cero, son inconsistentes. Podría tratarse de personas que no completaron el proceso de compra, cancelaron el envío u obtuvieron algún artículo gratis como parte de una promoción."
      ]
    },
    {
      "cell_type": "markdown",
      "metadata": {
        "id": "Q1QDMOAV3zWv"
      },
      "source": [
        "De `9400` registros con precios igual a cero, hay `588` de ellos con NaN en la descripción."
      ]
    },
    {
      "cell_type": "code",
      "execution_count": 63,
      "metadata": {
        "colab": {
          "base_uri": "https://localhost:8080/"
        },
        "id": "X8klC0OO2XFZ",
        "outputId": "6a3030c1-a59b-4142-8a91-b758addfbf78"
      },
      "outputs": [
        {
          "output_type": "execute_result",
          "data": {
            "text/plain": [
              "InvoiceNo        0\n",
              "StockCode        0\n",
              "Description    592\n",
              "Quantity         0\n",
              "InvoiceDate      0\n",
              "UnitPrice        0\n",
              "CustomerID       0\n",
              "Country          0\n",
              "dtype: int64"
            ]
          },
          "metadata": {},
          "execution_count": 63
        }
      ],
      "source": [
        "cero_price.isna().sum()"
      ]
    },
    {
      "cell_type": "markdown",
      "metadata": {
        "id": "pe-Qjqv7BJyr"
      },
      "source": [
        "`32` clientes que realizaron transacciones con productos con precios igual a cero. Recordamos que anteriormente calculamos que hay `4339` clientes en total, los clientes con transacciones de productos de precio cero, suponen apenas un 0.74% del total y podría tratarse de familiares/amigos de la tienda que obtuvieron productos gratis."
      ]
    },
    {
      "cell_type": "code",
      "execution_count": 64,
      "metadata": {
        "colab": {
          "base_uri": "https://localhost:8080/"
        },
        "id": "xDzI99ru4J8Y",
        "outputId": "2bddcd52-e8a2-4970-e5c7-3ea5c01d2eeb"
      },
      "outputs": [
        {
          "output_type": "stream",
          "name": "stdout",
          "text": [
            "32\n"
          ]
        }
      ],
      "source": [
        "cero_customers = cero_price['CustomerID'].unique().size\n",
        "print(cero_customers)\n",
        "normal_customers = df['CustomerID'].unique().size - cero_customers"
      ]
    },
    {
      "cell_type": "markdown",
      "metadata": {
        "id": "pnCVJ4FgKt-E"
      },
      "source": [
        "Hacemos el mismo estudio con el número total de registros y el número de registros que contienen precios igual a cero."
      ]
    },
    {
      "cell_type": "code",
      "execution_count": 65,
      "metadata": {
        "id": "AQyEqkiNKuq0"
      },
      "outputs": [],
      "source": [
        "cero_registers = cero_price.shape[0]\n",
        "normal_registers = df.shape[0] - cero_registers"
      ]
    },
    {
      "cell_type": "code",
      "execution_count": 66,
      "metadata": {
        "colab": {
          "base_uri": "https://localhost:8080/",
          "height": 675
        },
        "id": "XgutKFV7LMgv",
        "outputId": "24cb08dd-7e02-44bb-b1f5-244a53fe68c5"
      },
      "outputs": [
        {
          "output_type": "display_data",
          "data": {
            "text/plain": [
              "<Figure size 800x800 with 1 Axes>"
            ],
            "image/png": "[encoded data removed]"
          },
          "metadata": {}
        }
      ],
      "source": [
        "import matplotlib.pyplot as plt\n",
        "\n",
        "sizes = [cero_registers, normal_registers]\n",
        "labels = ['special registers','normal registers']\n",
        "\n",
        "# Crear un gráfico circular\n",
        "plt.figure(figsize=(8, 8))\n",
        "plt.pie(sizes, labels=labels, autopct='%1.1f%%',colors=['red','green'], startangle=140)\n",
        "\n",
        "# Añadir título\n",
        "plt.title('Registers with cero priced products')\n",
        "\n",
        "# Mostrar el gráfico\n",
        "plt.show()"
      ]
    },
    {
      "cell_type": "code",
      "execution_count": 67,
      "metadata": {
        "colab": {
          "base_uri": "https://localhost:8080/",
          "height": 675
        },
        "id": "fAgmer2DKO2j",
        "outputId": "600930e0-115b-4e05-90eb-54fcedc9dffd"
      },
      "outputs": [
        {
          "output_type": "display_data",
          "data": {
            "text/plain": [
              "<Figure size 800x800 with 1 Axes>"
            ],
            "image/png": "[encoded data removed]"
          },
          "metadata": {}
        }
      ],
      "source": [
        "\n",
        "import matplotlib.pyplot as plt\n",
        "\n",
        "sizes = [cero_customers, normal_customers]\n",
        "labels = ['special costumers','normal costumers']\n",
        "\n",
        "# Crear un gráfico circular\n",
        "plt.figure(figsize=(8, 8))\n",
        "plt.pie(sizes, labels=labels, autopct='%1.1f%%',colors=['red','green'], startangle=140)\n",
        "\n",
        "# Añadir título\n",
        "plt.title('Costumers that got cero priced products')\n",
        "\n",
        "# Mostrar el gráfico\n",
        "plt.show()"
      ]
    },
    {
      "cell_type": "markdown",
      "metadata": {
        "id": "qJFbkov9lye2"
      },
      "source": [
        "Del total número de clientes solo el `0.7%` realizó transacciones de productos con precios igual a cero y del número total de registros solo el `0.2%` tienen productos con precio cero. Los productos comprados por precio cero no es un tipo de transacción que los clientes comunes realicen ni que se repite mucho, concluimos con que es irrelevante para estudiar los patrones de compra de clientes y lo eliminamos."
      ]
    },
    {
      "cell_type": "code",
      "execution_count": 68,
      "metadata": {
        "id": "DQk4t1ER33UI"
      },
      "outputs": [],
      "source": [
        "df = df.drop(df[df['UnitPrice'] == 0].index)"
      ]
    },
    {
      "cell_type": "markdown",
      "metadata": {
        "id": "w3GhBpV6NtEN"
      },
      "source": [
        "####**StockCodes**"
      ]
    },
    {
      "cell_type": "markdown",
      "metadata": {
        "id": "iWaMapgSn0DY"
      },
      "source": [
        "Al ser una tienda online, se espera que en las transacciones haya una parte dedicada al envío de los productos adquiridos.\n",
        "\n",
        "Encontramos que el StockCode `'POS'` hace referencia según la descripción, al servicio de envío postal. Este servicio no lo consideramos como producto de la tienda ya que no aporta ninguna información sobre las preferencias de los clientes."
      ]
    },
    {
      "cell_type": "code",
      "execution_count": 69,
      "metadata": {
        "colab": {
          "base_uri": "https://localhost:8080/",
          "height": 424
        },
        "id": "W4P1JtR_luk8",
        "outputId": "6c7bd56e-0e5d-4d87-e45a-54831e9c2c7c"
      },
      "outputs": [
        {
          "output_type": "execute_result",
          "data": {
            "text/plain": [
              "       InvoiceNo StockCode Description  Quantity         InvoiceDate  \\\n",
              "45        536370      POST     POSTAGE         3 2010-12-01 08:45:00   \n",
              "386       536403      POST     POSTAGE         1 2010-12-01 11:27:00   \n",
              "1123      536527      POST     POSTAGE         1 2010-12-01 13:04:00   \n",
              "5073      536840      POST     POSTAGE         1 2010-12-02 18:27:00   \n",
              "5258      536852      POST     POSTAGE         1 2010-12-03 09:51:00   \n",
              "...          ...       ...         ...       ...                 ...   \n",
              "541198    581493      POST     POSTAGE         1 2011-12-09 10:10:00   \n",
              "541216    581494      POST     POSTAGE         2 2011-12-09 10:13:00   \n",
              "541730    581570      POST     POSTAGE         1 2011-12-09 11:59:00   \n",
              "541767    581574      POST     POSTAGE         2 2011-12-09 12:09:00   \n",
              "541768    581578      POST     POSTAGE         3 2011-12-09 12:16:00   \n",
              "\n",
              "        UnitPrice  CustomerID      Country  \n",
              "45           18.0       12583       France  \n",
              "386          15.0       12791  Netherlands  \n",
              "1123         18.0       12662      Germany  \n",
              "5073         18.0       12738      Germany  \n",
              "5258         18.0       12686       France  \n",
              "...           ...         ...          ...  \n",
              "541198       15.0       12423      Belgium  \n",
              "541216       18.0       12518      Germany  \n",
              "541730       18.0       12662      Germany  \n",
              "541767       18.0       12526      Germany  \n",
              "541768       18.0       12713      Germany  \n",
              "\n",
              "[1126 rows x 8 columns]"
            ],
            "text/html": [
              "<div>\n",
              "<style scoped>\n",
              "    .dataframe tbody tr th:only-of-type {\n",
              "        vertical-align: middle;\n",
              "    }\n",
              "\n",
              "    .dataframe tbody tr th {\n",
              "        vertical-align: top;\n",
              "    }\n",
              "\n",
              "    .dataframe thead th {\n",
              "        text-align: right;\n",
              "    }\n",
              "</style>\n",
              "<table border=\"1\" class=\"dataframe\">\n",
              "  <thead>\n",
              "    <tr style=\"text-align: right;\">\n",
              "      <th></th>\n",
              "      <th>InvoiceNo</th>\n",
              "      <th>StockCode</th>\n",
              "      <th>Description</th>\n",
              "      <th>Quantity</th>\n",
              "      <th>InvoiceDate</th>\n",
              "      <th>UnitPrice</th>\n",
              "      <th>CustomerID</th>\n",
              "      <th>Country</th>\n",
              "    </tr>\n",
              "  </thead>\n",
              "  <tbody>\n",
              "    <tr>\n",
              "      <th>45</th>\n",
              "      <td>536370</td>\n",
              "      <td>POST</td>\n",
              "      <td>POSTAGE</td>\n",
              "      <td>3</td>\n",
              "      <td>2010-12-01 08:45:00</td>\n",
              "      <td>18.0</td>\n",
              "      <td>12583</td>\n",
              "      <td>France</td>\n",
              "    </tr>\n",
              "    <tr>\n",
              "      <th>386</th>\n",
              "      <td>536403</td>\n",
              "      <td>POST</td>\n",
              "      <td>POSTAGE</td>\n",
              "      <td>1</td>\n",
              "      <td>2010-12-01 11:27:00</td>\n",
              "      <td>15.0</td>\n",
              "      <td>12791</td>\n",
              "      <td>Netherlands</td>\n",
              "    </tr>\n",
              "    <tr>\n",
              "      <th>1123</th>\n",
              "      <td>536527</td>\n",
              "      <td>POST</td>\n",
              "      <td>POSTAGE</td>\n",
              "      <td>1</td>\n",
              "      <td>2010-12-01 13:04:00</td>\n",
              "      <td>18.0</td>\n",
              "      <td>12662</td>\n",
              "      <td>Germany</td>\n",
              "    </tr>\n",
              "    <tr>\n",
              "      <th>5073</th>\n",
              "      <td>536840</td>\n",
              "      <td>POST</td>\n",
              "      <td>POSTAGE</td>\n",
              "      <td>1</td>\n",
              "      <td>2010-12-02 18:27:00</td>\n",
              "      <td>18.0</td>\n",
              "      <td>12738</td>\n",
              "      <td>Germany</td>\n",
              "    </tr>\n",
              "    <tr>\n",
              "      <th>5258</th>\n",
              "      <td>536852</td>\n",
              "      <td>POST</td>\n",
              "      <td>POSTAGE</td>\n",
              "      <td>1</td>\n",
              "      <td>2010-12-03 09:51:00</td>\n",
              "      <td>18.0</td>\n",
              "      <td>12686</td>\n",
              "      <td>France</td>\n",
              "    </tr>\n",
              "    <tr>\n",
              "      <th>...</th>\n",
              "      <td>...</td>\n",
              "      <td>...</td>\n",
              "      <td>...</td>\n",
              "      <td>...</td>\n",
              "      <td>...</td>\n",
              "      <td>...</td>\n",
              "      <td>...</td>\n",
              "      <td>...</td>\n",
              "    </tr>\n",
              "    <tr>\n",
              "      <th>541198</th>\n",
              "      <td>581493</td>\n",
              "      <td>POST</td>\n",
              "      <td>POSTAGE</td>\n",
              "      <td>1</td>\n",
              "      <td>2011-12-09 10:10:00</td>\n",
              "      <td>15.0</td>\n",
              "      <td>12423</td>\n",
              "      <td>Belgium</td>\n",
              "    </tr>\n",
              "    <tr>\n",
              "      <th>541216</th>\n",
              "      <td>581494</td>\n",
              "      <td>POST</td>\n",
              "      <td>POSTAGE</td>\n",
              "      <td>2</td>\n",
              "      <td>2011-12-09 10:13:00</td>\n",
              "      <td>18.0</td>\n",
              "      <td>12518</td>\n",
              "      <td>Germany</td>\n",
              "    </tr>\n",
              "    <tr>\n",
              "      <th>541730</th>\n",
              "      <td>581570</td>\n",
              "      <td>POST</td>\n",
              "      <td>POSTAGE</td>\n",
              "      <td>1</td>\n",
              "      <td>2011-12-09 11:59:00</td>\n",
              "      <td>18.0</td>\n",
              "      <td>12662</td>\n",
              "      <td>Germany</td>\n",
              "    </tr>\n",
              "    <tr>\n",
              "      <th>541767</th>\n",
              "      <td>581574</td>\n",
              "      <td>POST</td>\n",
              "      <td>POSTAGE</td>\n",
              "      <td>2</td>\n",
              "      <td>2011-12-09 12:09:00</td>\n",
              "      <td>18.0</td>\n",
              "      <td>12526</td>\n",
              "      <td>Germany</td>\n",
              "    </tr>\n",
              "    <tr>\n",
              "      <th>541768</th>\n",
              "      <td>581578</td>\n",
              "      <td>POST</td>\n",
              "      <td>POSTAGE</td>\n",
              "      <td>3</td>\n",
              "      <td>2011-12-09 12:16:00</td>\n",
              "      <td>18.0</td>\n",
              "      <td>12713</td>\n",
              "      <td>Germany</td>\n",
              "    </tr>\n",
              "  </tbody>\n",
              "</table>\n",
              "<p>1126 rows × 8 columns</p>\n",
              "</div>"
            ]
          },
          "metadata": {},
          "execution_count": 69
        }
      ],
      "source": [
        "df[df['StockCode'] == 'POST']"
      ]
    },
    {
      "cell_type": "code",
      "execution_count": 70,
      "metadata": {
        "colab": {
          "base_uri": "https://localhost:8080/"
        },
        "id": "QK8465FXoSy2",
        "outputId": "1770c2e3-b523-4c15-f47c-5572a209d9c5"
      },
      "outputs": [
        {
          "output_type": "stream",
          "name": "stdout",
          "text": [
            "Se ha eliminado correctamente\n"
          ]
        }
      ],
      "source": [
        "df = df.drop(df[df['StockCode'] == 'POST'].index)\n",
        "if df[df['StockCode'] == 'POST'].shape[0] == 0:\n",
        "  print('Se ha eliminado correctamente')"
      ]
    },
    {
      "cell_type": "markdown",
      "metadata": {
        "id": "-9h9Jbso5RAT"
      },
      "source": [
        "Nos damos cuenta de que por lo general, el atributo `StockCode` es un código con números y a veces letras. No obstante, hay algunos registros con `StockCode` que no tienen forma de código, vamos a analizar esos casos."
      ]
    },
    {
      "cell_type": "markdown",
      "metadata": {
        "id": "IWYQPjKLEHUP"
      },
      "source": [
        "Veamos los `StockCode` que tienen longitud 1."
      ]
    },
    {
      "cell_type": "code",
      "execution_count": 71,
      "metadata": {
        "colab": {
          "base_uri": "https://localhost:8080/"
        },
        "id": "koWvrBXt_VPJ",
        "outputId": "7afac4ea-e447-4bee-b8c5-701a44b5fce3"
      },
      "outputs": [
        {
          "output_type": "stream",
          "name": "stdout",
          "text": [
            "['M', 'B', 'S', 'm']\n"
          ]
        }
      ],
      "source": [
        "# Convertir los valores de la columna 'StockCode' a cadenas de texto\n",
        "codigos = df['StockCode'].unique()\n",
        "codigos = codigos.astype(str)\n",
        "v = []\n",
        "for registro in codigos:\n",
        "  if len(registro) < 2:\n",
        "    v.append(registro)\n",
        "# Convertir el vector en un conjunto para eliminar los duplicados\n",
        "conjunto = set(v)\n",
        "\n",
        "# Convertir el conjunto de nuevo en una lista\n",
        "v= list(conjunto)\n",
        "print(v)"
      ]
    },
    {
      "cell_type": "markdown",
      "metadata": {
        "id": "-KqwN56NO5YL"
      },
      "source": [
        "Para analizarlos en base a sus descripciones:"
      ]
    },
    {
      "cell_type": "code",
      "execution_count": 72,
      "metadata": {
        "colab": {
          "base_uri": "https://localhost:8080/"
        },
        "id": "QOIzVBRhOEgT",
        "outputId": "9217444b-84d3-49d8-e331-5e6d0988511e"
      },
      "outputs": [
        {
          "output_type": "execute_result",
          "data": {
            "text/plain": [
              "StockCode\n",
              "B    [Adjust bad debt]\n",
              "M             [Manual]\n",
              "S            [SAMPLES]\n",
              "m             [Manual]\n",
              "Name: Description, dtype: object"
            ]
          },
          "metadata": {},
          "execution_count": 72
        }
      ],
      "source": [
        "# DataFrame vacío para almacenar los resultados\n",
        "df_concatenado = pd.DataFrame()\n",
        "for element in v:\n",
        "  df_concatenado = pd.concat([df[df['StockCode'] == element], df_concatenado])\n",
        "# Agrupamos por descripcion\n",
        "df_concatenado.groupby('StockCode')['Description'].unique()"
      ]
    },
    {
      "cell_type": "code",
      "execution_count": 73,
      "metadata": {
        "colab": {
          "base_uri": "https://localhost:8080/",
          "height": 112
        },
        "id": "_umDeu9XSB7z",
        "outputId": "d41faca8-c08a-462d-e9c0-60e89c74343c"
      },
      "outputs": [
        {
          "output_type": "execute_result",
          "data": {
            "text/plain": [
              "       InvoiceNo StockCode Description  Quantity         InvoiceDate  \\\n",
              "152709    549684         S     SAMPLES         1 2011-04-11 13:24:00   \n",
              "419666    572849         S     SAMPLES         1 2011-10-26 12:20:00   \n",
              "\n",
              "        UnitPrice  CustomerID         Country  \n",
              "152709      30.00       15287  United Kingdom  \n",
              "419666      33.05       15287  United Kingdom  "
            ],
            "text/html": [
              "<div>\n",
              "<style scoped>\n",
              "    .dataframe tbody tr th:only-of-type {\n",
              "        vertical-align: middle;\n",
              "    }\n",
              "\n",
              "    .dataframe tbody tr th {\n",
              "        vertical-align: top;\n",
              "    }\n",
              "\n",
              "    .dataframe thead th {\n",
              "        text-align: right;\n",
              "    }\n",
              "</style>\n",
              "<table border=\"1\" class=\"dataframe\">\n",
              "  <thead>\n",
              "    <tr style=\"text-align: right;\">\n",
              "      <th></th>\n",
              "      <th>InvoiceNo</th>\n",
              "      <th>StockCode</th>\n",
              "      <th>Description</th>\n",
              "      <th>Quantity</th>\n",
              "      <th>InvoiceDate</th>\n",
              "      <th>UnitPrice</th>\n",
              "      <th>CustomerID</th>\n",
              "      <th>Country</th>\n",
              "    </tr>\n",
              "  </thead>\n",
              "  <tbody>\n",
              "    <tr>\n",
              "      <th>152709</th>\n",
              "      <td>549684</td>\n",
              "      <td>S</td>\n",
              "      <td>SAMPLES</td>\n",
              "      <td>1</td>\n",
              "      <td>2011-04-11 13:24:00</td>\n",
              "      <td>30.00</td>\n",
              "      <td>15287</td>\n",
              "      <td>United Kingdom</td>\n",
              "    </tr>\n",
              "    <tr>\n",
              "      <th>419666</th>\n",
              "      <td>572849</td>\n",
              "      <td>S</td>\n",
              "      <td>SAMPLES</td>\n",
              "      <td>1</td>\n",
              "      <td>2011-10-26 12:20:00</td>\n",
              "      <td>33.05</td>\n",
              "      <td>15287</td>\n",
              "      <td>United Kingdom</td>\n",
              "    </tr>\n",
              "  </tbody>\n",
              "</table>\n",
              "</div>"
            ]
          },
          "metadata": {},
          "execution_count": 73
        }
      ],
      "source": [
        "df_concatenado[df_concatenado['StockCode'] == 'S'].head(3)"
      ]
    },
    {
      "cell_type": "code",
      "execution_count": 74,
      "metadata": {
        "colab": {
          "base_uri": "https://localhost:8080/",
          "height": 143
        },
        "id": "4ssFOzetRz-Z",
        "outputId": "a874c052-c4c9-4f00-f07a-75440b9bfdab"
      },
      "outputs": [
        {
          "output_type": "execute_result",
          "data": {
            "text/plain": [
              "     InvoiceNo StockCode Description  Quantity         InvoiceDate  UnitPrice  \\\n",
              "2239    536569         M      Manual         1 2010-12-01 15:35:00       1.25   \n",
              "2250    536569         M      Manual         1 2010-12-01 15:35:00      18.95   \n",
              "5684    536865         M      Manual         1 2010-12-03 11:28:00       2.55   \n",
              "\n",
              "      CustomerID         Country  \n",
              "2239       16274  United Kingdom  \n",
              "2250       16274  United Kingdom  \n",
              "5684       15287  United Kingdom  "
            ],
            "text/html": [
              "<div>\n",
              "<style scoped>\n",
              "    .dataframe tbody tr th:only-of-type {\n",
              "        vertical-align: middle;\n",
              "    }\n",
              "\n",
              "    .dataframe tbody tr th {\n",
              "        vertical-align: top;\n",
              "    }\n",
              "\n",
              "    .dataframe thead th {\n",
              "        text-align: right;\n",
              "    }\n",
              "</style>\n",
              "<table border=\"1\" class=\"dataframe\">\n",
              "  <thead>\n",
              "    <tr style=\"text-align: right;\">\n",
              "      <th></th>\n",
              "      <th>InvoiceNo</th>\n",
              "      <th>StockCode</th>\n",
              "      <th>Description</th>\n",
              "      <th>Quantity</th>\n",
              "      <th>InvoiceDate</th>\n",
              "      <th>UnitPrice</th>\n",
              "      <th>CustomerID</th>\n",
              "      <th>Country</th>\n",
              "    </tr>\n",
              "  </thead>\n",
              "  <tbody>\n",
              "    <tr>\n",
              "      <th>2239</th>\n",
              "      <td>536569</td>\n",
              "      <td>M</td>\n",
              "      <td>Manual</td>\n",
              "      <td>1</td>\n",
              "      <td>2010-12-01 15:35:00</td>\n",
              "      <td>1.25</td>\n",
              "      <td>16274</td>\n",
              "      <td>United Kingdom</td>\n",
              "    </tr>\n",
              "    <tr>\n",
              "      <th>2250</th>\n",
              "      <td>536569</td>\n",
              "      <td>M</td>\n",
              "      <td>Manual</td>\n",
              "      <td>1</td>\n",
              "      <td>2010-12-01 15:35:00</td>\n",
              "      <td>18.95</td>\n",
              "      <td>16274</td>\n",
              "      <td>United Kingdom</td>\n",
              "    </tr>\n",
              "    <tr>\n",
              "      <th>5684</th>\n",
              "      <td>536865</td>\n",
              "      <td>M</td>\n",
              "      <td>Manual</td>\n",
              "      <td>1</td>\n",
              "      <td>2010-12-03 11:28:00</td>\n",
              "      <td>2.55</td>\n",
              "      <td>15287</td>\n",
              "      <td>United Kingdom</td>\n",
              "    </tr>\n",
              "  </tbody>\n",
              "</table>\n",
              "</div>"
            ]
          },
          "metadata": {},
          "execution_count": 74
        }
      ],
      "source": [
        "df_concatenado[df_concatenado['StockCode'] == 'M'].head(3)"
      ]
    },
    {
      "cell_type": "markdown",
      "metadata": {
        "id": "N2VX10fDRed6"
      },
      "source": [
        "El `StockCode` con valor 'B' es un ajuste por lo que lo eliminamos, los demás son productos lícitos que tienen precios y cantidades normales."
      ]
    },
    {
      "cell_type": "code",
      "execution_count": 75,
      "metadata": {
        "id": "jX56dzehRvPk"
      },
      "outputs": [],
      "source": [
        "df = df.drop(df[df['StockCode'] == 'B'].index)"
      ]
    },
    {
      "cell_type": "markdown",
      "metadata": {
        "id": "twhAlDIvSJqf"
      },
      "source": [
        "\n",
        "\n",
        "---\n",
        "\n"
      ]
    },
    {
      "cell_type": "markdown",
      "metadata": {
        "id": "XSNBEkifkks1"
      },
      "source": [
        "Veamos tras la limpieza cómo han cambiado los NaN.\n",
        "- Con el dataset original:"
      ]
    },
    {
      "cell_type": "code",
      "execution_count": 76,
      "metadata": {
        "colab": {
          "base_uri": "https://localhost:8080/"
        },
        "id": "W-GoQ7NrkWPW",
        "outputId": "a1e5ee9b-a345-437e-aea7-6579f348ab68"
      },
      "outputs": [
        {
          "output_type": "execute_result",
          "data": {
            "text/plain": [
              "InvoiceNo         0\n",
              "StockCode         0\n",
              "Description    1454\n",
              "Quantity          0\n",
              "InvoiceDate       0\n",
              "UnitPrice         0\n",
              "CustomerID        0\n",
              "Country           0\n",
              "dtype: int64"
            ]
          },
          "metadata": {},
          "execution_count": 76
        }
      ],
      "source": [
        "ds.isna().sum()"
      ]
    },
    {
      "cell_type": "markdown",
      "metadata": {
        "id": "Djfe3gj8kq43"
      },
      "source": [
        "- Con el dataset limpiado:"
      ]
    },
    {
      "cell_type": "code",
      "execution_count": 77,
      "metadata": {
        "colab": {
          "base_uri": "https://localhost:8080/"
        },
        "id": "RF7BNZ5yjRqa",
        "outputId": "aa67db6d-03b2-4699-b754-864385f9a3f2"
      },
      "outputs": [
        {
          "output_type": "execute_result",
          "data": {
            "text/plain": [
              "InvoiceNo      0\n",
              "StockCode      0\n",
              "Description    0\n",
              "Quantity       0\n",
              "InvoiceDate    0\n",
              "UnitPrice      0\n",
              "CustomerID     0\n",
              "Country        0\n",
              "dtype: int64"
            ]
          },
          "metadata": {},
          "execution_count": 77
        }
      ],
      "source": [
        "df.isna().sum()"
      ]
    },
    {
      "cell_type": "markdown",
      "metadata": {
        "id": "0p47VIKKNC71"
      },
      "source": [
        "Tras la limpieza de la base de datos, no aparece ningún valor NaN."
      ]
    },
    {
      "cell_type": "markdown",
      "metadata": {
        "id": "mhX1teVUqvjH"
      },
      "source": [
        "###**Preparación para el algoritmo GSP**"
      ]
    },
    {
      "cell_type": "markdown",
      "metadata": {
        "id": "Co77xLbOYbb7"
      },
      "source": [
        "Creamos una copia del dataset limpio."
      ]
    },
    {
      "cell_type": "code",
      "execution_count": 78,
      "metadata": {
        "colab": {
          "base_uri": "https://localhost:8080/"
        },
        "id": "bNQ5_ks9X3zW",
        "outputId": "664c024d-0061-4aae-bec2-7bdf63fa14a3"
      },
      "outputs": [
        {
          "output_type": "execute_result",
          "data": {
            "text/plain": [
              "(1847896796960, 1847896798736)"
            ]
          },
          "metadata": {},
          "execution_count": 78
        }
      ],
      "source": [
        "ds = df.copy()\n",
        "id(df), id(ds)"
      ]
    },
    {
      "cell_type": "markdown",
      "source": [
        "Convertimos la columna *InvoiceDate* a tipo datetime para facilitar su manipulación."
      ],
      "metadata": {
        "id": "GVrMCvjEUDN9"
      }
    },
    {
      "cell_type": "code",
      "source": [
        "df['InvoiceDate'] = pd.to_datetime(df['InvoiceDate'])"
      ],
      "metadata": {
        "id": "TVVG0zjpJv7e"
      },
      "execution_count": 79,
      "outputs": []
    },
    {
      "cell_type": "markdown",
      "source": [
        "Ordenaomos el DataFrame por *CostumerID* e *InvoiceDate* para asegurar que las transacciones estén en orden cronológico para cada cliente"
      ],
      "metadata": {
        "id": "73YYI1qjUKfb"
      }
    },
    {
      "cell_type": "code",
      "source": [
        "df.sort_values(by=['CustomerID', 'InvoiceDate'], inplace=True)\n",
        "df.head(4)"
      ],
      "metadata": {
        "colab": {
          "base_uri": "https://localhost:8080/",
          "height": 175
        },
        "id": "1NrZMWS-J8Ow",
        "outputId": "db5853ff-300b-4ab9-ab5e-d8aa3ee360e2"
      },
      "execution_count": 80,
      "outputs": [
        {
          "output_type": "execute_result",
          "data": {
            "text/plain": [
              "      InvoiceNo StockCode                        Description  Quantity  \\\n",
              "61619    541431     23166     MEDIUM CERAMIC TOP STORAGE JAR     74215   \n",
              "14938    537626     85116    BLACK CANDELABRA T-LIGHT HOLDER        12   \n",
              "14939    537626     22375  AIRLINE BAG VINTAGE JET SET BROWN         4   \n",
              "14940    537626     71477  COLOUR GLASS. STAR T-LIGHT HOLDER        12   \n",
              "\n",
              "              InvoiceDate  UnitPrice  CustomerID         Country  \n",
              "61619 2011-01-18 10:01:00       1.04       12346  United Kingdom  \n",
              "14938 2010-12-07 14:57:00       2.10       12347         Iceland  \n",
              "14939 2010-12-07 14:57:00       4.25       12347         Iceland  \n",
              "14940 2010-12-07 14:57:00       3.25       12347         Iceland  "
            ],
            "text/html": [
              "<div>\n",
              "<style scoped>\n",
              "    .dataframe tbody tr th:only-of-type {\n",
              "        vertical-align: middle;\n",
              "    }\n",
              "\n",
              "    .dataframe tbody tr th {\n",
              "        vertical-align: top;\n",
              "    }\n",
              "\n",
              "    .dataframe thead th {\n",
              "        text-align: right;\n",
              "    }\n",
              "</style>\n",
              "<table border=\"1\" class=\"dataframe\">\n",
              "  <thead>\n",
              "    <tr style=\"text-align: right;\">\n",
              "      <th></th>\n",
              "      <th>InvoiceNo</th>\n",
              "      <th>StockCode</th>\n",
              "      <th>Description</th>\n",
              "      <th>Quantity</th>\n",
              "      <th>InvoiceDate</th>\n",
              "      <th>UnitPrice</th>\n",
              "      <th>CustomerID</th>\n",
              "      <th>Country</th>\n",
              "    </tr>\n",
              "  </thead>\n",
              "  <tbody>\n",
              "    <tr>\n",
              "      <th>61619</th>\n",
              "      <td>541431</td>\n",
              "      <td>23166</td>\n",
              "      <td>MEDIUM CERAMIC TOP STORAGE JAR</td>\n",
              "      <td>74215</td>\n",
              "      <td>2011-01-18 10:01:00</td>\n",
              "      <td>1.04</td>\n",
              "      <td>12346</td>\n",
              "      <td>United Kingdom</td>\n",
              "    </tr>\n",
              "    <tr>\n",
              "      <th>14938</th>\n",
              "      <td>537626</td>\n",
              "      <td>85116</td>\n",
              "      <td>BLACK CANDELABRA T-LIGHT HOLDER</td>\n",
              "      <td>12</td>\n",
              "      <td>2010-12-07 14:57:00</td>\n",
              "      <td>2.10</td>\n",
              "      <td>12347</td>\n",
              "      <td>Iceland</td>\n",
              "    </tr>\n",
              "    <tr>\n",
              "      <th>14939</th>\n",
              "      <td>537626</td>\n",
              "      <td>22375</td>\n",
              "      <td>AIRLINE BAG VINTAGE JET SET BROWN</td>\n",
              "      <td>4</td>\n",
              "      <td>2010-12-07 14:57:00</td>\n",
              "      <td>4.25</td>\n",
              "      <td>12347</td>\n",
              "      <td>Iceland</td>\n",
              "    </tr>\n",
              "    <tr>\n",
              "      <th>14940</th>\n",
              "      <td>537626</td>\n",
              "      <td>71477</td>\n",
              "      <td>COLOUR GLASS. STAR T-LIGHT HOLDER</td>\n",
              "      <td>12</td>\n",
              "      <td>2010-12-07 14:57:00</td>\n",
              "      <td>3.25</td>\n",
              "      <td>12347</td>\n",
              "      <td>Iceland</td>\n",
              "    </tr>\n",
              "  </tbody>\n",
              "</table>\n",
              "</div>"
            ]
          },
          "metadata": {},
          "execution_count": 80
        }
      ]
    },
    {
      "cell_type": "markdown",
      "source": [
        "Creamos una lista de transacciones para cada client.e"
      ],
      "metadata": {
        "id": "eaqXNAInUgIf"
      }
    },
    {
      "cell_type": "code",
      "source": [
        "transactions_by_customer = {}\n",
        "\n",
        "for _, row in df.iterrows():\n",
        "    customer_id = row['CustomerID']\n",
        "    transaction = {'InvoiceDate': row['InvoiceDate'], 'StockCode': row['StockCode'], 'Description': row['Description'],\n",
        "                   'Quantity': row['Quantity'], 'UnitPrice': row['UnitPrice'], 'Country': row['Country']}\n",
        "\n",
        "    if customer_id in transactions_by_customer:\n",
        "        transactions_by_customer[customer_id].append(transaction)\n",
        "    else:\n",
        "        transactions_by_customer[customer_id] = [transaction]"
      ],
      "metadata": {
        "id": "H6ySqFj9J8Hd"
      },
      "execution_count": 81,
      "outputs": []
    },
    {
      "cell_type": "markdown",
      "source": [
        "A continuación mostraremos las transacciones para cada cliente. Hemos decidido imprimirlo para ver la información de cada cliente."
      ],
      "metadata": {
        "id": "YtmmCLbjUl7R"
      }
    },
    {
      "cell_type": "code",
      "source": [
        "# Mostrar las transacciones para cada cliente\n",
        "i = 0\n",
        "for customer_id, transactions in transactions_by_customer.items():\n",
        "    i= i+1\n",
        "    if i > 3:\n",
        "      break\n",
        "    print(\"Cliente:\", customer_id)\n",
        "    for transaction in transactions:\n",
        "        print(\"Fecha de factura:\", transaction['InvoiceDate'], \"| Código de artículo:\", transaction['StockCode'],\n",
        "              \"| Descripción:\", transaction['Description'], \"| Cantidad:\", transaction['Quantity'],\n",
        "              \"| Precio unitario:\", transaction['UnitPrice'], \"| País:\", transaction['Country'])\n",
        "    print(\"Total de transacciones:\", len(transactions))\n",
        "    print(\"-\" * 50)"
      ],
      "metadata": {
        "colab": {
          "base_uri": "https://localhost:8080/"
        },
        "id": "H8qxYkOHJ8A0",
        "outputId": "57b63d68-3fc7-40dc-f42d-8f54f4f4563d"
      },
      "execution_count": 82,
      "outputs": [
        {
          "output_type": "stream",
          "name": "stdout",
          "text": [
            "Cliente: 12346\n",
            "Fecha de factura: 2011-01-18 10:01:00 | Código de artículo: 23166 | Descripción: MEDIUM CERAMIC TOP STORAGE JAR | Cantidad: 74215 | Precio unitario: 1.04 | País: United Kingdom\n",
            "Total de transacciones: 1\n",
            "--------------------------------------------------\n",
            "Cliente: 12347\n",
            "Fecha de factura: 2010-12-07 14:57:00 | Código de artículo: 85116 | Descripción: BLACK CANDELABRA T-LIGHT HOLDER | Cantidad: 12 | Precio unitario: 2.1 | País: Iceland\n",
            "Fecha de factura: 2010-12-07 14:57:00 | Código de artículo: 22375 | Descripción: AIRLINE BAG VINTAGE JET SET BROWN | Cantidad: 4 | Precio unitario: 4.25 | País: Iceland\n",
            "Fecha de factura: 2010-12-07 14:57:00 | Código de artículo: 71477 | Descripción: COLOUR GLASS. STAR T-LIGHT HOLDER | Cantidad: 12 | Precio unitario: 3.25 | País: Iceland\n",
            "Fecha de factura: 2010-12-07 14:57:00 | Código de artículo: 22492 | Descripción: MINI PAINT SET VINTAGE  | Cantidad: 36 | Precio unitario: 0.65 | País: Iceland\n",
            "Fecha de factura: 2010-12-07 14:57:00 | Código de artículo: 22771 | Descripción: CLEAR DRAWER KNOB ACRYLIC EDWARDIAN | Cantidad: 12 | Precio unitario: 1.25 | País: Iceland\n",
            "Fecha de factura: 2010-12-07 14:57:00 | Código de artículo: 22772 | Descripción: PINK DRAWER KNOB ACRYLIC EDWARDIAN | Cantidad: 12 | Precio unitario: 1.25 | País: Iceland\n",
            "Fecha de factura: 2010-12-07 14:57:00 | Código de artículo: 22773 | Descripción: GREEN DRAWER KNOB ACRYLIC EDWARDIAN | Cantidad: 12 | Precio unitario: 1.25 | País: Iceland\n",
            "Fecha de factura: 2010-12-07 14:57:00 | Código de artículo: 22774 | Descripción: RED DRAWER KNOB ACRYLIC EDWARDIAN | Cantidad: 12 | Precio unitario: 1.25 | País: Iceland\n",
            "Fecha de factura: 2010-12-07 14:57:00 | Código de artículo: 22775 | Descripción: PURPLE DRAWERKNOB ACRYLIC EDWARDIAN | Cantidad: 12 | Precio unitario: 1.25 | País: Iceland\n",
            "Fecha de factura: 2010-12-07 14:57:00 | Código de artículo: 22805 | Descripción: BLUE DRAWER KNOB ACRYLIC EDWARDIAN | Cantidad: 12 | Precio unitario: 1.25 | País: Iceland\n",
            "Fecha de factura: 2010-12-07 14:57:00 | Código de artículo: 22725 | Descripción: ALARM CLOCK BAKELIKE CHOCOLATE | Cantidad: 4 | Precio unitario: 3.75 | País: Iceland\n",
            "Fecha de factura: 2010-12-07 14:57:00 | Código de artículo: 22726 | Descripción: ALARM CLOCK BAKELIKE GREEN | Cantidad: 4 | Precio unitario: 3.75 | País: Iceland\n",
            "Fecha de factura: 2010-12-07 14:57:00 | Código de artículo: 22727 | Descripción: ALARM CLOCK BAKELIKE RED  | Cantidad: 4 | Precio unitario: 3.75 | País: Iceland\n",
            "Fecha de factura: 2010-12-07 14:57:00 | Código de artículo: 22728 | Descripción: ALARM CLOCK BAKELIKE PINK | Cantidad: 4 | Precio unitario: 3.75 | País: Iceland\n",
            "Fecha de factura: 2010-12-07 14:57:00 | Código de artículo: 22729 | Descripción: ALARM CLOCK BAKELIKE ORANGE | Cantidad: 4 | Precio unitario: 3.75 | País: Iceland\n",
            "Fecha de factura: 2010-12-07 14:57:00 | Código de artículo: 22212 | Descripción: FOUR HOOK  WHITE LOVEBIRDS | Cantidad: 6 | Precio unitario: 2.1 | País: Iceland\n",
            "Fecha de factura: 2010-12-07 14:57:00 | Código de artículo: 85167B | Descripción: BLACK GRAND BAROQUE PHOTO FRAME | Cantidad: 30 | Precio unitario: 1.25 | País: Iceland\n",
            "Fecha de factura: 2010-12-07 14:57:00 | Código de artículo: 21171 | Descripción: BATHROOM METAL SIGN  | Cantidad: 12 | Precio unitario: 1.45 | País: Iceland\n",
            "Fecha de factura: 2010-12-07 14:57:00 | Código de artículo: 22195 | Descripción: LARGE HEART MEASURING SPOONS | Cantidad: 12 | Precio unitario: 1.65 | País: Iceland\n",
            "Fecha de factura: 2010-12-07 14:57:00 | Código de artículo: 84969 | Descripción: BOX OF 6 ASSORTED COLOUR TEASPOONS | Cantidad: 6 | Precio unitario: 4.25 | País: Iceland\n",
            "Fecha de factura: 2010-12-07 14:57:00 | Código de artículo: 84997C | Descripción: BLUE 3 PIECE POLKADOT CUTLERY SET | Cantidad: 6 | Precio unitario: 3.75 | País: Iceland\n",
            "Fecha de factura: 2010-12-07 14:57:00 | Código de artículo: 84997B | Descripción: RED 3 PIECE RETROSPOT CUTLERY SET | Cantidad: 6 | Precio unitario: 3.75 | País: Iceland\n",
            "Fecha de factura: 2010-12-07 14:57:00 | Código de artículo: 84997D | Descripción: PINK 3 PIECE POLKADOT CUTLERY SET | Cantidad: 6 | Precio unitario: 3.75 | País: Iceland\n",
            "Fecha de factura: 2010-12-07 14:57:00 | Código de artículo: 22494 | Descripción: EMERGENCY FIRST AID TIN  | Cantidad: 12 | Precio unitario: 1.25 | País: Iceland\n",
            "Fecha de factura: 2010-12-07 14:57:00 | Código de artículo: 22497 | Descripción: SET OF 2 TINS VINTAGE BATHROOM  | Cantidad: 4 | Precio unitario: 4.25 | País: Iceland\n",
            "Fecha de factura: 2010-12-07 14:57:00 | Código de artículo: 85232D | Descripción: SET/3 DECOUPAGE STACKING TINS | Cantidad: 3 | Precio unitario: 4.95 | País: Iceland\n",
            "Fecha de factura: 2010-12-07 14:57:00 | Código de artículo: 21064 | Descripción: BOOM BOX SPEAKER BOYS | Cantidad: 6 | Precio unitario: 5.95 | País: Iceland\n",
            "Fecha de factura: 2010-12-07 14:57:00 | Código de artículo: 21731 | Descripción: RED TOADSTOOL LED NIGHT LIGHT | Cantidad: 12 | Precio unitario: 1.65 | País: Iceland\n",
            "Fecha de factura: 2010-12-07 14:57:00 | Código de artículo: 84558A | Descripción: 3D DOG PICTURE PLAYING CARDS | Cantidad: 24 | Precio unitario: 2.95 | País: Iceland\n",
            "Fecha de factura: 2010-12-07 14:57:00 | Código de artículo: 20780 | Descripción: BLACK EAR MUFF HEADPHONES | Cantidad: 12 | Precio unitario: 4.65 | País: Iceland\n",
            "Fecha de factura: 2010-12-07 14:57:00 | Código de artículo: 20782 | Descripción: CAMOUFLAGE EAR MUFF HEADPHONES | Cantidad: 6 | Precio unitario: 5.49 | País: Iceland\n",
            "Fecha de factura: 2011-01-26 14:30:00 | Código de artículo: 84625A | Descripción: PINK NEW BAROQUECANDLESTICK CANDLE | Cantidad: 24 | Precio unitario: 0.85 | País: Iceland\n",
            "Fecha de factura: 2011-01-26 14:30:00 | Código de artículo: 84625C | Descripción: BLUE NEW BAROQUE CANDLESTICK CANDLE | Cantidad: 24 | Precio unitario: 0.85 | País: Iceland\n",
            "Fecha de factura: 2011-01-26 14:30:00 | Código de artículo: 85116 | Descripción: BLACK CANDELABRA T-LIGHT HOLDER | Cantidad: 6 | Precio unitario: 2.1 | País: Iceland\n",
            "Fecha de factura: 2011-01-26 14:30:00 | Código de artículo: 20719 | Descripción: WOODLAND CHARLOTTE BAG | Cantidad: 10 | Precio unitario: 0.85 | País: Iceland\n",
            "Fecha de factura: 2011-01-26 14:30:00 | Código de artículo: 22375 | Descripción: AIRLINE BAG VINTAGE JET SET BROWN | Cantidad: 4 | Precio unitario: 4.25 | País: Iceland\n",
            "Fecha de factura: 2011-01-26 14:30:00 | Código de artículo: 22376 | Descripción: AIRLINE BAG VINTAGE JET SET WHITE | Cantidad: 4 | Precio unitario: 4.25 | País: Iceland\n",
            "Fecha de factura: 2011-01-26 14:30:00 | Código de artículo: 20966 | Descripción: SANDWICH BATH SPONGE | Cantidad: 10 | Precio unitario: 1.25 | País: Iceland\n",
            "Fecha de factura: 2011-01-26 14:30:00 | Código de artículo: 22725 | Descripción: ALARM CLOCK BAKELIKE CHOCOLATE | Cantidad: 4 | Precio unitario: 3.75 | País: Iceland\n",
            "Fecha de factura: 2011-01-26 14:30:00 | Código de artículo: 22726 | Descripción: ALARM CLOCK BAKELIKE GREEN | Cantidad: 4 | Precio unitario: 3.75 | País: Iceland\n",
            "Fecha de factura: 2011-01-26 14:30:00 | Código de artículo: 22727 | Descripción: ALARM CLOCK BAKELIKE RED  | Cantidad: 4 | Precio unitario: 3.75 | País: Iceland\n",
            "Fecha de factura: 2011-01-26 14:30:00 | Código de artículo: 22728 | Descripción: ALARM CLOCK BAKELIKE PINK | Cantidad: 4 | Precio unitario: 3.75 | País: Iceland\n",
            "Fecha de factura: 2011-01-26 14:30:00 | Código de artículo: 22729 | Descripción: ALARM CLOCK BAKELIKE ORANGE | Cantidad: 4 | Precio unitario: 3.75 | País: Iceland\n",
            "Fecha de factura: 2011-01-26 14:30:00 | Código de artículo: 22196 | Descripción: SMALL HEART MEASURING SPOONS | Cantidad: 12 | Precio unitario: 0.85 | País: Iceland\n",
            "Fecha de factura: 2011-01-26 14:30:00 | Código de artículo: 84992 | Descripción: 72 SWEETHEART FAIRY CAKE CASES | Cantidad: 24 | Precio unitario: 0.55 | País: Iceland\n",
            "Fecha de factura: 2011-01-26 14:30:00 | Código de artículo: 84991 | Descripción: 60 TEATIME FAIRY CAKE CASES | Cantidad: 24 | Precio unitario: 0.55 | País: Iceland\n",
            "Fecha de factura: 2011-01-26 14:30:00 | Código de artículo: 21976 | Descripción: PACK OF 60 MUSHROOM CAKE CASES | Cantidad: 24 | Precio unitario: 0.55 | País: Iceland\n",
            "Fecha de factura: 2011-01-26 14:30:00 | Código de artículo: 22417 | Descripción: PACK OF 60 SPACEBOY CAKE CASES | Cantidad: 24 | Precio unitario: 0.55 | País: Iceland\n",
            "Fecha de factura: 2011-01-26 14:30:00 | Código de artículo: 47559B | Descripción: TEA TIME OVEN GLOVE | Cantidad: 10 | Precio unitario: 1.25 | País: Iceland\n",
            "Fecha de factura: 2011-01-26 14:30:00 | Código de artículo: 21154 | Descripción: RED RETROSPOT OVEN GLOVE  | Cantidad: 10 | Precio unitario: 1.25 | País: Iceland\n",
            "Fecha de factura: 2011-01-26 14:30:00 | Código de artículo: 21041 | Descripción: RED RETROSPOT OVEN GLOVE DOUBLE | Cantidad: 6 | Precio unitario: 2.95 | País: Iceland\n",
            "Fecha de factura: 2011-01-26 14:30:00 | Código de artículo: 21035 | Descripción: SET/2 RED RETROSPOT TEA TOWELS  | Cantidad: 6 | Precio unitario: 2.95 | País: Iceland\n",
            "Fecha de factura: 2011-01-26 14:30:00 | Código de artículo: 22423 | Descripción: REGENCY CAKESTAND 3 TIER | Cantidad: 3 | Precio unitario: 12.75 | País: Iceland\n",
            "Fecha de factura: 2011-01-26 14:30:00 | Código de artículo: 84969 | Descripción: BOX OF 6 ASSORTED COLOUR TEASPOONS | Cantidad: 6 | Precio unitario: 4.25 | País: Iceland\n",
            "Fecha de factura: 2011-01-26 14:30:00 | Código de artículo: 22134 | Descripción: MINI LADLE LOVE HEART RED  | Cantidad: 12 | Precio unitario: 0.42 | País: Iceland\n",
            "Fecha de factura: 2011-01-26 14:30:00 | Código de artículo: 21832 | Descripción: CHOCOLATE CALCULATOR | Cantidad: 12 | Precio unitario: 1.65 | País: Iceland\n",
            "Fecha de factura: 2011-01-26 14:30:00 | Código de artículo: 22422 | Descripción: TOOTHPASTE TUBE PEN | Cantidad: 12 | Precio unitario: 0.65 | País: Iceland\n",
            "Fecha de factura: 2011-01-26 14:30:00 | Código de artículo: 22497 | Descripción: SET OF 2 TINS VINTAGE BATHROOM  | Cantidad: 4 | Precio unitario: 4.25 | País: Iceland\n",
            "Fecha de factura: 2011-01-26 14:30:00 | Código de artículo: 21731 | Descripción: RED TOADSTOOL LED NIGHT LIGHT | Cantidad: 12 | Precio unitario: 1.65 | País: Iceland\n",
            "Fecha de factura: 2011-01-26 14:30:00 | Código de artículo: 84558A | Descripción: 3D DOG PICTURE PLAYING CARDS | Cantidad: 12 | Precio unitario: 2.95 | País: Iceland\n",
            "Fecha de factura: 2011-04-07 10:43:00 | Código de artículo: 22376 | Descripción: AIRLINE BAG VINTAGE JET SET WHITE | Cantidad: 4 | Precio unitario: 4.25 | País: Iceland\n",
            "Fecha de factura: 2011-04-07 10:43:00 | Código de artículo: 22374 | Descripción: AIRLINE BAG VINTAGE JET SET RED | Cantidad: 4 | Precio unitario: 4.25 | País: Iceland\n",
            "Fecha de factura: 2011-04-07 10:43:00 | Código de artículo: 22371 | Descripción: AIRLINE BAG VINTAGE TOKYO 78 | Cantidad: 4 | Precio unitario: 4.25 | País: Iceland\n",
            "Fecha de factura: 2011-04-07 10:43:00 | Código de artículo: 22375 | Descripción: AIRLINE BAG VINTAGE JET SET BROWN | Cantidad: 4 | Precio unitario: 4.25 | País: Iceland\n",
            "Fecha de factura: 2011-04-07 10:43:00 | Código de artículo: 20665 | Descripción: RED RETROSPOT PURSE  | Cantidad: 6 | Precio unitario: 2.95 | País: Iceland\n",
            "Fecha de factura: 2011-04-07 10:43:00 | Código de artículo: 23076 | Descripción: ICE CREAM SUNDAE LIP GLOSS | Cantidad: 240 | Precio unitario: 1.04 | País: Iceland\n",
            "Fecha de factura: 2011-04-07 10:43:00 | Código de artículo: 21791 | Descripción: VINTAGE HEADS AND TAILS CARD GAME  | Cantidad: 12 | Precio unitario: 1.25 | País: Iceland\n",
            "Fecha de factura: 2011-04-07 10:43:00 | Código de artículo: 22550 | Descripción: HOLIDAY FUN LUDO | Cantidad: 8 | Precio unitario: 3.75 | País: Iceland\n",
            "Fecha de factura: 2011-04-07 10:43:00 | Código de artículo: 23177 | Descripción: TREASURE ISLAND BOOK BOX | Cantidad: 8 | Precio unitario: 2.25 | País: Iceland\n",
            "Fecha de factura: 2011-04-07 10:43:00 | Código de artículo: 22432 | Descripción: WATERING CAN PINK BUNNY | Cantidad: 6 | Precio unitario: 1.95 | País: Iceland\n",
            "Fecha de factura: 2011-04-07 10:43:00 | Código de artículo: 22774 | Descripción: RED DRAWER KNOB ACRYLIC EDWARDIAN | Cantidad: 12 | Precio unitario: 1.25 | País: Iceland\n",
            "Fecha de factura: 2011-04-07 10:43:00 | Código de artículo: 22195 | Descripción: LARGE HEART MEASURING SPOONS | Cantidad: 12 | Precio unitario: 1.65 | País: Iceland\n",
            "Fecha de factura: 2011-04-07 10:43:00 | Código de artículo: 22196 | Descripción: SMALL HEART MEASURING SPOONS | Cantidad: 12 | Precio unitario: 0.85 | País: Iceland\n",
            "Fecha de factura: 2011-04-07 10:43:00 | Código de artículo: 21975 | Descripción: PACK OF 60 DINOSAUR CAKE CASES | Cantidad: 24 | Precio unitario: 0.55 | País: Iceland\n",
            "Fecha de factura: 2011-04-07 10:43:00 | Código de artículo: 21041 | Descripción: RED RETROSPOT OVEN GLOVE DOUBLE | Cantidad: 6 | Precio unitario: 2.95 | País: Iceland\n",
            "Fecha de factura: 2011-04-07 10:43:00 | Código de artículo: 22423 | Descripción: REGENCY CAKESTAND 3 TIER | Cantidad: 3 | Precio unitario: 12.75 | País: Iceland\n",
            "Fecha de factura: 2011-04-07 10:43:00 | Código de artículo: 22699 | Descripción: ROSES REGENCY TEACUP AND SAUCER  | Cantidad: 6 | Precio unitario: 2.95 | País: Iceland\n",
            "Fecha de factura: 2011-04-07 10:43:00 | Código de artículo: 21731 | Descripción: RED TOADSTOOL LED NIGHT LIGHT | Cantidad: 12 | Precio unitario: 1.65 | País: Iceland\n",
            "Fecha de factura: 2011-04-07 10:43:00 | Código de artículo: 22492 | Descripción: MINI PAINT SET VINTAGE  | Cantidad: 36 | Precio unitario: 0.65 | País: Iceland\n",
            "Fecha de factura: 2011-04-07 10:43:00 | Código de artículo: 84559A | Descripción: 3D SHEET OF DOG STICKERS | Cantidad: 12 | Precio unitario: 0.85 | País: Iceland\n",
            "Fecha de factura: 2011-04-07 10:43:00 | Código de artículo: 84559B | Descripción: 3D SHEET OF CAT STICKERS | Cantidad: 12 | Precio unitario: 0.85 | País: Iceland\n",
            "Fecha de factura: 2011-04-07 10:43:00 | Código de artículo: 16008 | Descripción: SMALL FOLDING SCISSOR(POINTED EDGE) | Cantidad: 24 | Precio unitario: 0.25 | País: Iceland\n",
            "Fecha de factura: 2011-04-07 10:43:00 | Código de artículo: 22821 | Descripción: GIFT BAG PSYCHEDELIC APPLES | Cantidad: 12 | Precio unitario: 0.65 | País: Iceland\n",
            "Fecha de factura: 2011-04-07 10:43:00 | Código de artículo: 22497 | Descripción: SET OF 2 TINS VINTAGE BATHROOM  | Cantidad: 4 | Precio unitario: 4.25 | País: Iceland\n",
            "Fecha de factura: 2011-06-09 13:01:00 | Código de artículo: 23084 | Descripción: RABBIT NIGHT LIGHT | Cantidad: 12 | Precio unitario: 2.08 | País: Iceland\n",
            "Fecha de factura: 2011-06-09 13:01:00 | Código de artículo: 23162 | Descripción: REGENCY TEA STRAINER | Cantidad: 8 | Precio unitario: 3.75 | País: Iceland\n",
            "Fecha de factura: 2011-06-09 13:01:00 | Código de artículo: 23171 | Descripción: REGENCY TEA PLATE GREEN  | Cantidad: 12 | Precio unitario: 1.65 | País: Iceland\n",
            "Fecha de factura: 2011-06-09 13:01:00 | Código de artículo: 23172 | Descripción: REGENCY TEA PLATE PINK | Cantidad: 12 | Precio unitario: 1.65 | País: Iceland\n",
            "Fecha de factura: 2011-06-09 13:01:00 | Código de artículo: 23170 | Descripción: REGENCY TEA PLATE ROSES  | Cantidad: 12 | Precio unitario: 1.65 | País: Iceland\n",
            "Fecha de factura: 2011-06-09 13:01:00 | Código de artículo: 23173 | Descripción: REGENCY TEAPOT ROSES  | Cantidad: 2 | Precio unitario: 9.95 | País: Iceland\n",
            "Fecha de factura: 2011-06-09 13:01:00 | Código de artículo: 23174 | Descripción: REGENCY SUGAR BOWL GREEN | Cantidad: 4 | Precio unitario: 4.15 | País: Iceland\n",
            "Fecha de factura: 2011-06-09 13:01:00 | Código de artículo: 23175 | Descripción: REGENCY MILK JUG PINK  | Cantidad: 4 | Precio unitario: 3.25 | País: Iceland\n",
            "Fecha de factura: 2011-06-09 13:01:00 | Código de artículo: 22371 | Descripción: AIRLINE BAG VINTAGE TOKYO 78 | Cantidad: 8 | Precio unitario: 4.25 | País: Iceland\n",
            "Fecha de factura: 2011-06-09 13:01:00 | Código de artículo: 22375 | Descripción: AIRLINE BAG VINTAGE JET SET BROWN | Cantidad: 4 | Precio unitario: 4.25 | País: Iceland\n",
            "Fecha de factura: 2011-06-09 13:01:00 | Código de artículo: 85178 | Descripción: VICTORIAN SEWING KIT | Cantidad: 12 | Precio unitario: 1.25 | País: Iceland\n",
            "Fecha de factura: 2011-06-09 13:01:00 | Código de artículo: 17021 | Descripción: NAMASTE SWAGAT INCENSE | Cantidad: 36 | Precio unitario: 0.3 | País: Iceland\n",
            "Fecha de factura: 2011-06-09 13:01:00 | Código de artículo: 23146 | Descripción: TRIPLE HOOK ANTIQUE IVORY ROSE | Cantidad: 4 | Precio unitario: 3.29 | País: Iceland\n",
            "Fecha de factura: 2011-06-09 13:01:00 | Código de artículo: 22196 | Descripción: SMALL HEART MEASURING SPOONS | Cantidad: 24 | Precio unitario: 0.85 | País: Iceland\n",
            "Fecha de factura: 2011-06-09 13:01:00 | Código de artículo: 84558A | Descripción: 3D DOG PICTURE PLAYING CARDS | Cantidad: 18 | Precio unitario: 2.95 | País: Iceland\n",
            "Fecha de factura: 2011-06-09 13:01:00 | Código de artículo: 51014C | Descripción: FEATHER PEN,COAL BLACK | Cantidad: 12 | Precio unitario: 0.85 | País: Iceland\n",
            "Fecha de factura: 2011-06-09 13:01:00 | Código de artículo: 22727 | Descripción: ALARM CLOCK BAKELIKE RED  | Cantidad: 8 | Precio unitario: 3.75 | País: Iceland\n",
            "Fecha de factura: 2011-06-09 13:01:00 | Código de artículo: 22725 | Descripción: ALARM CLOCK BAKELIKE CHOCOLATE | Cantidad: 4 | Precio unitario: 3.75 | País: Iceland\n",
            "Fecha de factura: 2011-08-02 08:48:00 | Código de artículo: 23308 | Descripción: SET OF 60 VINTAGE LEAF CAKE CASES  | Cantidad: 24 | Precio unitario: 0.55 | País: Iceland\n",
            "Fecha de factura: 2011-08-02 08:48:00 | Código de artículo: 23297 | Descripción: SET 40 HEART SHAPE PETIT FOUR CASES | Cantidad: 16 | Precio unitario: 1.65 | País: Iceland\n",
            "Fecha de factura: 2011-08-02 08:48:00 | Código de artículo: 22375 | Descripción: AIRLINE BAG VINTAGE JET SET BROWN | Cantidad: 4 | Precio unitario: 4.25 | País: Iceland\n",
            "Fecha de factura: 2011-08-02 08:48:00 | Código de artículo: 22374 | Descripción: AIRLINE BAG VINTAGE JET SET RED | Cantidad: 4 | Precio unitario: 4.25 | País: Iceland\n",
            "Fecha de factura: 2011-08-02 08:48:00 | Código de artículo: 22376 | Descripción: AIRLINE BAG VINTAGE JET SET WHITE | Cantidad: 4 | Precio unitario: 4.25 | País: Iceland\n",
            "Fecha de factura: 2011-08-02 08:48:00 | Código de artículo: 22371 | Descripción: AIRLINE BAG VINTAGE TOKYO 78 | Cantidad: 8 | Precio unitario: 4.25 | País: Iceland\n",
            "Fecha de factura: 2011-08-02 08:48:00 | Código de artículo: 22372 | Descripción: AIRLINE BAG VINTAGE WORLD CHAMPION  | Cantidad: 4 | Precio unitario: 4.25 | País: Iceland\n",
            "Fecha de factura: 2011-08-02 08:48:00 | Código de artículo: 21578 | Descripción: WOODLAND DESIGN  COTTON TOTE BAG | Cantidad: 6 | Precio unitario: 2.25 | País: Iceland\n",
            "Fecha de factura: 2011-08-02 08:48:00 | Código de artículo: 20719 | Descripción: WOODLAND CHARLOTTE BAG | Cantidad: 10 | Precio unitario: 0.85 | País: Iceland\n",
            "Fecha de factura: 2011-08-02 08:48:00 | Código de artículo: 22727 | Descripción: ALARM CLOCK BAKELIKE RED  | Cantidad: 8 | Precio unitario: 3.75 | País: Iceland\n",
            "Fecha de factura: 2011-08-02 08:48:00 | Código de artículo: 23146 | Descripción: TRIPLE HOOK ANTIQUE IVORY ROSE | Cantidad: 4 | Precio unitario: 3.29 | País: Iceland\n",
            "Fecha de factura: 2011-08-02 08:48:00 | Código de artículo: 23147 | Descripción: SINGLE ANTIQUE ROSE HOOK IVORY | Cantidad: 12 | Precio unitario: 1.45 | País: Iceland\n",
            "Fecha de factura: 2011-08-02 08:48:00 | Código de artículo: 47559B | Descripción: TEA TIME OVEN GLOVE | Cantidad: 10 | Precio unitario: 1.25 | País: Iceland\n",
            "Fecha de factura: 2011-08-02 08:48:00 | Código de artículo: 84992 | Descripción: 72 SWEETHEART FAIRY CAKE CASES | Cantidad: 24 | Precio unitario: 0.55 | País: Iceland\n",
            "Fecha de factura: 2011-08-02 08:48:00 | Código de artículo: 84991 | Descripción: 60 TEATIME FAIRY CAKE CASES | Cantidad: 24 | Precio unitario: 0.55 | País: Iceland\n",
            "Fecha de factura: 2011-08-02 08:48:00 | Código de artículo: 21975 | Descripción: PACK OF 60 DINOSAUR CAKE CASES | Cantidad: 24 | Precio unitario: 0.55 | País: Iceland\n",
            "Fecha de factura: 2011-08-02 08:48:00 | Código de artículo: 22423 | Descripción: REGENCY CAKESTAND 3 TIER | Cantidad: 3 | Precio unitario: 12.75 | País: Iceland\n",
            "Fecha de factura: 2011-08-02 08:48:00 | Código de artículo: 23175 | Descripción: REGENCY MILK JUG PINK  | Cantidad: 4 | Precio unitario: 3.25 | País: Iceland\n",
            "Fecha de factura: 2011-08-02 08:48:00 | Código de artículo: 84558A | Descripción: 3D DOG PICTURE PLAYING CARDS | Cantidad: 36 | Precio unitario: 2.95 | País: Iceland\n",
            "Fecha de factura: 2011-08-02 08:48:00 | Código de artículo: 22992 | Descripción: REVOLVER WOODEN RULER  | Cantidad: 12 | Precio unitario: 1.95 | País: Iceland\n",
            "Fecha de factura: 2011-08-02 08:48:00 | Código de artículo: 21791 | Descripción: VINTAGE HEADS AND TAILS CARD GAME  | Cantidad: 24 | Precio unitario: 1.25 | País: Iceland\n",
            "Fecha de factura: 2011-08-02 08:48:00 | Código de artículo: 23316 | Descripción: RED REFECTORY CLOCK  | Cantidad: 12 | Precio unitario: 8.15 | País: Iceland\n",
            "Fecha de factura: 2011-10-31 12:25:00 | Código de artículo: 23480 | Descripción: MINI LIGHTS WOODLAND MUSHROOMS | Cantidad: 12 | Precio unitario: 3.75 | País: Iceland\n",
            "Fecha de factura: 2011-10-31 12:25:00 | Código de artículo: 21265 | Descripción: PINK GOOSE FEATHER TREE 60CM | Cantidad: 12 | Precio unitario: 1.95 | País: Iceland\n",
            "Fecha de factura: 2011-10-31 12:25:00 | Código de artículo: 21636 | Descripción: MADRAS NOTEBOOK MEDIUM | Cantidad: 12 | Precio unitario: 0.75 | País: Iceland\n",
            "Fecha de factura: 2011-10-31 12:25:00 | Código de artículo: 22372 | Descripción: AIRLINE BAG VINTAGE WORLD CHAMPION  | Cantidad: 4 | Precio unitario: 4.25 | País: Iceland\n",
            "Fecha de factura: 2011-10-31 12:25:00 | Código de artículo: 22375 | Descripción: AIRLINE BAG VINTAGE JET SET BROWN | Cantidad: 8 | Precio unitario: 4.25 | País: Iceland\n",
            "Fecha de factura: 2011-10-31 12:25:00 | Código de artículo: 22371 | Descripción: AIRLINE BAG VINTAGE TOKYO 78 | Cantidad: 12 | Precio unitario: 3.95 | País: Iceland\n",
            "Fecha de factura: 2011-10-31 12:25:00 | Código de artículo: 22374 | Descripción: AIRLINE BAG VINTAGE JET SET RED | Cantidad: 8 | Precio unitario: 4.25 | País: Iceland\n",
            "Fecha de factura: 2011-10-31 12:25:00 | Código de artículo: 22252 | Descripción: BIRDCAGE DECORATION TEALIGHT HOLDER | Cantidad: 12 | Precio unitario: 1.25 | País: Iceland\n",
            "Fecha de factura: 2011-10-31 12:25:00 | Código de artículo: 22945 | Descripción: CHRISTMAS METAL TAGS ASSORTED  | Cantidad: 12 | Precio unitario: 0.85 | País: Iceland\n",
            "Fecha de factura: 2011-10-31 12:25:00 | Código de artículo: 22423 | Descripción: REGENCY CAKESTAND 3 TIER | Cantidad: 6 | Precio unitario: 12.75 | País: Iceland\n",
            "Fecha de factura: 2011-10-31 12:25:00 | Código de artículo: 23173 | Descripción: REGENCY TEAPOT ROSES  | Cantidad: 2 | Precio unitario: 9.95 | País: Iceland\n",
            "Fecha de factura: 2011-10-31 12:25:00 | Código de artículo: 47580 | Descripción: TEA TIME DES TEA COSY | Cantidad: 6 | Precio unitario: 2.55 | País: Iceland\n",
            "Fecha de factura: 2011-10-31 12:25:00 | Código de artículo: 47567B | Descripción: TEA TIME KITCHEN APRON | Cantidad: 6 | Precio unitario: 5.95 | País: Iceland\n",
            "Fecha de factura: 2011-10-31 12:25:00 | Código de artículo: 47559B | Descripción: TEA TIME OVEN GLOVE | Cantidad: 10 | Precio unitario: 1.25 | País: Iceland\n",
            "Fecha de factura: 2011-10-31 12:25:00 | Código de artículo: 22698 | Descripción: PINK REGENCY TEACUP AND SAUCER | Cantidad: 12 | Precio unitario: 2.95 | País: Iceland\n",
            "Fecha de factura: 2011-10-31 12:25:00 | Código de artículo: 22697 | Descripción: GREEN REGENCY TEACUP AND SAUCER | Cantidad: 12 | Precio unitario: 2.95 | País: Iceland\n",
            "Fecha de factura: 2011-10-31 12:25:00 | Código de artículo: 84558A | Descripción: 3D DOG PICTURE PLAYING CARDS | Cantidad: 36 | Precio unitario: 2.95 | País: Iceland\n",
            "Fecha de factura: 2011-10-31 12:25:00 | Código de artículo: 23084 | Descripción: RABBIT NIGHT LIGHT | Cantidad: 48 | Precio unitario: 1.79 | País: Iceland\n",
            "Fecha de factura: 2011-10-31 12:25:00 | Código de artículo: 21731 | Descripción: RED TOADSTOOL LED NIGHT LIGHT | Cantidad: 12 | Precio unitario: 1.65 | País: Iceland\n",
            "Fecha de factura: 2011-10-31 12:25:00 | Código de artículo: 23177 | Descripción: TREASURE ISLAND BOOK BOX | Cantidad: 8 | Precio unitario: 2.25 | País: Iceland\n",
            "Fecha de factura: 2011-10-31 12:25:00 | Código de artículo: 21791 | Descripción: VINTAGE HEADS AND TAILS CARD GAME  | Cantidad: 12 | Precio unitario: 1.25 | País: Iceland\n",
            "Fecha de factura: 2011-10-31 12:25:00 | Código de artículo: 23508 | Descripción: MINI PLAYING CARDS DOLLY GIRL  | Cantidad: 20 | Precio unitario: 0.42 | País: Iceland\n",
            "Fecha de factura: 2011-10-31 12:25:00 | Código de artículo: 23506 | Descripción: MINI PLAYING CARDS SPACEBOY  | Cantidad: 20 | Precio unitario: 0.42 | País: Iceland\n",
            "Fecha de factura: 2011-10-31 12:25:00 | Código de artículo: 23503 | Descripción: PLAYING CARDS KEEP CALM & CARRY ON | Cantidad: 12 | Precio unitario: 1.25 | País: Iceland\n",
            "Fecha de factura: 2011-10-31 12:25:00 | Código de artículo: 22992 | Descripción: REVOLVER WOODEN RULER  | Cantidad: 12 | Precio unitario: 1.95 | País: Iceland\n",
            "Fecha de factura: 2011-10-31 12:25:00 | Código de artículo: 22561 | Descripción: WOODEN SCHOOL COLOURING SET | Cantidad: 12 | Precio unitario: 1.65 | País: Iceland\n",
            "Fecha de factura: 2011-10-31 12:25:00 | Código de artículo: 22492 | Descripción: MINI PAINT SET VINTAGE  | Cantidad: 36 | Precio unitario: 0.65 | País: Iceland\n",
            "Fecha de factura: 2011-10-31 12:25:00 | Código de artículo: 22621 | Descripción: TRADITIONAL KNITTING NANCY | Cantidad: 12 | Precio unitario: 1.65 | País: Iceland\n",
            "Fecha de factura: 2011-10-31 12:25:00 | Código de artículo: 23146 | Descripción: TRIPLE HOOK ANTIQUE IVORY ROSE | Cantidad: 8 | Precio unitario: 3.29 | País: Iceland\n",
            "Fecha de factura: 2011-10-31 12:25:00 | Código de artículo: 23421 | Descripción: PANTRY HOOK SPATULA | Cantidad: 12 | Precio unitario: 2.08 | País: Iceland\n",
            "Fecha de factura: 2011-10-31 12:25:00 | Código de artículo: 23422 | Descripción: PANTRY HOOK BALLOON WHISK  | Cantidad: 12 | Precio unitario: 2.08 | País: Iceland\n",
            "Fecha de factura: 2011-10-31 12:25:00 | Código de artículo: 23420 | Descripción: PANTRY HOOK TEA STRAINER  | Cantidad: 12 | Precio unitario: 2.08 | País: Iceland\n",
            "Fecha de factura: 2011-10-31 12:25:00 | Código de artículo: 22699 | Descripción: ROSES REGENCY TEACUP AND SAUCER  | Cantidad: 18 | Precio unitario: 2.95 | País: Iceland\n",
            "Fecha de factura: 2011-10-31 12:25:00 | Código de artículo: 22725 | Descripción: ALARM CLOCK BAKELIKE CHOCOLATE | Cantidad: 8 | Precio unitario: 3.75 | País: Iceland\n",
            "Fecha de factura: 2011-10-31 12:25:00 | Código de artículo: 22728 | Descripción: ALARM CLOCK BAKELIKE PINK | Cantidad: 8 | Precio unitario: 3.75 | País: Iceland\n",
            "Fecha de factura: 2011-10-31 12:25:00 | Código de artículo: 22726 | Descripción: ALARM CLOCK BAKELIKE GREEN | Cantidad: 8 | Precio unitario: 3.75 | País: Iceland\n",
            "Fecha de factura: 2011-10-31 12:25:00 | Código de artículo: 22727 | Descripción: ALARM CLOCK BAKELIKE RED  | Cantidad: 12 | Precio unitario: 3.75 | País: Iceland\n",
            "Fecha de factura: 2011-10-31 12:25:00 | Código de artículo: 21976 | Descripción: PACK OF 60 MUSHROOM CAKE CASES | Cantidad: 24 | Precio unitario: 0.55 | País: Iceland\n",
            "Fecha de factura: 2011-10-31 12:25:00 | Código de artículo: 22417 | Descripción: PACK OF 60 SPACEBOY CAKE CASES | Cantidad: 24 | Precio unitario: 0.55 | País: Iceland\n",
            "Fecha de factura: 2011-10-31 12:25:00 | Código de artículo: 23308 | Descripción: SET OF 60 VINTAGE LEAF CAKE CASES  | Cantidad: 24 | Precio unitario: 0.55 | País: Iceland\n",
            "Fecha de factura: 2011-10-31 12:25:00 | Código de artículo: 84991 | Descripción: 60 TEATIME FAIRY CAKE CASES | Cantidad: 24 | Precio unitario: 0.55 | País: Iceland\n",
            "Fecha de factura: 2011-10-31 12:25:00 | Código de artículo: 84992 | Descripción: 72 SWEETHEART FAIRY CAKE CASES | Cantidad: 24 | Precio unitario: 0.55 | País: Iceland\n",
            "Fecha de factura: 2011-10-31 12:25:00 | Código de artículo: 22196 | Descripción: SMALL HEART MEASURING SPOONS | Cantidad: 24 | Precio unitario: 0.85 | País: Iceland\n",
            "Fecha de factura: 2011-10-31 12:25:00 | Código de artículo: 22195 | Descripción: LARGE HEART MEASURING SPOONS | Cantidad: 24 | Precio unitario: 1.65 | País: Iceland\n",
            "Fecha de factura: 2011-10-31 12:25:00 | Código de artículo: 20719 | Descripción: WOODLAND CHARLOTTE BAG | Cantidad: 10 | Precio unitario: 0.85 | País: Iceland\n",
            "Fecha de factura: 2011-10-31 12:25:00 | Código de artículo: 23162 | Descripción: REGENCY TEA STRAINER | Cantidad: 8 | Precio unitario: 3.75 | País: Iceland\n",
            "Fecha de factura: 2011-10-31 12:25:00 | Código de artículo: 22131 | Descripción: FOOD CONTAINER SET 3 LOVE HEART  | Cantidad: 6 | Precio unitario: 1.95 | País: Iceland\n",
            "Fecha de factura: 2011-12-07 15:52:00 | Código de artículo: 23497 | Descripción: CLASSIC CHROME BICYCLE BELL  | Cantidad: 12 | Precio unitario: 1.45 | País: Iceland\n",
            "Fecha de factura: 2011-12-07 15:52:00 | Código de artículo: 23552 | Descripción: BICYCLE PUNCTURE REPAIR KIT  | Cantidad: 6 | Precio unitario: 2.08 | País: Iceland\n",
            "Fecha de factura: 2011-12-07 15:52:00 | Código de artículo: 21064 | Descripción: BOOM BOX SPEAKER BOYS | Cantidad: 24 | Precio unitario: 1.25 | País: Iceland\n",
            "Fecha de factura: 2011-12-07 15:52:00 | Código de artículo: 84625A | Descripción: PINK NEW BAROQUECANDLESTICK CANDLE | Cantidad: 24 | Precio unitario: 0.85 | País: Iceland\n",
            "Fecha de factura: 2011-12-07 15:52:00 | Código de artículo: 21731 | Descripción: RED TOADSTOOL LED NIGHT LIGHT | Cantidad: 24 | Precio unitario: 1.65 | País: Iceland\n",
            "Fecha de factura: 2011-12-07 15:52:00 | Código de artículo: 23084 | Descripción: RABBIT NIGHT LIGHT | Cantidad: 24 | Precio unitario: 1.79 | País: Iceland\n",
            "Fecha de factura: 2011-12-07 15:52:00 | Código de artículo: 20719 | Descripción: WOODLAND CHARLOTTE BAG | Cantidad: 10 | Precio unitario: 0.85 | País: Iceland\n",
            "Fecha de factura: 2011-12-07 15:52:00 | Código de artículo: 21265 | Descripción: PINK GOOSE FEATHER TREE 60CM | Cantidad: 12 | Precio unitario: 1.95 | País: Iceland\n",
            "Fecha de factura: 2011-12-07 15:52:00 | Código de artículo: 23271 | Descripción: CHRISTMAS TABLE SILVER CANDLE SPIKE | Cantidad: 16 | Precio unitario: 0.83 | País: Iceland\n",
            "Fecha de factura: 2011-12-07 15:52:00 | Código de artículo: 23506 | Descripción: MINI PLAYING CARDS SPACEBOY  | Cantidad: 20 | Precio unitario: 0.42 | País: Iceland\n",
            "Fecha de factura: 2011-12-07 15:52:00 | Código de artículo: 23508 | Descripción: MINI PLAYING CARDS DOLLY GIRL  | Cantidad: 20 | Precio unitario: 0.42 | País: Iceland\n",
            "Total de transacciones: 182\n",
            "--------------------------------------------------\n",
            "Cliente: 12348\n",
            "Fecha de factura: 2010-12-16 19:09:00 | Código de artículo: 84992 | Descripción: 72 SWEETHEART FAIRY CAKE CASES | Cantidad: 72 | Precio unitario: 0.55 | País: Finland\n",
            "Fecha de factura: 2010-12-16 19:09:00 | Código de artículo: 22951 | Descripción: 60 CAKE CASES DOLLY GIRL DESIGN | Cantidad: 72 | Precio unitario: 0.55 | País: Finland\n",
            "Fecha de factura: 2010-12-16 19:09:00 | Código de artículo: 84991 | Descripción: 60 TEATIME FAIRY CAKE CASES | Cantidad: 24 | Precio unitario: 0.55 | País: Finland\n",
            "Fecha de factura: 2010-12-16 19:09:00 | Código de artículo: 84991 | Descripción: 60 TEATIME FAIRY CAKE CASES | Cantidad: 120 | Precio unitario: 0.42 | País: Finland\n",
            "Fecha de factura: 2010-12-16 19:09:00 | Código de artículo: 21213 | Descripción: PACK OF 72 SKULL CAKE CASES | Cantidad: 24 | Precio unitario: 0.55 | País: Finland\n",
            "Fecha de factura: 2010-12-16 19:09:00 | Código de artículo: 21213 | Descripción: PACK OF 72 SKULL CAKE CASES | Cantidad: 120 | Precio unitario: 0.42 | País: Finland\n",
            "Fecha de factura: 2010-12-16 19:09:00 | Código de artículo: 22616 | Descripción: PACK OF 12 LONDON TISSUES  | Cantidad: 72 | Precio unitario: 0.29 | País: Finland\n",
            "Fecha de factura: 2010-12-16 19:09:00 | Código de artículo: 21981 | Descripción: PACK OF 12 WOODLAND TISSUES  | Cantidad: 144 | Precio unitario: 0.29 | País: Finland\n",
            "Fecha de factura: 2010-12-16 19:09:00 | Código de artículo: 21982 | Descripción: PACK OF 12 SUKI TISSUES  | Cantidad: 144 | Precio unitario: 0.29 | País: Finland\n",
            "Fecha de factura: 2010-12-16 19:09:00 | Código de artículo: 21725 | Descripción: SWEETIES  STICKERS | Cantidad: 48 | Precio unitario: 0.85 | País: Finland\n",
            "Fecha de factura: 2010-12-16 19:09:00 | Código de artículo: 21211 | Descripción: SET OF 72 SKULL PAPER  DOILIES | Cantidad: 72 | Precio unitario: 1.45 | País: Finland\n",
            "Fecha de factura: 2010-12-16 19:09:00 | Código de artículo: 84988 | Descripción: SET OF 72 PINK HEART PAPER DOILIES | Cantidad: 48 | Precio unitario: 1.45 | País: Finland\n",
            "Fecha de factura: 2010-12-16 19:09:00 | Código de artículo: 22952 | Descripción: 60 CAKE CASES VINTAGE CHRISTMAS | Cantidad: 24 | Precio unitario: 0.55 | País: Finland\n",
            "Fecha de factura: 2010-12-16 19:09:00 | Código de artículo: 22952 | Descripción: 60 CAKE CASES VINTAGE CHRISTMAS | Cantidad: 120 | Precio unitario: 0.42 | País: Finland\n",
            "Fecha de factura: 2010-12-16 19:09:00 | Código de artículo: 21977 | Descripción: PACK OF 60 PINK PAISLEY CAKE CASES | Cantidad: 24 | Precio unitario: 0.55 | País: Finland\n",
            "Fecha de factura: 2010-12-16 19:09:00 | Código de artículo: 21977 | Descripción: PACK OF 60 PINK PAISLEY CAKE CASES | Cantidad: 120 | Precio unitario: 0.42 | País: Finland\n",
            "Fecha de factura: 2011-01-25 10:42:00 | Código de artículo: 21980 | Descripción: PACK OF 12 RED RETROSPOT TISSUES  | Cantidad: 144 | Precio unitario: 0.29 | País: Finland\n",
            "Fecha de factura: 2011-01-25 10:42:00 | Código de artículo: 21985 | Descripción: PACK OF 12 HEARTS DESIGN TISSUES  | Cantidad: 144 | Precio unitario: 0.29 | País: Finland\n",
            "Fecha de factura: 2011-01-25 10:42:00 | Código de artículo: 21726 | Descripción: MULTI HEARTS  STICKERS | Cantidad: 24 | Precio unitario: 0.85 | País: Finland\n",
            "Fecha de factura: 2011-01-25 10:42:00 | Código de artículo: 21983 | Descripción: PACK OF 12 BLUE PAISLEY TISSUES  | Cantidad: 144 | Precio unitario: 0.29 | País: Finland\n",
            "Fecha de factura: 2011-01-25 10:42:00 | Código de artículo: 21967 | Descripción: PACK OF 12 SKULL TISSUES | Cantidad: 144 | Precio unitario: 0.29 | País: Finland\n",
            "Fecha de factura: 2011-04-05 10:47:00 | Código de artículo: 23077 | Descripción: DOUGHNUT LIP GLOSS  | Cantidad: 80 | Precio unitario: 1.25 | País: Finland\n",
            "Fecha de factura: 2011-04-05 10:47:00 | Código de artículo: 23078 | Descripción: ICE CREAM PEN LIP GLOSS  | Cantidad: 96 | Precio unitario: 1.25 | País: Finland\n",
            "Fecha de factura: 2011-04-05 10:47:00 | Código de artículo: 23076 | Descripción: ICE CREAM SUNDAE LIP GLOSS | Cantidad: 72 | Precio unitario: 1.25 | País: Finland\n",
            "Fecha de factura: 2011-04-05 10:47:00 | Código de artículo: 22437 | Descripción: SET OF 9 BLACK SKULL BALLOONS | Cantidad: 20 | Precio unitario: 0.85 | País: Finland\n",
            "Fecha de factura: 2011-09-25 13:13:00 | Código de artículo: 23077 | Descripción: DOUGHNUT LIP GLOSS  | Cantidad: 120 | Precio unitario: 1.25 | País: Finland\n",
            "Fecha de factura: 2011-09-25 13:13:00 | Código de artículo: 23078 | Descripción: ICE CREAM PEN LIP GLOSS  | Cantidad: 96 | Precio unitario: 1.25 | País: Finland\n",
            "Total de transacciones: 27\n",
            "--------------------------------------------------\n"
          ]
        }
      ]
    },
    {
      "cell_type": "markdown",
      "source": [
        "###**Aplicación del algoritmo GSP**"
      ],
      "metadata": {
        "id": "AMSxACePU2oO"
      }
    },
    {
      "cell_type": "markdown",
      "metadata": {
        "id": "fitWrweOcrvv"
      },
      "source": [
        "Instalamos la librería GSP de python."
      ]
    },
    {
      "cell_type": "code",
      "execution_count": 83,
      "metadata": {
        "colab": {
          "base_uri": "https://localhost:8080/"
        },
        "id": "NqdEDTbecuN-",
        "outputId": "871cb933-dae5-4e18-ad49-56d5e8b1ea40"
      },
      "outputs": [
        {
          "output_type": "stream",
          "name": "stdout",
          "text": [
            "Requirement already satisfied: gsppy in c:\\users\\felixd\\appdata\\local\\programs\\python\\python310\\lib\\site-packages (1.1)\n"
          ]
        }
      ],
      "source": [
        "!pip install gsppy"
      ]
    },
    {
      "cell_type": "code",
      "execution_count": 84,
      "metadata": {
        "id": "SLnMf5tUczKZ"
      },
      "outputs": [],
      "source": [
        "from gsppy.gsp import GSP"
      ]
    },
    {
      "cell_type": "markdown",
      "source": [
        "Convertimos las transacciones de los clientes en una lista de secuencias, ya que la librería GSP solo admite listas de listas."
      ],
      "metadata": {
        "id": "yOV5AkmeVFRs"
      }
    },
    {
      "cell_type": "markdown",
      "source": [
        "Aplicamos el algoritmo GSP con un soporte mínimo de 0.2"
      ],
      "metadata": {
        "id": "rI3CCZDZVM8c"
      }
    },
    {
      "cell_type": "code",
      "source": [
        "# Crear lista de transacciones para cada cliente\n",
        "transactions = df.groupby('CustomerID')['StockCode'].apply(list).reset_index(name='Transactions')"
      ],
      "metadata": {
        "id": "IMEi9USPjbqp"
      },
      "execution_count": 87,
      "outputs": []
    },
    {
      "cell_type": "code",
      "source": [
        "min_support = 0.2\n",
        "\n",
        "result = GSP(transactions).search(min_support)"
      ],
      "metadata": {
        "id": "8CQSh6CIjrKa"
      },
      "execution_count": null,
      "outputs": []
    },
    {
      "cell_type": "code",
      "source": [
        "print(resultados)"
      ],
      "metadata": {
        "id": "I4_cTwwcke-7"
      },
      "execution_count": null,
      "outputs": []
    },
    {
      "cell_type": "markdown",
      "source": [
        "Volvemos a aplicar el algoretmo esta vez con un soporte mínimo de 0,3 para ver que diferencia vemos en los resultamos"
      ],
      "metadata": {
        "id": "POrdTnidkPga"
      }
    },
    {
      "cell_type": "code",
      "source": [
        "min_support = 0.3\n",
        "\n",
        "result2 = GSP(transactions).search(min_support)"
      ],
      "metadata": {
        "id": "ttC94CSPkbpO"
      },
      "execution_count": null,
      "outputs": []
    }
  ]
}