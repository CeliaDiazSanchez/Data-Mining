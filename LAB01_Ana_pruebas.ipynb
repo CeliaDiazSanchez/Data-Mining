{
  "nbformat": 4,
  "nbformat_minor": 0,
  "metadata": {
    "colab": {
      "provenance": [],
      "authorship_tag": "ABX9TyPWXdc0t6ybID1gShdjiOE6",
      "include_colab_link": true
    },
    "kernelspec": {
      "name": "python3",
      "display_name": "Python 3"
    },
    "language_info": {
      "name": "python"
    }
  },
  "cells": [
    {
      "cell_type": "markdown",
      "metadata": {
        "id": "view-in-github",
        "colab_type": "text"
      },
      "source": [
        "<a href=\"https://colab.research.google.com/github/CeliaDiazSanchez/Data-Mining/blob/LAB01/LAB01_Ana_pruebas.ipynb\" target=\"_parent\"><img src=\"https://colab.research.google.com/assets/colab-badge.svg\" alt=\"Open In Colab\"/></a>"
      ]
    },
    {
      "cell_type": "markdown",
      "source": [
        "## Vacunaciones COVID\n",
        "`` PRÁCTICA 1``"
      ],
      "metadata": {
        "id": "cWLwkdvrDwJ-"
      }
    },
    {
      "cell_type": "markdown",
      "source": [
        "# Descarga del dataset\n",
        "Descarga de vacunaciones.csv y Countries by Continent.csv guardados en el mismo repositorio de Github."
      ],
      "metadata": {
        "id": "0IpJDtX6HU9r"
      }
    },
    {
      "cell_type": "code",
      "source": [
        "import requests\n",
        "import pandas as pd\n",
        "\n",
        "# URL del archivo CSV en GitHub\n",
        "url = \"https://raw.githubusercontent.com/CeliaDiazSanchez/Data-Mining/LAB01/vacunaciones.csv\"\n",
        "nombre = 'vacunaciones.csv'\n",
        "\n",
        "\n",
        "# Realizar la solicitud GET para obtener el contenido del archivo\n",
        "response = requests.get(url)\n",
        "\n",
        "# Verificar si la solicitud fue exitosa (código de estado 200)\n",
        "if response.status_code == 200:\n",
        "     # Guardar el contenido del archivo en un archivo local\n",
        "    with open(nombre, 'wb') as f:\n",
        "        f.write(response.content)\n",
        "    print(\"Archivo descargado exitosamente.\")\n",
        "else:\n",
        "    print(\"Error al descargar el archivo.\")\n",
        "\n"
      ],
      "metadata": {
        "colab": {
          "base_uri": "https://localhost:8080/"
        },
        "id": "n-CK4GE6KNJ1",
        "outputId": "91d611ef-4909-4da3-c2e5-7a25e93bfc32"
      },
      "execution_count": 1,
      "outputs": [
        {
          "output_type": "stream",
          "name": "stdout",
          "text": [
            "Archivo descargado exitosamente.\n"
          ]
        }
      ]
    },
    {
      "cell_type": "markdown",
      "source": [
        "Cargamos el archivo de vacunaciones CSV en un DataFrame de pandas que llamamos `ds`.\n"
      ],
      "metadata": {
        "id": "6ZSd7Lf3DCCp"
      }
    },
    {
      "cell_type": "code",
      "source": [
        "ds = pd.read_csv('vacunaciones.csv')\n",
        "# Mostramos las 3 primeras entradas del dataset\n",
        "ds.head(3)"
      ],
      "metadata": {
        "id": "RgFLGflXDDkJ",
        "outputId": "94931820-e036-4719-c5a8-e238686fd743",
        "colab": {
          "base_uri": "https://localhost:8080/",
          "height": 215
        }
      },
      "execution_count": 2,
      "outputs": [
        {
          "output_type": "execute_result",
          "data": {
            "text/plain": [
              "   country iso_code        date  total_vaccinations  people_vaccinated  \\\n",
              "0  Albania      ALB  2021-01-10                 0.0                0.0   \n",
              "1  Albania      ALB  2021-01-11                 NaN                NaN   \n",
              "2  Albania      ALB  2021-01-12               128.0              128.0   \n",
              "\n",
              "   people_fully_vaccinated  daily_vaccinations_raw  daily_vaccinations  \\\n",
              "0                      NaN                     NaN                 NaN   \n",
              "1                      NaN                     NaN                64.0   \n",
              "2                      NaN                     NaN                64.0   \n",
              "\n",
              "   total_vaccinations_per_hundred  people_vaccinated_per_hundred  \\\n",
              "0                             0.0                            0.0   \n",
              "1                             NaN                            NaN   \n",
              "2                             0.0                            0.0   \n",
              "\n",
              "   people_fully_vaccinated_per_hundred  daily_vaccinations_per_million  \\\n",
              "0                                  NaN                             NaN   \n",
              "1                                  NaN                            22.0   \n",
              "2                                  NaN                            22.0   \n",
              "\n",
              "          vaccines         source_name  \\\n",
              "0  Pfizer/BioNTech  Ministry of Health   \n",
              "1  Pfizer/BioNTech  Ministry of Health   \n",
              "2  Pfizer/BioNTech  Ministry of Health   \n",
              "\n",
              "                                      source_website  \n",
              "0  https://shendetesia.gov.al/vaksinimi-anticovid...  \n",
              "1  https://shendetesia.gov.al/vaksinimi-anticovid...  \n",
              "2  https://shendetesia.gov.al/vaksinimi-anticovid...  "
            ],
            "text/html": [
              "\n",
              "  <div id=\"df-886bc616-db0d-49ce-8502-b44889390979\" class=\"colab-df-container\">\n",
              "    <div>\n",
              "<style scoped>\n",
              "    .dataframe tbody tr th:only-of-type {\n",
              "        vertical-align: middle;\n",
              "    }\n",
              "\n",
              "    .dataframe tbody tr th {\n",
              "        vertical-align: top;\n",
              "    }\n",
              "\n",
              "    .dataframe thead th {\n",
              "        text-align: right;\n",
              "    }\n",
              "</style>\n",
              "<table border=\"1\" class=\"dataframe\">\n",
              "  <thead>\n",
              "    <tr style=\"text-align: right;\">\n",
              "      <th></th>\n",
              "      <th>country</th>\n",
              "      <th>iso_code</th>\n",
              "      <th>date</th>\n",
              "      <th>total_vaccinations</th>\n",
              "      <th>people_vaccinated</th>\n",
              "      <th>people_fully_vaccinated</th>\n",
              "      <th>daily_vaccinations_raw</th>\n",
              "      <th>daily_vaccinations</th>\n",
              "      <th>total_vaccinations_per_hundred</th>\n",
              "      <th>people_vaccinated_per_hundred</th>\n",
              "      <th>people_fully_vaccinated_per_hundred</th>\n",
              "      <th>daily_vaccinations_per_million</th>\n",
              "      <th>vaccines</th>\n",
              "      <th>source_name</th>\n",
              "      <th>source_website</th>\n",
              "    </tr>\n",
              "  </thead>\n",
              "  <tbody>\n",
              "    <tr>\n",
              "      <th>0</th>\n",
              "      <td>Albania</td>\n",
              "      <td>ALB</td>\n",
              "      <td>2021-01-10</td>\n",
              "      <td>0.0</td>\n",
              "      <td>0.0</td>\n",
              "      <td>NaN</td>\n",
              "      <td>NaN</td>\n",
              "      <td>NaN</td>\n",
              "      <td>0.0</td>\n",
              "      <td>0.0</td>\n",
              "      <td>NaN</td>\n",
              "      <td>NaN</td>\n",
              "      <td>Pfizer/BioNTech</td>\n",
              "      <td>Ministry of Health</td>\n",
              "      <td>https://shendetesia.gov.al/vaksinimi-anticovid...</td>\n",
              "    </tr>\n",
              "    <tr>\n",
              "      <th>1</th>\n",
              "      <td>Albania</td>\n",
              "      <td>ALB</td>\n",
              "      <td>2021-01-11</td>\n",
              "      <td>NaN</td>\n",
              "      <td>NaN</td>\n",
              "      <td>NaN</td>\n",
              "      <td>NaN</td>\n",
              "      <td>64.0</td>\n",
              "      <td>NaN</td>\n",
              "      <td>NaN</td>\n",
              "      <td>NaN</td>\n",
              "      <td>22.0</td>\n",
              "      <td>Pfizer/BioNTech</td>\n",
              "      <td>Ministry of Health</td>\n",
              "      <td>https://shendetesia.gov.al/vaksinimi-anticovid...</td>\n",
              "    </tr>\n",
              "    <tr>\n",
              "      <th>2</th>\n",
              "      <td>Albania</td>\n",
              "      <td>ALB</td>\n",
              "      <td>2021-01-12</td>\n",
              "      <td>128.0</td>\n",
              "      <td>128.0</td>\n",
              "      <td>NaN</td>\n",
              "      <td>NaN</td>\n",
              "      <td>64.0</td>\n",
              "      <td>0.0</td>\n",
              "      <td>0.0</td>\n",
              "      <td>NaN</td>\n",
              "      <td>22.0</td>\n",
              "      <td>Pfizer/BioNTech</td>\n",
              "      <td>Ministry of Health</td>\n",
              "      <td>https://shendetesia.gov.al/vaksinimi-anticovid...</td>\n",
              "    </tr>\n",
              "  </tbody>\n",
              "</table>\n",
              "</div>\n",
              "    <div class=\"colab-df-buttons\">\n",
              "\n",
              "  <div class=\"colab-df-container\">\n",
              "    <button class=\"colab-df-convert\" onclick=\"convertToInteractive('df-886bc616-db0d-49ce-8502-b44889390979')\"\n",
              "            title=\"Convert this dataframe to an interactive table.\"\n",
              "            style=\"display:none;\">\n",
              "\n",
              "  <svg xmlns=\"http://www.w3.org/2000/svg\" height=\"24px\" viewBox=\"0 -960 960 960\">\n",
              "    <path d=\"M120-120v-720h720v720H120Zm60-500h600v-160H180v160Zm220 220h160v-160H400v160Zm0 220h160v-160H400v160ZM180-400h160v-160H180v160Zm440 0h160v-160H620v160ZM180-180h160v-160H180v160Zm440 0h160v-160H620v160Z\"/>\n",
              "  </svg>\n",
              "    </button>\n",
              "\n",
              "  <style>\n",
              "    .colab-df-container {\n",
              "      display:flex;\n",
              "      gap: 12px;\n",
              "    }\n",
              "\n",
              "    .colab-df-convert {\n",
              "      background-color: #E8F0FE;\n",
              "      border: none;\n",
              "      border-radius: 50%;\n",
              "      cursor: pointer;\n",
              "      display: none;\n",
              "      fill: #1967D2;\n",
              "      height: 32px;\n",
              "      padding: 0 0 0 0;\n",
              "      width: 32px;\n",
              "    }\n",
              "\n",
              "    .colab-df-convert:hover {\n",
              "      background-color: #E2EBFA;\n",
              "      box-shadow: 0px 1px 2px rgba(60, 64, 67, 0.3), 0px 1px 3px 1px rgba(60, 64, 67, 0.15);\n",
              "      fill: #174EA6;\n",
              "    }\n",
              "\n",
              "    .colab-df-buttons div {\n",
              "      margin-bottom: 4px;\n",
              "    }\n",
              "\n",
              "    [theme=dark] .colab-df-convert {\n",
              "      background-color: #3B4455;\n",
              "      fill: #D2E3FC;\n",
              "    }\n",
              "\n",
              "    [theme=dark] .colab-df-convert:hover {\n",
              "      background-color: #434B5C;\n",
              "      box-shadow: 0px 1px 3px 1px rgba(0, 0, 0, 0.15);\n",
              "      filter: drop-shadow(0px 1px 2px rgba(0, 0, 0, 0.3));\n",
              "      fill: #FFFFFF;\n",
              "    }\n",
              "  </style>\n",
              "\n",
              "    <script>\n",
              "      const buttonEl =\n",
              "        document.querySelector('#df-886bc616-db0d-49ce-8502-b44889390979 button.colab-df-convert');\n",
              "      buttonEl.style.display =\n",
              "        google.colab.kernel.accessAllowed ? 'block' : 'none';\n",
              "\n",
              "      async function convertToInteractive(key) {\n",
              "        const element = document.querySelector('#df-886bc616-db0d-49ce-8502-b44889390979');\n",
              "        const dataTable =\n",
              "          await google.colab.kernel.invokeFunction('convertToInteractive',\n",
              "                                                    [key], {});\n",
              "        if (!dataTable) return;\n",
              "\n",
              "        const docLinkHtml = 'Like what you see? Visit the ' +\n",
              "          '<a target=\"_blank\" href=https://colab.research.google.com/notebooks/data_table.ipynb>data table notebook</a>'\n",
              "          + ' to learn more about interactive tables.';\n",
              "        element.innerHTML = '';\n",
              "        dataTable['output_type'] = 'display_data';\n",
              "        await google.colab.output.renderOutput(dataTable, element);\n",
              "        const docLink = document.createElement('div');\n",
              "        docLink.innerHTML = docLinkHtml;\n",
              "        element.appendChild(docLink);\n",
              "      }\n",
              "    </script>\n",
              "  </div>\n",
              "\n",
              "\n",
              "<div id=\"df-4871d0ce-9b80-4f19-b153-bd11f7b85509\">\n",
              "  <button class=\"colab-df-quickchart\" onclick=\"quickchart('df-4871d0ce-9b80-4f19-b153-bd11f7b85509')\"\n",
              "            title=\"Suggest charts\"\n",
              "            style=\"display:none;\">\n",
              "\n",
              "<svg xmlns=\"http://www.w3.org/2000/svg\" height=\"24px\"viewBox=\"0 0 24 24\"\n",
              "     width=\"24px\">\n",
              "    <g>\n",
              "        <path d=\"M19 3H5c-1.1 0-2 .9-2 2v14c0 1.1.9 2 2 2h14c1.1 0 2-.9 2-2V5c0-1.1-.9-2-2-2zM9 17H7v-7h2v7zm4 0h-2V7h2v10zm4 0h-2v-4h2v4z\"/>\n",
              "    </g>\n",
              "</svg>\n",
              "  </button>\n",
              "\n",
              "<style>\n",
              "  .colab-df-quickchart {\n",
              "      --bg-color: #E8F0FE;\n",
              "      --fill-color: #1967D2;\n",
              "      --hover-bg-color: #E2EBFA;\n",
              "      --hover-fill-color: #174EA6;\n",
              "      --disabled-fill-color: #AAA;\n",
              "      --disabled-bg-color: #DDD;\n",
              "  }\n",
              "\n",
              "  [theme=dark] .colab-df-quickchart {\n",
              "      --bg-color: #3B4455;\n",
              "      --fill-color: #D2E3FC;\n",
              "      --hover-bg-color: #434B5C;\n",
              "      --hover-fill-color: #FFFFFF;\n",
              "      --disabled-bg-color: #3B4455;\n",
              "      --disabled-fill-color: #666;\n",
              "  }\n",
              "\n",
              "  .colab-df-quickchart {\n",
              "    background-color: var(--bg-color);\n",
              "    border: none;\n",
              "    border-radius: 50%;\n",
              "    cursor: pointer;\n",
              "    display: none;\n",
              "    fill: var(--fill-color);\n",
              "    height: 32px;\n",
              "    padding: 0;\n",
              "    width: 32px;\n",
              "  }\n",
              "\n",
              "  .colab-df-quickchart:hover {\n",
              "    background-color: var(--hover-bg-color);\n",
              "    box-shadow: 0 1px 2px rgba(60, 64, 67, 0.3), 0 1px 3px 1px rgba(60, 64, 67, 0.15);\n",
              "    fill: var(--button-hover-fill-color);\n",
              "  }\n",
              "\n",
              "  .colab-df-quickchart-complete:disabled,\n",
              "  .colab-df-quickchart-complete:disabled:hover {\n",
              "    background-color: var(--disabled-bg-color);\n",
              "    fill: var(--disabled-fill-color);\n",
              "    box-shadow: none;\n",
              "  }\n",
              "\n",
              "  .colab-df-spinner {\n",
              "    border: 2px solid var(--fill-color);\n",
              "    border-color: transparent;\n",
              "    border-bottom-color: var(--fill-color);\n",
              "    animation:\n",
              "      spin 1s steps(1) infinite;\n",
              "  }\n",
              "\n",
              "  @keyframes spin {\n",
              "    0% {\n",
              "      border-color: transparent;\n",
              "      border-bottom-color: var(--fill-color);\n",
              "      border-left-color: var(--fill-color);\n",
              "    }\n",
              "    20% {\n",
              "      border-color: transparent;\n",
              "      border-left-color: var(--fill-color);\n",
              "      border-top-color: var(--fill-color);\n",
              "    }\n",
              "    30% {\n",
              "      border-color: transparent;\n",
              "      border-left-color: var(--fill-color);\n",
              "      border-top-color: var(--fill-color);\n",
              "      border-right-color: var(--fill-color);\n",
              "    }\n",
              "    40% {\n",
              "      border-color: transparent;\n",
              "      border-right-color: var(--fill-color);\n",
              "      border-top-color: var(--fill-color);\n",
              "    }\n",
              "    60% {\n",
              "      border-color: transparent;\n",
              "      border-right-color: var(--fill-color);\n",
              "    }\n",
              "    80% {\n",
              "      border-color: transparent;\n",
              "      border-right-color: var(--fill-color);\n",
              "      border-bottom-color: var(--fill-color);\n",
              "    }\n",
              "    90% {\n",
              "      border-color: transparent;\n",
              "      border-bottom-color: var(--fill-color);\n",
              "    }\n",
              "  }\n",
              "</style>\n",
              "\n",
              "  <script>\n",
              "    async function quickchart(key) {\n",
              "      const quickchartButtonEl =\n",
              "        document.querySelector('#' + key + ' button');\n",
              "      quickchartButtonEl.disabled = true;  // To prevent multiple clicks.\n",
              "      quickchartButtonEl.classList.add('colab-df-spinner');\n",
              "      try {\n",
              "        const charts = await google.colab.kernel.invokeFunction(\n",
              "            'suggestCharts', [key], {});\n",
              "      } catch (error) {\n",
              "        console.error('Error during call to suggestCharts:', error);\n",
              "      }\n",
              "      quickchartButtonEl.classList.remove('colab-df-spinner');\n",
              "      quickchartButtonEl.classList.add('colab-df-quickchart-complete');\n",
              "    }\n",
              "    (() => {\n",
              "      let quickchartButtonEl =\n",
              "        document.querySelector('#df-4871d0ce-9b80-4f19-b153-bd11f7b85509 button');\n",
              "      quickchartButtonEl.style.display =\n",
              "        google.colab.kernel.accessAllowed ? 'block' : 'none';\n",
              "    })();\n",
              "  </script>\n",
              "</div>\n",
              "    </div>\n",
              "  </div>\n"
            ],
            "application/vnd.google.colaboratory.intrinsic+json": {
              "type": "dataframe",
              "variable_name": "ds",
              "summary": "{\n  \"name\": \"ds\",\n  \"rows\": 3208,\n  \"fields\": [\n    {\n      \"column\": \"country\",\n      \"properties\": {\n        \"dtype\": \"category\",\n        \"samples\": [\n          \"Iran\",\n          \"Czechia\",\n          \"Monaco\"\n        ],\n        \"num_unique_values\": 90,\n        \"semantic_type\": \"\",\n        \"description\": \"\"\n      }\n    },\n    {\n      \"column\": \"iso_code\",\n      \"properties\": {\n        \"dtype\": \"category\",\n        \"samples\": [\n          \"SVK\",\n          \"ALB\",\n          \"SHN\"\n        ],\n        \"num_unique_values\": 86,\n        \"semantic_type\": \"\",\n        \"description\": \"\"\n      }\n    },\n    {\n      \"column\": \"date\",\n      \"properties\": {\n        \"dtype\": \"object\",\n        \"min\": \"2020-12-13\",\n        \"max\": \"2021-02-15\",\n        \"samples\": [\n          \"2020-12-27\",\n          \"2020-12-20\",\n          \"2021-01-10\"\n        ],\n        \"num_unique_values\": 65,\n        \"semantic_type\": \"\",\n        \"description\": \"\"\n      }\n    },\n    {\n      \"column\": \"total_vaccinations\",\n      \"properties\": {\n        \"dtype\": \"number\",\n        \"std\": 4460924.4580782065,\n        \"min\": 0.0,\n        \"max\": 52884356.0,\n        \"samples\": [\n          2764450.0,\n          75113.0,\n          21194.0\n        ],\n        \"num_unique_values\": 2000,\n        \"semantic_type\": \"\",\n        \"description\": \"\"\n      }\n    },\n    {\n      \"column\": \"people_vaccinated\",\n      \"properties\": {\n        \"dtype\": \"number\",\n        \"std\": 3706714.343499147,\n        \"min\": 0.0,\n        \"max\": 38292270.0,\n        \"samples\": [\n          50963.0,\n          301909.0,\n          4739.0\n        ],\n        \"num_unique_values\": 1662,\n        \"semantic_type\": \"\",\n        \"description\": \"\"\n      }\n    },\n    {\n      \"column\": \"people_fully_vaccinated\",\n      \"properties\": {\n        \"dtype\": \"number\",\n        \"std\": 1189176.145982171,\n        \"min\": 1.0,\n        \"max\": 14077440.0,\n        \"samples\": [\n          42667.0,\n          1221720.0,\n          7607.0\n        ],\n        \"num_unique_values\": 1029,\n        \"semantic_type\": \"\",\n        \"description\": \"\"\n      }\n    },\n    {\n      \"column\": \"daily_vaccinations_raw\",\n      \"properties\": {\n        \"dtype\": \"number\",\n        \"std\": 205473.373154072,\n        \"min\": 0.0,\n        \"max\": 2242472.0,\n        \"samples\": [\n          10907.0,\n          213.0,\n          16887.0\n        ],\n        \"num_unique_values\": 1617,\n        \"semantic_type\": \"\",\n        \"description\": \"\"\n      }\n    },\n    {\n      \"column\": \"daily_vaccinations\",\n      \"properties\": {\n        \"dtype\": \"number\",\n        \"std\": 173495.85768375866,\n        \"min\": 1.0,\n        \"max\": 1916190.0,\n        \"samples\": [\n          343.0,\n          17880.0,\n          747082.0\n        ],\n        \"num_unique_values\": 2450,\n        \"semantic_type\": \"\",\n        \"description\": \"\"\n      }\n    },\n    {\n      \"column\": \"total_vaccinations_per_hundred\",\n      \"properties\": {\n        \"dtype\": \"number\",\n        \"std\": 10.466306061344778,\n        \"min\": 0.0,\n        \"max\": 77.0,\n        \"samples\": [\n          48.45,\n          12.29,\n          2.37\n        ],\n        \"num_unique_values\": 872,\n        \"semantic_type\": \"\",\n        \"description\": \"\"\n      }\n    },\n    {\n      \"column\": \"people_vaccinated_per_hundred\",\n      \"properties\": {\n        \"dtype\": \"number\",\n        \"std\": 8.037008567009355,\n        \"min\": 0.0,\n        \"max\": 47.16,\n        \"samples\": [\n          0.98,\n          11.13,\n          2.38\n        ],\n        \"num_unique_values\": 740,\n        \"semantic_type\": \"\",\n        \"description\": \"\"\n      }\n    },\n    {\n      \"column\": \"people_fully_vaccinated_per_hundred\",\n      \"properties\": {\n        \"dtype\": \"number\",\n        \"std\": 4.012435116560985,\n        \"min\": 0.0,\n        \"max\": 30.17,\n        \"samples\": [\n          0.15,\n          0.95,\n          1.19\n        ],\n        \"num_unique_values\": 287,\n        \"semantic_type\": \"\",\n        \"description\": \"\"\n      }\n    },\n    {\n      \"column\": \"daily_vaccinations_per_million\",\n      \"properties\": {\n        \"dtype\": \"number\",\n        \"std\": 3711.789295592776,\n        \"min\": 0.0,\n        \"max\": 30869.0,\n        \"samples\": [\n          3801.0,\n          4272.0,\n          1778.0\n        ],\n        \"num_unique_values\": 1795,\n        \"semantic_type\": \"\",\n        \"description\": \"\"\n      }\n    },\n    {\n      \"column\": \"vaccines\",\n      \"properties\": {\n        \"dtype\": \"category\",\n        \"samples\": [\n          \"Pfizer/BioNTech\",\n          \"Sputnik V\",\n          \"Moderna, Pfizer/BioNTech\"\n        ],\n        \"num_unique_values\": 18,\n        \"semantic_type\": \"\",\n        \"description\": \"\"\n      }\n    },\n    {\n      \"column\": \"source_name\",\n      \"properties\": {\n        \"dtype\": \"category\",\n        \"samples\": [\n          \"Government of Gibraltar\",\n          \"National Institute of Public Health, via Sledilnik\",\n          \"Extended Programme for Immunisation\"\n        ],\n        \"num_unique_values\": 54,\n        \"semantic_type\": \"\",\n        \"description\": \"\"\n      }\n    },\n    {\n      \"column\": \"source_website\",\n      \"properties\": {\n        \"dtype\": \"category\",\n        \"samples\": [\n          \"https://www.pmo.gov.sg/Newsroom/Chinese-New-Year-Message-2021-by-PM-Lee-Hsien-Loong\",\n          \"https://shendetesia.gov.al/vaksinimi-anticovid-vaksinohen-48-mjeke-dhe-infermiere/\",\n          \"https://www.reuters.com/article/health-coronavirus-russia-vaccine-idINKBN2AA1UH\"\n        ],\n        \"num_unique_values\": 86,\n        \"semantic_type\": \"\",\n        \"description\": \"\"\n      }\n    }\n  ]\n}"
            }
          },
          "metadata": {},
          "execution_count": 2
        }
      ]
    },
    {
      "cell_type": "markdown",
      "source": [
        "# Exploración de la base de datos"
      ],
      "metadata": {
        "id": "JtnomdVjDMxU"
      }
    },
    {
      "cell_type": "markdown",
      "source": [
        "Veamos las variables de la base de datos y de qué tipo es cada una."
      ],
      "metadata": {
        "id": "U9DMKalwMaOt"
      }
    },
    {
      "cell_type": "code",
      "source": [
        "print(ds.dtypes)"
      ],
      "metadata": {
        "id": "CadSAfUJMl2H",
        "outputId": "341bbe82-e7e9-471e-ba59-a0e251572fda",
        "colab": {
          "base_uri": "https://localhost:8080/"
        }
      },
      "execution_count": 3,
      "outputs": [
        {
          "output_type": "stream",
          "name": "stdout",
          "text": [
            "country                                 object\n",
            "iso_code                                object\n",
            "date                                    object\n",
            "total_vaccinations                     float64\n",
            "people_vaccinated                      float64\n",
            "people_fully_vaccinated                float64\n",
            "daily_vaccinations_raw                 float64\n",
            "daily_vaccinations                     float64\n",
            "total_vaccinations_per_hundred         float64\n",
            "people_vaccinated_per_hundred          float64\n",
            "people_fully_vaccinated_per_hundred    float64\n",
            "daily_vaccinations_per_million         float64\n",
            "vaccines                                object\n",
            "source_name                             object\n",
            "source_website                          object\n",
            "dtype: object\n"
          ]
        }
      ]
    },
    {
      "cell_type": "markdown",
      "source": [
        "Lo primero que haremos será convertir la variable `date` de tipo `object` a tipo fecha o `datetime`."
      ],
      "metadata": {
        "id": "HApJH68NGZbU"
      }
    },
    {
      "cell_type": "code",
      "source": [
        "# Convertir la columna de fecha a formato datetime\n",
        "ds['date'] = pd.to_datetime(ds['date'])\n",
        "print(ds['date'].dtypes)"
      ],
      "metadata": {
        "id": "6GejbECdHM6i",
        "outputId": "a1af4a4d-9d9b-43bb-e681-ee938abf7fb5",
        "colab": {
          "base_uri": "https://localhost:8080/"
        }
      },
      "execution_count": 4,
      "outputs": [
        {
          "output_type": "stream",
          "name": "stdout",
          "text": [
            "datetime64[ns]\n"
          ]
        }
      ]
    },
    {
      "cell_type": "markdown",
      "source": [
        "A continuación veremos sobre que países se hace el estudio:"
      ],
      "metadata": {
        "id": "afF5YqRbHZYF"
      }
    },
    {
      "cell_type": "code",
      "source": [
        "paises = ds['country'].unique()\n",
        "print(paises)"
      ],
      "metadata": {
        "id": "LnxFJygvHfdN",
        "outputId": "fbe53026-2086-4fb6-a8ef-25d84540829e",
        "colab": {
          "base_uri": "https://localhost:8080/"
        }
      },
      "execution_count": 5,
      "outputs": [
        {
          "output_type": "stream",
          "name": "stdout",
          "text": [
            "['Albania' 'Algeria' 'Andorra' 'Anguilla' 'Argentina' 'Austria'\n",
            " 'Azerbaijan' 'Bahrain' 'Bangladesh' 'Belgium' 'Bermuda' 'Bolivia'\n",
            " 'Brazil' 'Bulgaria' 'Cambodia' 'Canada' 'Cayman Islands' 'Chile' 'China'\n",
            " 'Costa Rica' 'Croatia' 'Cyprus' 'Czechia' 'Denmark' 'Ecuador' 'Egypt'\n",
            " 'England' 'Estonia' 'Faeroe Islands' 'Finland' 'France' 'Germany'\n",
            " 'Gibraltar' 'Greece' 'Greenland' 'Guernsey' 'Hungary' 'Iceland' 'India'\n",
            " 'Indonesia' 'Iran' 'Ireland' 'Isle of Man' 'Israel' 'Italy' 'Jersey'\n",
            " 'Kuwait' 'Latvia' 'Liechtenstein' 'Lithuania' 'Luxembourg' 'Maldives'\n",
            " 'Malta' 'Mauritius' 'Mexico' 'Monaco' 'Morocco' 'Myanmar' 'Nepal'\n",
            " 'Netherlands' 'Northern Cyprus' 'Northern Ireland' 'Norway' 'Oman'\n",
            " 'Pakistan' 'Panama' 'Peru' 'Poland' 'Portugal' 'Qatar' 'Romania' 'Russia'\n",
            " 'Saint Helena' 'Saudi Arabia' 'Scotland' 'Serbia' 'Seychelles'\n",
            " 'Singapore' 'Slovakia' 'Slovenia' 'Spain' 'Sri Lanka' 'Sweden'\n",
            " 'Switzerland' 'Turkey' 'Turks and Caicos Islands' 'United Arab Emirates'\n",
            " 'United Kingdom' 'United States' 'Wales']\n"
          ]
        }
      ]
    },
    {
      "cell_type": "markdown",
      "source": [
        "**Estudio de NaNs**"
      ],
      "metadata": {
        "id": "SDBTbIvPLUV0"
      }
    },
    {
      "cell_type": "markdown",
      "source": [
        "Calculamos la suma de valores NaN"
      ],
      "metadata": {
        "id": "-rdxxIbxOxMx"
      }
    },
    {
      "cell_type": "code",
      "source": [
        "ds.isna().sum()"
      ],
      "metadata": {
        "colab": {
          "base_uri": "https://localhost:8080/"
        },
        "id": "HMBpbs7SOtjw",
        "outputId": "2aaccebc-c75a-4da4-e960-68d144ed6edb"
      },
      "execution_count": 6,
      "outputs": [
        {
          "output_type": "execute_result",
          "data": {
            "text/plain": [
              "country                                   0\n",
              "iso_code                                256\n",
              "date                                      0\n",
              "total_vaccinations                     1124\n",
              "people_vaccinated                      1481\n",
              "people_fully_vaccinated                2114\n",
              "daily_vaccinations_raw                 1473\n",
              "daily_vaccinations                      125\n",
              "total_vaccinations_per_hundred         1124\n",
              "people_vaccinated_per_hundred          1481\n",
              "people_fully_vaccinated_per_hundred    2114\n",
              "daily_vaccinations_per_million          125\n",
              "vaccines                                  0\n",
              "source_name                               0\n",
              "source_website                            0\n",
              "dtype: int64"
            ]
          },
          "metadata": {},
          "execution_count": 6
        }
      ]
    },
    {
      "cell_type": "markdown",
      "source": [
        "Concretamente, nos interesa los de la variable `people_vaccinated` que vamos a analizar y eliminar sus valores NaN."
      ],
      "metadata": {
        "id": "k9BtYdzbPTXN"
      }
    },
    {
      "cell_type": "code",
      "source": [
        "conteo_nans = ds['people_vaccinated'].isna().sum()\n",
        "conteo_no_nans = len(ds) - conteo_nans"
      ],
      "metadata": {
        "id": "epjcz9G5REhG"
      },
      "execution_count": 7,
      "outputs": []
    },
    {
      "cell_type": "code",
      "source": [
        "import matplotlib.pyplot as plt\n",
        "\n",
        "# Datos de ejemplo\n",
        "sizes = [conteo_nans, conteo_no_nans]\n",
        "labels = ['NaN','no NaN']\n",
        "\n",
        "# Crear un gráfico circular\n",
        "plt.figure(figsize=(8, 8))\n",
        "plt.pie(sizes, labels=labels, autopct='%1.1f%%',colors=['red','green'], startangle=140)\n",
        "\n",
        "# Añadir título\n",
        "plt.title('people_vaccinated NaNs')\n",
        "\n",
        "# Mostrar el gráfico\n",
        "plt.show()"
      ],
      "metadata": {
        "colab": {
          "base_uri": "https://localhost:8080/",
          "height": 675
        },
        "id": "sXqOdADJRvRz",
        "outputId": "d2b7a6cb-6672-46b6-8642-8780a90f0650"
      },
      "execution_count": 8,
      "outputs": [
        {
          "output_type": "display_data",
          "data": {
            "text/plain": [
              "<Figure size 800x800 with 1 Axes>"
            ],
            "image/png": "[encoded data removed]"
          },
          "metadata": {}
        }
      ]
    },
    {
      "cell_type": "markdown",
      "source": [
        "Como podemos observar casi la mitad son NaN, y eso puede ser problemático a la hora de analizar los países si se diese el caso de que un país tuviese todas o casi todas sus entradas con NaN."
      ],
      "metadata": {
        "id": "qg5BvZuc6vhE"
      }
    },
    {
      "cell_type": "markdown",
      "source": [
        "Veamos cuántos NaNs hay por país en la variable `people_vaccinated`."
      ],
      "metadata": {
        "id": "w3ksXRFX3xpi"
      }
    },
    {
      "cell_type": "code",
      "source": [
        "# TODO: cambiar no puede ser q haya 13 entradas y 18 NaN\n",
        "result = ds.groupby('country')['people_vaccinated'].agg([(\"valores\", \"count\"), (\"NaN\", lambda x: x.isna().sum())])\n",
        "result = result.sort_values(by='valores')\n",
        "result"
      ],
      "metadata": {
        "colab": {
          "base_uri": "https://localhost:8080/",
          "height": 455
        },
        "id": "yO4C6WDe6oMG",
        "outputId": "f1ae80a3-b61c-4cc9-b8aa-2402c6687ebb"
      },
      "execution_count": 60,
      "outputs": [
        {
          "output_type": "execute_result",
          "data": {
            "text/plain": [
              "               valores  NaN\n",
              "country                    \n",
              "Panama               0   28\n",
              "Saudi Arabia         0   40\n",
              "Saint Helena         0    1\n",
              "Liechtenstein        0    8\n",
              "India                0   32\n",
              "...                ...  ...\n",
              "Bahrain             50    5\n",
              "Germany             50    0\n",
              "Italy               51    0\n",
              "Chile               54    0\n",
              "Israel              59    0\n",
              "\n",
              "[90 rows x 2 columns]"
            ],
            "text/html": [
              "\n",
              "  <div id=\"df-cd271a6a-923d-4e68-a4ec-63d0ce205836\" class=\"colab-df-container\">\n",
              "    <div>\n",
              "<style scoped>\n",
              "    .dataframe tbody tr th:only-of-type {\n",
              "        vertical-align: middle;\n",
              "    }\n",
              "\n",
              "    .dataframe tbody tr th {\n",
              "        vertical-align: top;\n",
              "    }\n",
              "\n",
              "    .dataframe thead th {\n",
              "        text-align: right;\n",
              "    }\n",
              "</style>\n",
              "<table border=\"1\" class=\"dataframe\">\n",
              "  <thead>\n",
              "    <tr style=\"text-align: right;\">\n",
              "      <th></th>\n",
              "      <th>valores</th>\n",
              "      <th>NaN</th>\n",
              "    </tr>\n",
              "    <tr>\n",
              "      <th>country</th>\n",
              "      <th></th>\n",
              "      <th></th>\n",
              "    </tr>\n",
              "  </thead>\n",
              "  <tbody>\n",
              "    <tr>\n",
              "      <th>Panama</th>\n",
              "      <td>0</td>\n",
              "      <td>28</td>\n",
              "    </tr>\n",
              "    <tr>\n",
              "      <th>Saudi Arabia</th>\n",
              "      <td>0</td>\n",
              "      <td>40</td>\n",
              "    </tr>\n",
              "    <tr>\n",
              "      <th>Saint Helena</th>\n",
              "      <td>0</td>\n",
              "      <td>1</td>\n",
              "    </tr>\n",
              "    <tr>\n",
              "      <th>Liechtenstein</th>\n",
              "      <td>0</td>\n",
              "      <td>8</td>\n",
              "    </tr>\n",
              "    <tr>\n",
              "      <th>India</th>\n",
              "      <td>0</td>\n",
              "      <td>32</td>\n",
              "    </tr>\n",
              "    <tr>\n",
              "      <th>...</th>\n",
              "      <td>...</td>\n",
              "      <td>...</td>\n",
              "    </tr>\n",
              "    <tr>\n",
              "      <th>Bahrain</th>\n",
              "      <td>50</td>\n",
              "      <td>5</td>\n",
              "    </tr>\n",
              "    <tr>\n",
              "      <th>Germany</th>\n",
              "      <td>50</td>\n",
              "      <td>0</td>\n",
              "    </tr>\n",
              "    <tr>\n",
              "      <th>Italy</th>\n",
              "      <td>51</td>\n",
              "      <td>0</td>\n",
              "    </tr>\n",
              "    <tr>\n",
              "      <th>Chile</th>\n",
              "      <td>54</td>\n",
              "      <td>0</td>\n",
              "    </tr>\n",
              "    <tr>\n",
              "      <th>Israel</th>\n",
              "      <td>59</td>\n",
              "      <td>0</td>\n",
              "    </tr>\n",
              "  </tbody>\n",
              "</table>\n",
              "<p>90 rows × 2 columns</p>\n",
              "</div>\n",
              "    <div class=\"colab-df-buttons\">\n",
              "\n",
              "  <div class=\"colab-df-container\">\n",
              "    <button class=\"colab-df-convert\" onclick=\"convertToInteractive('df-cd271a6a-923d-4e68-a4ec-63d0ce205836')\"\n",
              "            title=\"Convert this dataframe to an interactive table.\"\n",
              "            style=\"display:none;\">\n",
              "\n",
              "  <svg xmlns=\"http://www.w3.org/2000/svg\" height=\"24px\" viewBox=\"0 -960 960 960\">\n",
              "    <path d=\"M120-120v-720h720v720H120Zm60-500h600v-160H180v160Zm220 220h160v-160H400v160Zm0 220h160v-160H400v160ZM180-400h160v-160H180v160Zm440 0h160v-160H620v160ZM180-180h160v-160H180v160Zm440 0h160v-160H620v160Z\"/>\n",
              "  </svg>\n",
              "    </button>\n",
              "\n",
              "  <style>\n",
              "    .colab-df-container {\n",
              "      display:flex;\n",
              "      gap: 12px;\n",
              "    }\n",
              "\n",
              "    .colab-df-convert {\n",
              "      background-color: #E8F0FE;\n",
              "      border: none;\n",
              "      border-radius: 50%;\n",
              "      cursor: pointer;\n",
              "      display: none;\n",
              "      fill: #1967D2;\n",
              "      height: 32px;\n",
              "      padding: 0 0 0 0;\n",
              "      width: 32px;\n",
              "    }\n",
              "\n",
              "    .colab-df-convert:hover {\n",
              "      background-color: #E2EBFA;\n",
              "      box-shadow: 0px 1px 2px rgba(60, 64, 67, 0.3), 0px 1px 3px 1px rgba(60, 64, 67, 0.15);\n",
              "      fill: #174EA6;\n",
              "    }\n",
              "\n",
              "    .colab-df-buttons div {\n",
              "      margin-bottom: 4px;\n",
              "    }\n",
              "\n",
              "    [theme=dark] .colab-df-convert {\n",
              "      background-color: #3B4455;\n",
              "      fill: #D2E3FC;\n",
              "    }\n",
              "\n",
              "    [theme=dark] .colab-df-convert:hover {\n",
              "      background-color: #434B5C;\n",
              "      box-shadow: 0px 1px 3px 1px rgba(0, 0, 0, 0.15);\n",
              "      filter: drop-shadow(0px 1px 2px rgba(0, 0, 0, 0.3));\n",
              "      fill: #FFFFFF;\n",
              "    }\n",
              "  </style>\n",
              "\n",
              "    <script>\n",
              "      const buttonEl =\n",
              "        document.querySelector('#df-cd271a6a-923d-4e68-a4ec-63d0ce205836 button.colab-df-convert');\n",
              "      buttonEl.style.display =\n",
              "        google.colab.kernel.accessAllowed ? 'block' : 'none';\n",
              "\n",
              "      async function convertToInteractive(key) {\n",
              "        const element = document.querySelector('#df-cd271a6a-923d-4e68-a4ec-63d0ce205836');\n",
              "        const dataTable =\n",
              "          await google.colab.kernel.invokeFunction('convertToInteractive',\n",
              "                                                    [key], {});\n",
              "        if (!dataTable) return;\n",
              "\n",
              "        const docLinkHtml = 'Like what you see? Visit the ' +\n",
              "          '<a target=\"_blank\" href=https://colab.research.google.com/notebooks/data_table.ipynb>data table notebook</a>'\n",
              "          + ' to learn more about interactive tables.';\n",
              "        element.innerHTML = '';\n",
              "        dataTable['output_type'] = 'display_data';\n",
              "        await google.colab.output.renderOutput(dataTable, element);\n",
              "        const docLink = document.createElement('div');\n",
              "        docLink.innerHTML = docLinkHtml;\n",
              "        element.appendChild(docLink);\n",
              "      }\n",
              "    </script>\n",
              "  </div>\n",
              "\n",
              "\n",
              "<div id=\"df-21f664f0-9a1f-4dec-ae05-b16943d42b46\">\n",
              "  <button class=\"colab-df-quickchart\" onclick=\"quickchart('df-21f664f0-9a1f-4dec-ae05-b16943d42b46')\"\n",
              "            title=\"Suggest charts\"\n",
              "            style=\"display:none;\">\n",
              "\n",
              "<svg xmlns=\"http://www.w3.org/2000/svg\" height=\"24px\"viewBox=\"0 0 24 24\"\n",
              "     width=\"24px\">\n",
              "    <g>\n",
              "        <path d=\"M19 3H5c-1.1 0-2 .9-2 2v14c0 1.1.9 2 2 2h14c1.1 0 2-.9 2-2V5c0-1.1-.9-2-2-2zM9 17H7v-7h2v7zm4 0h-2V7h2v10zm4 0h-2v-4h2v4z\"/>\n",
              "    </g>\n",
              "</svg>\n",
              "  </button>\n",
              "\n",
              "<style>\n",
              "  .colab-df-quickchart {\n",
              "      --bg-color: #E8F0FE;\n",
              "      --fill-color: #1967D2;\n",
              "      --hover-bg-color: #E2EBFA;\n",
              "      --hover-fill-color: #174EA6;\n",
              "      --disabled-fill-color: #AAA;\n",
              "      --disabled-bg-color: #DDD;\n",
              "  }\n",
              "\n",
              "  [theme=dark] .colab-df-quickchart {\n",
              "      --bg-color: #3B4455;\n",
              "      --fill-color: #D2E3FC;\n",
              "      --hover-bg-color: #434B5C;\n",
              "      --hover-fill-color: #FFFFFF;\n",
              "      --disabled-bg-color: #3B4455;\n",
              "      --disabled-fill-color: #666;\n",
              "  }\n",
              "\n",
              "  .colab-df-quickchart {\n",
              "    background-color: var(--bg-color);\n",
              "    border: none;\n",
              "    border-radius: 50%;\n",
              "    cursor: pointer;\n",
              "    display: none;\n",
              "    fill: var(--fill-color);\n",
              "    height: 32px;\n",
              "    padding: 0;\n",
              "    width: 32px;\n",
              "  }\n",
              "\n",
              "  .colab-df-quickchart:hover {\n",
              "    background-color: var(--hover-bg-color);\n",
              "    box-shadow: 0 1px 2px rgba(60, 64, 67, 0.3), 0 1px 3px 1px rgba(60, 64, 67, 0.15);\n",
              "    fill: var(--button-hover-fill-color);\n",
              "  }\n",
              "\n",
              "  .colab-df-quickchart-complete:disabled,\n",
              "  .colab-df-quickchart-complete:disabled:hover {\n",
              "    background-color: var(--disabled-bg-color);\n",
              "    fill: var(--disabled-fill-color);\n",
              "    box-shadow: none;\n",
              "  }\n",
              "\n",
              "  .colab-df-spinner {\n",
              "    border: 2px solid var(--fill-color);\n",
              "    border-color: transparent;\n",
              "    border-bottom-color: var(--fill-color);\n",
              "    animation:\n",
              "      spin 1s steps(1) infinite;\n",
              "  }\n",
              "\n",
              "  @keyframes spin {\n",
              "    0% {\n",
              "      border-color: transparent;\n",
              "      border-bottom-color: var(--fill-color);\n",
              "      border-left-color: var(--fill-color);\n",
              "    }\n",
              "    20% {\n",
              "      border-color: transparent;\n",
              "      border-left-color: var(--fill-color);\n",
              "      border-top-color: var(--fill-color);\n",
              "    }\n",
              "    30% {\n",
              "      border-color: transparent;\n",
              "      border-left-color: var(--fill-color);\n",
              "      border-top-color: var(--fill-color);\n",
              "      border-right-color: var(--fill-color);\n",
              "    }\n",
              "    40% {\n",
              "      border-color: transparent;\n",
              "      border-right-color: var(--fill-color);\n",
              "      border-top-color: var(--fill-color);\n",
              "    }\n",
              "    60% {\n",
              "      border-color: transparent;\n",
              "      border-right-color: var(--fill-color);\n",
              "    }\n",
              "    80% {\n",
              "      border-color: transparent;\n",
              "      border-right-color: var(--fill-color);\n",
              "      border-bottom-color: var(--fill-color);\n",
              "    }\n",
              "    90% {\n",
              "      border-color: transparent;\n",
              "      border-bottom-color: var(--fill-color);\n",
              "    }\n",
              "  }\n",
              "</style>\n",
              "\n",
              "  <script>\n",
              "    async function quickchart(key) {\n",
              "      const quickchartButtonEl =\n",
              "        document.querySelector('#' + key + ' button');\n",
              "      quickchartButtonEl.disabled = true;  // To prevent multiple clicks.\n",
              "      quickchartButtonEl.classList.add('colab-df-spinner');\n",
              "      try {\n",
              "        const charts = await google.colab.kernel.invokeFunction(\n",
              "            'suggestCharts', [key], {});\n",
              "      } catch (error) {\n",
              "        console.error('Error during call to suggestCharts:', error);\n",
              "      }\n",
              "      quickchartButtonEl.classList.remove('colab-df-spinner');\n",
              "      quickchartButtonEl.classList.add('colab-df-quickchart-complete');\n",
              "    }\n",
              "    (() => {\n",
              "      let quickchartButtonEl =\n",
              "        document.querySelector('#df-21f664f0-9a1f-4dec-ae05-b16943d42b46 button');\n",
              "      quickchartButtonEl.style.display =\n",
              "        google.colab.kernel.accessAllowed ? 'block' : 'none';\n",
              "    })();\n",
              "  </script>\n",
              "</div>\n",
              "    </div>\n",
              "  </div>\n"
            ],
            "application/vnd.google.colaboratory.intrinsic+json": {
              "type": "dataframe",
              "variable_name": "result",
              "summary": "{\n  \"name\": \"result\",\n  \"rows\": 90,\n  \"fields\": [\n    {\n      \"column\": \"valores\",\n      \"properties\": {\n        \"dtype\": \"number\",\n        \"std\": 19,\n        \"min\": 0,\n        \"max\": 59,\n        \"samples\": [\n          24,\n          30,\n          45\n        ],\n        \"num_unique_values\": 34,\n        \"semantic_type\": \"\",\n        \"description\": \"\"\n      }\n    },\n    {\n      \"column\": \"NaN\",\n      \"properties\": {\n        \"dtype\": \"number\",\n        \"std\": 14,\n        \"min\": 0,\n        \"max\": 57,\n        \"samples\": [\n          0,\n          41,\n          9\n        ],\n        \"num_unique_values\": 40,\n        \"semantic_type\": \"\",\n        \"description\": \"\"\n      }\n    }\n  ]\n}"
            }
          },
          "metadata": {},
          "execution_count": 60
        }
      ]
    },
    {
      "cell_type": "code",
      "source": [
        "import matplotlib.pyplot as plt\n",
        "\n",
        "# Crear el gráfico de barras\n",
        "result.plot(kind='bar', stacked=True, figsize=(12, 6))\n",
        "\n",
        "# Personalizar el gráfico\n",
        "plt.title('Número de entradas NaN y no NaN en la columna people_vaccinated por país')\n",
        "plt.xlabel('País')\n",
        "plt.ylabel('Número de entradas')\n",
        "plt.legend(['No NaN', 'NaN'])\n",
        "\n",
        "# Mostrar el gráfico\n",
        "plt.show()"
      ],
      "metadata": {
        "colab": {
          "base_uri": "https://localhost:8080/",
          "height": 720
        },
        "id": "6jqiDEe37c2A",
        "outputId": "287cec9a-a56f-4f3f-f7ff-56f179e4ac4b"
      },
      "execution_count": 61,
      "outputs": [
        {
          "output_type": "display_data",
          "data": {
            "text/plain": [
              "<Figure size 1200x600 with 1 Axes>"
            ],
            "image/png": "[encoded data removed]"
          },
          "metadata": {}
        }
      ]
    },
    {
      "cell_type": "markdown",
      "source": [
        "Observamos que para muchos países no se conoce ningún valor para su columna de `people_vaccinated`.\n",
        "\n",
        "Teniendo en cuenta que para este estudio solo se analizarán los países que más días vacunaron, los NaN podrían suponer un problema si son mayoría en alguno de los países del top que veremos más adelante."
      ],
      "metadata": {
        "id": "xiVskA3op17V"
      }
    },
    {
      "cell_type": "markdown",
      "source": [
        "A continuación ordenamos por país y fecha para mayor claridad en la lectura de los datos."
      ],
      "metadata": {
        "id": "QaftT5maXZnl"
      }
    },
    {
      "cell_type": "code",
      "source": [
        "# Ordenar las filas por país y fecha\n",
        "ds = ds.sort_values(by=['country', 'date'])"
      ],
      "metadata": {
        "id": "myvfSEQ9XbyW"
      },
      "execution_count": 11,
      "outputs": []
    },
    {
      "cell_type": "markdown",
      "source": [
        "# 1.\n",
        "Lo primero será evitar los “missing values” de la columna “people vaccinated”. Para ello\n",
        "cogeremos los valores de los 3 días anteriores (si existen, en caso contrario dos o uno) y su media para\n",
        "rellenar dicha celda."
      ],
      "metadata": {
        "id": "ZCvjs6J-stEn"
      }
    },
    {
      "cell_type": "markdown",
      "source": [
        "Como las filas ya están ordenadas por país y fecha, simplemente hay que tomar la media de las 3 entradas anteriores a un NaN"
      ],
      "metadata": {
        "id": "2_7emhTQxER4"
      }
    },
    {
      "cell_type": "code",
      "source": [
        "# creo una copia de ds para modificarla sin afectar al original\n",
        "df = ds.copy()\n",
        "id(df), id(ds)"
      ],
      "metadata": {
        "colab": {
          "base_uri": "https://localhost:8080/"
        },
        "id": "9h-YadvpDcrb",
        "outputId": "8e0f5273-687d-4756-dfed-1d948fb10a38"
      },
      "execution_count": 12,
      "outputs": [
        {
          "output_type": "execute_result",
          "data": {
            "text/plain": [
              "(133745327453184, 133745327387216)"
            ]
          },
          "metadata": {},
          "execution_count": 12
        }
      ]
    },
    {
      "cell_type": "markdown",
      "source": [
        "Iterando por `ds` cada vez que aparezca un NaN, se establecerá un `start_index` que avanzará en posiciones anteriores, idealmente tomando la media de las 3 entries anteriores. Pero si alguna entry anterior pertenece a un país distinto, no se tendrá en cuenta."
      ],
      "metadata": {
        "id": "Hec0HAzj9ss2"
      }
    },
    {
      "cell_type": "code",
      "source": [
        "# Iterar sobre los NaN y calcular la media de los tres valores anteriores\n",
        "for i, row in df.iterrows():\n",
        "    if pd.isna(row['people_vaccinated']):\n",
        "        # Para las entries que van de 0 a 2 (quedaria negativo al restar 3)\n",
        "        start_index = i\n",
        "        # Para que la primera entry de un pais no utilice datos del pais anterior\n",
        "        for j in range(3):\n",
        "          if start_index>0 and row['country'] == df.at[start_index-j, 'country']:\n",
        "            start_index = start_index-1  # Índice de inicio para calcular la media\n",
        "        end_index = i  # Índice final para calcular la media\n",
        "        mean_value = df.iloc[start_index:end_index]['people_vaccinated'].mean()\n",
        "        df.at[i, 'people_vaccinated'] = mean_value"
      ],
      "metadata": {
        "id": "bV_dV4c11uSm"
      },
      "execution_count": 13,
      "outputs": []
    },
    {
      "cell_type": "code",
      "source": [
        "cantidad_nan = df['people_vaccinated'].isna().sum()"
      ],
      "metadata": {
        "id": "g1kX0Xfe4hUQ"
      },
      "execution_count": 14,
      "outputs": []
    },
    {
      "cell_type": "code",
      "source": [
        "cantidad_nan"
      ],
      "metadata": {
        "id": "B5gBRogf5YhH",
        "outputId": "fd7464d6-2a22-40f7-a2ea-3a088800434e",
        "colab": {
          "base_uri": "https://localhost:8080/"
        }
      },
      "execution_count": 15,
      "outputs": [
        {
          "output_type": "execute_result",
          "data": {
            "text/plain": [
              "0"
            ]
          },
          "metadata": {},
          "execution_count": 15
        }
      ]
    },
    {
      "cell_type": "markdown",
      "source": [
        "Tomamos un ejemplo para ver si el código se ha ejecutado de manera deseada."
      ],
      "metadata": {
        "id": "ezVOyStaw5jD"
      }
    },
    {
      "cell_type": "markdown",
      "source": [
        "Con el dataset original `ds`.\n",
        "- La primera entrada (índice 880) para `people_vaccinated` es 55389.0, y a este valor le suceden NaNs que deberían tomar el valor anterior sucesivamente (ya que no se puede hacer la media con un solo dato).\n",
        "- La octava entrada (índice 887) para `people_vaccinated` es 573858.0 y a este valor le suceden NaNs que deberían tomar el valor de la media entre los 3 valores anteriores que serían: 55389.0, 55389.0 y 573858.0"
      ],
      "metadata": {
        "id": "7FjqnU2lxEV2"
      }
    },
    {
      "cell_type": "code",
      "source": [
        "England = ds[ds['country'] == 'England']\n",
        "England.head(10)"
      ],
      "metadata": {
        "colab": {
          "base_uri": "https://localhost:8080/",
          "height": 730
        },
        "id": "vcrXGug0ZPvT",
        "outputId": "5547c388-ad14-4b4c-af9f-3e438a263c36"
      },
      "execution_count": 16,
      "outputs": [
        {
          "output_type": "execute_result",
          "data": {
            "text/plain": [
              "     country iso_code       date  total_vaccinations  people_vaccinated  \\\n",
              "880  England      NaN 2020-12-13             55389.0            55389.0   \n",
              "881  England      NaN 2020-12-14                 NaN                NaN   \n",
              "882  England      NaN 2020-12-15                 NaN                NaN   \n",
              "883  England      NaN 2020-12-16                 NaN                NaN   \n",
              "884  England      NaN 2020-12-17                 NaN                NaN   \n",
              "885  England      NaN 2020-12-18                 NaN                NaN   \n",
              "886  England      NaN 2020-12-19                 NaN                NaN   \n",
              "887  England      NaN 2020-12-20            573858.0           573858.0   \n",
              "888  England      NaN 2020-12-21                 NaN                NaN   \n",
              "889  England      NaN 2020-12-22                 NaN                NaN   \n",
              "\n",
              "     people_fully_vaccinated  daily_vaccinations_raw  daily_vaccinations  \\\n",
              "880                      NaN                     NaN                 NaN   \n",
              "881                      NaN                     NaN             74067.0   \n",
              "882                      NaN                     NaN             74067.0   \n",
              "883                      NaN                     NaN             74067.0   \n",
              "884                      NaN                     NaN             74067.0   \n",
              "885                      NaN                     NaN             74067.0   \n",
              "886                      NaN                     NaN             74067.0   \n",
              "887                      NaN                     NaN             74067.0   \n",
              "888                      NaN                     NaN             68942.0   \n",
              "889                      NaN                     NaN             63817.0   \n",
              "\n",
              "     total_vaccinations_per_hundred  people_vaccinated_per_hundred  \\\n",
              "880                            0.10                           0.10   \n",
              "881                             NaN                            NaN   \n",
              "882                             NaN                            NaN   \n",
              "883                             NaN                            NaN   \n",
              "884                             NaN                            NaN   \n",
              "885                             NaN                            NaN   \n",
              "886                             NaN                            NaN   \n",
              "887                            1.02                           1.02   \n",
              "888                             NaN                            NaN   \n",
              "889                             NaN                            NaN   \n",
              "\n",
              "     people_fully_vaccinated_per_hundred  daily_vaccinations_per_million  \\\n",
              "880                                  NaN                             NaN   \n",
              "881                                  NaN                          1316.0   \n",
              "882                                  NaN                          1316.0   \n",
              "883                                  NaN                          1316.0   \n",
              "884                                  NaN                          1316.0   \n",
              "885                                  NaN                          1316.0   \n",
              "886                                  NaN                          1316.0   \n",
              "887                                  NaN                          1316.0   \n",
              "888                                  NaN                          1225.0   \n",
              "889                                  NaN                          1134.0   \n",
              "\n",
              "                                vaccines                       source_name  \\\n",
              "880  Oxford/AstraZeneca, Pfizer/BioNTech  Government of the United Kingdom   \n",
              "881  Oxford/AstraZeneca, Pfizer/BioNTech  Government of the United Kingdom   \n",
              "882  Oxford/AstraZeneca, Pfizer/BioNTech  Government of the United Kingdom   \n",
              "883  Oxford/AstraZeneca, Pfizer/BioNTech  Government of the United Kingdom   \n",
              "884  Oxford/AstraZeneca, Pfizer/BioNTech  Government of the United Kingdom   \n",
              "885  Oxford/AstraZeneca, Pfizer/BioNTech  Government of the United Kingdom   \n",
              "886  Oxford/AstraZeneca, Pfizer/BioNTech  Government of the United Kingdom   \n",
              "887  Oxford/AstraZeneca, Pfizer/BioNTech  Government of the United Kingdom   \n",
              "888  Oxford/AstraZeneca, Pfizer/BioNTech  Government of the United Kingdom   \n",
              "889  Oxford/AstraZeneca, Pfizer/BioNTech  Government of the United Kingdom   \n",
              "\n",
              "                                        source_website  \n",
              "880  https://coronavirus.data.gov.uk/details/health...  \n",
              "881  https://coronavirus.data.gov.uk/details/health...  \n",
              "882  https://coronavirus.data.gov.uk/details/health...  \n",
              "883  https://coronavirus.data.gov.uk/details/health...  \n",
              "884  https://coronavirus.data.gov.uk/details/health...  \n",
              "885  https://coronavirus.data.gov.uk/details/health...  \n",
              "886  https://coronavirus.data.gov.uk/details/health...  \n",
              "887  https://coronavirus.data.gov.uk/details/health...  \n",
              "888  https://coronavirus.data.gov.uk/details/health...  \n",
              "889  https://coronavirus.data.gov.uk/details/health...  "
            ],
            "text/html": [
              "\n",
              "  <div id=\"df-58d8e573-680a-4140-b7a8-65335a4259e8\" class=\"colab-df-container\">\n",
              "    <div>\n",
              "<style scoped>\n",
              "    .dataframe tbody tr th:only-of-type {\n",
              "        vertical-align: middle;\n",
              "    }\n",
              "\n",
              "    .dataframe tbody tr th {\n",
              "        vertical-align: top;\n",
              "    }\n",
              "\n",
              "    .dataframe thead th {\n",
              "        text-align: right;\n",
              "    }\n",
              "</style>\n",
              "<table border=\"1\" class=\"dataframe\">\n",
              "  <thead>\n",
              "    <tr style=\"text-align: right;\">\n",
              "      <th></th>\n",
              "      <th>country</th>\n",
              "      <th>iso_code</th>\n",
              "      <th>date</th>\n",
              "      <th>total_vaccinations</th>\n",
              "      <th>people_vaccinated</th>\n",
              "      <th>people_fully_vaccinated</th>\n",
              "      <th>daily_vaccinations_raw</th>\n",
              "      <th>daily_vaccinations</th>\n",
              "      <th>total_vaccinations_per_hundred</th>\n",
              "      <th>people_vaccinated_per_hundred</th>\n",
              "      <th>people_fully_vaccinated_per_hundred</th>\n",
              "      <th>daily_vaccinations_per_million</th>\n",
              "      <th>vaccines</th>\n",
              "      <th>source_name</th>\n",
              "      <th>source_website</th>\n",
              "    </tr>\n",
              "  </thead>\n",
              "  <tbody>\n",
              "    <tr>\n",
              "      <th>880</th>\n",
              "      <td>England</td>\n",
              "      <td>NaN</td>\n",
              "      <td>2020-12-13</td>\n",
              "      <td>55389.0</td>\n",
              "      <td>55389.0</td>\n",
              "      <td>NaN</td>\n",
              "      <td>NaN</td>\n",
              "      <td>NaN</td>\n",
              "      <td>0.10</td>\n",
              "      <td>0.10</td>\n",
              "      <td>NaN</td>\n",
              "      <td>NaN</td>\n",
              "      <td>Oxford/AstraZeneca, Pfizer/BioNTech</td>\n",
              "      <td>Government of the United Kingdom</td>\n",
              "      <td>https://coronavirus.data.gov.uk/details/health...</td>\n",
              "    </tr>\n",
              "    <tr>\n",
              "      <th>881</th>\n",
              "      <td>England</td>\n",
              "      <td>NaN</td>\n",
              "      <td>2020-12-14</td>\n",
              "      <td>NaN</td>\n",
              "      <td>NaN</td>\n",
              "      <td>NaN</td>\n",
              "      <td>NaN</td>\n",
              "      <td>74067.0</td>\n",
              "      <td>NaN</td>\n",
              "      <td>NaN</td>\n",
              "      <td>NaN</td>\n",
              "      <td>1316.0</td>\n",
              "      <td>Oxford/AstraZeneca, Pfizer/BioNTech</td>\n",
              "      <td>Government of the United Kingdom</td>\n",
              "      <td>https://coronavirus.data.gov.uk/details/health...</td>\n",
              "    </tr>\n",
              "    <tr>\n",
              "      <th>882</th>\n",
              "      <td>England</td>\n",
              "      <td>NaN</td>\n",
              "      <td>2020-12-15</td>\n",
              "      <td>NaN</td>\n",
              "      <td>NaN</td>\n",
              "      <td>NaN</td>\n",
              "      <td>NaN</td>\n",
              "      <td>74067.0</td>\n",
              "      <td>NaN</td>\n",
              "      <td>NaN</td>\n",
              "      <td>NaN</td>\n",
              "      <td>1316.0</td>\n",
              "      <td>Oxford/AstraZeneca, Pfizer/BioNTech</td>\n",
              "      <td>Government of the United Kingdom</td>\n",
              "      <td>https://coronavirus.data.gov.uk/details/health...</td>\n",
              "    </tr>\n",
              "    <tr>\n",
              "      <th>883</th>\n",
              "      <td>England</td>\n",
              "      <td>NaN</td>\n",
              "      <td>2020-12-16</td>\n",
              "      <td>NaN</td>\n",
              "      <td>NaN</td>\n",
              "      <td>NaN</td>\n",
              "      <td>NaN</td>\n",
              "      <td>74067.0</td>\n",
              "      <td>NaN</td>\n",
              "      <td>NaN</td>\n",
              "      <td>NaN</td>\n",
              "      <td>1316.0</td>\n",
              "      <td>Oxford/AstraZeneca, Pfizer/BioNTech</td>\n",
              "      <td>Government of the United Kingdom</td>\n",
              "      <td>https://coronavirus.data.gov.uk/details/health...</td>\n",
              "    </tr>\n",
              "    <tr>\n",
              "      <th>884</th>\n",
              "      <td>England</td>\n",
              "      <td>NaN</td>\n",
              "      <td>2020-12-17</td>\n",
              "      <td>NaN</td>\n",
              "      <td>NaN</td>\n",
              "      <td>NaN</td>\n",
              "      <td>NaN</td>\n",
              "      <td>74067.0</td>\n",
              "      <td>NaN</td>\n",
              "      <td>NaN</td>\n",
              "      <td>NaN</td>\n",
              "      <td>1316.0</td>\n",
              "      <td>Oxford/AstraZeneca, Pfizer/BioNTech</td>\n",
              "      <td>Government of the United Kingdom</td>\n",
              "      <td>https://coronavirus.data.gov.uk/details/health...</td>\n",
              "    </tr>\n",
              "    <tr>\n",
              "      <th>885</th>\n",
              "      <td>England</td>\n",
              "      <td>NaN</td>\n",
              "      <td>2020-12-18</td>\n",
              "      <td>NaN</td>\n",
              "      <td>NaN</td>\n",
              "      <td>NaN</td>\n",
              "      <td>NaN</td>\n",
              "      <td>74067.0</td>\n",
              "      <td>NaN</td>\n",
              "      <td>NaN</td>\n",
              "      <td>NaN</td>\n",
              "      <td>1316.0</td>\n",
              "      <td>Oxford/AstraZeneca, Pfizer/BioNTech</td>\n",
              "      <td>Government of the United Kingdom</td>\n",
              "      <td>https://coronavirus.data.gov.uk/details/health...</td>\n",
              "    </tr>\n",
              "    <tr>\n",
              "      <th>886</th>\n",
              "      <td>England</td>\n",
              "      <td>NaN</td>\n",
              "      <td>2020-12-19</td>\n",
              "      <td>NaN</td>\n",
              "      <td>NaN</td>\n",
              "      <td>NaN</td>\n",
              "      <td>NaN</td>\n",
              "      <td>74067.0</td>\n",
              "      <td>NaN</td>\n",
              "      <td>NaN</td>\n",
              "      <td>NaN</td>\n",
              "      <td>1316.0</td>\n",
              "      <td>Oxford/AstraZeneca, Pfizer/BioNTech</td>\n",
              "      <td>Government of the United Kingdom</td>\n",
              "      <td>https://coronavirus.data.gov.uk/details/health...</td>\n",
              "    </tr>\n",
              "    <tr>\n",
              "      <th>887</th>\n",
              "      <td>England</td>\n",
              "      <td>NaN</td>\n",
              "      <td>2020-12-20</td>\n",
              "      <td>573858.0</td>\n",
              "      <td>573858.0</td>\n",
              "      <td>NaN</td>\n",
              "      <td>NaN</td>\n",
              "      <td>74067.0</td>\n",
              "      <td>1.02</td>\n",
              "      <td>1.02</td>\n",
              "      <td>NaN</td>\n",
              "      <td>1316.0</td>\n",
              "      <td>Oxford/AstraZeneca, Pfizer/BioNTech</td>\n",
              "      <td>Government of the United Kingdom</td>\n",
              "      <td>https://coronavirus.data.gov.uk/details/health...</td>\n",
              "    </tr>\n",
              "    <tr>\n",
              "      <th>888</th>\n",
              "      <td>England</td>\n",
              "      <td>NaN</td>\n",
              "      <td>2020-12-21</td>\n",
              "      <td>NaN</td>\n",
              "      <td>NaN</td>\n",
              "      <td>NaN</td>\n",
              "      <td>NaN</td>\n",
              "      <td>68942.0</td>\n",
              "      <td>NaN</td>\n",
              "      <td>NaN</td>\n",
              "      <td>NaN</td>\n",
              "      <td>1225.0</td>\n",
              "      <td>Oxford/AstraZeneca, Pfizer/BioNTech</td>\n",
              "      <td>Government of the United Kingdom</td>\n",
              "      <td>https://coronavirus.data.gov.uk/details/health...</td>\n",
              "    </tr>\n",
              "    <tr>\n",
              "      <th>889</th>\n",
              "      <td>England</td>\n",
              "      <td>NaN</td>\n",
              "      <td>2020-12-22</td>\n",
              "      <td>NaN</td>\n",
              "      <td>NaN</td>\n",
              "      <td>NaN</td>\n",
              "      <td>NaN</td>\n",
              "      <td>63817.0</td>\n",
              "      <td>NaN</td>\n",
              "      <td>NaN</td>\n",
              "      <td>NaN</td>\n",
              "      <td>1134.0</td>\n",
              "      <td>Oxford/AstraZeneca, Pfizer/BioNTech</td>\n",
              "      <td>Government of the United Kingdom</td>\n",
              "      <td>https://coronavirus.data.gov.uk/details/health...</td>\n",
              "    </tr>\n",
              "  </tbody>\n",
              "</table>\n",
              "</div>\n",
              "    <div class=\"colab-df-buttons\">\n",
              "\n",
              "  <div class=\"colab-df-container\">\n",
              "    <button class=\"colab-df-convert\" onclick=\"convertToInteractive('df-58d8e573-680a-4140-b7a8-65335a4259e8')\"\n",
              "            title=\"Convert this dataframe to an interactive table.\"\n",
              "            style=\"display:none;\">\n",
              "\n",
              "  <svg xmlns=\"http://www.w3.org/2000/svg\" height=\"24px\" viewBox=\"0 -960 960 960\">\n",
              "    <path d=\"M120-120v-720h720v720H120Zm60-500h600v-160H180v160Zm220 220h160v-160H400v160Zm0 220h160v-160H400v160ZM180-400h160v-160H180v160Zm440 0h160v-160H620v160ZM180-180h160v-160H180v160Zm440 0h160v-160H620v160Z\"/>\n",
              "  </svg>\n",
              "    </button>\n",
              "\n",
              "  <style>\n",
              "    .colab-df-container {\n",
              "      display:flex;\n",
              "      gap: 12px;\n",
              "    }\n",
              "\n",
              "    .colab-df-convert {\n",
              "      background-color: #E8F0FE;\n",
              "      border: none;\n",
              "      border-radius: 50%;\n",
              "      cursor: pointer;\n",
              "      display: none;\n",
              "      fill: #1967D2;\n",
              "      height: 32px;\n",
              "      padding: 0 0 0 0;\n",
              "      width: 32px;\n",
              "    }\n",
              "\n",
              "    .colab-df-convert:hover {\n",
              "      background-color: #E2EBFA;\n",
              "      box-shadow: 0px 1px 2px rgba(60, 64, 67, 0.3), 0px 1px 3px 1px rgba(60, 64, 67, 0.15);\n",
              "      fill: #174EA6;\n",
              "    }\n",
              "\n",
              "    .colab-df-buttons div {\n",
              "      margin-bottom: 4px;\n",
              "    }\n",
              "\n",
              "    [theme=dark] .colab-df-convert {\n",
              "      background-color: #3B4455;\n",
              "      fill: #D2E3FC;\n",
              "    }\n",
              "\n",
              "    [theme=dark] .colab-df-convert:hover {\n",
              "      background-color: #434B5C;\n",
              "      box-shadow: 0px 1px 3px 1px rgba(0, 0, 0, 0.15);\n",
              "      filter: drop-shadow(0px 1px 2px rgba(0, 0, 0, 0.3));\n",
              "      fill: #FFFFFF;\n",
              "    }\n",
              "  </style>\n",
              "\n",
              "    <script>\n",
              "      const buttonEl =\n",
              "        document.querySelector('#df-58d8e573-680a-4140-b7a8-65335a4259e8 button.colab-df-convert');\n",
              "      buttonEl.style.display =\n",
              "        google.colab.kernel.accessAllowed ? 'block' : 'none';\n",
              "\n",
              "      async function convertToInteractive(key) {\n",
              "        const element = document.querySelector('#df-58d8e573-680a-4140-b7a8-65335a4259e8');\n",
              "        const dataTable =\n",
              "          await google.colab.kernel.invokeFunction('convertToInteractive',\n",
              "                                                    [key], {});\n",
              "        if (!dataTable) return;\n",
              "\n",
              "        const docLinkHtml = 'Like what you see? Visit the ' +\n",
              "          '<a target=\"_blank\" href=https://colab.research.google.com/notebooks/data_table.ipynb>data table notebook</a>'\n",
              "          + ' to learn more about interactive tables.';\n",
              "        element.innerHTML = '';\n",
              "        dataTable['output_type'] = 'display_data';\n",
              "        await google.colab.output.renderOutput(dataTable, element);\n",
              "        const docLink = document.createElement('div');\n",
              "        docLink.innerHTML = docLinkHtml;\n",
              "        element.appendChild(docLink);\n",
              "      }\n",
              "    </script>\n",
              "  </div>\n",
              "\n",
              "\n",
              "<div id=\"df-24ea663f-bb34-4ab6-a9d7-eb0bcdc9f5a5\">\n",
              "  <button class=\"colab-df-quickchart\" onclick=\"quickchart('df-24ea663f-bb34-4ab6-a9d7-eb0bcdc9f5a5')\"\n",
              "            title=\"Suggest charts\"\n",
              "            style=\"display:none;\">\n",
              "\n",
              "<svg xmlns=\"http://www.w3.org/2000/svg\" height=\"24px\"viewBox=\"0 0 24 24\"\n",
              "     width=\"24px\">\n",
              "    <g>\n",
              "        <path d=\"M19 3H5c-1.1 0-2 .9-2 2v14c0 1.1.9 2 2 2h14c1.1 0 2-.9 2-2V5c0-1.1-.9-2-2-2zM9 17H7v-7h2v7zm4 0h-2V7h2v10zm4 0h-2v-4h2v4z\"/>\n",
              "    </g>\n",
              "</svg>\n",
              "  </button>\n",
              "\n",
              "<style>\n",
              "  .colab-df-quickchart {\n",
              "      --bg-color: #E8F0FE;\n",
              "      --fill-color: #1967D2;\n",
              "      --hover-bg-color: #E2EBFA;\n",
              "      --hover-fill-color: #174EA6;\n",
              "      --disabled-fill-color: #AAA;\n",
              "      --disabled-bg-color: #DDD;\n",
              "  }\n",
              "\n",
              "  [theme=dark] .colab-df-quickchart {\n",
              "      --bg-color: #3B4455;\n",
              "      --fill-color: #D2E3FC;\n",
              "      --hover-bg-color: #434B5C;\n",
              "      --hover-fill-color: #FFFFFF;\n",
              "      --disabled-bg-color: #3B4455;\n",
              "      --disabled-fill-color: #666;\n",
              "  }\n",
              "\n",
              "  .colab-df-quickchart {\n",
              "    background-color: var(--bg-color);\n",
              "    border: none;\n",
              "    border-radius: 50%;\n",
              "    cursor: pointer;\n",
              "    display: none;\n",
              "    fill: var(--fill-color);\n",
              "    height: 32px;\n",
              "    padding: 0;\n",
              "    width: 32px;\n",
              "  }\n",
              "\n",
              "  .colab-df-quickchart:hover {\n",
              "    background-color: var(--hover-bg-color);\n",
              "    box-shadow: 0 1px 2px rgba(60, 64, 67, 0.3), 0 1px 3px 1px rgba(60, 64, 67, 0.15);\n",
              "    fill: var(--button-hover-fill-color);\n",
              "  }\n",
              "\n",
              "  .colab-df-quickchart-complete:disabled,\n",
              "  .colab-df-quickchart-complete:disabled:hover {\n",
              "    background-color: var(--disabled-bg-color);\n",
              "    fill: var(--disabled-fill-color);\n",
              "    box-shadow: none;\n",
              "  }\n",
              "\n",
              "  .colab-df-spinner {\n",
              "    border: 2px solid var(--fill-color);\n",
              "    border-color: transparent;\n",
              "    border-bottom-color: var(--fill-color);\n",
              "    animation:\n",
              "      spin 1s steps(1) infinite;\n",
              "  }\n",
              "\n",
              "  @keyframes spin {\n",
              "    0% {\n",
              "      border-color: transparent;\n",
              "      border-bottom-color: var(--fill-color);\n",
              "      border-left-color: var(--fill-color);\n",
              "    }\n",
              "    20% {\n",
              "      border-color: transparent;\n",
              "      border-left-color: var(--fill-color);\n",
              "      border-top-color: var(--fill-color);\n",
              "    }\n",
              "    30% {\n",
              "      border-color: transparent;\n",
              "      border-left-color: var(--fill-color);\n",
              "      border-top-color: var(--fill-color);\n",
              "      border-right-color: var(--fill-color);\n",
              "    }\n",
              "    40% {\n",
              "      border-color: transparent;\n",
              "      border-right-color: var(--fill-color);\n",
              "      border-top-color: var(--fill-color);\n",
              "    }\n",
              "    60% {\n",
              "      border-color: transparent;\n",
              "      border-right-color: var(--fill-color);\n",
              "    }\n",
              "    80% {\n",
              "      border-color: transparent;\n",
              "      border-right-color: var(--fill-color);\n",
              "      border-bottom-color: var(--fill-color);\n",
              "    }\n",
              "    90% {\n",
              "      border-color: transparent;\n",
              "      border-bottom-color: var(--fill-color);\n",
              "    }\n",
              "  }\n",
              "</style>\n",
              "\n",
              "  <script>\n",
              "    async function quickchart(key) {\n",
              "      const quickchartButtonEl =\n",
              "        document.querySelector('#' + key + ' button');\n",
              "      quickchartButtonEl.disabled = true;  // To prevent multiple clicks.\n",
              "      quickchartButtonEl.classList.add('colab-df-spinner');\n",
              "      try {\n",
              "        const charts = await google.colab.kernel.invokeFunction(\n",
              "            'suggestCharts', [key], {});\n",
              "      } catch (error) {\n",
              "        console.error('Error during call to suggestCharts:', error);\n",
              "      }\n",
              "      quickchartButtonEl.classList.remove('colab-df-spinner');\n",
              "      quickchartButtonEl.classList.add('colab-df-quickchart-complete');\n",
              "    }\n",
              "    (() => {\n",
              "      let quickchartButtonEl =\n",
              "        document.querySelector('#df-24ea663f-bb34-4ab6-a9d7-eb0bcdc9f5a5 button');\n",
              "      quickchartButtonEl.style.display =\n",
              "        google.colab.kernel.accessAllowed ? 'block' : 'none';\n",
              "    })();\n",
              "  </script>\n",
              "</div>\n",
              "    </div>\n",
              "  </div>\n"
            ],
            "application/vnd.google.colaboratory.intrinsic+json": {
              "type": "dataframe",
              "variable_name": "England",
              "repr_error": "0"
            }
          },
          "metadata": {},
          "execution_count": 16
        }
      ]
    },
    {
      "cell_type": "markdown",
      "source": [
        "Haciendo la media manualmente:"
      ],
      "metadata": {
        "id": "q699-ScFzRtQ"
      }
    },
    {
      "cell_type": "code",
      "source": [
        "media = (England.at[880,'people_vaccinated'] + England.at[880,'people_vaccinated'] + England.at[887,'people_vaccinated']) / 3 # valor esperado para el indice 888\n",
        "print(media)"
      ],
      "metadata": {
        "colab": {
          "base_uri": "https://localhost:8080/"
        },
        "id": "GaRkIg7DzTV2",
        "outputId": "3a7cce37-73c7-4cb3-cb4d-b8c3ee90634c"
      },
      "execution_count": 17,
      "outputs": [
        {
          "output_type": "stream",
          "name": "stdout",
          "text": [
            "228212.0\n"
          ]
        }
      ]
    },
    {
      "cell_type": "markdown",
      "source": [
        "Ahora mostramos `df` que es el dataset modificado sin NaNs, y verificamos que sus valores coinciden con los esperados."
      ],
      "metadata": {
        "id": "iDghaGQc08Xa"
      }
    },
    {
      "cell_type": "code",
      "source": [
        "England2= df[df['country'] == 'England']\n",
        "England2.head(10)"
      ],
      "metadata": {
        "colab": {
          "base_uri": "https://localhost:8080/",
          "height": 730
        },
        "id": "ijldHPl_ZnWB",
        "outputId": "6371d865-9948-476c-af12-3fe8abf82efd"
      },
      "execution_count": 18,
      "outputs": [
        {
          "output_type": "execute_result",
          "data": {
            "text/plain": [
              "     country iso_code       date  total_vaccinations  people_vaccinated  \\\n",
              "880  England      NaN 2020-12-13             55389.0       55389.000000   \n",
              "881  England      NaN 2020-12-14                 NaN       55389.000000   \n",
              "882  England      NaN 2020-12-15                 NaN       55389.000000   \n",
              "883  England      NaN 2020-12-16                 NaN       55389.000000   \n",
              "884  England      NaN 2020-12-17                 NaN       55389.000000   \n",
              "885  England      NaN 2020-12-18                 NaN       55389.000000   \n",
              "886  England      NaN 2020-12-19                 NaN       55389.000000   \n",
              "887  England      NaN 2020-12-20            573858.0      573858.000000   \n",
              "888  England      NaN 2020-12-21                 NaN      228212.000000   \n",
              "889  England      NaN 2020-12-22                 NaN      285819.666667   \n",
              "\n",
              "     people_fully_vaccinated  daily_vaccinations_raw  daily_vaccinations  \\\n",
              "880                      NaN                     NaN                 NaN   \n",
              "881                      NaN                     NaN             74067.0   \n",
              "882                      NaN                     NaN             74067.0   \n",
              "883                      NaN                     NaN             74067.0   \n",
              "884                      NaN                     NaN             74067.0   \n",
              "885                      NaN                     NaN             74067.0   \n",
              "886                      NaN                     NaN             74067.0   \n",
              "887                      NaN                     NaN             74067.0   \n",
              "888                      NaN                     NaN             68942.0   \n",
              "889                      NaN                     NaN             63817.0   \n",
              "\n",
              "     total_vaccinations_per_hundred  people_vaccinated_per_hundred  \\\n",
              "880                            0.10                           0.10   \n",
              "881                             NaN                            NaN   \n",
              "882                             NaN                            NaN   \n",
              "883                             NaN                            NaN   \n",
              "884                             NaN                            NaN   \n",
              "885                             NaN                            NaN   \n",
              "886                             NaN                            NaN   \n",
              "887                            1.02                           1.02   \n",
              "888                             NaN                            NaN   \n",
              "889                             NaN                            NaN   \n",
              "\n",
              "     people_fully_vaccinated_per_hundred  daily_vaccinations_per_million  \\\n",
              "880                                  NaN                             NaN   \n",
              "881                                  NaN                          1316.0   \n",
              "882                                  NaN                          1316.0   \n",
              "883                                  NaN                          1316.0   \n",
              "884                                  NaN                          1316.0   \n",
              "885                                  NaN                          1316.0   \n",
              "886                                  NaN                          1316.0   \n",
              "887                                  NaN                          1316.0   \n",
              "888                                  NaN                          1225.0   \n",
              "889                                  NaN                          1134.0   \n",
              "\n",
              "                                vaccines                       source_name  \\\n",
              "880  Oxford/AstraZeneca, Pfizer/BioNTech  Government of the United Kingdom   \n",
              "881  Oxford/AstraZeneca, Pfizer/BioNTech  Government of the United Kingdom   \n",
              "882  Oxford/AstraZeneca, Pfizer/BioNTech  Government of the United Kingdom   \n",
              "883  Oxford/AstraZeneca, Pfizer/BioNTech  Government of the United Kingdom   \n",
              "884  Oxford/AstraZeneca, Pfizer/BioNTech  Government of the United Kingdom   \n",
              "885  Oxford/AstraZeneca, Pfizer/BioNTech  Government of the United Kingdom   \n",
              "886  Oxford/AstraZeneca, Pfizer/BioNTech  Government of the United Kingdom   \n",
              "887  Oxford/AstraZeneca, Pfizer/BioNTech  Government of the United Kingdom   \n",
              "888  Oxford/AstraZeneca, Pfizer/BioNTech  Government of the United Kingdom   \n",
              "889  Oxford/AstraZeneca, Pfizer/BioNTech  Government of the United Kingdom   \n",
              "\n",
              "                                        source_website  \n",
              "880  https://coronavirus.data.gov.uk/details/health...  \n",
              "881  https://coronavirus.data.gov.uk/details/health...  \n",
              "882  https://coronavirus.data.gov.uk/details/health...  \n",
              "883  https://coronavirus.data.gov.uk/details/health...  \n",
              "884  https://coronavirus.data.gov.uk/details/health...  \n",
              "885  https://coronavirus.data.gov.uk/details/health...  \n",
              "886  https://coronavirus.data.gov.uk/details/health...  \n",
              "887  https://coronavirus.data.gov.uk/details/health...  \n",
              "888  https://coronavirus.data.gov.uk/details/health...  \n",
              "889  https://coronavirus.data.gov.uk/details/health...  "
            ],
            "text/html": [
              "\n",
              "  <div id=\"df-8ee085d4-efc1-4f94-b11e-3dc863dc9bc8\" class=\"colab-df-container\">\n",
              "    <div>\n",
              "<style scoped>\n",
              "    .dataframe tbody tr th:only-of-type {\n",
              "        vertical-align: middle;\n",
              "    }\n",
              "\n",
              "    .dataframe tbody tr th {\n",
              "        vertical-align: top;\n",
              "    }\n",
              "\n",
              "    .dataframe thead th {\n",
              "        text-align: right;\n",
              "    }\n",
              "</style>\n",
              "<table border=\"1\" class=\"dataframe\">\n",
              "  <thead>\n",
              "    <tr style=\"text-align: right;\">\n",
              "      <th></th>\n",
              "      <th>country</th>\n",
              "      <th>iso_code</th>\n",
              "      <th>date</th>\n",
              "      <th>total_vaccinations</th>\n",
              "      <th>people_vaccinated</th>\n",
              "      <th>people_fully_vaccinated</th>\n",
              "      <th>daily_vaccinations_raw</th>\n",
              "      <th>daily_vaccinations</th>\n",
              "      <th>total_vaccinations_per_hundred</th>\n",
              "      <th>people_vaccinated_per_hundred</th>\n",
              "      <th>people_fully_vaccinated_per_hundred</th>\n",
              "      <th>daily_vaccinations_per_million</th>\n",
              "      <th>vaccines</th>\n",
              "      <th>source_name</th>\n",
              "      <th>source_website</th>\n",
              "    </tr>\n",
              "  </thead>\n",
              "  <tbody>\n",
              "    <tr>\n",
              "      <th>880</th>\n",
              "      <td>England</td>\n",
              "      <td>NaN</td>\n",
              "      <td>2020-12-13</td>\n",
              "      <td>55389.0</td>\n",
              "      <td>55389.000000</td>\n",
              "      <td>NaN</td>\n",
              "      <td>NaN</td>\n",
              "      <td>NaN</td>\n",
              "      <td>0.10</td>\n",
              "      <td>0.10</td>\n",
              "      <td>NaN</td>\n",
              "      <td>NaN</td>\n",
              "      <td>Oxford/AstraZeneca, Pfizer/BioNTech</td>\n",
              "      <td>Government of the United Kingdom</td>\n",
              "      <td>https://coronavirus.data.gov.uk/details/health...</td>\n",
              "    </tr>\n",
              "    <tr>\n",
              "      <th>881</th>\n",
              "      <td>England</td>\n",
              "      <td>NaN</td>\n",
              "      <td>2020-12-14</td>\n",
              "      <td>NaN</td>\n",
              "      <td>55389.000000</td>\n",
              "      <td>NaN</td>\n",
              "      <td>NaN</td>\n",
              "      <td>74067.0</td>\n",
              "      <td>NaN</td>\n",
              "      <td>NaN</td>\n",
              "      <td>NaN</td>\n",
              "      <td>1316.0</td>\n",
              "      <td>Oxford/AstraZeneca, Pfizer/BioNTech</td>\n",
              "      <td>Government of the United Kingdom</td>\n",
              "      <td>https://coronavirus.data.gov.uk/details/health...</td>\n",
              "    </tr>\n",
              "    <tr>\n",
              "      <th>882</th>\n",
              "      <td>England</td>\n",
              "      <td>NaN</td>\n",
              "      <td>2020-12-15</td>\n",
              "      <td>NaN</td>\n",
              "      <td>55389.000000</td>\n",
              "      <td>NaN</td>\n",
              "      <td>NaN</td>\n",
              "      <td>74067.0</td>\n",
              "      <td>NaN</td>\n",
              "      <td>NaN</td>\n",
              "      <td>NaN</td>\n",
              "      <td>1316.0</td>\n",
              "      <td>Oxford/AstraZeneca, Pfizer/BioNTech</td>\n",
              "      <td>Government of the United Kingdom</td>\n",
              "      <td>https://coronavirus.data.gov.uk/details/health...</td>\n",
              "    </tr>\n",
              "    <tr>\n",
              "      <th>883</th>\n",
              "      <td>England</td>\n",
              "      <td>NaN</td>\n",
              "      <td>2020-12-16</td>\n",
              "      <td>NaN</td>\n",
              "      <td>55389.000000</td>\n",
              "      <td>NaN</td>\n",
              "      <td>NaN</td>\n",
              "      <td>74067.0</td>\n",
              "      <td>NaN</td>\n",
              "      <td>NaN</td>\n",
              "      <td>NaN</td>\n",
              "      <td>1316.0</td>\n",
              "      <td>Oxford/AstraZeneca, Pfizer/BioNTech</td>\n",
              "      <td>Government of the United Kingdom</td>\n",
              "      <td>https://coronavirus.data.gov.uk/details/health...</td>\n",
              "    </tr>\n",
              "    <tr>\n",
              "      <th>884</th>\n",
              "      <td>England</td>\n",
              "      <td>NaN</td>\n",
              "      <td>2020-12-17</td>\n",
              "      <td>NaN</td>\n",
              "      <td>55389.000000</td>\n",
              "      <td>NaN</td>\n",
              "      <td>NaN</td>\n",
              "      <td>74067.0</td>\n",
              "      <td>NaN</td>\n",
              "      <td>NaN</td>\n",
              "      <td>NaN</td>\n",
              "      <td>1316.0</td>\n",
              "      <td>Oxford/AstraZeneca, Pfizer/BioNTech</td>\n",
              "      <td>Government of the United Kingdom</td>\n",
              "      <td>https://coronavirus.data.gov.uk/details/health...</td>\n",
              "    </tr>\n",
              "    <tr>\n",
              "      <th>885</th>\n",
              "      <td>England</td>\n",
              "      <td>NaN</td>\n",
              "      <td>2020-12-18</td>\n",
              "      <td>NaN</td>\n",
              "      <td>55389.000000</td>\n",
              "      <td>NaN</td>\n",
              "      <td>NaN</td>\n",
              "      <td>74067.0</td>\n",
              "      <td>NaN</td>\n",
              "      <td>NaN</td>\n",
              "      <td>NaN</td>\n",
              "      <td>1316.0</td>\n",
              "      <td>Oxford/AstraZeneca, Pfizer/BioNTech</td>\n",
              "      <td>Government of the United Kingdom</td>\n",
              "      <td>https://coronavirus.data.gov.uk/details/health...</td>\n",
              "    </tr>\n",
              "    <tr>\n",
              "      <th>886</th>\n",
              "      <td>England</td>\n",
              "      <td>NaN</td>\n",
              "      <td>2020-12-19</td>\n",
              "      <td>NaN</td>\n",
              "      <td>55389.000000</td>\n",
              "      <td>NaN</td>\n",
              "      <td>NaN</td>\n",
              "      <td>74067.0</td>\n",
              "      <td>NaN</td>\n",
              "      <td>NaN</td>\n",
              "      <td>NaN</td>\n",
              "      <td>1316.0</td>\n",
              "      <td>Oxford/AstraZeneca, Pfizer/BioNTech</td>\n",
              "      <td>Government of the United Kingdom</td>\n",
              "      <td>https://coronavirus.data.gov.uk/details/health...</td>\n",
              "    </tr>\n",
              "    <tr>\n",
              "      <th>887</th>\n",
              "      <td>England</td>\n",
              "      <td>NaN</td>\n",
              "      <td>2020-12-20</td>\n",
              "      <td>573858.0</td>\n",
              "      <td>573858.000000</td>\n",
              "      <td>NaN</td>\n",
              "      <td>NaN</td>\n",
              "      <td>74067.0</td>\n",
              "      <td>1.02</td>\n",
              "      <td>1.02</td>\n",
              "      <td>NaN</td>\n",
              "      <td>1316.0</td>\n",
              "      <td>Oxford/AstraZeneca, Pfizer/BioNTech</td>\n",
              "      <td>Government of the United Kingdom</td>\n",
              "      <td>https://coronavirus.data.gov.uk/details/health...</td>\n",
              "    </tr>\n",
              "    <tr>\n",
              "      <th>888</th>\n",
              "      <td>England</td>\n",
              "      <td>NaN</td>\n",
              "      <td>2020-12-21</td>\n",
              "      <td>NaN</td>\n",
              "      <td>228212.000000</td>\n",
              "      <td>NaN</td>\n",
              "      <td>NaN</td>\n",
              "      <td>68942.0</td>\n",
              "      <td>NaN</td>\n",
              "      <td>NaN</td>\n",
              "      <td>NaN</td>\n",
              "      <td>1225.0</td>\n",
              "      <td>Oxford/AstraZeneca, Pfizer/BioNTech</td>\n",
              "      <td>Government of the United Kingdom</td>\n",
              "      <td>https://coronavirus.data.gov.uk/details/health...</td>\n",
              "    </tr>\n",
              "    <tr>\n",
              "      <th>889</th>\n",
              "      <td>England</td>\n",
              "      <td>NaN</td>\n",
              "      <td>2020-12-22</td>\n",
              "      <td>NaN</td>\n",
              "      <td>285819.666667</td>\n",
              "      <td>NaN</td>\n",
              "      <td>NaN</td>\n",
              "      <td>63817.0</td>\n",
              "      <td>NaN</td>\n",
              "      <td>NaN</td>\n",
              "      <td>NaN</td>\n",
              "      <td>1134.0</td>\n",
              "      <td>Oxford/AstraZeneca, Pfizer/BioNTech</td>\n",
              "      <td>Government of the United Kingdom</td>\n",
              "      <td>https://coronavirus.data.gov.uk/details/health...</td>\n",
              "    </tr>\n",
              "  </tbody>\n",
              "</table>\n",
              "</div>\n",
              "    <div class=\"colab-df-buttons\">\n",
              "\n",
              "  <div class=\"colab-df-container\">\n",
              "    <button class=\"colab-df-convert\" onclick=\"convertToInteractive('df-8ee085d4-efc1-4f94-b11e-3dc863dc9bc8')\"\n",
              "            title=\"Convert this dataframe to an interactive table.\"\n",
              "            style=\"display:none;\">\n",
              "\n",
              "  <svg xmlns=\"http://www.w3.org/2000/svg\" height=\"24px\" viewBox=\"0 -960 960 960\">\n",
              "    <path d=\"M120-120v-720h720v720H120Zm60-500h600v-160H180v160Zm220 220h160v-160H400v160Zm0 220h160v-160H400v160ZM180-400h160v-160H180v160Zm440 0h160v-160H620v160ZM180-180h160v-160H180v160Zm440 0h160v-160H620v160Z\"/>\n",
              "  </svg>\n",
              "    </button>\n",
              "\n",
              "  <style>\n",
              "    .colab-df-container {\n",
              "      display:flex;\n",
              "      gap: 12px;\n",
              "    }\n",
              "\n",
              "    .colab-df-convert {\n",
              "      background-color: #E8F0FE;\n",
              "      border: none;\n",
              "      border-radius: 50%;\n",
              "      cursor: pointer;\n",
              "      display: none;\n",
              "      fill: #1967D2;\n",
              "      height: 32px;\n",
              "      padding: 0 0 0 0;\n",
              "      width: 32px;\n",
              "    }\n",
              "\n",
              "    .colab-df-convert:hover {\n",
              "      background-color: #E2EBFA;\n",
              "      box-shadow: 0px 1px 2px rgba(60, 64, 67, 0.3), 0px 1px 3px 1px rgba(60, 64, 67, 0.15);\n",
              "      fill: #174EA6;\n",
              "    }\n",
              "\n",
              "    .colab-df-buttons div {\n",
              "      margin-bottom: 4px;\n",
              "    }\n",
              "\n",
              "    [theme=dark] .colab-df-convert {\n",
              "      background-color: #3B4455;\n",
              "      fill: #D2E3FC;\n",
              "    }\n",
              "\n",
              "    [theme=dark] .colab-df-convert:hover {\n",
              "      background-color: #434B5C;\n",
              "      box-shadow: 0px 1px 3px 1px rgba(0, 0, 0, 0.15);\n",
              "      filter: drop-shadow(0px 1px 2px rgba(0, 0, 0, 0.3));\n",
              "      fill: #FFFFFF;\n",
              "    }\n",
              "  </style>\n",
              "\n",
              "    <script>\n",
              "      const buttonEl =\n",
              "        document.querySelector('#df-8ee085d4-efc1-4f94-b11e-3dc863dc9bc8 button.colab-df-convert');\n",
              "      buttonEl.style.display =\n",
              "        google.colab.kernel.accessAllowed ? 'block' : 'none';\n",
              "\n",
              "      async function convertToInteractive(key) {\n",
              "        const element = document.querySelector('#df-8ee085d4-efc1-4f94-b11e-3dc863dc9bc8');\n",
              "        const dataTable =\n",
              "          await google.colab.kernel.invokeFunction('convertToInteractive',\n",
              "                                                    [key], {});\n",
              "        if (!dataTable) return;\n",
              "\n",
              "        const docLinkHtml = 'Like what you see? Visit the ' +\n",
              "          '<a target=\"_blank\" href=https://colab.research.google.com/notebooks/data_table.ipynb>data table notebook</a>'\n",
              "          + ' to learn more about interactive tables.';\n",
              "        element.innerHTML = '';\n",
              "        dataTable['output_type'] = 'display_data';\n",
              "        await google.colab.output.renderOutput(dataTable, element);\n",
              "        const docLink = document.createElement('div');\n",
              "        docLink.innerHTML = docLinkHtml;\n",
              "        element.appendChild(docLink);\n",
              "      }\n",
              "    </script>\n",
              "  </div>\n",
              "\n",
              "\n",
              "<div id=\"df-7095b20c-8118-484b-a6aa-4bb5891353e1\">\n",
              "  <button class=\"colab-df-quickchart\" onclick=\"quickchart('df-7095b20c-8118-484b-a6aa-4bb5891353e1')\"\n",
              "            title=\"Suggest charts\"\n",
              "            style=\"display:none;\">\n",
              "\n",
              "<svg xmlns=\"http://www.w3.org/2000/svg\" height=\"24px\"viewBox=\"0 0 24 24\"\n",
              "     width=\"24px\">\n",
              "    <g>\n",
              "        <path d=\"M19 3H5c-1.1 0-2 .9-2 2v14c0 1.1.9 2 2 2h14c1.1 0 2-.9 2-2V5c0-1.1-.9-2-2-2zM9 17H7v-7h2v7zm4 0h-2V7h2v10zm4 0h-2v-4h2v4z\"/>\n",
              "    </g>\n",
              "</svg>\n",
              "  </button>\n",
              "\n",
              "<style>\n",
              "  .colab-df-quickchart {\n",
              "      --bg-color: #E8F0FE;\n",
              "      --fill-color: #1967D2;\n",
              "      --hover-bg-color: #E2EBFA;\n",
              "      --hover-fill-color: #174EA6;\n",
              "      --disabled-fill-color: #AAA;\n",
              "      --disabled-bg-color: #DDD;\n",
              "  }\n",
              "\n",
              "  [theme=dark] .colab-df-quickchart {\n",
              "      --bg-color: #3B4455;\n",
              "      --fill-color: #D2E3FC;\n",
              "      --hover-bg-color: #434B5C;\n",
              "      --hover-fill-color: #FFFFFF;\n",
              "      --disabled-bg-color: #3B4455;\n",
              "      --disabled-fill-color: #666;\n",
              "  }\n",
              "\n",
              "  .colab-df-quickchart {\n",
              "    background-color: var(--bg-color);\n",
              "    border: none;\n",
              "    border-radius: 50%;\n",
              "    cursor: pointer;\n",
              "    display: none;\n",
              "    fill: var(--fill-color);\n",
              "    height: 32px;\n",
              "    padding: 0;\n",
              "    width: 32px;\n",
              "  }\n",
              "\n",
              "  .colab-df-quickchart:hover {\n",
              "    background-color: var(--hover-bg-color);\n",
              "    box-shadow: 0 1px 2px rgba(60, 64, 67, 0.3), 0 1px 3px 1px rgba(60, 64, 67, 0.15);\n",
              "    fill: var(--button-hover-fill-color);\n",
              "  }\n",
              "\n",
              "  .colab-df-quickchart-complete:disabled,\n",
              "  .colab-df-quickchart-complete:disabled:hover {\n",
              "    background-color: var(--disabled-bg-color);\n",
              "    fill: var(--disabled-fill-color);\n",
              "    box-shadow: none;\n",
              "  }\n",
              "\n",
              "  .colab-df-spinner {\n",
              "    border: 2px solid var(--fill-color);\n",
              "    border-color: transparent;\n",
              "    border-bottom-color: var(--fill-color);\n",
              "    animation:\n",
              "      spin 1s steps(1) infinite;\n",
              "  }\n",
              "\n",
              "  @keyframes spin {\n",
              "    0% {\n",
              "      border-color: transparent;\n",
              "      border-bottom-color: var(--fill-color);\n",
              "      border-left-color: var(--fill-color);\n",
              "    }\n",
              "    20% {\n",
              "      border-color: transparent;\n",
              "      border-left-color: var(--fill-color);\n",
              "      border-top-color: var(--fill-color);\n",
              "    }\n",
              "    30% {\n",
              "      border-color: transparent;\n",
              "      border-left-color: var(--fill-color);\n",
              "      border-top-color: var(--fill-color);\n",
              "      border-right-color: var(--fill-color);\n",
              "    }\n",
              "    40% {\n",
              "      border-color: transparent;\n",
              "      border-right-color: var(--fill-color);\n",
              "      border-top-color: var(--fill-color);\n",
              "    }\n",
              "    60% {\n",
              "      border-color: transparent;\n",
              "      border-right-color: var(--fill-color);\n",
              "    }\n",
              "    80% {\n",
              "      border-color: transparent;\n",
              "      border-right-color: var(--fill-color);\n",
              "      border-bottom-color: var(--fill-color);\n",
              "    }\n",
              "    90% {\n",
              "      border-color: transparent;\n",
              "      border-bottom-color: var(--fill-color);\n",
              "    }\n",
              "  }\n",
              "</style>\n",
              "\n",
              "  <script>\n",
              "    async function quickchart(key) {\n",
              "      const quickchartButtonEl =\n",
              "        document.querySelector('#' + key + ' button');\n",
              "      quickchartButtonEl.disabled = true;  // To prevent multiple clicks.\n",
              "      quickchartButtonEl.classList.add('colab-df-spinner');\n",
              "      try {\n",
              "        const charts = await google.colab.kernel.invokeFunction(\n",
              "            'suggestCharts', [key], {});\n",
              "      } catch (error) {\n",
              "        console.error('Error during call to suggestCharts:', error);\n",
              "      }\n",
              "      quickchartButtonEl.classList.remove('colab-df-spinner');\n",
              "      quickchartButtonEl.classList.add('colab-df-quickchart-complete');\n",
              "    }\n",
              "    (() => {\n",
              "      let quickchartButtonEl =\n",
              "        document.querySelector('#df-7095b20c-8118-484b-a6aa-4bb5891353e1 button');\n",
              "      quickchartButtonEl.style.display =\n",
              "        google.colab.kernel.accessAllowed ? 'block' : 'none';\n",
              "    })();\n",
              "  </script>\n",
              "</div>\n",
              "    </div>\n",
              "  </div>\n"
            ],
            "application/vnd.google.colaboratory.intrinsic+json": {
              "type": "dataframe",
              "variable_name": "England2",
              "repr_error": "0"
            }
          },
          "metadata": {},
          "execution_count": 18
        }
      ]
    },
    {
      "cell_type": "code",
      "source": [
        "media == England2.at[888, 'people_vaccinated']\n"
      ],
      "metadata": {
        "colab": {
          "base_uri": "https://localhost:8080/"
        },
        "id": "kGFV327R1JMv",
        "outputId": "8fddd5f8-e33a-4998-d887-7396577a9118"
      },
      "execution_count": 19,
      "outputs": [
        {
          "output_type": "execute_result",
          "data": {
            "text/plain": [
              "True"
            ]
          },
          "metadata": {},
          "execution_count": 19
        }
      ]
    },
    {
      "cell_type": "markdown",
      "source": [
        "# 2.\n",
        "De aquellos 5 países que han vacunado más días en total compara su evolución en el tiempo\n",
        "(no importa que en algunas fechas no coincidan). ¿Qué diagrama has usado? ¿Porqué? Teniendo en\n",
        "cuenta que el mejor plan de vacunación es el que se mantiene más constante ¿Cuál es el país que mejor\n",
        "está llevando a cabo la vacunación? Haz una interpretación de dicho plan de vacunación.\n"
      ],
      "metadata": {
        "id": "KaYSXtx7JRN1"
      }
    },
    {
      "cell_type": "code",
      "source": [
        "# Agrupar por país y contar las entradas para cada uno\n",
        "conteo = df.groupby('country').size()\n",
        "# Ordenar de mayor a menor\n",
        "conteo = conteo.sort_values(ascending=False)"
      ],
      "metadata": {
        "id": "O1TPaP6UKiQa"
      },
      "execution_count": 64,
      "outputs": []
    },
    {
      "cell_type": "markdown",
      "source": [
        "Vemos los 5 países con más entries, ya que cada entry es un día de vacunación en un país."
      ],
      "metadata": {
        "id": "wab3wf6FLqMj"
      }
    },
    {
      "cell_type": "code",
      "source": [
        "print(conteo[:5])"
      ],
      "metadata": {
        "id": "Uu8pqrWuLg1v",
        "outputId": "1d53aa95-7e82-40f9-c514-cd2960310ccc",
        "colab": {
          "base_uri": "https://localhost:8080/"
        }
      },
      "execution_count": 65,
      "outputs": [
        {
          "output_type": "stream",
          "name": "stdout",
          "text": [
            "country\n",
            "Wales               64\n",
            "England             64\n",
            "Scotland            64\n",
            "Northern Ireland    64\n",
            "United Kingdom      64\n",
            "dtype: int64\n"
          ]
        }
      ]
    },
    {
      "cell_type": "markdown",
      "source": [
        "Observamos que `United Kingdom` está compuesto por los países `Wales`, `England`, `Scotland`, `Northern Ireland`. Vamos a ver si los datos coinciden. Ya que en caso afirmativo, sería una variable dependiente (si `people_vaccinated` de UK son la suma de `people_vaccinated` de los países que lo componen) y no aporta información nueva."
      ],
      "metadata": {
        "id": "ME4W7hVAcLqv"
      }
    },
    {
      "cell_type": "markdown",
      "source": [
        "Solo con el primer día de vacunación vemos que los datos coinciden."
      ],
      "metadata": {
        "id": "KgmBGQYa61qx"
      }
    },
    {
      "cell_type": "code",
      "source": [
        "# con people vaccinated de los 4 paises si su suma da UK\n",
        "suma_individuals = 0\n",
        "for pais in conteo[:4].index:\n",
        "  suma_individuals = df[df['country'] == pais].iloc[0]['people_vaccinated'] + suma_individuals\n",
        "print(suma_individuals)\n",
        "suma_UK = df[df['country'] == 'United Kingdom'].iloc[0]['people_vaccinated']\n",
        "print(suma_UK)"
      ],
      "metadata": {
        "id": "vG8Xi3LWcH6W",
        "colab": {
          "base_uri": "https://localhost:8080/"
        },
        "outputId": "6c118160-fff1-4919-e26c-f337e3a644fe"
      },
      "execution_count": 66,
      "outputs": [
        {
          "output_type": "stream",
          "name": "stdout",
          "text": [
            "86215.0\n",
            "86215.0\n"
          ]
        }
      ]
    },
    {
      "cell_type": "markdown",
      "source": [
        "Comprobaremos con todos los días"
      ],
      "metadata": {
        "id": "E_57LkE47QLt"
      }
    },
    {
      "cell_type": "code",
      "source": [
        "# con people vaccinated de los 4 paises si su suma da UK\n",
        "suma_UK = 0\n",
        "for i in range(64):\n",
        "  suma_individuals = 0\n",
        "  for pais in conteo[:4].index:\n",
        "    suma_individuals = df[df['country'] == pais].iloc[i]['people_vaccinated'] + suma_individuals\n",
        "\n",
        "  suma_UK = df[df['country'] == 'United Kingdom'].iloc[i]['people_vaccinated']\n",
        "  print([round(suma_individuals), round(suma_UK)])\n"
      ],
      "metadata": {
        "id": "dMYfAFUgjQsd",
        "outputId": "d77b5414-dd9c-4754-8b99-908b61fcc019",
        "colab": {
          "base_uri": "https://localhost:8080/"
        }
      },
      "execution_count": 67,
      "outputs": [
        {
          "output_type": "stream",
          "name": "stdout",
          "text": [
            "[86215, 86215]\n",
            "[86215, 86215]\n",
            "[86215, 86215]\n",
            "[86215, 86215]\n",
            "[86215, 86215]\n",
            "[86215, 86215]\n",
            "[86215, 86215]\n",
            "[673798, 673798]\n",
            "[282076, 282076]\n",
            "[347363, 347363]\n",
            "[434412, 434412]\n",
            "[354617, 354617]\n",
            "[378797, 378797]\n",
            "[389276, 389276]\n",
            "[1002930, 1002930]\n",
            "[590334, 590334]\n",
            "[660847, 660847]\n",
            "[751370, 751370]\n",
            "[667517, 667517]\n",
            "[693245, 693245]\n",
            "[704044, 704044]\n",
            "[1376994, 1376994]\n",
            "[924761, 924761]\n",
            "[1001933, 1001933]\n",
            "[1101229, 1101229]\n",
            "[1009308, 1009308]\n",
            "[1037490, 1037490]\n",
            "[1049342, 1049342]\n",
            "[2286572, 2286572]\n",
            "[2431648, 2431648]\n",
            "[2639309, 2639309]\n",
            "[2918252, 2918252]\n",
            "[3234946, 3234946]\n",
            "[3529874, 3559179]\n",
            "[3817314, 3837094]\n",
            "[4062501, 4062501]\n",
            "[4266577, 4266577]\n",
            "[4609740, 4609740]\n",
            "[4973248, 4973248]\n",
            "[5383103, 5383103]\n",
            "[5861351, 5861351]\n",
            "[6353321, 6353321]\n",
            "[6573570, 6573570]\n",
            "[6853327, 6853327]\n",
            "[7164387, 7164387]\n",
            "[7476765, 7476765]\n",
            "[7891184, 7891184]\n",
            "[8378940, 8378940]\n",
            "[8977329, 8977329]\n",
            "[9296367, 9296367]\n",
            "[9646715, 9646715]\n",
            "[10021471, 10021471]\n",
            "[10490487, 10490487]\n",
            "[10971047, 10971047]\n",
            "[11465210, 11465210]\n",
            "[12015018, 12015018]\n",
            "[12294006, 12294006]\n",
            "[12646486, 12646486]\n",
            "[13058298, 13058298]\n",
            "[13509108, 13509108]\n",
            "[14012224, 14012224]\n",
            "[14556827, 14556827]\n",
            "[15062189, 15062189]\n",
            "[15300151, 15300151]\n"
          ]
        }
      ]
    },
    {
      "cell_type": "markdown",
      "source": [
        "Efectivamente, los datos de vacunación de los países que componen United Kingdom sumados son iguales* a los datos de United Kingdom.\n",
        "\n",
        "**con pequeñas discrepancias como 3529874 y 3559179 que se diferencian en 5 personas vacunadas de diferencia.*"
      ],
      "metadata": {
        "id": "eI3VthuF-gJy"
      }
    },
    {
      "cell_type": "markdown",
      "source": [
        "Puesto que los datos de UK y de los países que lo componen son redundantes, hay 2 opciones: eliminar UK del top o eliminar los 4 países que forman UK del top.\n",
        "\n",
        "Teniendo en cuenta que sería interesante comparar la eficacia de cada país con su campaña de vacunación, veamos la eficacia de la vacunación de los países de UK individualmente en el último día."
      ],
      "metadata": {
        "id": "wy1YJJhU-9qN"
      }
    },
    {
      "cell_type": "code",
      "source": [
        "perhundred_individuals = []\n",
        "for pais in conteo[:4].index:\n",
        "  perhundred_individuals.append(df[df['country'] == pais].iloc[63]['people_vaccinated_per_hundred'])\n",
        "print(perhundred_individuals)"
      ],
      "metadata": {
        "id": "dA2udh7AA_dA",
        "colab": {
          "base_uri": "https://localhost:8080/"
        },
        "outputId": "af35dbc1-724b-4726-d138-adf2e015be71"
      },
      "execution_count": 73,
      "outputs": [
        {
          "output_type": "stream",
          "name": "stdout",
          "text": [
            "[24.89, 22.85, 22.97, 20.98]\n"
          ]
        }
      ]
    },
    {
      "cell_type": "code",
      "source": [
        "import matplotlib.pyplot as plt\n",
        "\n",
        "# Datos\n",
        "categorias = conteo[:4].index\n",
        "\n",
        "# Crear el gráfico de barras\n",
        "plt.bar(categorias, perhundred_individuals)\n",
        "\n",
        "# Añadir etiquetas\n",
        "plt.xlabel('Países de la UK')\n",
        "plt.ylabel('Número de vacunados por cada 100 personas')\n",
        "plt.title('Gráfico de Barras')\n",
        "\n",
        "# Mostrar el gráfico\n",
        "plt.show()\n"
      ],
      "metadata": {
        "id": "jCE0aMTxCW1U",
        "outputId": "f6686b19-bfc8-4f47-9ba9-ed950b185c57",
        "colab": {
          "base_uri": "https://localhost:8080/",
          "height": 472
        }
      },
      "execution_count": 72,
      "outputs": [
        {
          "output_type": "display_data",
          "data": {
            "text/plain": [
              "<Figure size 640x480 with 1 Axes>"
            ],
            "image/png": "[encoded data removed]"
          },
          "metadata": {}
        }
      ]
    },
    {
      "cell_type": "markdown",
      "source": [
        "Tienen bastante similitud entre ellos en cuanto a la proporción de personas vacunadas, por lo que vamos a tomar UK en vez de los países individualmente, ya que tiene carácter más general. Además en todo UK se siguen campañas de vacunación muy parecidas, por lo que es de esperar que sus resultados también lo sean y no se puede hacer una comparativa adecuada."
      ],
      "metadata": {
        "id": "yLjdogl0BSXV"
      }
    },
    {
      "cell_type": "code",
      "source": [
        "conteo = conteo.drop(conteo[:4].index)"
      ],
      "metadata": {
        "id": "DE-5QIHh3OsU"
      },
      "execution_count": 74,
      "outputs": []
    },
    {
      "cell_type": "code",
      "source": [
        "conteo[:5].index"
      ],
      "metadata": {
        "id": "uOv_4f2Zchd3",
        "colab": {
          "base_uri": "https://localhost:8080/"
        },
        "outputId": "93e65c30-0961-439a-abeb-bb5660c61feb"
      },
      "execution_count": 75,
      "outputs": [
        {
          "output_type": "execute_result",
          "data": {
            "text/plain": [
              "Index(['United Kingdom', 'Israel', 'Russia', 'United States', 'China'], dtype='object', name='country')"
            ]
          },
          "metadata": {},
          "execution_count": 75
        }
      ]
    },
    {
      "cell_type": "markdown",
      "source": [
        "Antes de comenzar a graficar, veremos si los países del top 5 tienen datos fiables en `people_vaccinated`, comparando cuántos NaN tenía cada país."
      ],
      "metadata": {
        "id": "6ndmJU6p7-vX"
      }
    },
    {
      "cell_type": "code",
      "source": [
        "import matplotlib.pyplot as plt\n",
        "filtered_result = result.loc[conteo[:5].index]\n",
        "# Crear el gráfico de barras\n",
        "filtered_result.plot(kind='bar', stacked=True, figsize=(12, 6))\n",
        "\n",
        "# Personalizar el gráfico\n",
        "plt.title('Número de entradas NaN y no NaN en la columna people_vaccinated por país')\n",
        "plt.xlabel('País')\n",
        "plt.ylabel('Número de entradas')\n",
        "plt.legend(['No NaN', 'NaN'])\n",
        "\n",
        "# Mostrar el gráfico\n",
        "plt.show()"
      ],
      "metadata": {
        "id": "e8-m7Q8k97Hj",
        "outputId": "1ebd4eb1-225b-4c07-aabe-530b287b8745",
        "colab": {
          "base_uri": "https://localhost:8080/",
          "height": 662
        }
      },
      "execution_count": 76,
      "outputs": [
        {
          "output_type": "display_data",
          "data": {
            "text/plain": [
              "<Figure size 1200x600 with 1 Axes>"
            ],
            "image/png": "[encoded data removed]"
          },
          "metadata": {}
        }
      ]
    },
    {
      "cell_type": "markdown",
      "source": [
        "La proporción de entradas NaN en Rusia y China en `people_vaccinated`, hacen que sus datos no puedan ser utilizados para el estudio, aún sustituyendo los NaN por las medias, si todos o casi todos son NaN, no se puede analizar correctamente la evolución del país por días de vacunación si apenas se tienen datos originales de ello."
      ],
      "metadata": {
        "id": "aFp1wVeS-X5Z"
      }
    },
    {
      "cell_type": "code",
      "source": [
        "conteo = conteo.drop(['Russia','China'])\n",
        "conteo[:5]"
      ],
      "metadata": {
        "id": "4sLHXlBt-5VN",
        "outputId": "f0be6f39-15b7-4f7c-e97a-6afdbe8a39c5",
        "colab": {
          "base_uri": "https://localhost:8080/"
        }
      },
      "execution_count": 77,
      "outputs": [
        {
          "output_type": "execute_result",
          "data": {
            "text/plain": [
              "country\n",
              "United Kingdom    64\n",
              "Israel            59\n",
              "United States     57\n",
              "Bahrain           55\n",
              "Chile             54\n",
              "dtype: int64"
            ]
          },
          "metadata": {},
          "execution_count": 77
        }
      ]
    },
    {
      "cell_type": "markdown",
      "source": [
        "Estudiemos los NaN con los siguientes países:"
      ],
      "metadata": {
        "id": "b1F1oP093I7X"
      }
    },
    {
      "cell_type": "code",
      "source": [
        "import matplotlib.pyplot as plt\n",
        "filtered_result = result.loc[conteo[:5].index]\n",
        "# Crear el gráfico de barras\n",
        "filtered_result.plot(kind='bar', stacked=True, figsize=(12, 6))\n",
        "\n",
        "# Personalizar el gráfico\n",
        "plt.title('Número de entradas NaN y no NaN en la columna people_vaccinated por país')\n",
        "plt.xlabel('País')\n",
        "plt.ylabel('Número de entradas')\n",
        "plt.legend(['No NaN', 'NaN'])\n",
        "\n",
        "# Mostrar el gráfico\n",
        "plt.show()"
      ],
      "metadata": {
        "id": "gZulT3lA_3YD",
        "outputId": "7b18fcd4-a4ee-401a-9a1c-d8fd19438511",
        "colab": {
          "base_uri": "https://localhost:8080/",
          "height": 662
        }
      },
      "execution_count": 78,
      "outputs": [
        {
          "output_type": "display_data",
          "data": {
            "text/plain": [
              "<Figure size 1200x600 with 1 Axes>"
            ],
            "image/png": "[encoded data removed]"
          },
          "metadata": {}
        }
      ]
    },
    {
      "cell_type": "markdown",
      "source": [
        "De estos países sí que se tienen suficientes valores no NaN como para poder hacer un estudio.\n",
        "\n",
        "Procedemos a graficar la evolución de `people_vaccinated` respecto a los días de vacunación marcados por la variable `date`."
      ],
      "metadata": {
        "id": "aoZsMOEr_6b5"
      }
    },
    {
      "cell_type": "code",
      "source": [
        "import matplotlib.pyplot as plt\n",
        "for pais in conteo[:5].index:\n",
        "  top5 = df[df['country'] == pais]\n",
        "  plt.plot(top5['date'], top5['people_vaccinated'],  linewidth=2)\n",
        "  plt.legend(pais)\n",
        "# Crear el gráfico de líneas\n",
        "\n",
        "plt.legend(conteo[:5].index)\n",
        "# Configurar el título y etiquetas de los ejes\n",
        "plt.title('Evolución de las vacunaciones')\n",
        "plt.xlabel('Fecha')\n",
        "plt.ylabel('Personas vacunadas')\n",
        "\n",
        "# Rotar las etiquetas del eje x para mejorar la legibilidad\n",
        "plt.xticks(rotation=45)\n",
        "\n",
        "# Mostrar el gráfico\n",
        "plt.grid(True)\n",
        "plt.tight_layout()\n",
        "# Leyenda\n",
        "\n",
        "plt.show()"
      ],
      "metadata": {
        "id": "NtuAEuzqh0MV",
        "outputId": "c519e034-ba1e-4ab9-805e-8ab9a0f148e8",
        "colab": {
          "base_uri": "https://localhost:8080/",
          "height": 486
        }
      },
      "execution_count": 79,
      "outputs": [
        {
          "output_type": "display_data",
          "data": {
            "text/plain": [
              "<Figure size 640x480 with 1 Axes>"
            ],
            "image/png": "[encoded data removed]"
          },
          "metadata": {}
        }
      ]
    },
    {
      "cell_type": "code",
      "source": [
        "# TODO analizar plan de vacunacion de los paises (tipo vacuna y demas)\n",
        "# Ahora, vamos a crear el DataFrame con los datos de los 5 países más comunes\n",
        "top5 = pd.concat([df[df['country'] == pais] for pais in conteo[:5].index])\n",
        "top5"
      ],
      "metadata": {
        "id": "WnfTSx9x7y2D",
        "outputId": "dd50af63-dacb-4ee0-939f-92d2c86d1d8a",
        "colab": {
          "base_uri": "https://localhost:8080/",
          "height": 877
        }
      },
      "execution_count": 44,
      "outputs": [
        {
          "output_type": "execute_result",
          "data": {
            "text/plain": [
              "             country iso_code       date  total_vaccinations  \\\n",
              "3023  United Kingdom      GBR 2020-12-13             86215.0   \n",
              "3024  United Kingdom      GBR 2020-12-14                 NaN   \n",
              "3025  United Kingdom      GBR 2020-12-15                 NaN   \n",
              "3026  United Kingdom      GBR 2020-12-16                 NaN   \n",
              "3027  United Kingdom      GBR 2020-12-17                 NaN   \n",
              "...              ...      ...        ...                 ...   \n",
              "557            Chile      CHL 2021-02-11           1647752.0   \n",
              "558            Chile      CHL 2021-02-12           1873772.0   \n",
              "559            Chile      CHL 2021-02-13           1902880.0   \n",
              "560            Chile      CHL 2021-02-14           1907340.0   \n",
              "561            Chile      CHL 2021-02-15           2147272.0   \n",
              "\n",
              "      people_vaccinated  people_fully_vaccinated  daily_vaccinations_raw  \\\n",
              "3023            86215.0                      NaN                     NaN   \n",
              "3024            86215.0                      NaN                     NaN   \n",
              "3025            86215.0                      NaN                     NaN   \n",
              "3026            86215.0                      NaN                     NaN   \n",
              "3027            86215.0                      NaN                     NaN   \n",
              "...                 ...                      ...                     ...   \n",
              "557           1593170.0                  54582.0                250359.0   \n",
              "558           1818987.0                  54785.0                226020.0   \n",
              "559           1848061.0                  54819.0                 29108.0   \n",
              "560           1852521.0                  54819.0                  4460.0   \n",
              "561           2092453.0                  54819.0                239932.0   \n",
              "\n",
              "      daily_vaccinations  total_vaccinations_per_hundred  \\\n",
              "3023                 NaN                            0.13   \n",
              "3024             83940.0                             NaN   \n",
              "3025             83940.0                             NaN   \n",
              "3026             83940.0                             NaN   \n",
              "3027             83940.0                             NaN   \n",
              "...                  ...                             ...   \n",
              "557             174613.0                            8.62   \n",
              "558             182809.0                            9.80   \n",
              "559             183057.0                            9.95   \n",
              "560             182467.0                            9.98   \n",
              "561             183730.0                           11.23   \n",
              "\n",
              "      people_vaccinated_per_hundred  people_fully_vaccinated_per_hundred  \\\n",
              "3023                           0.13                                  NaN   \n",
              "3024                            NaN                                  NaN   \n",
              "3025                            NaN                                  NaN   \n",
              "3026                            NaN                                  NaN   \n",
              "3027                            NaN                                  NaN   \n",
              "...                             ...                                  ...   \n",
              "557                            8.33                                 0.29   \n",
              "558                            9.52                                 0.29   \n",
              "559                            9.67                                 0.29   \n",
              "560                            9.69                                 0.29   \n",
              "561                           10.95                                 0.29   \n",
              "\n",
              "      daily_vaccinations_per_million                             vaccines  \\\n",
              "3023                             NaN  Oxford/AstraZeneca, Pfizer/BioNTech   \n",
              "3024                          1236.0  Oxford/AstraZeneca, Pfizer/BioNTech   \n",
              "3025                          1236.0  Oxford/AstraZeneca, Pfizer/BioNTech   \n",
              "3026                          1236.0  Oxford/AstraZeneca, Pfizer/BioNTech   \n",
              "3027                          1236.0  Oxford/AstraZeneca, Pfizer/BioNTech   \n",
              "...                              ...                                  ...   \n",
              "557                           9134.0             Pfizer/BioNTech, Sinovac   \n",
              "558                           9563.0             Pfizer/BioNTech, Sinovac   \n",
              "559                           9576.0             Pfizer/BioNTech, Sinovac   \n",
              "560                           9545.0             Pfizer/BioNTech, Sinovac   \n",
              "561                           9611.0             Pfizer/BioNTech, Sinovac   \n",
              "\n",
              "                                          source_name  \\\n",
              "3023                 Government of the United Kingdom   \n",
              "3024                 Government of the United Kingdom   \n",
              "3025                 Government of the United Kingdom   \n",
              "3026                 Government of the United Kingdom   \n",
              "3027                 Government of the United Kingdom   \n",
              "...                                               ...   \n",
              "557   Department of Statistics and Health Information   \n",
              "558   Department of Statistics and Health Information   \n",
              "559   Department of Statistics and Health Information   \n",
              "560   Department of Statistics and Health Information   \n",
              "561   Department of Statistics and Health Information   \n",
              "\n",
              "                                         source_website  \n",
              "3023  https://coronavirus.data.gov.uk/details/health...  \n",
              "3024  https://coronavirus.data.gov.uk/details/health...  \n",
              "3025  https://coronavirus.data.gov.uk/details/health...  \n",
              "3026  https://coronavirus.data.gov.uk/details/health...  \n",
              "3027  https://coronavirus.data.gov.uk/details/health...  \n",
              "...                                                 ...  \n",
              "557   https://informesdeis.minsal.cl/SASVisualAnalyt...  \n",
              "558   https://informesdeis.minsal.cl/SASVisualAnalyt...  \n",
              "559   https://informesdeis.minsal.cl/SASVisualAnalyt...  \n",
              "560   https://informesdeis.minsal.cl/SASVisualAnalyt...  \n",
              "561   https://informesdeis.minsal.cl/SASVisualAnalyt...  \n",
              "\n",
              "[289 rows x 15 columns]"
            ],
            "text/html": [
              "\n",
              "  <div id=\"df-9be8afb3-66b6-450a-91f1-c15e6d429e32\" class=\"colab-df-container\">\n",
              "    <div>\n",
              "<style scoped>\n",
              "    .dataframe tbody tr th:only-of-type {\n",
              "        vertical-align: middle;\n",
              "    }\n",
              "\n",
              "    .dataframe tbody tr th {\n",
              "        vertical-align: top;\n",
              "    }\n",
              "\n",
              "    .dataframe thead th {\n",
              "        text-align: right;\n",
              "    }\n",
              "</style>\n",
              "<table border=\"1\" class=\"dataframe\">\n",
              "  <thead>\n",
              "    <tr style=\"text-align: right;\">\n",
              "      <th></th>\n",
              "      <th>country</th>\n",
              "      <th>iso_code</th>\n",
              "      <th>date</th>\n",
              "      <th>total_vaccinations</th>\n",
              "      <th>people_vaccinated</th>\n",
              "      <th>people_fully_vaccinated</th>\n",
              "      <th>daily_vaccinations_raw</th>\n",
              "      <th>daily_vaccinations</th>\n",
              "      <th>total_vaccinations_per_hundred</th>\n",
              "      <th>people_vaccinated_per_hundred</th>\n",
              "      <th>people_fully_vaccinated_per_hundred</th>\n",
              "      <th>daily_vaccinations_per_million</th>\n",
              "      <th>vaccines</th>\n",
              "      <th>source_name</th>\n",
              "      <th>source_website</th>\n",
              "    </tr>\n",
              "  </thead>\n",
              "  <tbody>\n",
              "    <tr>\n",
              "      <th>3023</th>\n",
              "      <td>United Kingdom</td>\n",
              "      <td>GBR</td>\n",
              "      <td>2020-12-13</td>\n",
              "      <td>86215.0</td>\n",
              "      <td>86215.0</td>\n",
              "      <td>NaN</td>\n",
              "      <td>NaN</td>\n",
              "      <td>NaN</td>\n",
              "      <td>0.13</td>\n",
              "      <td>0.13</td>\n",
              "      <td>NaN</td>\n",
              "      <td>NaN</td>\n",
              "      <td>Oxford/AstraZeneca, Pfizer/BioNTech</td>\n",
              "      <td>Government of the United Kingdom</td>\n",
              "      <td>https://coronavirus.data.gov.uk/details/health...</td>\n",
              "    </tr>\n",
              "    <tr>\n",
              "      <th>3024</th>\n",
              "      <td>United Kingdom</td>\n",
              "      <td>GBR</td>\n",
              "      <td>2020-12-14</td>\n",
              "      <td>NaN</td>\n",
              "      <td>86215.0</td>\n",
              "      <td>NaN</td>\n",
              "      <td>NaN</td>\n",
              "      <td>83940.0</td>\n",
              "      <td>NaN</td>\n",
              "      <td>NaN</td>\n",
              "      <td>NaN</td>\n",
              "      <td>1236.0</td>\n",
              "      <td>Oxford/AstraZeneca, Pfizer/BioNTech</td>\n",
              "      <td>Government of the United Kingdom</td>\n",
              "      <td>https://coronavirus.data.gov.uk/details/health...</td>\n",
              "    </tr>\n",
              "    <tr>\n",
              "      <th>3025</th>\n",
              "      <td>United Kingdom</td>\n",
              "      <td>GBR</td>\n",
              "      <td>2020-12-15</td>\n",
              "      <td>NaN</td>\n",
              "      <td>86215.0</td>\n",
              "      <td>NaN</td>\n",
              "      <td>NaN</td>\n",
              "      <td>83940.0</td>\n",
              "      <td>NaN</td>\n",
              "      <td>NaN</td>\n",
              "      <td>NaN</td>\n",
              "      <td>1236.0</td>\n",
              "      <td>Oxford/AstraZeneca, Pfizer/BioNTech</td>\n",
              "      <td>Government of the United Kingdom</td>\n",
              "      <td>https://coronavirus.data.gov.uk/details/health...</td>\n",
              "    </tr>\n",
              "    <tr>\n",
              "      <th>3026</th>\n",
              "      <td>United Kingdom</td>\n",
              "      <td>GBR</td>\n",
              "      <td>2020-12-16</td>\n",
              "      <td>NaN</td>\n",
              "      <td>86215.0</td>\n",
              "      <td>NaN</td>\n",
              "      <td>NaN</td>\n",
              "      <td>83940.0</td>\n",
              "      <td>NaN</td>\n",
              "      <td>NaN</td>\n",
              "      <td>NaN</td>\n",
              "      <td>1236.0</td>\n",
              "      <td>Oxford/AstraZeneca, Pfizer/BioNTech</td>\n",
              "      <td>Government of the United Kingdom</td>\n",
              "      <td>https://coronavirus.data.gov.uk/details/health...</td>\n",
              "    </tr>\n",
              "    <tr>\n",
              "      <th>3027</th>\n",
              "      <td>United Kingdom</td>\n",
              "      <td>GBR</td>\n",
              "      <td>2020-12-17</td>\n",
              "      <td>NaN</td>\n",
              "      <td>86215.0</td>\n",
              "      <td>NaN</td>\n",
              "      <td>NaN</td>\n",
              "      <td>83940.0</td>\n",
              "      <td>NaN</td>\n",
              "      <td>NaN</td>\n",
              "      <td>NaN</td>\n",
              "      <td>1236.0</td>\n",
              "      <td>Oxford/AstraZeneca, Pfizer/BioNTech</td>\n",
              "      <td>Government of the United Kingdom</td>\n",
              "      <td>https://coronavirus.data.gov.uk/details/health...</td>\n",
              "    </tr>\n",
              "    <tr>\n",
              "      <th>...</th>\n",
              "      <td>...</td>\n",
              "      <td>...</td>\n",
              "      <td>...</td>\n",
              "      <td>...</td>\n",
              "      <td>...</td>\n",
              "      <td>...</td>\n",
              "      <td>...</td>\n",
              "      <td>...</td>\n",
              "      <td>...</td>\n",
              "      <td>...</td>\n",
              "      <td>...</td>\n",
              "      <td>...</td>\n",
              "      <td>...</td>\n",
              "      <td>...</td>\n",
              "      <td>...</td>\n",
              "    </tr>\n",
              "    <tr>\n",
              "      <th>557</th>\n",
              "      <td>Chile</td>\n",
              "      <td>CHL</td>\n",
              "      <td>2021-02-11</td>\n",
              "      <td>1647752.0</td>\n",
              "      <td>1593170.0</td>\n",
              "      <td>54582.0</td>\n",
              "      <td>250359.0</td>\n",
              "      <td>174613.0</td>\n",
              "      <td>8.62</td>\n",
              "      <td>8.33</td>\n",
              "      <td>0.29</td>\n",
              "      <td>9134.0</td>\n",
              "      <td>Pfizer/BioNTech, Sinovac</td>\n",
              "      <td>Department of Statistics and Health Information</td>\n",
              "      <td>https://informesdeis.minsal.cl/SASVisualAnalyt...</td>\n",
              "    </tr>\n",
              "    <tr>\n",
              "      <th>558</th>\n",
              "      <td>Chile</td>\n",
              "      <td>CHL</td>\n",
              "      <td>2021-02-12</td>\n",
              "      <td>1873772.0</td>\n",
              "      <td>1818987.0</td>\n",
              "      <td>54785.0</td>\n",
              "      <td>226020.0</td>\n",
              "      <td>182809.0</td>\n",
              "      <td>9.80</td>\n",
              "      <td>9.52</td>\n",
              "      <td>0.29</td>\n",
              "      <td>9563.0</td>\n",
              "      <td>Pfizer/BioNTech, Sinovac</td>\n",
              "      <td>Department of Statistics and Health Information</td>\n",
              "      <td>https://informesdeis.minsal.cl/SASVisualAnalyt...</td>\n",
              "    </tr>\n",
              "    <tr>\n",
              "      <th>559</th>\n",
              "      <td>Chile</td>\n",
              "      <td>CHL</td>\n",
              "      <td>2021-02-13</td>\n",
              "      <td>1902880.0</td>\n",
              "      <td>1848061.0</td>\n",
              "      <td>54819.0</td>\n",
              "      <td>29108.0</td>\n",
              "      <td>183057.0</td>\n",
              "      <td>9.95</td>\n",
              "      <td>9.67</td>\n",
              "      <td>0.29</td>\n",
              "      <td>9576.0</td>\n",
              "      <td>Pfizer/BioNTech, Sinovac</td>\n",
              "      <td>Department of Statistics and Health Information</td>\n",
              "      <td>https://informesdeis.minsal.cl/SASVisualAnalyt...</td>\n",
              "    </tr>\n",
              "    <tr>\n",
              "      <th>560</th>\n",
              "      <td>Chile</td>\n",
              "      <td>CHL</td>\n",
              "      <td>2021-02-14</td>\n",
              "      <td>1907340.0</td>\n",
              "      <td>1852521.0</td>\n",
              "      <td>54819.0</td>\n",
              "      <td>4460.0</td>\n",
              "      <td>182467.0</td>\n",
              "      <td>9.98</td>\n",
              "      <td>9.69</td>\n",
              "      <td>0.29</td>\n",
              "      <td>9545.0</td>\n",
              "      <td>Pfizer/BioNTech, Sinovac</td>\n",
              "      <td>Department of Statistics and Health Information</td>\n",
              "      <td>https://informesdeis.minsal.cl/SASVisualAnalyt...</td>\n",
              "    </tr>\n",
              "    <tr>\n",
              "      <th>561</th>\n",
              "      <td>Chile</td>\n",
              "      <td>CHL</td>\n",
              "      <td>2021-02-15</td>\n",
              "      <td>2147272.0</td>\n",
              "      <td>2092453.0</td>\n",
              "      <td>54819.0</td>\n",
              "      <td>239932.0</td>\n",
              "      <td>183730.0</td>\n",
              "      <td>11.23</td>\n",
              "      <td>10.95</td>\n",
              "      <td>0.29</td>\n",
              "      <td>9611.0</td>\n",
              "      <td>Pfizer/BioNTech, Sinovac</td>\n",
              "      <td>Department of Statistics and Health Information</td>\n",
              "      <td>https://informesdeis.minsal.cl/SASVisualAnalyt...</td>\n",
              "    </tr>\n",
              "  </tbody>\n",
              "</table>\n",
              "<p>289 rows × 15 columns</p>\n",
              "</div>\n",
              "    <div class=\"colab-df-buttons\">\n",
              "\n",
              "  <div class=\"colab-df-container\">\n",
              "    <button class=\"colab-df-convert\" onclick=\"convertToInteractive('df-9be8afb3-66b6-450a-91f1-c15e6d429e32')\"\n",
              "            title=\"Convert this dataframe to an interactive table.\"\n",
              "            style=\"display:none;\">\n",
              "\n",
              "  <svg xmlns=\"http://www.w3.org/2000/svg\" height=\"24px\" viewBox=\"0 -960 960 960\">\n",
              "    <path d=\"M120-120v-720h720v720H120Zm60-500h600v-160H180v160Zm220 220h160v-160H400v160Zm0 220h160v-160H400v160ZM180-400h160v-160H180v160Zm440 0h160v-160H620v160ZM180-180h160v-160H180v160Zm440 0h160v-160H620v160Z\"/>\n",
              "  </svg>\n",
              "    </button>\n",
              "\n",
              "  <style>\n",
              "    .colab-df-container {\n",
              "      display:flex;\n",
              "      gap: 12px;\n",
              "    }\n",
              "\n",
              "    .colab-df-convert {\n",
              "      background-color: #E8F0FE;\n",
              "      border: none;\n",
              "      border-radius: 50%;\n",
              "      cursor: pointer;\n",
              "      display: none;\n",
              "      fill: #1967D2;\n",
              "      height: 32px;\n",
              "      padding: 0 0 0 0;\n",
              "      width: 32px;\n",
              "    }\n",
              "\n",
              "    .colab-df-convert:hover {\n",
              "      background-color: #E2EBFA;\n",
              "      box-shadow: 0px 1px 2px rgba(60, 64, 67, 0.3), 0px 1px 3px 1px rgba(60, 64, 67, 0.15);\n",
              "      fill: #174EA6;\n",
              "    }\n",
              "\n",
              "    .colab-df-buttons div {\n",
              "      margin-bottom: 4px;\n",
              "    }\n",
              "\n",
              "    [theme=dark] .colab-df-convert {\n",
              "      background-color: #3B4455;\n",
              "      fill: #D2E3FC;\n",
              "    }\n",
              "\n",
              "    [theme=dark] .colab-df-convert:hover {\n",
              "      background-color: #434B5C;\n",
              "      box-shadow: 0px 1px 3px 1px rgba(0, 0, 0, 0.15);\n",
              "      filter: drop-shadow(0px 1px 2px rgba(0, 0, 0, 0.3));\n",
              "      fill: #FFFFFF;\n",
              "    }\n",
              "  </style>\n",
              "\n",
              "    <script>\n",
              "      const buttonEl =\n",
              "        document.querySelector('#df-9be8afb3-66b6-450a-91f1-c15e6d429e32 button.colab-df-convert');\n",
              "      buttonEl.style.display =\n",
              "        google.colab.kernel.accessAllowed ? 'block' : 'none';\n",
              "\n",
              "      async function convertToInteractive(key) {\n",
              "        const element = document.querySelector('#df-9be8afb3-66b6-450a-91f1-c15e6d429e32');\n",
              "        const dataTable =\n",
              "          await google.colab.kernel.invokeFunction('convertToInteractive',\n",
              "                                                    [key], {});\n",
              "        if (!dataTable) return;\n",
              "\n",
              "        const docLinkHtml = 'Like what you see? Visit the ' +\n",
              "          '<a target=\"_blank\" href=https://colab.research.google.com/notebooks/data_table.ipynb>data table notebook</a>'\n",
              "          + ' to learn more about interactive tables.';\n",
              "        element.innerHTML = '';\n",
              "        dataTable['output_type'] = 'display_data';\n",
              "        await google.colab.output.renderOutput(dataTable, element);\n",
              "        const docLink = document.createElement('div');\n",
              "        docLink.innerHTML = docLinkHtml;\n",
              "        element.appendChild(docLink);\n",
              "      }\n",
              "    </script>\n",
              "  </div>\n",
              "\n",
              "\n",
              "<div id=\"df-f0a46ca5-3a73-47de-a724-049caf4853b0\">\n",
              "  <button class=\"colab-df-quickchart\" onclick=\"quickchart('df-f0a46ca5-3a73-47de-a724-049caf4853b0')\"\n",
              "            title=\"Suggest charts\"\n",
              "            style=\"display:none;\">\n",
              "\n",
              "<svg xmlns=\"http://www.w3.org/2000/svg\" height=\"24px\"viewBox=\"0 0 24 24\"\n",
              "     width=\"24px\">\n",
              "    <g>\n",
              "        <path d=\"M19 3H5c-1.1 0-2 .9-2 2v14c0 1.1.9 2 2 2h14c1.1 0 2-.9 2-2V5c0-1.1-.9-2-2-2zM9 17H7v-7h2v7zm4 0h-2V7h2v10zm4 0h-2v-4h2v4z\"/>\n",
              "    </g>\n",
              "</svg>\n",
              "  </button>\n",
              "\n",
              "<style>\n",
              "  .colab-df-quickchart {\n",
              "      --bg-color: #E8F0FE;\n",
              "      --fill-color: #1967D2;\n",
              "      --hover-bg-color: #E2EBFA;\n",
              "      --hover-fill-color: #174EA6;\n",
              "      --disabled-fill-color: #AAA;\n",
              "      --disabled-bg-color: #DDD;\n",
              "  }\n",
              "\n",
              "  [theme=dark] .colab-df-quickchart {\n",
              "      --bg-color: #3B4455;\n",
              "      --fill-color: #D2E3FC;\n",
              "      --hover-bg-color: #434B5C;\n",
              "      --hover-fill-color: #FFFFFF;\n",
              "      --disabled-bg-color: #3B4455;\n",
              "      --disabled-fill-color: #666;\n",
              "  }\n",
              "\n",
              "  .colab-df-quickchart {\n",
              "    background-color: var(--bg-color);\n",
              "    border: none;\n",
              "    border-radius: 50%;\n",
              "    cursor: pointer;\n",
              "    display: none;\n",
              "    fill: var(--fill-color);\n",
              "    height: 32px;\n",
              "    padding: 0;\n",
              "    width: 32px;\n",
              "  }\n",
              "\n",
              "  .colab-df-quickchart:hover {\n",
              "    background-color: var(--hover-bg-color);\n",
              "    box-shadow: 0 1px 2px rgba(60, 64, 67, 0.3), 0 1px 3px 1px rgba(60, 64, 67, 0.15);\n",
              "    fill: var(--button-hover-fill-color);\n",
              "  }\n",
              "\n",
              "  .colab-df-quickchart-complete:disabled,\n",
              "  .colab-df-quickchart-complete:disabled:hover {\n",
              "    background-color: var(--disabled-bg-color);\n",
              "    fill: var(--disabled-fill-color);\n",
              "    box-shadow: none;\n",
              "  }\n",
              "\n",
              "  .colab-df-spinner {\n",
              "    border: 2px solid var(--fill-color);\n",
              "    border-color: transparent;\n",
              "    border-bottom-color: var(--fill-color);\n",
              "    animation:\n",
              "      spin 1s steps(1) infinite;\n",
              "  }\n",
              "\n",
              "  @keyframes spin {\n",
              "    0% {\n",
              "      border-color: transparent;\n",
              "      border-bottom-color: var(--fill-color);\n",
              "      border-left-color: var(--fill-color);\n",
              "    }\n",
              "    20% {\n",
              "      border-color: transparent;\n",
              "      border-left-color: var(--fill-color);\n",
              "      border-top-color: var(--fill-color);\n",
              "    }\n",
              "    30% {\n",
              "      border-color: transparent;\n",
              "      border-left-color: var(--fill-color);\n",
              "      border-top-color: var(--fill-color);\n",
              "      border-right-color: var(--fill-color);\n",
              "    }\n",
              "    40% {\n",
              "      border-color: transparent;\n",
              "      border-right-color: var(--fill-color);\n",
              "      border-top-color: var(--fill-color);\n",
              "    }\n",
              "    60% {\n",
              "      border-color: transparent;\n",
              "      border-right-color: var(--fill-color);\n",
              "    }\n",
              "    80% {\n",
              "      border-color: transparent;\n",
              "      border-right-color: var(--fill-color);\n",
              "      border-bottom-color: var(--fill-color);\n",
              "    }\n",
              "    90% {\n",
              "      border-color: transparent;\n",
              "      border-bottom-color: var(--fill-color);\n",
              "    }\n",
              "  }\n",
              "</style>\n",
              "\n",
              "  <script>\n",
              "    async function quickchart(key) {\n",
              "      const quickchartButtonEl =\n",
              "        document.querySelector('#' + key + ' button');\n",
              "      quickchartButtonEl.disabled = true;  // To prevent multiple clicks.\n",
              "      quickchartButtonEl.classList.add('colab-df-spinner');\n",
              "      try {\n",
              "        const charts = await google.colab.kernel.invokeFunction(\n",
              "            'suggestCharts', [key], {});\n",
              "      } catch (error) {\n",
              "        console.error('Error during call to suggestCharts:', error);\n",
              "      }\n",
              "      quickchartButtonEl.classList.remove('colab-df-spinner');\n",
              "      quickchartButtonEl.classList.add('colab-df-quickchart-complete');\n",
              "    }\n",
              "    (() => {\n",
              "      let quickchartButtonEl =\n",
              "        document.querySelector('#df-f0a46ca5-3a73-47de-a724-049caf4853b0 button');\n",
              "      quickchartButtonEl.style.display =\n",
              "        google.colab.kernel.accessAllowed ? 'block' : 'none';\n",
              "    })();\n",
              "  </script>\n",
              "</div>\n",
              "    </div>\n",
              "  </div>\n"
            ],
            "application/vnd.google.colaboratory.intrinsic+json": {
              "type": "dataframe",
              "variable_name": "top5",
              "summary": "{\n  \"name\": \"top5\",\n  \"rows\": 289,\n  \"fields\": [\n    {\n      \"column\": \"country\",\n      \"properties\": {\n        \"dtype\": \"category\",\n        \"samples\": [\n          \"Israel\",\n          \"Chile\",\n          \"United States\"\n        ],\n        \"num_unique_values\": 5,\n        \"semantic_type\": \"\",\n        \"description\": \"\"\n      }\n    },\n    {\n      \"column\": \"iso_code\",\n      \"properties\": {\n        \"dtype\": \"category\",\n        \"samples\": [\n          \"ISR\",\n          \"CHL\",\n          \"USA\"\n        ],\n        \"num_unique_values\": 5,\n        \"semantic_type\": \"\",\n        \"description\": \"\"\n      }\n    },\n    {\n      \"column\": \"date\",\n      \"properties\": {\n        \"dtype\": \"date\",\n        \"min\": \"2020-12-13 00:00:00\",\n        \"max\": \"2021-02-15 00:00:00\",\n        \"samples\": [\n          \"2021-02-04 00:00:00\",\n          \"2021-02-11 00:00:00\",\n          \"2020-12-13 00:00:00\"\n        ],\n        \"num_unique_values\": 65,\n        \"semantic_type\": \"\",\n        \"description\": \"\"\n      }\n    },\n    {\n      \"column\": \"total_vaccinations\",\n      \"properties\": {\n        \"dtype\": \"number\",\n        \"std\": 10591100.679494513,\n        \"min\": 58.0,\n        \"max\": 52884356.0,\n        \"samples\": [\n          4006440.0,\n          38965.0,\n          5849899.0\n        ],\n        \"num_unique_values\": 227,\n        \"semantic_type\": \"\",\n        \"description\": \"\"\n      }\n    },\n    {\n      \"column\": \"people_vaccinated\",\n      \"properties\": {\n        \"dtype\": \"number\",\n        \"std\": 7854179.584226416,\n        \"min\": 58.0,\n        \"max\": 38292270.0,\n        \"samples\": [\n          70016.0,\n          174075.0,\n          97776.0\n        ],\n        \"num_unique_values\": 262,\n        \"semantic_type\": \"\",\n        \"description\": \"\"\n      }\n    },\n    {\n      \"column\": \"people_fully_vaccinated\",\n      \"properties\": {\n        \"dtype\": \"number\",\n        \"std\": 2864278.6050322186,\n        \"min\": 2.0,\n        \"max\": 14077440.0,\n        \"samples\": [\n          2401847.0,\n          478254.0,\n          10404.0\n        ],\n        \"num_unique_values\": 126,\n        \"semantic_type\": \"\",\n        \"description\": \"\"\n      }\n    },\n    {\n      \"column\": \"daily_vaccinations_raw\",\n      \"properties\": {\n        \"dtype\": \"number\",\n        \"std\": 476889.80919821095,\n        \"min\": 0.0,\n        \"max\": 2242472.0,\n        \"samples\": [\n          455704.0,\n          7621.0,\n          118841.0\n        ],\n        \"num_unique_values\": 210,\n        \"semantic_type\": \"\",\n        \"description\": \"\"\n      }\n    },\n    {\n      \"column\": \"daily_vaccinations\",\n      \"properties\": {\n        \"dtype\": \"number\",\n        \"std\": 383708.21014063904,\n        \"min\": 29.0,\n        \"max\": 1667631.0,\n        \"samples\": [\n          286118.0,\n          127432.0,\n          77331.0\n        ],\n        \"num_unique_values\": 269,\n        \"semantic_type\": \"\",\n        \"description\": \"\"\n      }\n    },\n    {\n      \"column\": \"total_vaccinations_per_hundred\",\n      \"properties\": {\n        \"dtype\": \"number\",\n        \"std\": 17.677469098050143,\n        \"min\": 0.0,\n        \"max\": 76.25,\n        \"samples\": [\n          17.64,\n          9.98,\n          58.57\n        ],\n        \"num_unique_values\": 210,\n        \"semantic_type\": \"\",\n        \"description\": \"\"\n      }\n    },\n    {\n      \"column\": \"people_vaccinated_per_hundred\",\n      \"properties\": {\n        \"dtype\": \"number\",\n        \"std\": 11.525864469834941,\n        \"min\": 0.0,\n        \"max\": 46.08,\n        \"samples\": [\n          7.93,\n          5.24,\n          7.04\n        ],\n        \"num_unique_values\": 206,\n        \"semantic_type\": \"\",\n        \"description\": \"\"\n      }\n    },\n    {\n      \"column\": \"people_fully_vaccinated_per_hundred\",\n      \"properties\": {\n        \"dtype\": \"number\",\n        \"std\": 8.425888017303217,\n        \"min\": 0.0,\n        \"max\": 30.17,\n        \"samples\": [\n          23.29,\n          28.53,\n          10.33\n        ],\n        \"num_unique_values\": 89,\n        \"semantic_type\": \"\",\n        \"description\": \"\"\n      }\n    },\n    {\n      \"column\": \"daily_vaccinations_per_million\",\n      \"properties\": {\n        \"dtype\": \"number\",\n        \"std\": 5088.3942801978865,\n        \"min\": 2.0,\n        \"max\": 21309.0,\n        \"samples\": [\n          12865.0,\n          4392.0,\n          8052.0\n        ],\n        \"num_unique_values\": 264,\n        \"semantic_type\": \"\",\n        \"description\": \"\"\n      }\n    },\n    {\n      \"column\": \"vaccines\",\n      \"properties\": {\n        \"dtype\": \"category\",\n        \"samples\": [\n          \"Moderna, Pfizer/BioNTech\",\n          \"Pfizer/BioNTech, Sinovac\",\n          \"Oxford/AstraZeneca, Pfizer/BioNTech\"\n        ],\n        \"num_unique_values\": 4,\n        \"semantic_type\": \"\",\n        \"description\": \"\"\n      }\n    },\n    {\n      \"column\": \"source_name\",\n      \"properties\": {\n        \"dtype\": \"category\",\n        \"samples\": [\n          \"Government of Israel\",\n          \"Department of Statistics and Health Information\",\n          \"Centers for Disease Control and Prevention\"\n        ],\n        \"num_unique_values\": 5,\n        \"semantic_type\": \"\",\n        \"description\": \"\"\n      }\n    },\n    {\n      \"column\": \"source_website\",\n      \"properties\": {\n        \"dtype\": \"category\",\n        \"samples\": [\n          \"https://datadashboard.health.gov.il/COVID-19/general\",\n          \"https://informesdeis.minsal.cl/SASVisualAnalytics/?reportUri=%2Freports%2Freports%2F1a8cc7ff-7df0-474f-a147-929ee45d1900&sectionIndex=0&sso_guest=true&reportViewOnly=true&reportContextBar=false&sas-welcome=false\",\n          \"https://covid.cdc.gov/covid-data-tracker/#vaccinations\"\n        ],\n        \"num_unique_values\": 5,\n        \"semantic_type\": \"\",\n        \"description\": \"\"\n      }\n    }\n  ]\n}"
            }
          },
          "metadata": {},
          "execution_count": 44
        }
      ]
    },
    {
      "cell_type": "code",
      "source": [
        "top5['people_vaccinated_per_hundred'].isna().sum()"
      ],
      "metadata": {
        "id": "kH7BKPI7oa2m",
        "outputId": "b88d5aba-8f6c-43ae-d27a-0f093b337ff2",
        "colab": {
          "base_uri": "https://localhost:8080/"
        }
      },
      "execution_count": 58,
      "outputs": [
        {
          "output_type": "execute_result",
          "data": {
            "text/plain": [
              "43"
            ]
          },
          "metadata": {},
          "execution_count": 58
        }
      ]
    },
    {
      "cell_type": "markdown",
      "source": [
        "\n",
        "\n",
        "```\n",
        "De aquellos 5 países que han vacunado más días en total compara su evolución en el tiempo\n",
        "(no importa que en algunas fechas no coincidan). ¿Qué diagrama has usado? ¿Porqué? Teniendo en\n",
        "cuenta que el mejor plan de vacunación es el que se mantiene más constante ¿Cuál es el país que mejor\n",
        "está llevando a cabo la vacunación? Haz una interpretación de dicho plan de vacunación.\n",
        "```\n",
        "\n",
        "\n",
        "\n"
      ],
      "metadata": {
        "id": "2Ug-Pyjb3UbU"
      }
    },
    {
      "cell_type": "markdown",
      "source": [
        "En la siguiente gráfica tenemos representados países muy diversos, teniendo en común que todos ellos vacunaron durante más días y llevaron un registro aceptable de los datos de personas vacunadas por días.\n",
        "\n",
        "Estados Unidos tuvo un gran crecimiento de personas vacunadas por día durante su campaña de vacunación, incluso teniendo en cuenta que es el país con más población de los 5, su crecimiento es proporcionalmente superior al de países que fueron más constantes como Israel, Bahrain y Chile. Solo United Kingdom presenta un crecimiento similar pero que se desvanece en los últimos días."
      ],
      "metadata": {
        "id": "X9uUX8oTtNrX"
      }
    },
    {
      "cell_type": "markdown",
      "source": [
        "Los países Chile, Israel y Bahrain son los que tienen un número de personas vacunadas por día más constante. Siendo Israel el mejor por también tener un crecimiento constante y regular, con esto la demanda de vacunas se puede satisfacer facilmente.\n",
        "\n",
        "Aunque parezca que Bahrain y Chile tienen un número muy pequeño de personas vacunadas por día, se ha de tener en cuenta que la población de esos países es menor, vamos a ver la proporción de estos países en comparación con los demás del top."
      ],
      "metadata": {
        "id": "toqnxKEP6reC"
      }
    },
    {
      "cell_type": "code",
      "source": [
        "perhundred_individuals = []\n",
        "for pais in conteo[:5].index:\n",
        "  perhundred_individuals.append(df[df['country'] == pais].iloc[1]['people_vaccinated_per_hundred'])\n",
        "print(perhundred_individuals)"
      ],
      "metadata": {
        "id": "d8NB4q7hngwZ",
        "outputId": "86810227-36ad-4a8f-dc2a-98a283a507cc",
        "colab": {
          "base_uri": "https://localhost:8080/"
        }
      },
      "execution_count": 48,
      "outputs": [
        {
          "output_type": "stream",
          "name": "stdout",
          "text": [
            "[nan, 0.09, 0.18, 2.94, 0.03]\n"
          ]
        }
      ]
    },
    {
      "cell_type": "code",
      "source": [
        "import matplotlib.pyplot as plt\n",
        "\n",
        "# Datos\n",
        "categorias = conteo[:4].index\n",
        "\n",
        "# Crear el gráfico de barras\n",
        "plt.bar(conteo[:5].index, perhundred_individuals)\n",
        "\n",
        "# Añadir etiquetas\n",
        "plt.xlabel('Países de la UK')\n",
        "plt.ylabel('Número de vacunados por cada 100 personas')\n",
        "plt.title('Gráfico de Barras')\n",
        "\n",
        "# Mostrar el gráfico\n",
        "plt.show()\n"
      ],
      "metadata": {
        "id": "t1KjG65foEI0",
        "outputId": "7dd48c28-0494-44fb-9876-650dce92b284",
        "colab": {
          "base_uri": "https://localhost:8080/",
          "height": 472
        }
      },
      "execution_count": 49,
      "outputs": [
        {
          "output_type": "display_data",
          "data": {
            "text/plain": [
              "<Figure size 640x480 with 1 Axes>"
            ],
            "image/png": "[encoded data removed]"
          },
          "metadata": {}
        }
      ]
    },
    {
      "cell_type": "markdown",
      "source": [
        "En la siguiente gráfica tenemos representados países muy diversos, teniendo en común que todos ellos vacunaron durante más días y llevaron un registro aceptable de los datos de personas vacunadas por días.\n",
        "\n",
        "Estados Unidos tuvo un gran crecimiento de personas vacunadas por día durante su campaña de vacunación, incluso teniendo en cuenta que es el país con más población de los 5, su crecimiento es proporcionalmente superior al de países que fueron más constantes como Israel, Bahrain y Chile. Solo United Kingdom presenta un crecimiento similar pero que se desvanece en los últimos días."
      ],
      "metadata": {
        "id": "qzs4HrR0APgd"
      }
    }
  ]
}