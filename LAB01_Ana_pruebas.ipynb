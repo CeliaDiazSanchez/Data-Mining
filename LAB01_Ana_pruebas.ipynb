{
  "nbformat": 4,
  "nbformat_minor": 0,
  "metadata": {
    "colab": {
      "provenance": [],
      "authorship_tag": "ABX9TyP/POSG+cv8H6e8eob8cpaf",
      "include_colab_link": true
    },
    "kernelspec": {
      "name": "python3",
      "display_name": "Python 3"
    },
    "language_info": {
      "name": "python"
    }
  },
  "cells": [
    {
      "cell_type": "markdown",
      "metadata": {
        "id": "view-in-github",
        "colab_type": "text"
      },
      "source": [
        "<a href=\"https://colab.research.google.com/github/CeliaDiazSanchez/Data-Mining/blob/LAB01/LAB01_Ana_pruebas.ipynb\" target=\"_parent\"><img src=\"https://colab.research.google.com/assets/colab-badge.svg\" alt=\"Open In Colab\"/></a>"
      ]
    },
    {
      "cell_type": "markdown",
      "source": [
        "## Vacunaciones COVID\n",
        "`` PRÁCTICA 1``"
      ],
      "metadata": {
        "id": "cWLwkdvrDwJ-"
      }
    },
    {
      "cell_type": "markdown",
      "source": [
        "# Descarga del dataset\n",
        "Descarga de vacunaciones.csv y Countries by Continent.csv guardados en el mismo repositorio de Github."
      ],
      "metadata": {
        "id": "0IpJDtX6HU9r"
      }
    },
    {
      "cell_type": "code",
      "source": [
        "import requests\n",
        "import pandas as pd\n",
        "\n",
        "# URL del archivo CSV en GitHub\n",
        "url = \"https://raw.githubusercontent.com/CeliaDiazSanchez/Data-Mining/LAB01/vacunaciones.csv\"\n",
        "nombre = 'vacunaciones.csv'\n",
        "\n",
        "\n",
        "# Realizar la solicitud GET para obtener el contenido del archivo\n",
        "response = requests.get(url)\n",
        "\n",
        "# Verificar si la solicitud fue exitosa (código de estado 200)\n",
        "if response.status_code == 200:\n",
        "     # Guardar el contenido del archivo en un archivo local\n",
        "    with open(nombre, 'wb') as f:\n",
        "        f.write(response.content)\n",
        "    print(\"Archivo descargado exitosamente.\")\n",
        "else:\n",
        "    print(\"Error al descargar el archivo.\")\n",
        "\n"
      ],
      "metadata": {
        "colab": {
          "base_uri": "https://localhost:8080/"
        },
        "id": "n-CK4GE6KNJ1",
        "outputId": "bbf7610e-4fd3-498b-c677-3686e998ab22"
      },
      "execution_count": 11,
      "outputs": [
        {
          "output_type": "stream",
          "name": "stdout",
          "text": [
            "Archivo descargado exitosamente.\n"
          ]
        }
      ]
    },
    {
      "cell_type": "markdown",
      "source": [
        "Cargamos el archivo de vacunaciones CSV en un DataFrame de pandas que llamamos `ds`.\n"
      ],
      "metadata": {
        "id": "6ZSd7Lf3DCCp"
      }
    },
    {
      "cell_type": "code",
      "source": [
        "ds = pd.read_csv('vacunaciones.csv')\n",
        "# Mostramos las 3 primeras entradas del dataset\n",
        "ds.head(3)"
      ],
      "metadata": {
        "id": "RgFLGflXDDkJ",
        "outputId": "3457e810-e904-449e-bbce-0c7baf9324b7",
        "colab": {
          "base_uri": "https://localhost:8080/",
          "height": 215
        }
      },
      "execution_count": 12,
      "outputs": [
        {
          "output_type": "execute_result",
          "data": {
            "text/plain": [
              "   country iso_code        date  total_vaccinations  people_vaccinated  \\\n",
              "0  Albania      ALB  2021-01-10                 0.0                0.0   \n",
              "1  Albania      ALB  2021-01-11                 NaN                NaN   \n",
              "2  Albania      ALB  2021-01-12               128.0              128.0   \n",
              "\n",
              "   people_fully_vaccinated  daily_vaccinations_raw  daily_vaccinations  \\\n",
              "0                      NaN                     NaN                 NaN   \n",
              "1                      NaN                     NaN                64.0   \n",
              "2                      NaN                     NaN                64.0   \n",
              "\n",
              "   total_vaccinations_per_hundred  people_vaccinated_per_hundred  \\\n",
              "0                             0.0                            0.0   \n",
              "1                             NaN                            NaN   \n",
              "2                             0.0                            0.0   \n",
              "\n",
              "   people_fully_vaccinated_per_hundred  daily_vaccinations_per_million  \\\n",
              "0                                  NaN                             NaN   \n",
              "1                                  NaN                            22.0   \n",
              "2                                  NaN                            22.0   \n",
              "\n",
              "          vaccines         source_name  \\\n",
              "0  Pfizer/BioNTech  Ministry of Health   \n",
              "1  Pfizer/BioNTech  Ministry of Health   \n",
              "2  Pfizer/BioNTech  Ministry of Health   \n",
              "\n",
              "                                      source_website  \n",
              "0  https://shendetesia.gov.al/vaksinimi-anticovid...  \n",
              "1  https://shendetesia.gov.al/vaksinimi-anticovid...  \n",
              "2  https://shendetesia.gov.al/vaksinimi-anticovid...  "
            ],
            "text/html": [
              "\n",
              "  <div id=\"df-47450ad7-c458-406b-ae9a-38914790c390\" class=\"colab-df-container\">\n",
              "    <div>\n",
              "<style scoped>\n",
              "    .dataframe tbody tr th:only-of-type {\n",
              "        vertical-align: middle;\n",
              "    }\n",
              "\n",
              "    .dataframe tbody tr th {\n",
              "        vertical-align: top;\n",
              "    }\n",
              "\n",
              "    .dataframe thead th {\n",
              "        text-align: right;\n",
              "    }\n",
              "</style>\n",
              "<table border=\"1\" class=\"dataframe\">\n",
              "  <thead>\n",
              "    <tr style=\"text-align: right;\">\n",
              "      <th></th>\n",
              "      <th>country</th>\n",
              "      <th>iso_code</th>\n",
              "      <th>date</th>\n",
              "      <th>total_vaccinations</th>\n",
              "      <th>people_vaccinated</th>\n",
              "      <th>people_fully_vaccinated</th>\n",
              "      <th>daily_vaccinations_raw</th>\n",
              "      <th>daily_vaccinations</th>\n",
              "      <th>total_vaccinations_per_hundred</th>\n",
              "      <th>people_vaccinated_per_hundred</th>\n",
              "      <th>people_fully_vaccinated_per_hundred</th>\n",
              "      <th>daily_vaccinations_per_million</th>\n",
              "      <th>vaccines</th>\n",
              "      <th>source_name</th>\n",
              "      <th>source_website</th>\n",
              "    </tr>\n",
              "  </thead>\n",
              "  <tbody>\n",
              "    <tr>\n",
              "      <th>0</th>\n",
              "      <td>Albania</td>\n",
              "      <td>ALB</td>\n",
              "      <td>2021-01-10</td>\n",
              "      <td>0.0</td>\n",
              "      <td>0.0</td>\n",
              "      <td>NaN</td>\n",
              "      <td>NaN</td>\n",
              "      <td>NaN</td>\n",
              "      <td>0.0</td>\n",
              "      <td>0.0</td>\n",
              "      <td>NaN</td>\n",
              "      <td>NaN</td>\n",
              "      <td>Pfizer/BioNTech</td>\n",
              "      <td>Ministry of Health</td>\n",
              "      <td>https://shendetesia.gov.al/vaksinimi-anticovid...</td>\n",
              "    </tr>\n",
              "    <tr>\n",
              "      <th>1</th>\n",
              "      <td>Albania</td>\n",
              "      <td>ALB</td>\n",
              "      <td>2021-01-11</td>\n",
              "      <td>NaN</td>\n",
              "      <td>NaN</td>\n",
              "      <td>NaN</td>\n",
              "      <td>NaN</td>\n",
              "      <td>64.0</td>\n",
              "      <td>NaN</td>\n",
              "      <td>NaN</td>\n",
              "      <td>NaN</td>\n",
              "      <td>22.0</td>\n",
              "      <td>Pfizer/BioNTech</td>\n",
              "      <td>Ministry of Health</td>\n",
              "      <td>https://shendetesia.gov.al/vaksinimi-anticovid...</td>\n",
              "    </tr>\n",
              "    <tr>\n",
              "      <th>2</th>\n",
              "      <td>Albania</td>\n",
              "      <td>ALB</td>\n",
              "      <td>2021-01-12</td>\n",
              "      <td>128.0</td>\n",
              "      <td>128.0</td>\n",
              "      <td>NaN</td>\n",
              "      <td>NaN</td>\n",
              "      <td>64.0</td>\n",
              "      <td>0.0</td>\n",
              "      <td>0.0</td>\n",
              "      <td>NaN</td>\n",
              "      <td>22.0</td>\n",
              "      <td>Pfizer/BioNTech</td>\n",
              "      <td>Ministry of Health</td>\n",
              "      <td>https://shendetesia.gov.al/vaksinimi-anticovid...</td>\n",
              "    </tr>\n",
              "  </tbody>\n",
              "</table>\n",
              "</div>\n",
              "    <div class=\"colab-df-buttons\">\n",
              "\n",
              "  <div class=\"colab-df-container\">\n",
              "    <button class=\"colab-df-convert\" onclick=\"convertToInteractive('df-47450ad7-c458-406b-ae9a-38914790c390')\"\n",
              "            title=\"Convert this dataframe to an interactive table.\"\n",
              "            style=\"display:none;\">\n",
              "\n",
              "  <svg xmlns=\"http://www.w3.org/2000/svg\" height=\"24px\" viewBox=\"0 -960 960 960\">\n",
              "    <path d=\"M120-120v-720h720v720H120Zm60-500h600v-160H180v160Zm220 220h160v-160H400v160Zm0 220h160v-160H400v160ZM180-400h160v-160H180v160Zm440 0h160v-160H620v160ZM180-180h160v-160H180v160Zm440 0h160v-160H620v160Z\"/>\n",
              "  </svg>\n",
              "    </button>\n",
              "\n",
              "  <style>\n",
              "    .colab-df-container {\n",
              "      display:flex;\n",
              "      gap: 12px;\n",
              "    }\n",
              "\n",
              "    .colab-df-convert {\n",
              "      background-color: #E8F0FE;\n",
              "      border: none;\n",
              "      border-radius: 50%;\n",
              "      cursor: pointer;\n",
              "      display: none;\n",
              "      fill: #1967D2;\n",
              "      height: 32px;\n",
              "      padding: 0 0 0 0;\n",
              "      width: 32px;\n",
              "    }\n",
              "\n",
              "    .colab-df-convert:hover {\n",
              "      background-color: #E2EBFA;\n",
              "      box-shadow: 0px 1px 2px rgba(60, 64, 67, 0.3), 0px 1px 3px 1px rgba(60, 64, 67, 0.15);\n",
              "      fill: #174EA6;\n",
              "    }\n",
              "\n",
              "    .colab-df-buttons div {\n",
              "      margin-bottom: 4px;\n",
              "    }\n",
              "\n",
              "    [theme=dark] .colab-df-convert {\n",
              "      background-color: #3B4455;\n",
              "      fill: #D2E3FC;\n",
              "    }\n",
              "\n",
              "    [theme=dark] .colab-df-convert:hover {\n",
              "      background-color: #434B5C;\n",
              "      box-shadow: 0px 1px 3px 1px rgba(0, 0, 0, 0.15);\n",
              "      filter: drop-shadow(0px 1px 2px rgba(0, 0, 0, 0.3));\n",
              "      fill: #FFFFFF;\n",
              "    }\n",
              "  </style>\n",
              "\n",
              "    <script>\n",
              "      const buttonEl =\n",
              "        document.querySelector('#df-47450ad7-c458-406b-ae9a-38914790c390 button.colab-df-convert');\n",
              "      buttonEl.style.display =\n",
              "        google.colab.kernel.accessAllowed ? 'block' : 'none';\n",
              "\n",
              "      async function convertToInteractive(key) {\n",
              "        const element = document.querySelector('#df-47450ad7-c458-406b-ae9a-38914790c390');\n",
              "        const dataTable =\n",
              "          await google.colab.kernel.invokeFunction('convertToInteractive',\n",
              "                                                    [key], {});\n",
              "        if (!dataTable) return;\n",
              "\n",
              "        const docLinkHtml = 'Like what you see? Visit the ' +\n",
              "          '<a target=\"_blank\" href=https://colab.research.google.com/notebooks/data_table.ipynb>data table notebook</a>'\n",
              "          + ' to learn more about interactive tables.';\n",
              "        element.innerHTML = '';\n",
              "        dataTable['output_type'] = 'display_data';\n",
              "        await google.colab.output.renderOutput(dataTable, element);\n",
              "        const docLink = document.createElement('div');\n",
              "        docLink.innerHTML = docLinkHtml;\n",
              "        element.appendChild(docLink);\n",
              "      }\n",
              "    </script>\n",
              "  </div>\n",
              "\n",
              "\n",
              "<div id=\"df-7608fa33-091e-4e32-84df-95adfb413d5c\">\n",
              "  <button class=\"colab-df-quickchart\" onclick=\"quickchart('df-7608fa33-091e-4e32-84df-95adfb413d5c')\"\n",
              "            title=\"Suggest charts\"\n",
              "            style=\"display:none;\">\n",
              "\n",
              "<svg xmlns=\"http://www.w3.org/2000/svg\" height=\"24px\"viewBox=\"0 0 24 24\"\n",
              "     width=\"24px\">\n",
              "    <g>\n",
              "        <path d=\"M19 3H5c-1.1 0-2 .9-2 2v14c0 1.1.9 2 2 2h14c1.1 0 2-.9 2-2V5c0-1.1-.9-2-2-2zM9 17H7v-7h2v7zm4 0h-2V7h2v10zm4 0h-2v-4h2v4z\"/>\n",
              "    </g>\n",
              "</svg>\n",
              "  </button>\n",
              "\n",
              "<style>\n",
              "  .colab-df-quickchart {\n",
              "      --bg-color: #E8F0FE;\n",
              "      --fill-color: #1967D2;\n",
              "      --hover-bg-color: #E2EBFA;\n",
              "      --hover-fill-color: #174EA6;\n",
              "      --disabled-fill-color: #AAA;\n",
              "      --disabled-bg-color: #DDD;\n",
              "  }\n",
              "\n",
              "  [theme=dark] .colab-df-quickchart {\n",
              "      --bg-color: #3B4455;\n",
              "      --fill-color: #D2E3FC;\n",
              "      --hover-bg-color: #434B5C;\n",
              "      --hover-fill-color: #FFFFFF;\n",
              "      --disabled-bg-color: #3B4455;\n",
              "      --disabled-fill-color: #666;\n",
              "  }\n",
              "\n",
              "  .colab-df-quickchart {\n",
              "    background-color: var(--bg-color);\n",
              "    border: none;\n",
              "    border-radius: 50%;\n",
              "    cursor: pointer;\n",
              "    display: none;\n",
              "    fill: var(--fill-color);\n",
              "    height: 32px;\n",
              "    padding: 0;\n",
              "    width: 32px;\n",
              "  }\n",
              "\n",
              "  .colab-df-quickchart:hover {\n",
              "    background-color: var(--hover-bg-color);\n",
              "    box-shadow: 0 1px 2px rgba(60, 64, 67, 0.3), 0 1px 3px 1px rgba(60, 64, 67, 0.15);\n",
              "    fill: var(--button-hover-fill-color);\n",
              "  }\n",
              "\n",
              "  .colab-df-quickchart-complete:disabled,\n",
              "  .colab-df-quickchart-complete:disabled:hover {\n",
              "    background-color: var(--disabled-bg-color);\n",
              "    fill: var(--disabled-fill-color);\n",
              "    box-shadow: none;\n",
              "  }\n",
              "\n",
              "  .colab-df-spinner {\n",
              "    border: 2px solid var(--fill-color);\n",
              "    border-color: transparent;\n",
              "    border-bottom-color: var(--fill-color);\n",
              "    animation:\n",
              "      spin 1s steps(1) infinite;\n",
              "  }\n",
              "\n",
              "  @keyframes spin {\n",
              "    0% {\n",
              "      border-color: transparent;\n",
              "      border-bottom-color: var(--fill-color);\n",
              "      border-left-color: var(--fill-color);\n",
              "    }\n",
              "    20% {\n",
              "      border-color: transparent;\n",
              "      border-left-color: var(--fill-color);\n",
              "      border-top-color: var(--fill-color);\n",
              "    }\n",
              "    30% {\n",
              "      border-color: transparent;\n",
              "      border-left-color: var(--fill-color);\n",
              "      border-top-color: var(--fill-color);\n",
              "      border-right-color: var(--fill-color);\n",
              "    }\n",
              "    40% {\n",
              "      border-color: transparent;\n",
              "      border-right-color: var(--fill-color);\n",
              "      border-top-color: var(--fill-color);\n",
              "    }\n",
              "    60% {\n",
              "      border-color: transparent;\n",
              "      border-right-color: var(--fill-color);\n",
              "    }\n",
              "    80% {\n",
              "      border-color: transparent;\n",
              "      border-right-color: var(--fill-color);\n",
              "      border-bottom-color: var(--fill-color);\n",
              "    }\n",
              "    90% {\n",
              "      border-color: transparent;\n",
              "      border-bottom-color: var(--fill-color);\n",
              "    }\n",
              "  }\n",
              "</style>\n",
              "\n",
              "  <script>\n",
              "    async function quickchart(key) {\n",
              "      const quickchartButtonEl =\n",
              "        document.querySelector('#' + key + ' button');\n",
              "      quickchartButtonEl.disabled = true;  // To prevent multiple clicks.\n",
              "      quickchartButtonEl.classList.add('colab-df-spinner');\n",
              "      try {\n",
              "        const charts = await google.colab.kernel.invokeFunction(\n",
              "            'suggestCharts', [key], {});\n",
              "      } catch (error) {\n",
              "        console.error('Error during call to suggestCharts:', error);\n",
              "      }\n",
              "      quickchartButtonEl.classList.remove('colab-df-spinner');\n",
              "      quickchartButtonEl.classList.add('colab-df-quickchart-complete');\n",
              "    }\n",
              "    (() => {\n",
              "      let quickchartButtonEl =\n",
              "        document.querySelector('#df-7608fa33-091e-4e32-84df-95adfb413d5c button');\n",
              "      quickchartButtonEl.style.display =\n",
              "        google.colab.kernel.accessAllowed ? 'block' : 'none';\n",
              "    })();\n",
              "  </script>\n",
              "</div>\n",
              "    </div>\n",
              "  </div>\n"
            ],
            "application/vnd.google.colaboratory.intrinsic+json": {
              "type": "dataframe",
              "variable_name": "ds",
              "summary": "{\n  \"name\": \"ds\",\n  \"rows\": 3208,\n  \"fields\": [\n    {\n      \"column\": \"country\",\n      \"properties\": {\n        \"dtype\": \"category\",\n        \"samples\": [\n          \"Iran\",\n          \"Czechia\",\n          \"Monaco\"\n        ],\n        \"num_unique_values\": 90,\n        \"semantic_type\": \"\",\n        \"description\": \"\"\n      }\n    },\n    {\n      \"column\": \"iso_code\",\n      \"properties\": {\n        \"dtype\": \"category\",\n        \"samples\": [\n          \"SVK\",\n          \"ALB\",\n          \"SHN\"\n        ],\n        \"num_unique_values\": 86,\n        \"semantic_type\": \"\",\n        \"description\": \"\"\n      }\n    },\n    {\n      \"column\": \"date\",\n      \"properties\": {\n        \"dtype\": \"object\",\n        \"min\": \"2020-12-13\",\n        \"max\": \"2021-02-15\",\n        \"samples\": [\n          \"2020-12-27\",\n          \"2020-12-20\",\n          \"2021-01-10\"\n        ],\n        \"num_unique_values\": 65,\n        \"semantic_type\": \"\",\n        \"description\": \"\"\n      }\n    },\n    {\n      \"column\": \"total_vaccinations\",\n      \"properties\": {\n        \"dtype\": \"number\",\n        \"std\": 4460924.4580782065,\n        \"min\": 0.0,\n        \"max\": 52884356.0,\n        \"samples\": [\n          2764450.0,\n          75113.0,\n          21194.0\n        ],\n        \"num_unique_values\": 2000,\n        \"semantic_type\": \"\",\n        \"description\": \"\"\n      }\n    },\n    {\n      \"column\": \"people_vaccinated\",\n      \"properties\": {\n        \"dtype\": \"number\",\n        \"std\": 3706714.343499147,\n        \"min\": 0.0,\n        \"max\": 38292270.0,\n        \"samples\": [\n          50963.0,\n          301909.0,\n          4739.0\n        ],\n        \"num_unique_values\": 1662,\n        \"semantic_type\": \"\",\n        \"description\": \"\"\n      }\n    },\n    {\n      \"column\": \"people_fully_vaccinated\",\n      \"properties\": {\n        \"dtype\": \"number\",\n        \"std\": 1189176.145982171,\n        \"min\": 1.0,\n        \"max\": 14077440.0,\n        \"samples\": [\n          42667.0,\n          1221720.0,\n          7607.0\n        ],\n        \"num_unique_values\": 1029,\n        \"semantic_type\": \"\",\n        \"description\": \"\"\n      }\n    },\n    {\n      \"column\": \"daily_vaccinations_raw\",\n      \"properties\": {\n        \"dtype\": \"number\",\n        \"std\": 205473.373154072,\n        \"min\": 0.0,\n        \"max\": 2242472.0,\n        \"samples\": [\n          10907.0,\n          213.0,\n          16887.0\n        ],\n        \"num_unique_values\": 1617,\n        \"semantic_type\": \"\",\n        \"description\": \"\"\n      }\n    },\n    {\n      \"column\": \"daily_vaccinations\",\n      \"properties\": {\n        \"dtype\": \"number\",\n        \"std\": 173495.85768375866,\n        \"min\": 1.0,\n        \"max\": 1916190.0,\n        \"samples\": [\n          343.0,\n          17880.0,\n          747082.0\n        ],\n        \"num_unique_values\": 2450,\n        \"semantic_type\": \"\",\n        \"description\": \"\"\n      }\n    },\n    {\n      \"column\": \"total_vaccinations_per_hundred\",\n      \"properties\": {\n        \"dtype\": \"number\",\n        \"std\": 10.466306061344778,\n        \"min\": 0.0,\n        \"max\": 77.0,\n        \"samples\": [\n          48.45,\n          12.29,\n          2.37\n        ],\n        \"num_unique_values\": 872,\n        \"semantic_type\": \"\",\n        \"description\": \"\"\n      }\n    },\n    {\n      \"column\": \"people_vaccinated_per_hundred\",\n      \"properties\": {\n        \"dtype\": \"number\",\n        \"std\": 8.037008567009355,\n        \"min\": 0.0,\n        \"max\": 47.16,\n        \"samples\": [\n          0.98,\n          11.13,\n          2.38\n        ],\n        \"num_unique_values\": 740,\n        \"semantic_type\": \"\",\n        \"description\": \"\"\n      }\n    },\n    {\n      \"column\": \"people_fully_vaccinated_per_hundred\",\n      \"properties\": {\n        \"dtype\": \"number\",\n        \"std\": 4.012435116560985,\n        \"min\": 0.0,\n        \"max\": 30.17,\n        \"samples\": [\n          0.15,\n          0.95,\n          1.19\n        ],\n        \"num_unique_values\": 287,\n        \"semantic_type\": \"\",\n        \"description\": \"\"\n      }\n    },\n    {\n      \"column\": \"daily_vaccinations_per_million\",\n      \"properties\": {\n        \"dtype\": \"number\",\n        \"std\": 3711.789295592776,\n        \"min\": 0.0,\n        \"max\": 30869.0,\n        \"samples\": [\n          3801.0,\n          4272.0,\n          1778.0\n        ],\n        \"num_unique_values\": 1795,\n        \"semantic_type\": \"\",\n        \"description\": \"\"\n      }\n    },\n    {\n      \"column\": \"vaccines\",\n      \"properties\": {\n        \"dtype\": \"category\",\n        \"samples\": [\n          \"Pfizer/BioNTech\",\n          \"Sputnik V\",\n          \"Moderna, Pfizer/BioNTech\"\n        ],\n        \"num_unique_values\": 18,\n        \"semantic_type\": \"\",\n        \"description\": \"\"\n      }\n    },\n    {\n      \"column\": \"source_name\",\n      \"properties\": {\n        \"dtype\": \"category\",\n        \"samples\": [\n          \"Government of Gibraltar\",\n          \"National Institute of Public Health, via Sledilnik\",\n          \"Extended Programme for Immunisation\"\n        ],\n        \"num_unique_values\": 54,\n        \"semantic_type\": \"\",\n        \"description\": \"\"\n      }\n    },\n    {\n      \"column\": \"source_website\",\n      \"properties\": {\n        \"dtype\": \"category\",\n        \"samples\": [\n          \"https://www.pmo.gov.sg/Newsroom/Chinese-New-Year-Message-2021-by-PM-Lee-Hsien-Loong\",\n          \"https://shendetesia.gov.al/vaksinimi-anticovid-vaksinohen-48-mjeke-dhe-infermiere/\",\n          \"https://www.reuters.com/article/health-coronavirus-russia-vaccine-idINKBN2AA1UH\"\n        ],\n        \"num_unique_values\": 86,\n        \"semantic_type\": \"\",\n        \"description\": \"\"\n      }\n    }\n  ]\n}"
            }
          },
          "metadata": {},
          "execution_count": 12
        }
      ]
    },
    {
      "cell_type": "markdown",
      "source": [
        "# Exploración de la base de datos"
      ],
      "metadata": {
        "id": "JtnomdVjDMxU"
      }
    },
    {
      "cell_type": "markdown",
      "source": [
        "Veamos las variables de la base de datos y de qué tipo es cada una."
      ],
      "metadata": {
        "id": "U9DMKalwMaOt"
      }
    },
    {
      "cell_type": "code",
      "source": [
        "print(ds.dtypes)"
      ],
      "metadata": {
        "id": "CadSAfUJMl2H",
        "outputId": "fa25d9b9-fcc4-4679-feb7-30b6dde6109b",
        "colab": {
          "base_uri": "https://localhost:8080/"
        }
      },
      "execution_count": 13,
      "outputs": [
        {
          "output_type": "stream",
          "name": "stdout",
          "text": [
            "country                                 object\n",
            "iso_code                                object\n",
            "date                                    object\n",
            "total_vaccinations                     float64\n",
            "people_vaccinated                      float64\n",
            "people_fully_vaccinated                float64\n",
            "daily_vaccinations_raw                 float64\n",
            "daily_vaccinations                     float64\n",
            "total_vaccinations_per_hundred         float64\n",
            "people_vaccinated_per_hundred          float64\n",
            "people_fully_vaccinated_per_hundred    float64\n",
            "daily_vaccinations_per_million         float64\n",
            "vaccines                                object\n",
            "source_name                             object\n",
            "source_website                          object\n",
            "dtype: object\n"
          ]
        }
      ]
    },
    {
      "cell_type": "markdown",
      "source": [
        "Lo primero que haremos será convertir la variable `date` de tipo `object` a tipo fecha o `datetime`."
      ],
      "metadata": {
        "id": "HApJH68NGZbU"
      }
    },
    {
      "cell_type": "code",
      "source": [
        "# Convertir la columna de fecha a formato datetime\n",
        "ds['date'] = pd.to_datetime(ds['date'])\n",
        "print(ds['date'].dtypes)"
      ],
      "metadata": {
        "id": "6GejbECdHM6i",
        "outputId": "9a89833e-afc1-44b8-cc63-85f08f58b243",
        "colab": {
          "base_uri": "https://localhost:8080/"
        }
      },
      "execution_count": 14,
      "outputs": [
        {
          "output_type": "stream",
          "name": "stdout",
          "text": [
            "datetime64[ns]\n"
          ]
        }
      ]
    },
    {
      "cell_type": "markdown",
      "source": [
        "A continuación veremos sobre que países se hace el estudio:"
      ],
      "metadata": {
        "id": "afF5YqRbHZYF"
      }
    },
    {
      "cell_type": "code",
      "source": [
        "paises = ds['country'].unique()\n",
        "print(paises)"
      ],
      "metadata": {
        "id": "LnxFJygvHfdN",
        "outputId": "591d8db1-86c2-4349-ca8c-658fb00e79a4",
        "colab": {
          "base_uri": "https://localhost:8080/"
        }
      },
      "execution_count": 15,
      "outputs": [
        {
          "output_type": "stream",
          "name": "stdout",
          "text": [
            "['Albania' 'Algeria' 'Andorra' 'Anguilla' 'Argentina' 'Austria'\n",
            " 'Azerbaijan' 'Bahrain' 'Bangladesh' 'Belgium' 'Bermuda' 'Bolivia'\n",
            " 'Brazil' 'Bulgaria' 'Cambodia' 'Canada' 'Cayman Islands' 'Chile' 'China'\n",
            " 'Costa Rica' 'Croatia' 'Cyprus' 'Czechia' 'Denmark' 'Ecuador' 'Egypt'\n",
            " 'England' 'Estonia' 'Faeroe Islands' 'Finland' 'France' 'Germany'\n",
            " 'Gibraltar' 'Greece' 'Greenland' 'Guernsey' 'Hungary' 'Iceland' 'India'\n",
            " 'Indonesia' 'Iran' 'Ireland' 'Isle of Man' 'Israel' 'Italy' 'Jersey'\n",
            " 'Kuwait' 'Latvia' 'Liechtenstein' 'Lithuania' 'Luxembourg' 'Maldives'\n",
            " 'Malta' 'Mauritius' 'Mexico' 'Monaco' 'Morocco' 'Myanmar' 'Nepal'\n",
            " 'Netherlands' 'Northern Cyprus' 'Northern Ireland' 'Norway' 'Oman'\n",
            " 'Pakistan' 'Panama' 'Peru' 'Poland' 'Portugal' 'Qatar' 'Romania' 'Russia'\n",
            " 'Saint Helena' 'Saudi Arabia' 'Scotland' 'Serbia' 'Seychelles'\n",
            " 'Singapore' 'Slovakia' 'Slovenia' 'Spain' 'Sri Lanka' 'Sweden'\n",
            " 'Switzerland' 'Turkey' 'Turks and Caicos Islands' 'United Arab Emirates'\n",
            " 'United Kingdom' 'United States' 'Wales']\n"
          ]
        }
      ]
    },
    {
      "cell_type": "markdown",
      "source": [
        "**Estudio de NaNs**"
      ],
      "metadata": {
        "id": "SDBTbIvPLUV0"
      }
    },
    {
      "cell_type": "markdown",
      "source": [
        "Calculamos la suma de valores NaN"
      ],
      "metadata": {
        "id": "-rdxxIbxOxMx"
      }
    },
    {
      "cell_type": "code",
      "source": [
        "ds.isna().sum()"
      ],
      "metadata": {
        "colab": {
          "base_uri": "https://localhost:8080/"
        },
        "id": "HMBpbs7SOtjw",
        "outputId": "dfe38be1-4650-4e40-c317-134944bae5e6"
      },
      "execution_count": 16,
      "outputs": [
        {
          "output_type": "execute_result",
          "data": {
            "text/plain": [
              "country                                   0\n",
              "iso_code                                256\n",
              "date                                      0\n",
              "total_vaccinations                     1124\n",
              "people_vaccinated                      1481\n",
              "people_fully_vaccinated                2114\n",
              "daily_vaccinations_raw                 1473\n",
              "daily_vaccinations                      125\n",
              "total_vaccinations_per_hundred         1124\n",
              "people_vaccinated_per_hundred          1481\n",
              "people_fully_vaccinated_per_hundred    2114\n",
              "daily_vaccinations_per_million          125\n",
              "vaccines                                  0\n",
              "source_name                               0\n",
              "source_website                            0\n",
              "dtype: int64"
            ]
          },
          "metadata": {},
          "execution_count": 16
        }
      ]
    },
    {
      "cell_type": "markdown",
      "source": [
        "Concretamente, nos interesa los de la variable `people_vaccinated` que vamos a analizar y eliminar sus valores NaN."
      ],
      "metadata": {
        "id": "k9BtYdzbPTXN"
      }
    },
    {
      "cell_type": "code",
      "source": [
        "conteo_nans = ds['people_vaccinated'].isna().sum()\n",
        "conteo_no_nans = len(ds) - conteo_nans"
      ],
      "metadata": {
        "id": "epjcz9G5REhG"
      },
      "execution_count": 17,
      "outputs": []
    },
    {
      "cell_type": "code",
      "source": [
        "import matplotlib.pyplot as plt\n",
        "\n",
        "# Datos de ejemplo\n",
        "sizes = [conteo_nans, conteo_no_nans]\n",
        "labels = ['NaN','no NaN']\n",
        "\n",
        "# Crear un gráfico circular\n",
        "plt.figure(figsize=(8, 8))\n",
        "plt.pie(sizes, labels=labels, autopct='%1.1f%%',colors=['red','green'], startangle=140)\n",
        "\n",
        "# Añadir título\n",
        "plt.title('people_vaccinated NaNs')\n",
        "\n",
        "# Mostrar el gráfico\n",
        "plt.show()"
      ],
      "metadata": {
        "colab": {
          "base_uri": "https://localhost:8080/",
          "height": 675
        },
        "id": "sXqOdADJRvRz",
        "outputId": "36248227-0ae3-415d-c3b9-633b9b1a9658"
      },
      "execution_count": 9,
      "outputs": [
        {
          "output_type": "display_data",
          "data": {
            "text/plain": [
              "<Figure size 800x800 with 1 Axes>"
            ],
            "image/png": "[encoded data removed]"
          },
          "metadata": {}
        }
      ]
    },
    {
      "cell_type": "markdown",
      "source": [
        "Como podemos observar casi la mitad son NaN, y eso puede ser problemático a la hora de analizar los países si se diese el caso de que un país tuviese todas o casi todas sus entradas con NaN."
      ],
      "metadata": {
        "id": "qg5BvZuc6vhE"
      }
    },
    {
      "cell_type": "markdown",
      "source": [
        "Veamos cuántos NaNs hay por país en la variable `people_vaccinated`."
      ],
      "metadata": {
        "id": "w3ksXRFX3xpi"
      }
    },
    {
      "cell_type": "code",
      "source": [
        "# TODO: cambiar no puede ser q haya 13 entradas y 18 NaN\n",
        "result = ds.groupby('country')['people_vaccinated'].agg([(\"numero_entradas\", \"count\"), (\"numero_NaN\", lambda x: x.isna().sum())])\n",
        "result"
      ],
      "metadata": {
        "colab": {
          "base_uri": "https://localhost:8080/",
          "height": 455
        },
        "id": "yO4C6WDe6oMG",
        "outputId": "3d33b883-345d-4d7d-a41f-a35e7255bf29"
      },
      "execution_count": 10,
      "outputs": [
        {
          "output_type": "execute_result",
          "data": {
            "text/plain": [
              "                          numero_entradas  numero_NaN\n",
              "country                                              \n",
              "Albania                                13          18\n",
              "Algeria                                 0           2\n",
              "Andorra                                 3          14\n",
              "Anguilla                                2           8\n",
              "Argentina                              24          25\n",
              "...                                   ...         ...\n",
              "Turks and Caicos Islands                2          28\n",
              "United Arab Emirates                    1          41\n",
              "United Kingdom                         40          24\n",
              "United States                          43          14\n",
              "Wales                                  38          26\n",
              "\n",
              "[90 rows x 2 columns]"
            ],
            "text/html": [
              "\n",
              "  <div id=\"df-8720e028-84e3-4ba0-ad42-8156ca2f8fef\" class=\"colab-df-container\">\n",
              "    <div>\n",
              "<style scoped>\n",
              "    .dataframe tbody tr th:only-of-type {\n",
              "        vertical-align: middle;\n",
              "    }\n",
              "\n",
              "    .dataframe tbody tr th {\n",
              "        vertical-align: top;\n",
              "    }\n",
              "\n",
              "    .dataframe thead th {\n",
              "        text-align: right;\n",
              "    }\n",
              "</style>\n",
              "<table border=\"1\" class=\"dataframe\">\n",
              "  <thead>\n",
              "    <tr style=\"text-align: right;\">\n",
              "      <th></th>\n",
              "      <th>numero_entradas</th>\n",
              "      <th>numero_NaN</th>\n",
              "    </tr>\n",
              "    <tr>\n",
              "      <th>country</th>\n",
              "      <th></th>\n",
              "      <th></th>\n",
              "    </tr>\n",
              "  </thead>\n",
              "  <tbody>\n",
              "    <tr>\n",
              "      <th>Albania</th>\n",
              "      <td>13</td>\n",
              "      <td>18</td>\n",
              "    </tr>\n",
              "    <tr>\n",
              "      <th>Algeria</th>\n",
              "      <td>0</td>\n",
              "      <td>2</td>\n",
              "    </tr>\n",
              "    <tr>\n",
              "      <th>Andorra</th>\n",
              "      <td>3</td>\n",
              "      <td>14</td>\n",
              "    </tr>\n",
              "    <tr>\n",
              "      <th>Anguilla</th>\n",
              "      <td>2</td>\n",
              "      <td>8</td>\n",
              "    </tr>\n",
              "    <tr>\n",
              "      <th>Argentina</th>\n",
              "      <td>24</td>\n",
              "      <td>25</td>\n",
              "    </tr>\n",
              "    <tr>\n",
              "      <th>...</th>\n",
              "      <td>...</td>\n",
              "      <td>...</td>\n",
              "    </tr>\n",
              "    <tr>\n",
              "      <th>Turks and Caicos Islands</th>\n",
              "      <td>2</td>\n",
              "      <td>28</td>\n",
              "    </tr>\n",
              "    <tr>\n",
              "      <th>United Arab Emirates</th>\n",
              "      <td>1</td>\n",
              "      <td>41</td>\n",
              "    </tr>\n",
              "    <tr>\n",
              "      <th>United Kingdom</th>\n",
              "      <td>40</td>\n",
              "      <td>24</td>\n",
              "    </tr>\n",
              "    <tr>\n",
              "      <th>United States</th>\n",
              "      <td>43</td>\n",
              "      <td>14</td>\n",
              "    </tr>\n",
              "    <tr>\n",
              "      <th>Wales</th>\n",
              "      <td>38</td>\n",
              "      <td>26</td>\n",
              "    </tr>\n",
              "  </tbody>\n",
              "</table>\n",
              "<p>90 rows × 2 columns</p>\n",
              "</div>\n",
              "    <div class=\"colab-df-buttons\">\n",
              "\n",
              "  <div class=\"colab-df-container\">\n",
              "    <button class=\"colab-df-convert\" onclick=\"convertToInteractive('df-8720e028-84e3-4ba0-ad42-8156ca2f8fef')\"\n",
              "            title=\"Convert this dataframe to an interactive table.\"\n",
              "            style=\"display:none;\">\n",
              "\n",
              "  <svg xmlns=\"http://www.w3.org/2000/svg\" height=\"24px\" viewBox=\"0 -960 960 960\">\n",
              "    <path d=\"M120-120v-720h720v720H120Zm60-500h600v-160H180v160Zm220 220h160v-160H400v160Zm0 220h160v-160H400v160ZM180-400h160v-160H180v160Zm440 0h160v-160H620v160ZM180-180h160v-160H180v160Zm440 0h160v-160H620v160Z\"/>\n",
              "  </svg>\n",
              "    </button>\n",
              "\n",
              "  <style>\n",
              "    .colab-df-container {\n",
              "      display:flex;\n",
              "      gap: 12px;\n",
              "    }\n",
              "\n",
              "    .colab-df-convert {\n",
              "      background-color: #E8F0FE;\n",
              "      border: none;\n",
              "      border-radius: 50%;\n",
              "      cursor: pointer;\n",
              "      display: none;\n",
              "      fill: #1967D2;\n",
              "      height: 32px;\n",
              "      padding: 0 0 0 0;\n",
              "      width: 32px;\n",
              "    }\n",
              "\n",
              "    .colab-df-convert:hover {\n",
              "      background-color: #E2EBFA;\n",
              "      box-shadow: 0px 1px 2px rgba(60, 64, 67, 0.3), 0px 1px 3px 1px rgba(60, 64, 67, 0.15);\n",
              "      fill: #174EA6;\n",
              "    }\n",
              "\n",
              "    .colab-df-buttons div {\n",
              "      margin-bottom: 4px;\n",
              "    }\n",
              "\n",
              "    [theme=dark] .colab-df-convert {\n",
              "      background-color: #3B4455;\n",
              "      fill: #D2E3FC;\n",
              "    }\n",
              "\n",
              "    [theme=dark] .colab-df-convert:hover {\n",
              "      background-color: #434B5C;\n",
              "      box-shadow: 0px 1px 3px 1px rgba(0, 0, 0, 0.15);\n",
              "      filter: drop-shadow(0px 1px 2px rgba(0, 0, 0, 0.3));\n",
              "      fill: #FFFFFF;\n",
              "    }\n",
              "  </style>\n",
              "\n",
              "    <script>\n",
              "      const buttonEl =\n",
              "        document.querySelector('#df-8720e028-84e3-4ba0-ad42-8156ca2f8fef button.colab-df-convert');\n",
              "      buttonEl.style.display =\n",
              "        google.colab.kernel.accessAllowed ? 'block' : 'none';\n",
              "\n",
              "      async function convertToInteractive(key) {\n",
              "        const element = document.querySelector('#df-8720e028-84e3-4ba0-ad42-8156ca2f8fef');\n",
              "        const dataTable =\n",
              "          await google.colab.kernel.invokeFunction('convertToInteractive',\n",
              "                                                    [key], {});\n",
              "        if (!dataTable) return;\n",
              "\n",
              "        const docLinkHtml = 'Like what you see? Visit the ' +\n",
              "          '<a target=\"_blank\" href=https://colab.research.google.com/notebooks/data_table.ipynb>data table notebook</a>'\n",
              "          + ' to learn more about interactive tables.';\n",
              "        element.innerHTML = '';\n",
              "        dataTable['output_type'] = 'display_data';\n",
              "        await google.colab.output.renderOutput(dataTable, element);\n",
              "        const docLink = document.createElement('div');\n",
              "        docLink.innerHTML = docLinkHtml;\n",
              "        element.appendChild(docLink);\n",
              "      }\n",
              "    </script>\n",
              "  </div>\n",
              "\n",
              "\n",
              "<div id=\"df-94ef8413-fbae-4064-b83c-9305b5847b21\">\n",
              "  <button class=\"colab-df-quickchart\" onclick=\"quickchart('df-94ef8413-fbae-4064-b83c-9305b5847b21')\"\n",
              "            title=\"Suggest charts\"\n",
              "            style=\"display:none;\">\n",
              "\n",
              "<svg xmlns=\"http://www.w3.org/2000/svg\" height=\"24px\"viewBox=\"0 0 24 24\"\n",
              "     width=\"24px\">\n",
              "    <g>\n",
              "        <path d=\"M19 3H5c-1.1 0-2 .9-2 2v14c0 1.1.9 2 2 2h14c1.1 0 2-.9 2-2V5c0-1.1-.9-2-2-2zM9 17H7v-7h2v7zm4 0h-2V7h2v10zm4 0h-2v-4h2v4z\"/>\n",
              "    </g>\n",
              "</svg>\n",
              "  </button>\n",
              "\n",
              "<style>\n",
              "  .colab-df-quickchart {\n",
              "      --bg-color: #E8F0FE;\n",
              "      --fill-color: #1967D2;\n",
              "      --hover-bg-color: #E2EBFA;\n",
              "      --hover-fill-color: #174EA6;\n",
              "      --disabled-fill-color: #AAA;\n",
              "      --disabled-bg-color: #DDD;\n",
              "  }\n",
              "\n",
              "  [theme=dark] .colab-df-quickchart {\n",
              "      --bg-color: #3B4455;\n",
              "      --fill-color: #D2E3FC;\n",
              "      --hover-bg-color: #434B5C;\n",
              "      --hover-fill-color: #FFFFFF;\n",
              "      --disabled-bg-color: #3B4455;\n",
              "      --disabled-fill-color: #666;\n",
              "  }\n",
              "\n",
              "  .colab-df-quickchart {\n",
              "    background-color: var(--bg-color);\n",
              "    border: none;\n",
              "    border-radius: 50%;\n",
              "    cursor: pointer;\n",
              "    display: none;\n",
              "    fill: var(--fill-color);\n",
              "    height: 32px;\n",
              "    padding: 0;\n",
              "    width: 32px;\n",
              "  }\n",
              "\n",
              "  .colab-df-quickchart:hover {\n",
              "    background-color: var(--hover-bg-color);\n",
              "    box-shadow: 0 1px 2px rgba(60, 64, 67, 0.3), 0 1px 3px 1px rgba(60, 64, 67, 0.15);\n",
              "    fill: var(--button-hover-fill-color);\n",
              "  }\n",
              "\n",
              "  .colab-df-quickchart-complete:disabled,\n",
              "  .colab-df-quickchart-complete:disabled:hover {\n",
              "    background-color: var(--disabled-bg-color);\n",
              "    fill: var(--disabled-fill-color);\n",
              "    box-shadow: none;\n",
              "  }\n",
              "\n",
              "  .colab-df-spinner {\n",
              "    border: 2px solid var(--fill-color);\n",
              "    border-color: transparent;\n",
              "    border-bottom-color: var(--fill-color);\n",
              "    animation:\n",
              "      spin 1s steps(1) infinite;\n",
              "  }\n",
              "\n",
              "  @keyframes spin {\n",
              "    0% {\n",
              "      border-color: transparent;\n",
              "      border-bottom-color: var(--fill-color);\n",
              "      border-left-color: var(--fill-color);\n",
              "    }\n",
              "    20% {\n",
              "      border-color: transparent;\n",
              "      border-left-color: var(--fill-color);\n",
              "      border-top-color: var(--fill-color);\n",
              "    }\n",
              "    30% {\n",
              "      border-color: transparent;\n",
              "      border-left-color: var(--fill-color);\n",
              "      border-top-color: var(--fill-color);\n",
              "      border-right-color: var(--fill-color);\n",
              "    }\n",
              "    40% {\n",
              "      border-color: transparent;\n",
              "      border-right-color: var(--fill-color);\n",
              "      border-top-color: var(--fill-color);\n",
              "    }\n",
              "    60% {\n",
              "      border-color: transparent;\n",
              "      border-right-color: var(--fill-color);\n",
              "    }\n",
              "    80% {\n",
              "      border-color: transparent;\n",
              "      border-right-color: var(--fill-color);\n",
              "      border-bottom-color: var(--fill-color);\n",
              "    }\n",
              "    90% {\n",
              "      border-color: transparent;\n",
              "      border-bottom-color: var(--fill-color);\n",
              "    }\n",
              "  }\n",
              "</style>\n",
              "\n",
              "  <script>\n",
              "    async function quickchart(key) {\n",
              "      const quickchartButtonEl =\n",
              "        document.querySelector('#' + key + ' button');\n",
              "      quickchartButtonEl.disabled = true;  // To prevent multiple clicks.\n",
              "      quickchartButtonEl.classList.add('colab-df-spinner');\n",
              "      try {\n",
              "        const charts = await google.colab.kernel.invokeFunction(\n",
              "            'suggestCharts', [key], {});\n",
              "      } catch (error) {\n",
              "        console.error('Error during call to suggestCharts:', error);\n",
              "      }\n",
              "      quickchartButtonEl.classList.remove('colab-df-spinner');\n",
              "      quickchartButtonEl.classList.add('colab-df-quickchart-complete');\n",
              "    }\n",
              "    (() => {\n",
              "      let quickchartButtonEl =\n",
              "        document.querySelector('#df-94ef8413-fbae-4064-b83c-9305b5847b21 button');\n",
              "      quickchartButtonEl.style.display =\n",
              "        google.colab.kernel.accessAllowed ? 'block' : 'none';\n",
              "    })();\n",
              "  </script>\n",
              "</div>\n",
              "    </div>\n",
              "  </div>\n"
            ],
            "application/vnd.google.colaboratory.intrinsic+json": {
              "type": "dataframe",
              "variable_name": "result",
              "summary": "{\n  \"name\": \"result\",\n  \"rows\": 90,\n  \"fields\": [\n    {\n      \"column\": \"numero_entradas\",\n      \"properties\": {\n        \"dtype\": \"number\",\n        \"std\": 19,\n        \"min\": 0,\n        \"max\": 59,\n        \"samples\": [\n          18,\n          34,\n          29\n        ],\n        \"num_unique_values\": 34,\n        \"semantic_type\": \"\",\n        \"description\": \"\"\n      }\n    },\n    {\n      \"column\": \"numero_NaN\",\n      \"properties\": {\n        \"dtype\": \"number\",\n        \"std\": 14,\n        \"min\": 0,\n        \"max\": 57,\n        \"samples\": [\n          32,\n          11,\n          33\n        ],\n        \"num_unique_values\": 40,\n        \"semantic_type\": \"\",\n        \"description\": \"\"\n      }\n    }\n  ]\n}"
            }
          },
          "metadata": {},
          "execution_count": 10
        }
      ]
    },
    {
      "cell_type": "code",
      "source": [
        "import matplotlib.pyplot as plt\n",
        "\n",
        "# Crear el gráfico de barras\n",
        "result.plot(kind='bar', stacked=True, figsize=(12, 6))\n",
        "\n",
        "# Personalizar el gráfico\n",
        "plt.title('Número de entradas NaN y no NaN en la columna people_vaccinated por país')\n",
        "plt.xlabel('País')\n",
        "plt.ylabel('Número de entradas')\n",
        "plt.legend(['No NaN', 'NaN'])\n",
        "\n",
        "# Mostrar el gráfico\n",
        "plt.show()"
      ],
      "metadata": {
        "colab": {
          "base_uri": "https://localhost:8080/",
          "height": 720
        },
        "id": "6jqiDEe37c2A",
        "outputId": "d6294a99-d56b-4d33-8809-2376790313b3"
      },
      "execution_count": null,
      "outputs": [
        {
          "output_type": "display_data",
          "data": {
            "text/plain": [
              "<Figure size 1200x600 with 1 Axes>"
            ],
            "image/png": "[encoded data removed]"
          },
          "metadata": {}
        }
      ]
    },
    {
      "cell_type": "markdown",
      "source": [
        "Tendremos en cuenta esta gráfica para el análisis posterior de los 5 países con más días de vacunación."
      ],
      "metadata": {
        "id": "Z7n1AVVo7haX"
      }
    },
    {
      "cell_type": "markdown",
      "source": [
        "A continuación ordenamos por país y fecha para mayor claridad en la lectura de los datos."
      ],
      "metadata": {
        "id": "QaftT5maXZnl"
      }
    },
    {
      "cell_type": "code",
      "source": [
        "# Ordenar las filas por país y fecha\n",
        "ds = ds.sort_values(by=['country', 'date'])"
      ],
      "metadata": {
        "id": "myvfSEQ9XbyW"
      },
      "execution_count": 18,
      "outputs": []
    },
    {
      "cell_type": "markdown",
      "source": [
        "# 1.\n",
        "Lo primero será evitar los “missing values” de la columna “people vaccinated”. Para ello\n",
        "cogeremos los valores de los 3 días anteriores (si existen, en caso contrario dos o uno) y su media para\n",
        "rellenar dicha celda."
      ],
      "metadata": {
        "id": "ZCvjs6J-stEn"
      }
    },
    {
      "cell_type": "markdown",
      "source": [
        "Como las filas ya están ordenadas por país y fecha, simplemente hay que tomar la media de las 3 entradas anteriores a un NaN"
      ],
      "metadata": {
        "id": "2_7emhTQxER4"
      }
    },
    {
      "cell_type": "code",
      "source": [
        "# creo una copia de ds para modificarla sin afectar al original\n",
        "df = ds.copy()\n",
        "id(df), id(ds)"
      ],
      "metadata": {
        "colab": {
          "base_uri": "https://localhost:8080/"
        },
        "id": "9h-YadvpDcrb",
        "outputId": "750ddc35-867e-40a1-e881-49549129f2e3"
      },
      "execution_count": 76,
      "outputs": [
        {
          "output_type": "execute_result",
          "data": {
            "text/plain": [
              "(136617331588016, 136617440025312)"
            ]
          },
          "metadata": {},
          "execution_count": 76
        }
      ]
    },
    {
      "cell_type": "markdown",
      "source": [
        "Iterando por `ds` cada vez que aparezca un NaN, se establecerá un `start_index` que avanzará en posiciones anteriores, idealmente tomando la media de las 3 entries anteriores. Pero si alguna entry anterior pertenece a un país distinto, no se tendrá en cuenta."
      ],
      "metadata": {
        "id": "Hec0HAzj9ss2"
      }
    },
    {
      "cell_type": "code",
      "source": [
        "# Iterar sobre los NaN y calcular la media de los tres valores anteriores\n",
        "for i, row in df.iterrows():\n",
        "    if pd.isna(row['people_vaccinated']):\n",
        "        # Para las entries que van de 0 a 2 (quedaria negativo al restar 3)\n",
        "        start_index = i\n",
        "        # Para que la primera entry de un pais no utilice datos del pais anterior\n",
        "        for j in range(3):\n",
        "          if start_index>0 and row['country'] == df.at[start_index-j, 'country']:\n",
        "            start_index = start_index-1  # Índice de inicio para calcular la media\n",
        "        end_index = i  # Índice final para calcular la media\n",
        "        mean_value = df.iloc[start_index:end_index]['people_vaccinated'].mean()\n",
        "        df.at[i, 'people_vaccinated'] = mean_value"
      ],
      "metadata": {
        "id": "bV_dV4c11uSm"
      },
      "execution_count": 77,
      "outputs": []
    },
    {
      "cell_type": "code",
      "source": [
        "cantidad_nan = df['people_vaccinated'].isna().sum()"
      ],
      "metadata": {
        "id": "g1kX0Xfe4hUQ"
      },
      "execution_count": 78,
      "outputs": []
    },
    {
      "cell_type": "code",
      "source": [
        "cantidad_nan"
      ],
      "metadata": {
        "id": "B5gBRogf5YhH",
        "outputId": "8907009e-c209-4595-c564-8b8454b7dcf5",
        "colab": {
          "base_uri": "https://localhost:8080/"
        }
      },
      "execution_count": 79,
      "outputs": [
        {
          "output_type": "execute_result",
          "data": {
            "text/plain": [
              "0"
            ]
          },
          "metadata": {},
          "execution_count": 79
        }
      ]
    },
    {
      "cell_type": "markdown",
      "source": [
        "Tomamos un ejemplo para ver si el código se ha ejecutado de manera deseada."
      ],
      "metadata": {
        "id": "ezVOyStaw5jD"
      }
    },
    {
      "cell_type": "markdown",
      "source": [
        "Con el dataset original `ds`.\n",
        "- La primera entrada (índice 880) para `people_vaccinated` es 55389.0, y a este valor le suceden NaNs que deberían tomar el valor anterior sucesivamente (ya que no se puede hacer la media con un solo dato).\n",
        "- La octava entrada (índice 887) para `people_vaccinated` es 573858.0 y a este valor le suceden NaNs que deberían tomar el valor de la media entre los 3 valores anteriores que serían: 55389.0, 55389.0 y 573858.0"
      ],
      "metadata": {
        "id": "7FjqnU2lxEV2"
      }
    },
    {
      "cell_type": "code",
      "source": [
        "England = ds[ds['country'] == 'England']\n",
        "England.head(10)"
      ],
      "metadata": {
        "colab": {
          "base_uri": "https://localhost:8080/",
          "height": 730
        },
        "id": "vcrXGug0ZPvT",
        "outputId": "54f93af5-f860-481c-952d-341e171c09c8"
      },
      "execution_count": 80,
      "outputs": [
        {
          "output_type": "execute_result",
          "data": {
            "text/plain": [
              "     country iso_code       date  total_vaccinations  people_vaccinated  \\\n",
              "880  England      NaN 2020-12-13             55389.0            55389.0   \n",
              "881  England      NaN 2020-12-14                 NaN                NaN   \n",
              "882  England      NaN 2020-12-15                 NaN                NaN   \n",
              "883  England      NaN 2020-12-16                 NaN                NaN   \n",
              "884  England      NaN 2020-12-17                 NaN                NaN   \n",
              "885  England      NaN 2020-12-18                 NaN                NaN   \n",
              "886  England      NaN 2020-12-19                 NaN                NaN   \n",
              "887  England      NaN 2020-12-20            573858.0           573858.0   \n",
              "888  England      NaN 2020-12-21                 NaN                NaN   \n",
              "889  England      NaN 2020-12-22                 NaN                NaN   \n",
              "\n",
              "     people_fully_vaccinated  daily_vaccinations_raw  daily_vaccinations  \\\n",
              "880                      NaN                     NaN                 NaN   \n",
              "881                      NaN                     NaN             74067.0   \n",
              "882                      NaN                     NaN             74067.0   \n",
              "883                      NaN                     NaN             74067.0   \n",
              "884                      NaN                     NaN             74067.0   \n",
              "885                      NaN                     NaN             74067.0   \n",
              "886                      NaN                     NaN             74067.0   \n",
              "887                      NaN                     NaN             74067.0   \n",
              "888                      NaN                     NaN             68942.0   \n",
              "889                      NaN                     NaN             63817.0   \n",
              "\n",
              "     total_vaccinations_per_hundred  people_vaccinated_per_hundred  \\\n",
              "880                            0.10                           0.10   \n",
              "881                             NaN                            NaN   \n",
              "882                             NaN                            NaN   \n",
              "883                             NaN                            NaN   \n",
              "884                             NaN                            NaN   \n",
              "885                             NaN                            NaN   \n",
              "886                             NaN                            NaN   \n",
              "887                            1.02                           1.02   \n",
              "888                             NaN                            NaN   \n",
              "889                             NaN                            NaN   \n",
              "\n",
              "     people_fully_vaccinated_per_hundred  daily_vaccinations_per_million  \\\n",
              "880                                  NaN                             NaN   \n",
              "881                                  NaN                          1316.0   \n",
              "882                                  NaN                          1316.0   \n",
              "883                                  NaN                          1316.0   \n",
              "884                                  NaN                          1316.0   \n",
              "885                                  NaN                          1316.0   \n",
              "886                                  NaN                          1316.0   \n",
              "887                                  NaN                          1316.0   \n",
              "888                                  NaN                          1225.0   \n",
              "889                                  NaN                          1134.0   \n",
              "\n",
              "                                vaccines                       source_name  \\\n",
              "880  Oxford/AstraZeneca, Pfizer/BioNTech  Government of the United Kingdom   \n",
              "881  Oxford/AstraZeneca, Pfizer/BioNTech  Government of the United Kingdom   \n",
              "882  Oxford/AstraZeneca, Pfizer/BioNTech  Government of the United Kingdom   \n",
              "883  Oxford/AstraZeneca, Pfizer/BioNTech  Government of the United Kingdom   \n",
              "884  Oxford/AstraZeneca, Pfizer/BioNTech  Government of the United Kingdom   \n",
              "885  Oxford/AstraZeneca, Pfizer/BioNTech  Government of the United Kingdom   \n",
              "886  Oxford/AstraZeneca, Pfizer/BioNTech  Government of the United Kingdom   \n",
              "887  Oxford/AstraZeneca, Pfizer/BioNTech  Government of the United Kingdom   \n",
              "888  Oxford/AstraZeneca, Pfizer/BioNTech  Government of the United Kingdom   \n",
              "889  Oxford/AstraZeneca, Pfizer/BioNTech  Government of the United Kingdom   \n",
              "\n",
              "                                        source_website  \n",
              "880  https://coronavirus.data.gov.uk/details/health...  \n",
              "881  https://coronavirus.data.gov.uk/details/health...  \n",
              "882  https://coronavirus.data.gov.uk/details/health...  \n",
              "883  https://coronavirus.data.gov.uk/details/health...  \n",
              "884  https://coronavirus.data.gov.uk/details/health...  \n",
              "885  https://coronavirus.data.gov.uk/details/health...  \n",
              "886  https://coronavirus.data.gov.uk/details/health...  \n",
              "887  https://coronavirus.data.gov.uk/details/health...  \n",
              "888  https://coronavirus.data.gov.uk/details/health...  \n",
              "889  https://coronavirus.data.gov.uk/details/health...  "
            ],
            "text/html": [
              "\n",
              "  <div id=\"df-5c3735c6-4e05-41d8-aecd-154c694bdf4c\" class=\"colab-df-container\">\n",
              "    <div>\n",
              "<style scoped>\n",
              "    .dataframe tbody tr th:only-of-type {\n",
              "        vertical-align: middle;\n",
              "    }\n",
              "\n",
              "    .dataframe tbody tr th {\n",
              "        vertical-align: top;\n",
              "    }\n",
              "\n",
              "    .dataframe thead th {\n",
              "        text-align: right;\n",
              "    }\n",
              "</style>\n",
              "<table border=\"1\" class=\"dataframe\">\n",
              "  <thead>\n",
              "    <tr style=\"text-align: right;\">\n",
              "      <th></th>\n",
              "      <th>country</th>\n",
              "      <th>iso_code</th>\n",
              "      <th>date</th>\n",
              "      <th>total_vaccinations</th>\n",
              "      <th>people_vaccinated</th>\n",
              "      <th>people_fully_vaccinated</th>\n",
              "      <th>daily_vaccinations_raw</th>\n",
              "      <th>daily_vaccinations</th>\n",
              "      <th>total_vaccinations_per_hundred</th>\n",
              "      <th>people_vaccinated_per_hundred</th>\n",
              "      <th>people_fully_vaccinated_per_hundred</th>\n",
              "      <th>daily_vaccinations_per_million</th>\n",
              "      <th>vaccines</th>\n",
              "      <th>source_name</th>\n",
              "      <th>source_website</th>\n",
              "    </tr>\n",
              "  </thead>\n",
              "  <tbody>\n",
              "    <tr>\n",
              "      <th>880</th>\n",
              "      <td>England</td>\n",
              "      <td>NaN</td>\n",
              "      <td>2020-12-13</td>\n",
              "      <td>55389.0</td>\n",
              "      <td>55389.0</td>\n",
              "      <td>NaN</td>\n",
              "      <td>NaN</td>\n",
              "      <td>NaN</td>\n",
              "      <td>0.10</td>\n",
              "      <td>0.10</td>\n",
              "      <td>NaN</td>\n",
              "      <td>NaN</td>\n",
              "      <td>Oxford/AstraZeneca, Pfizer/BioNTech</td>\n",
              "      <td>Government of the United Kingdom</td>\n",
              "      <td>https://coronavirus.data.gov.uk/details/health...</td>\n",
              "    </tr>\n",
              "    <tr>\n",
              "      <th>881</th>\n",
              "      <td>England</td>\n",
              "      <td>NaN</td>\n",
              "      <td>2020-12-14</td>\n",
              "      <td>NaN</td>\n",
              "      <td>NaN</td>\n",
              "      <td>NaN</td>\n",
              "      <td>NaN</td>\n",
              "      <td>74067.0</td>\n",
              "      <td>NaN</td>\n",
              "      <td>NaN</td>\n",
              "      <td>NaN</td>\n",
              "      <td>1316.0</td>\n",
              "      <td>Oxford/AstraZeneca, Pfizer/BioNTech</td>\n",
              "      <td>Government of the United Kingdom</td>\n",
              "      <td>https://coronavirus.data.gov.uk/details/health...</td>\n",
              "    </tr>\n",
              "    <tr>\n",
              "      <th>882</th>\n",
              "      <td>England</td>\n",
              "      <td>NaN</td>\n",
              "      <td>2020-12-15</td>\n",
              "      <td>NaN</td>\n",
              "      <td>NaN</td>\n",
              "      <td>NaN</td>\n",
              "      <td>NaN</td>\n",
              "      <td>74067.0</td>\n",
              "      <td>NaN</td>\n",
              "      <td>NaN</td>\n",
              "      <td>NaN</td>\n",
              "      <td>1316.0</td>\n",
              "      <td>Oxford/AstraZeneca, Pfizer/BioNTech</td>\n",
              "      <td>Government of the United Kingdom</td>\n",
              "      <td>https://coronavirus.data.gov.uk/details/health...</td>\n",
              "    </tr>\n",
              "    <tr>\n",
              "      <th>883</th>\n",
              "      <td>England</td>\n",
              "      <td>NaN</td>\n",
              "      <td>2020-12-16</td>\n",
              "      <td>NaN</td>\n",
              "      <td>NaN</td>\n",
              "      <td>NaN</td>\n",
              "      <td>NaN</td>\n",
              "      <td>74067.0</td>\n",
              "      <td>NaN</td>\n",
              "      <td>NaN</td>\n",
              "      <td>NaN</td>\n",
              "      <td>1316.0</td>\n",
              "      <td>Oxford/AstraZeneca, Pfizer/BioNTech</td>\n",
              "      <td>Government of the United Kingdom</td>\n",
              "      <td>https://coronavirus.data.gov.uk/details/health...</td>\n",
              "    </tr>\n",
              "    <tr>\n",
              "      <th>884</th>\n",
              "      <td>England</td>\n",
              "      <td>NaN</td>\n",
              "      <td>2020-12-17</td>\n",
              "      <td>NaN</td>\n",
              "      <td>NaN</td>\n",
              "      <td>NaN</td>\n",
              "      <td>NaN</td>\n",
              "      <td>74067.0</td>\n",
              "      <td>NaN</td>\n",
              "      <td>NaN</td>\n",
              "      <td>NaN</td>\n",
              "      <td>1316.0</td>\n",
              "      <td>Oxford/AstraZeneca, Pfizer/BioNTech</td>\n",
              "      <td>Government of the United Kingdom</td>\n",
              "      <td>https://coronavirus.data.gov.uk/details/health...</td>\n",
              "    </tr>\n",
              "    <tr>\n",
              "      <th>885</th>\n",
              "      <td>England</td>\n",
              "      <td>NaN</td>\n",
              "      <td>2020-12-18</td>\n",
              "      <td>NaN</td>\n",
              "      <td>NaN</td>\n",
              "      <td>NaN</td>\n",
              "      <td>NaN</td>\n",
              "      <td>74067.0</td>\n",
              "      <td>NaN</td>\n",
              "      <td>NaN</td>\n",
              "      <td>NaN</td>\n",
              "      <td>1316.0</td>\n",
              "      <td>Oxford/AstraZeneca, Pfizer/BioNTech</td>\n",
              "      <td>Government of the United Kingdom</td>\n",
              "      <td>https://coronavirus.data.gov.uk/details/health...</td>\n",
              "    </tr>\n",
              "    <tr>\n",
              "      <th>886</th>\n",
              "      <td>England</td>\n",
              "      <td>NaN</td>\n",
              "      <td>2020-12-19</td>\n",
              "      <td>NaN</td>\n",
              "      <td>NaN</td>\n",
              "      <td>NaN</td>\n",
              "      <td>NaN</td>\n",
              "      <td>74067.0</td>\n",
              "      <td>NaN</td>\n",
              "      <td>NaN</td>\n",
              "      <td>NaN</td>\n",
              "      <td>1316.0</td>\n",
              "      <td>Oxford/AstraZeneca, Pfizer/BioNTech</td>\n",
              "      <td>Government of the United Kingdom</td>\n",
              "      <td>https://coronavirus.data.gov.uk/details/health...</td>\n",
              "    </tr>\n",
              "    <tr>\n",
              "      <th>887</th>\n",
              "      <td>England</td>\n",
              "      <td>NaN</td>\n",
              "      <td>2020-12-20</td>\n",
              "      <td>573858.0</td>\n",
              "      <td>573858.0</td>\n",
              "      <td>NaN</td>\n",
              "      <td>NaN</td>\n",
              "      <td>74067.0</td>\n",
              "      <td>1.02</td>\n",
              "      <td>1.02</td>\n",
              "      <td>NaN</td>\n",
              "      <td>1316.0</td>\n",
              "      <td>Oxford/AstraZeneca, Pfizer/BioNTech</td>\n",
              "      <td>Government of the United Kingdom</td>\n",
              "      <td>https://coronavirus.data.gov.uk/details/health...</td>\n",
              "    </tr>\n",
              "    <tr>\n",
              "      <th>888</th>\n",
              "      <td>England</td>\n",
              "      <td>NaN</td>\n",
              "      <td>2020-12-21</td>\n",
              "      <td>NaN</td>\n",
              "      <td>NaN</td>\n",
              "      <td>NaN</td>\n",
              "      <td>NaN</td>\n",
              "      <td>68942.0</td>\n",
              "      <td>NaN</td>\n",
              "      <td>NaN</td>\n",
              "      <td>NaN</td>\n",
              "      <td>1225.0</td>\n",
              "      <td>Oxford/AstraZeneca, Pfizer/BioNTech</td>\n",
              "      <td>Government of the United Kingdom</td>\n",
              "      <td>https://coronavirus.data.gov.uk/details/health...</td>\n",
              "    </tr>\n",
              "    <tr>\n",
              "      <th>889</th>\n",
              "      <td>England</td>\n",
              "      <td>NaN</td>\n",
              "      <td>2020-12-22</td>\n",
              "      <td>NaN</td>\n",
              "      <td>NaN</td>\n",
              "      <td>NaN</td>\n",
              "      <td>NaN</td>\n",
              "      <td>63817.0</td>\n",
              "      <td>NaN</td>\n",
              "      <td>NaN</td>\n",
              "      <td>NaN</td>\n",
              "      <td>1134.0</td>\n",
              "      <td>Oxford/AstraZeneca, Pfizer/BioNTech</td>\n",
              "      <td>Government of the United Kingdom</td>\n",
              "      <td>https://coronavirus.data.gov.uk/details/health...</td>\n",
              "    </tr>\n",
              "  </tbody>\n",
              "</table>\n",
              "</div>\n",
              "    <div class=\"colab-df-buttons\">\n",
              "\n",
              "  <div class=\"colab-df-container\">\n",
              "    <button class=\"colab-df-convert\" onclick=\"convertToInteractive('df-5c3735c6-4e05-41d8-aecd-154c694bdf4c')\"\n",
              "            title=\"Convert this dataframe to an interactive table.\"\n",
              "            style=\"display:none;\">\n",
              "\n",
              "  <svg xmlns=\"http://www.w3.org/2000/svg\" height=\"24px\" viewBox=\"0 -960 960 960\">\n",
              "    <path d=\"M120-120v-720h720v720H120Zm60-500h600v-160H180v160Zm220 220h160v-160H400v160Zm0 220h160v-160H400v160ZM180-400h160v-160H180v160Zm440 0h160v-160H620v160ZM180-180h160v-160H180v160Zm440 0h160v-160H620v160Z\"/>\n",
              "  </svg>\n",
              "    </button>\n",
              "\n",
              "  <style>\n",
              "    .colab-df-container {\n",
              "      display:flex;\n",
              "      gap: 12px;\n",
              "    }\n",
              "\n",
              "    .colab-df-convert {\n",
              "      background-color: #E8F0FE;\n",
              "      border: none;\n",
              "      border-radius: 50%;\n",
              "      cursor: pointer;\n",
              "      display: none;\n",
              "      fill: #1967D2;\n",
              "      height: 32px;\n",
              "      padding: 0 0 0 0;\n",
              "      width: 32px;\n",
              "    }\n",
              "\n",
              "    .colab-df-convert:hover {\n",
              "      background-color: #E2EBFA;\n",
              "      box-shadow: 0px 1px 2px rgba(60, 64, 67, 0.3), 0px 1px 3px 1px rgba(60, 64, 67, 0.15);\n",
              "      fill: #174EA6;\n",
              "    }\n",
              "\n",
              "    .colab-df-buttons div {\n",
              "      margin-bottom: 4px;\n",
              "    }\n",
              "\n",
              "    [theme=dark] .colab-df-convert {\n",
              "      background-color: #3B4455;\n",
              "      fill: #D2E3FC;\n",
              "    }\n",
              "\n",
              "    [theme=dark] .colab-df-convert:hover {\n",
              "      background-color: #434B5C;\n",
              "      box-shadow: 0px 1px 3px 1px rgba(0, 0, 0, 0.15);\n",
              "      filter: drop-shadow(0px 1px 2px rgba(0, 0, 0, 0.3));\n",
              "      fill: #FFFFFF;\n",
              "    }\n",
              "  </style>\n",
              "\n",
              "    <script>\n",
              "      const buttonEl =\n",
              "        document.querySelector('#df-5c3735c6-4e05-41d8-aecd-154c694bdf4c button.colab-df-convert');\n",
              "      buttonEl.style.display =\n",
              "        google.colab.kernel.accessAllowed ? 'block' : 'none';\n",
              "\n",
              "      async function convertToInteractive(key) {\n",
              "        const element = document.querySelector('#df-5c3735c6-4e05-41d8-aecd-154c694bdf4c');\n",
              "        const dataTable =\n",
              "          await google.colab.kernel.invokeFunction('convertToInteractive',\n",
              "                                                    [key], {});\n",
              "        if (!dataTable) return;\n",
              "\n",
              "        const docLinkHtml = 'Like what you see? Visit the ' +\n",
              "          '<a target=\"_blank\" href=https://colab.research.google.com/notebooks/data_table.ipynb>data table notebook</a>'\n",
              "          + ' to learn more about interactive tables.';\n",
              "        element.innerHTML = '';\n",
              "        dataTable['output_type'] = 'display_data';\n",
              "        await google.colab.output.renderOutput(dataTable, element);\n",
              "        const docLink = document.createElement('div');\n",
              "        docLink.innerHTML = docLinkHtml;\n",
              "        element.appendChild(docLink);\n",
              "      }\n",
              "    </script>\n",
              "  </div>\n",
              "\n",
              "\n",
              "<div id=\"df-5be7a086-688b-4743-bd16-f0f2383239a7\">\n",
              "  <button class=\"colab-df-quickchart\" onclick=\"quickchart('df-5be7a086-688b-4743-bd16-f0f2383239a7')\"\n",
              "            title=\"Suggest charts\"\n",
              "            style=\"display:none;\">\n",
              "\n",
              "<svg xmlns=\"http://www.w3.org/2000/svg\" height=\"24px\"viewBox=\"0 0 24 24\"\n",
              "     width=\"24px\">\n",
              "    <g>\n",
              "        <path d=\"M19 3H5c-1.1 0-2 .9-2 2v14c0 1.1.9 2 2 2h14c1.1 0 2-.9 2-2V5c0-1.1-.9-2-2-2zM9 17H7v-7h2v7zm4 0h-2V7h2v10zm4 0h-2v-4h2v4z\"/>\n",
              "    </g>\n",
              "</svg>\n",
              "  </button>\n",
              "\n",
              "<style>\n",
              "  .colab-df-quickchart {\n",
              "      --bg-color: #E8F0FE;\n",
              "      --fill-color: #1967D2;\n",
              "      --hover-bg-color: #E2EBFA;\n",
              "      --hover-fill-color: #174EA6;\n",
              "      --disabled-fill-color: #AAA;\n",
              "      --disabled-bg-color: #DDD;\n",
              "  }\n",
              "\n",
              "  [theme=dark] .colab-df-quickchart {\n",
              "      --bg-color: #3B4455;\n",
              "      --fill-color: #D2E3FC;\n",
              "      --hover-bg-color: #434B5C;\n",
              "      --hover-fill-color: #FFFFFF;\n",
              "      --disabled-bg-color: #3B4455;\n",
              "      --disabled-fill-color: #666;\n",
              "  }\n",
              "\n",
              "  .colab-df-quickchart {\n",
              "    background-color: var(--bg-color);\n",
              "    border: none;\n",
              "    border-radius: 50%;\n",
              "    cursor: pointer;\n",
              "    display: none;\n",
              "    fill: var(--fill-color);\n",
              "    height: 32px;\n",
              "    padding: 0;\n",
              "    width: 32px;\n",
              "  }\n",
              "\n",
              "  .colab-df-quickchart:hover {\n",
              "    background-color: var(--hover-bg-color);\n",
              "    box-shadow: 0 1px 2px rgba(60, 64, 67, 0.3), 0 1px 3px 1px rgba(60, 64, 67, 0.15);\n",
              "    fill: var(--button-hover-fill-color);\n",
              "  }\n",
              "\n",
              "  .colab-df-quickchart-complete:disabled,\n",
              "  .colab-df-quickchart-complete:disabled:hover {\n",
              "    background-color: var(--disabled-bg-color);\n",
              "    fill: var(--disabled-fill-color);\n",
              "    box-shadow: none;\n",
              "  }\n",
              "\n",
              "  .colab-df-spinner {\n",
              "    border: 2px solid var(--fill-color);\n",
              "    border-color: transparent;\n",
              "    border-bottom-color: var(--fill-color);\n",
              "    animation:\n",
              "      spin 1s steps(1) infinite;\n",
              "  }\n",
              "\n",
              "  @keyframes spin {\n",
              "    0% {\n",
              "      border-color: transparent;\n",
              "      border-bottom-color: var(--fill-color);\n",
              "      border-left-color: var(--fill-color);\n",
              "    }\n",
              "    20% {\n",
              "      border-color: transparent;\n",
              "      border-left-color: var(--fill-color);\n",
              "      border-top-color: var(--fill-color);\n",
              "    }\n",
              "    30% {\n",
              "      border-color: transparent;\n",
              "      border-left-color: var(--fill-color);\n",
              "      border-top-color: var(--fill-color);\n",
              "      border-right-color: var(--fill-color);\n",
              "    }\n",
              "    40% {\n",
              "      border-color: transparent;\n",
              "      border-right-color: var(--fill-color);\n",
              "      border-top-color: var(--fill-color);\n",
              "    }\n",
              "    60% {\n",
              "      border-color: transparent;\n",
              "      border-right-color: var(--fill-color);\n",
              "    }\n",
              "    80% {\n",
              "      border-color: transparent;\n",
              "      border-right-color: var(--fill-color);\n",
              "      border-bottom-color: var(--fill-color);\n",
              "    }\n",
              "    90% {\n",
              "      border-color: transparent;\n",
              "      border-bottom-color: var(--fill-color);\n",
              "    }\n",
              "  }\n",
              "</style>\n",
              "\n",
              "  <script>\n",
              "    async function quickchart(key) {\n",
              "      const quickchartButtonEl =\n",
              "        document.querySelector('#' + key + ' button');\n",
              "      quickchartButtonEl.disabled = true;  // To prevent multiple clicks.\n",
              "      quickchartButtonEl.classList.add('colab-df-spinner');\n",
              "      try {\n",
              "        const charts = await google.colab.kernel.invokeFunction(\n",
              "            'suggestCharts', [key], {});\n",
              "      } catch (error) {\n",
              "        console.error('Error during call to suggestCharts:', error);\n",
              "      }\n",
              "      quickchartButtonEl.classList.remove('colab-df-spinner');\n",
              "      quickchartButtonEl.classList.add('colab-df-quickchart-complete');\n",
              "    }\n",
              "    (() => {\n",
              "      let quickchartButtonEl =\n",
              "        document.querySelector('#df-5be7a086-688b-4743-bd16-f0f2383239a7 button');\n",
              "      quickchartButtonEl.style.display =\n",
              "        google.colab.kernel.accessAllowed ? 'block' : 'none';\n",
              "    })();\n",
              "  </script>\n",
              "</div>\n",
              "    </div>\n",
              "  </div>\n"
            ],
            "application/vnd.google.colaboratory.intrinsic+json": {
              "type": "dataframe",
              "variable_name": "England",
              "repr_error": "0"
            }
          },
          "metadata": {},
          "execution_count": 80
        }
      ]
    },
    {
      "cell_type": "markdown",
      "source": [
        "Haciendo la media manualmente:"
      ],
      "metadata": {
        "id": "q699-ScFzRtQ"
      }
    },
    {
      "cell_type": "code",
      "source": [
        "media = (England.at[880,'people_vaccinated'] + England.at[880,'people_vaccinated'] + England.at[887,'people_vaccinated']) / 3 # valor esperado para el indice 888\n",
        "print(media)"
      ],
      "metadata": {
        "colab": {
          "base_uri": "https://localhost:8080/"
        },
        "id": "GaRkIg7DzTV2",
        "outputId": "cf707575-36f8-4d69-84d9-f0ebc6b1a116"
      },
      "execution_count": 81,
      "outputs": [
        {
          "output_type": "stream",
          "name": "stdout",
          "text": [
            "228212.0\n"
          ]
        }
      ]
    },
    {
      "cell_type": "markdown",
      "source": [
        "Ahora mostramos `df` que es el dataset modificado sin NaNs, y verificamos que sus valores coinciden con los esperados."
      ],
      "metadata": {
        "id": "iDghaGQc08Xa"
      }
    },
    {
      "cell_type": "code",
      "source": [
        "England2= df[df['country'] == 'England']\n",
        "England2.head(10)"
      ],
      "metadata": {
        "colab": {
          "base_uri": "https://localhost:8080/",
          "height": 730
        },
        "id": "ijldHPl_ZnWB",
        "outputId": "0af2256b-88ee-42be-b4c0-65dcef7535a3"
      },
      "execution_count": 82,
      "outputs": [
        {
          "output_type": "execute_result",
          "data": {
            "text/plain": [
              "     country iso_code       date  total_vaccinations  people_vaccinated  \\\n",
              "880  England      NaN 2020-12-13             55389.0       55389.000000   \n",
              "881  England      NaN 2020-12-14                 NaN       55389.000000   \n",
              "882  England      NaN 2020-12-15                 NaN       55389.000000   \n",
              "883  England      NaN 2020-12-16                 NaN       55389.000000   \n",
              "884  England      NaN 2020-12-17                 NaN       55389.000000   \n",
              "885  England      NaN 2020-12-18                 NaN       55389.000000   \n",
              "886  England      NaN 2020-12-19                 NaN       55389.000000   \n",
              "887  England      NaN 2020-12-20            573858.0      573858.000000   \n",
              "888  England      NaN 2020-12-21                 NaN      228212.000000   \n",
              "889  England      NaN 2020-12-22                 NaN      285819.666667   \n",
              "\n",
              "     people_fully_vaccinated  daily_vaccinations_raw  daily_vaccinations  \\\n",
              "880                      NaN                     NaN                 NaN   \n",
              "881                      NaN                     NaN             74067.0   \n",
              "882                      NaN                     NaN             74067.0   \n",
              "883                      NaN                     NaN             74067.0   \n",
              "884                      NaN                     NaN             74067.0   \n",
              "885                      NaN                     NaN             74067.0   \n",
              "886                      NaN                     NaN             74067.0   \n",
              "887                      NaN                     NaN             74067.0   \n",
              "888                      NaN                     NaN             68942.0   \n",
              "889                      NaN                     NaN             63817.0   \n",
              "\n",
              "     total_vaccinations_per_hundred  people_vaccinated_per_hundred  \\\n",
              "880                            0.10                           0.10   \n",
              "881                             NaN                            NaN   \n",
              "882                             NaN                            NaN   \n",
              "883                             NaN                            NaN   \n",
              "884                             NaN                            NaN   \n",
              "885                             NaN                            NaN   \n",
              "886                             NaN                            NaN   \n",
              "887                            1.02                           1.02   \n",
              "888                             NaN                            NaN   \n",
              "889                             NaN                            NaN   \n",
              "\n",
              "     people_fully_vaccinated_per_hundred  daily_vaccinations_per_million  \\\n",
              "880                                  NaN                             NaN   \n",
              "881                                  NaN                          1316.0   \n",
              "882                                  NaN                          1316.0   \n",
              "883                                  NaN                          1316.0   \n",
              "884                                  NaN                          1316.0   \n",
              "885                                  NaN                          1316.0   \n",
              "886                                  NaN                          1316.0   \n",
              "887                                  NaN                          1316.0   \n",
              "888                                  NaN                          1225.0   \n",
              "889                                  NaN                          1134.0   \n",
              "\n",
              "                                vaccines                       source_name  \\\n",
              "880  Oxford/AstraZeneca, Pfizer/BioNTech  Government of the United Kingdom   \n",
              "881  Oxford/AstraZeneca, Pfizer/BioNTech  Government of the United Kingdom   \n",
              "882  Oxford/AstraZeneca, Pfizer/BioNTech  Government of the United Kingdom   \n",
              "883  Oxford/AstraZeneca, Pfizer/BioNTech  Government of the United Kingdom   \n",
              "884  Oxford/AstraZeneca, Pfizer/BioNTech  Government of the United Kingdom   \n",
              "885  Oxford/AstraZeneca, Pfizer/BioNTech  Government of the United Kingdom   \n",
              "886  Oxford/AstraZeneca, Pfizer/BioNTech  Government of the United Kingdom   \n",
              "887  Oxford/AstraZeneca, Pfizer/BioNTech  Government of the United Kingdom   \n",
              "888  Oxford/AstraZeneca, Pfizer/BioNTech  Government of the United Kingdom   \n",
              "889  Oxford/AstraZeneca, Pfizer/BioNTech  Government of the United Kingdom   \n",
              "\n",
              "                                        source_website  \n",
              "880  https://coronavirus.data.gov.uk/details/health...  \n",
              "881  https://coronavirus.data.gov.uk/details/health...  \n",
              "882  https://coronavirus.data.gov.uk/details/health...  \n",
              "883  https://coronavirus.data.gov.uk/details/health...  \n",
              "884  https://coronavirus.data.gov.uk/details/health...  \n",
              "885  https://coronavirus.data.gov.uk/details/health...  \n",
              "886  https://coronavirus.data.gov.uk/details/health...  \n",
              "887  https://coronavirus.data.gov.uk/details/health...  \n",
              "888  https://coronavirus.data.gov.uk/details/health...  \n",
              "889  https://coronavirus.data.gov.uk/details/health...  "
            ],
            "text/html": [
              "\n",
              "  <div id=\"df-9848db67-e963-489a-89aa-78226eb5efac\" class=\"colab-df-container\">\n",
              "    <div>\n",
              "<style scoped>\n",
              "    .dataframe tbody tr th:only-of-type {\n",
              "        vertical-align: middle;\n",
              "    }\n",
              "\n",
              "    .dataframe tbody tr th {\n",
              "        vertical-align: top;\n",
              "    }\n",
              "\n",
              "    .dataframe thead th {\n",
              "        text-align: right;\n",
              "    }\n",
              "</style>\n",
              "<table border=\"1\" class=\"dataframe\">\n",
              "  <thead>\n",
              "    <tr style=\"text-align: right;\">\n",
              "      <th></th>\n",
              "      <th>country</th>\n",
              "      <th>iso_code</th>\n",
              "      <th>date</th>\n",
              "      <th>total_vaccinations</th>\n",
              "      <th>people_vaccinated</th>\n",
              "      <th>people_fully_vaccinated</th>\n",
              "      <th>daily_vaccinations_raw</th>\n",
              "      <th>daily_vaccinations</th>\n",
              "      <th>total_vaccinations_per_hundred</th>\n",
              "      <th>people_vaccinated_per_hundred</th>\n",
              "      <th>people_fully_vaccinated_per_hundred</th>\n",
              "      <th>daily_vaccinations_per_million</th>\n",
              "      <th>vaccines</th>\n",
              "      <th>source_name</th>\n",
              "      <th>source_website</th>\n",
              "    </tr>\n",
              "  </thead>\n",
              "  <tbody>\n",
              "    <tr>\n",
              "      <th>880</th>\n",
              "      <td>England</td>\n",
              "      <td>NaN</td>\n",
              "      <td>2020-12-13</td>\n",
              "      <td>55389.0</td>\n",
              "      <td>55389.000000</td>\n",
              "      <td>NaN</td>\n",
              "      <td>NaN</td>\n",
              "      <td>NaN</td>\n",
              "      <td>0.10</td>\n",
              "      <td>0.10</td>\n",
              "      <td>NaN</td>\n",
              "      <td>NaN</td>\n",
              "      <td>Oxford/AstraZeneca, Pfizer/BioNTech</td>\n",
              "      <td>Government of the United Kingdom</td>\n",
              "      <td>https://coronavirus.data.gov.uk/details/health...</td>\n",
              "    </tr>\n",
              "    <tr>\n",
              "      <th>881</th>\n",
              "      <td>England</td>\n",
              "      <td>NaN</td>\n",
              "      <td>2020-12-14</td>\n",
              "      <td>NaN</td>\n",
              "      <td>55389.000000</td>\n",
              "      <td>NaN</td>\n",
              "      <td>NaN</td>\n",
              "      <td>74067.0</td>\n",
              "      <td>NaN</td>\n",
              "      <td>NaN</td>\n",
              "      <td>NaN</td>\n",
              "      <td>1316.0</td>\n",
              "      <td>Oxford/AstraZeneca, Pfizer/BioNTech</td>\n",
              "      <td>Government of the United Kingdom</td>\n",
              "      <td>https://coronavirus.data.gov.uk/details/health...</td>\n",
              "    </tr>\n",
              "    <tr>\n",
              "      <th>882</th>\n",
              "      <td>England</td>\n",
              "      <td>NaN</td>\n",
              "      <td>2020-12-15</td>\n",
              "      <td>NaN</td>\n",
              "      <td>55389.000000</td>\n",
              "      <td>NaN</td>\n",
              "      <td>NaN</td>\n",
              "      <td>74067.0</td>\n",
              "      <td>NaN</td>\n",
              "      <td>NaN</td>\n",
              "      <td>NaN</td>\n",
              "      <td>1316.0</td>\n",
              "      <td>Oxford/AstraZeneca, Pfizer/BioNTech</td>\n",
              "      <td>Government of the United Kingdom</td>\n",
              "      <td>https://coronavirus.data.gov.uk/details/health...</td>\n",
              "    </tr>\n",
              "    <tr>\n",
              "      <th>883</th>\n",
              "      <td>England</td>\n",
              "      <td>NaN</td>\n",
              "      <td>2020-12-16</td>\n",
              "      <td>NaN</td>\n",
              "      <td>55389.000000</td>\n",
              "      <td>NaN</td>\n",
              "      <td>NaN</td>\n",
              "      <td>74067.0</td>\n",
              "      <td>NaN</td>\n",
              "      <td>NaN</td>\n",
              "      <td>NaN</td>\n",
              "      <td>1316.0</td>\n",
              "      <td>Oxford/AstraZeneca, Pfizer/BioNTech</td>\n",
              "      <td>Government of the United Kingdom</td>\n",
              "      <td>https://coronavirus.data.gov.uk/details/health...</td>\n",
              "    </tr>\n",
              "    <tr>\n",
              "      <th>884</th>\n",
              "      <td>England</td>\n",
              "      <td>NaN</td>\n",
              "      <td>2020-12-17</td>\n",
              "      <td>NaN</td>\n",
              "      <td>55389.000000</td>\n",
              "      <td>NaN</td>\n",
              "      <td>NaN</td>\n",
              "      <td>74067.0</td>\n",
              "      <td>NaN</td>\n",
              "      <td>NaN</td>\n",
              "      <td>NaN</td>\n",
              "      <td>1316.0</td>\n",
              "      <td>Oxford/AstraZeneca, Pfizer/BioNTech</td>\n",
              "      <td>Government of the United Kingdom</td>\n",
              "      <td>https://coronavirus.data.gov.uk/details/health...</td>\n",
              "    </tr>\n",
              "    <tr>\n",
              "      <th>885</th>\n",
              "      <td>England</td>\n",
              "      <td>NaN</td>\n",
              "      <td>2020-12-18</td>\n",
              "      <td>NaN</td>\n",
              "      <td>55389.000000</td>\n",
              "      <td>NaN</td>\n",
              "      <td>NaN</td>\n",
              "      <td>74067.0</td>\n",
              "      <td>NaN</td>\n",
              "      <td>NaN</td>\n",
              "      <td>NaN</td>\n",
              "      <td>1316.0</td>\n",
              "      <td>Oxford/AstraZeneca, Pfizer/BioNTech</td>\n",
              "      <td>Government of the United Kingdom</td>\n",
              "      <td>https://coronavirus.data.gov.uk/details/health...</td>\n",
              "    </tr>\n",
              "    <tr>\n",
              "      <th>886</th>\n",
              "      <td>England</td>\n",
              "      <td>NaN</td>\n",
              "      <td>2020-12-19</td>\n",
              "      <td>NaN</td>\n",
              "      <td>55389.000000</td>\n",
              "      <td>NaN</td>\n",
              "      <td>NaN</td>\n",
              "      <td>74067.0</td>\n",
              "      <td>NaN</td>\n",
              "      <td>NaN</td>\n",
              "      <td>NaN</td>\n",
              "      <td>1316.0</td>\n",
              "      <td>Oxford/AstraZeneca, Pfizer/BioNTech</td>\n",
              "      <td>Government of the United Kingdom</td>\n",
              "      <td>https://coronavirus.data.gov.uk/details/health...</td>\n",
              "    </tr>\n",
              "    <tr>\n",
              "      <th>887</th>\n",
              "      <td>England</td>\n",
              "      <td>NaN</td>\n",
              "      <td>2020-12-20</td>\n",
              "      <td>573858.0</td>\n",
              "      <td>573858.000000</td>\n",
              "      <td>NaN</td>\n",
              "      <td>NaN</td>\n",
              "      <td>74067.0</td>\n",
              "      <td>1.02</td>\n",
              "      <td>1.02</td>\n",
              "      <td>NaN</td>\n",
              "      <td>1316.0</td>\n",
              "      <td>Oxford/AstraZeneca, Pfizer/BioNTech</td>\n",
              "      <td>Government of the United Kingdom</td>\n",
              "      <td>https://coronavirus.data.gov.uk/details/health...</td>\n",
              "    </tr>\n",
              "    <tr>\n",
              "      <th>888</th>\n",
              "      <td>England</td>\n",
              "      <td>NaN</td>\n",
              "      <td>2020-12-21</td>\n",
              "      <td>NaN</td>\n",
              "      <td>228212.000000</td>\n",
              "      <td>NaN</td>\n",
              "      <td>NaN</td>\n",
              "      <td>68942.0</td>\n",
              "      <td>NaN</td>\n",
              "      <td>NaN</td>\n",
              "      <td>NaN</td>\n",
              "      <td>1225.0</td>\n",
              "      <td>Oxford/AstraZeneca, Pfizer/BioNTech</td>\n",
              "      <td>Government of the United Kingdom</td>\n",
              "      <td>https://coronavirus.data.gov.uk/details/health...</td>\n",
              "    </tr>\n",
              "    <tr>\n",
              "      <th>889</th>\n",
              "      <td>England</td>\n",
              "      <td>NaN</td>\n",
              "      <td>2020-12-22</td>\n",
              "      <td>NaN</td>\n",
              "      <td>285819.666667</td>\n",
              "      <td>NaN</td>\n",
              "      <td>NaN</td>\n",
              "      <td>63817.0</td>\n",
              "      <td>NaN</td>\n",
              "      <td>NaN</td>\n",
              "      <td>NaN</td>\n",
              "      <td>1134.0</td>\n",
              "      <td>Oxford/AstraZeneca, Pfizer/BioNTech</td>\n",
              "      <td>Government of the United Kingdom</td>\n",
              "      <td>https://coronavirus.data.gov.uk/details/health...</td>\n",
              "    </tr>\n",
              "  </tbody>\n",
              "</table>\n",
              "</div>\n",
              "    <div class=\"colab-df-buttons\">\n",
              "\n",
              "  <div class=\"colab-df-container\">\n",
              "    <button class=\"colab-df-convert\" onclick=\"convertToInteractive('df-9848db67-e963-489a-89aa-78226eb5efac')\"\n",
              "            title=\"Convert this dataframe to an interactive table.\"\n",
              "            style=\"display:none;\">\n",
              "\n",
              "  <svg xmlns=\"http://www.w3.org/2000/svg\" height=\"24px\" viewBox=\"0 -960 960 960\">\n",
              "    <path d=\"M120-120v-720h720v720H120Zm60-500h600v-160H180v160Zm220 220h160v-160H400v160Zm0 220h160v-160H400v160ZM180-400h160v-160H180v160Zm440 0h160v-160H620v160ZM180-180h160v-160H180v160Zm440 0h160v-160H620v160Z\"/>\n",
              "  </svg>\n",
              "    </button>\n",
              "\n",
              "  <style>\n",
              "    .colab-df-container {\n",
              "      display:flex;\n",
              "      gap: 12px;\n",
              "    }\n",
              "\n",
              "    .colab-df-convert {\n",
              "      background-color: #E8F0FE;\n",
              "      border: none;\n",
              "      border-radius: 50%;\n",
              "      cursor: pointer;\n",
              "      display: none;\n",
              "      fill: #1967D2;\n",
              "      height: 32px;\n",
              "      padding: 0 0 0 0;\n",
              "      width: 32px;\n",
              "    }\n",
              "\n",
              "    .colab-df-convert:hover {\n",
              "      background-color: #E2EBFA;\n",
              "      box-shadow: 0px 1px 2px rgba(60, 64, 67, 0.3), 0px 1px 3px 1px rgba(60, 64, 67, 0.15);\n",
              "      fill: #174EA6;\n",
              "    }\n",
              "\n",
              "    .colab-df-buttons div {\n",
              "      margin-bottom: 4px;\n",
              "    }\n",
              "\n",
              "    [theme=dark] .colab-df-convert {\n",
              "      background-color: #3B4455;\n",
              "      fill: #D2E3FC;\n",
              "    }\n",
              "\n",
              "    [theme=dark] .colab-df-convert:hover {\n",
              "      background-color: #434B5C;\n",
              "      box-shadow: 0px 1px 3px 1px rgba(0, 0, 0, 0.15);\n",
              "      filter: drop-shadow(0px 1px 2px rgba(0, 0, 0, 0.3));\n",
              "      fill: #FFFFFF;\n",
              "    }\n",
              "  </style>\n",
              "\n",
              "    <script>\n",
              "      const buttonEl =\n",
              "        document.querySelector('#df-9848db67-e963-489a-89aa-78226eb5efac button.colab-df-convert');\n",
              "      buttonEl.style.display =\n",
              "        google.colab.kernel.accessAllowed ? 'block' : 'none';\n",
              "\n",
              "      async function convertToInteractive(key) {\n",
              "        const element = document.querySelector('#df-9848db67-e963-489a-89aa-78226eb5efac');\n",
              "        const dataTable =\n",
              "          await google.colab.kernel.invokeFunction('convertToInteractive',\n",
              "                                                    [key], {});\n",
              "        if (!dataTable) return;\n",
              "\n",
              "        const docLinkHtml = 'Like what you see? Visit the ' +\n",
              "          '<a target=\"_blank\" href=https://colab.research.google.com/notebooks/data_table.ipynb>data table notebook</a>'\n",
              "          + ' to learn more about interactive tables.';\n",
              "        element.innerHTML = '';\n",
              "        dataTable['output_type'] = 'display_data';\n",
              "        await google.colab.output.renderOutput(dataTable, element);\n",
              "        const docLink = document.createElement('div');\n",
              "        docLink.innerHTML = docLinkHtml;\n",
              "        element.appendChild(docLink);\n",
              "      }\n",
              "    </script>\n",
              "  </div>\n",
              "\n",
              "\n",
              "<div id=\"df-26b35967-871b-43b4-9d76-31c60bcbf567\">\n",
              "  <button class=\"colab-df-quickchart\" onclick=\"quickchart('df-26b35967-871b-43b4-9d76-31c60bcbf567')\"\n",
              "            title=\"Suggest charts\"\n",
              "            style=\"display:none;\">\n",
              "\n",
              "<svg xmlns=\"http://www.w3.org/2000/svg\" height=\"24px\"viewBox=\"0 0 24 24\"\n",
              "     width=\"24px\">\n",
              "    <g>\n",
              "        <path d=\"M19 3H5c-1.1 0-2 .9-2 2v14c0 1.1.9 2 2 2h14c1.1 0 2-.9 2-2V5c0-1.1-.9-2-2-2zM9 17H7v-7h2v7zm4 0h-2V7h2v10zm4 0h-2v-4h2v4z\"/>\n",
              "    </g>\n",
              "</svg>\n",
              "  </button>\n",
              "\n",
              "<style>\n",
              "  .colab-df-quickchart {\n",
              "      --bg-color: #E8F0FE;\n",
              "      --fill-color: #1967D2;\n",
              "      --hover-bg-color: #E2EBFA;\n",
              "      --hover-fill-color: #174EA6;\n",
              "      --disabled-fill-color: #AAA;\n",
              "      --disabled-bg-color: #DDD;\n",
              "  }\n",
              "\n",
              "  [theme=dark] .colab-df-quickchart {\n",
              "      --bg-color: #3B4455;\n",
              "      --fill-color: #D2E3FC;\n",
              "      --hover-bg-color: #434B5C;\n",
              "      --hover-fill-color: #FFFFFF;\n",
              "      --disabled-bg-color: #3B4455;\n",
              "      --disabled-fill-color: #666;\n",
              "  }\n",
              "\n",
              "  .colab-df-quickchart {\n",
              "    background-color: var(--bg-color);\n",
              "    border: none;\n",
              "    border-radius: 50%;\n",
              "    cursor: pointer;\n",
              "    display: none;\n",
              "    fill: var(--fill-color);\n",
              "    height: 32px;\n",
              "    padding: 0;\n",
              "    width: 32px;\n",
              "  }\n",
              "\n",
              "  .colab-df-quickchart:hover {\n",
              "    background-color: var(--hover-bg-color);\n",
              "    box-shadow: 0 1px 2px rgba(60, 64, 67, 0.3), 0 1px 3px 1px rgba(60, 64, 67, 0.15);\n",
              "    fill: var(--button-hover-fill-color);\n",
              "  }\n",
              "\n",
              "  .colab-df-quickchart-complete:disabled,\n",
              "  .colab-df-quickchart-complete:disabled:hover {\n",
              "    background-color: var(--disabled-bg-color);\n",
              "    fill: var(--disabled-fill-color);\n",
              "    box-shadow: none;\n",
              "  }\n",
              "\n",
              "  .colab-df-spinner {\n",
              "    border: 2px solid var(--fill-color);\n",
              "    border-color: transparent;\n",
              "    border-bottom-color: var(--fill-color);\n",
              "    animation:\n",
              "      spin 1s steps(1) infinite;\n",
              "  }\n",
              "\n",
              "  @keyframes spin {\n",
              "    0% {\n",
              "      border-color: transparent;\n",
              "      border-bottom-color: var(--fill-color);\n",
              "      border-left-color: var(--fill-color);\n",
              "    }\n",
              "    20% {\n",
              "      border-color: transparent;\n",
              "      border-left-color: var(--fill-color);\n",
              "      border-top-color: var(--fill-color);\n",
              "    }\n",
              "    30% {\n",
              "      border-color: transparent;\n",
              "      border-left-color: var(--fill-color);\n",
              "      border-top-color: var(--fill-color);\n",
              "      border-right-color: var(--fill-color);\n",
              "    }\n",
              "    40% {\n",
              "      border-color: transparent;\n",
              "      border-right-color: var(--fill-color);\n",
              "      border-top-color: var(--fill-color);\n",
              "    }\n",
              "    60% {\n",
              "      border-color: transparent;\n",
              "      border-right-color: var(--fill-color);\n",
              "    }\n",
              "    80% {\n",
              "      border-color: transparent;\n",
              "      border-right-color: var(--fill-color);\n",
              "      border-bottom-color: var(--fill-color);\n",
              "    }\n",
              "    90% {\n",
              "      border-color: transparent;\n",
              "      border-bottom-color: var(--fill-color);\n",
              "    }\n",
              "  }\n",
              "</style>\n",
              "\n",
              "  <script>\n",
              "    async function quickchart(key) {\n",
              "      const quickchartButtonEl =\n",
              "        document.querySelector('#' + key + ' button');\n",
              "      quickchartButtonEl.disabled = true;  // To prevent multiple clicks.\n",
              "      quickchartButtonEl.classList.add('colab-df-spinner');\n",
              "      try {\n",
              "        const charts = await google.colab.kernel.invokeFunction(\n",
              "            'suggestCharts', [key], {});\n",
              "      } catch (error) {\n",
              "        console.error('Error during call to suggestCharts:', error);\n",
              "      }\n",
              "      quickchartButtonEl.classList.remove('colab-df-spinner');\n",
              "      quickchartButtonEl.classList.add('colab-df-quickchart-complete');\n",
              "    }\n",
              "    (() => {\n",
              "      let quickchartButtonEl =\n",
              "        document.querySelector('#df-26b35967-871b-43b4-9d76-31c60bcbf567 button');\n",
              "      quickchartButtonEl.style.display =\n",
              "        google.colab.kernel.accessAllowed ? 'block' : 'none';\n",
              "    })();\n",
              "  </script>\n",
              "</div>\n",
              "    </div>\n",
              "  </div>\n"
            ],
            "application/vnd.google.colaboratory.intrinsic+json": {
              "type": "dataframe",
              "variable_name": "England2",
              "repr_error": "0"
            }
          },
          "metadata": {},
          "execution_count": 82
        }
      ]
    },
    {
      "cell_type": "code",
      "source": [
        "media == England2.at[888, 'people_vaccinated']\n"
      ],
      "metadata": {
        "colab": {
          "base_uri": "https://localhost:8080/"
        },
        "id": "kGFV327R1JMv",
        "outputId": "474b8011-92fb-4591-c105-e357a55670b8"
      },
      "execution_count": 83,
      "outputs": [
        {
          "output_type": "execute_result",
          "data": {
            "text/plain": [
              "True"
            ]
          },
          "metadata": {},
          "execution_count": 83
        }
      ]
    },
    {
      "cell_type": "markdown",
      "source": [
        "# 2.\n",
        "De aquellos 5 países que han vacunado más días en total compara su evolución en el tiempo\n",
        "(no importa que en algunas fechas no coincidan). ¿Qué diagrama has usado? ¿Porqué? Teniendo en\n",
        "cuenta que el mejor plan de vacunación es el que se mantiene más constante ¿Cuál es el país que mejor\n",
        "está llevando a cabo la vacunación? Haz una interpretación de dicho plan de vacunación.\n"
      ],
      "metadata": {
        "id": "KaYSXtx7JRN1"
      }
    },
    {
      "cell_type": "code",
      "source": [
        "# Agrupar por país y contar las entradas para cada uno\n",
        "conteo = df.groupby('country').size()\n",
        "# Ordenar de mayor a menor\n",
        "conteo = conteo.sort_values(ascending=False)"
      ],
      "metadata": {
        "id": "O1TPaP6UKiQa"
      },
      "execution_count": 84,
      "outputs": []
    },
    {
      "cell_type": "markdown",
      "source": [
        "Vemos los 5 países con más entries, ya que cada entry es un día de vacunación en un país."
      ],
      "metadata": {
        "id": "wab3wf6FLqMj"
      }
    },
    {
      "cell_type": "code",
      "source": [
        "print(conteo[:5])"
      ],
      "metadata": {
        "id": "Uu8pqrWuLg1v",
        "outputId": "b3658f02-0171-430e-b2e9-0a9f8837399c",
        "colab": {
          "base_uri": "https://localhost:8080/"
        }
      },
      "execution_count": 85,
      "outputs": [
        {
          "output_type": "stream",
          "name": "stdout",
          "text": [
            "country\n",
            "Wales               64\n",
            "England             64\n",
            "Scotland            64\n",
            "Northern Ireland    64\n",
            "United Kingdom      64\n",
            "dtype: int64\n"
          ]
        }
      ]
    },
    {
      "cell_type": "markdown",
      "source": [
        "Observamos que `United Kingdom` está compuesto por los países `Wales`, `England`, `Scotland`, `Northern Ireland`. Vamos a ver si los datos coinciden. Ya que en caso afirmativo, sería una variable dependiente (si `people_vaccinated` de UK son la suma de `people_vaccinated` de los países que lo componen) y no aporta información nueva."
      ],
      "metadata": {
        "id": "ME4W7hVAcLqv"
      }
    },
    {
      "cell_type": "markdown",
      "source": [
        "Solo con el primer día de vacunación vemos que los datos coinciden."
      ],
      "metadata": {
        "id": "KgmBGQYa61qx"
      }
    },
    {
      "cell_type": "code",
      "source": [
        "# con people vaccinated de los 4 paises si su suma da UK\n",
        "suma_individuals = 0\n",
        "for pais in conteo[:4].index:\n",
        "  suma_individuals = df[df['country'] == pais].iloc[33]['people_vaccinated'] + suma_individuals\n",
        "print(suma_individuals)\n",
        "suma_UK = df[df['country'] == 'United Kingdom'].iloc[33]['people_vaccinated']\n",
        "print(suma_UK)"
      ],
      "metadata": {
        "id": "vG8Xi3LWcH6W",
        "colab": {
          "base_uri": "https://localhost:8080/"
        },
        "outputId": "d98e6948-e7fd-42cc-f464-acf6b4aeea3e"
      },
      "execution_count": null,
      "outputs": [
        {
          "output_type": "stream",
          "name": "stdout",
          "text": [
            "3529874.3333333335\n",
            "3559179.0\n"
          ]
        }
      ]
    },
    {
      "cell_type": "markdown",
      "source": [
        "Comprobaremos con todos los días"
      ],
      "metadata": {
        "id": "E_57LkE47QLt"
      }
    },
    {
      "cell_type": "code",
      "source": [
        "# con people vaccinated de los 4 paises si su suma da UK\n",
        "suma_UK = 0\n",
        "for i in range(64):\n",
        "  suma_individuals = 0\n",
        "  for pais in conteo[:4].index:\n",
        "    suma_individuals = df[df['country'] == pais].iloc[i]['people_vaccinated'] + suma_individuals\n",
        "\n",
        "  suma_UK = df[df['country'] == 'United Kingdom'].iloc[i]['people_vaccinated']\n",
        "  print([round(suma_individuals), round(suma_UK)])\n"
      ],
      "metadata": {
        "id": "dMYfAFUgjQsd",
        "outputId": "bf425b90-41b7-4f56-cdd7-6bb6aeaf8e5c",
        "colab": {
          "base_uri": "https://localhost:8080/"
        }
      },
      "execution_count": null,
      "outputs": [
        {
          "output_type": "stream",
          "name": "stdout",
          "text": [
            "[86215, 86215]\n",
            "[86215, 86215]\n",
            "[86215, 86215]\n",
            "[86215, 86215]\n",
            "[86215, 86215]\n",
            "[86215, 86215]\n",
            "[86215, 86215]\n",
            "[673798, 673798]\n",
            "[282076, 282076]\n",
            "[347363, 347363]\n",
            "[434412, 434412]\n",
            "[354617, 354617]\n",
            "[378797, 378797]\n",
            "[389276, 389276]\n",
            "[1002930, 1002930]\n",
            "[590334, 590334]\n",
            "[660847, 660847]\n",
            "[751370, 751370]\n",
            "[667517, 667517]\n",
            "[693245, 693245]\n",
            "[704044, 704044]\n",
            "[1376994, 1376994]\n",
            "[924761, 924761]\n",
            "[1001933, 1001933]\n",
            "[1101229, 1101229]\n",
            "[1009308, 1009308]\n",
            "[1037490, 1037490]\n",
            "[1049342, 1049342]\n",
            "[2286572, 2286572]\n",
            "[2431648, 2431648]\n",
            "[2639309, 2639309]\n",
            "[2918252, 2918252]\n",
            "[3234946, 3234946]\n",
            "[3529874, 3559179]\n",
            "[3817314, 3837094]\n",
            "[4062501, 4062501]\n",
            "[4266577, 4266577]\n",
            "[4609740, 4609740]\n",
            "[4973248, 4973248]\n",
            "[5383103, 5383103]\n",
            "[5861351, 5861351]\n",
            "[6353321, 6353321]\n",
            "[6573570, 6573570]\n",
            "[6853327, 6853327]\n",
            "[7164387, 7164387]\n",
            "[7476765, 7476765]\n",
            "[7891184, 7891184]\n",
            "[8378940, 8378940]\n",
            "[8977329, 8977329]\n",
            "[9296367, 9296367]\n",
            "[9646715, 9646715]\n",
            "[10021471, 10021471]\n",
            "[10490487, 10490487]\n",
            "[10971047, 10971047]\n",
            "[11465210, 11465210]\n",
            "[12015018, 12015018]\n",
            "[12294006, 12294006]\n",
            "[12646486, 12646486]\n",
            "[13058298, 13058298]\n",
            "[13509108, 13509108]\n",
            "[14012224, 14012224]\n",
            "[14556827, 14556827]\n",
            "[15062189, 15062189]\n",
            "[15300151, 15300151]\n"
          ]
        }
      ]
    },
    {
      "cell_type": "markdown",
      "source": [
        "De manera general, los datos son prácticamente iguales (con pequeñas discrepancias como 3529874 y 3559179 que se diferencian en 5 personas vacunadas de diferencia."
      ],
      "metadata": {
        "id": "eI3VthuF-gJy"
      }
    },
    {
      "cell_type": "markdown",
      "source": [
        "Teniendo en cuenta que sería interesante comparar la eficacia de cada país con su campaña de vacunación, veamos la eficacia de la vacunación de los países de UK."
      ],
      "metadata": {
        "id": "wy1YJJhU-9qN"
      }
    },
    {
      "cell_type": "code",
      "source": [
        "perhundred_individuals = []\n",
        "for pais in conteo[:4].index:\n",
        "  perhundred_individuals.append(df[df['country'] == pais].iloc[63]['people_vaccinated_per_hundred'])\n",
        "print(perhundred_individuals)"
      ],
      "metadata": {
        "id": "dA2udh7AA_dA",
        "colab": {
          "base_uri": "https://localhost:8080/"
        },
        "outputId": "7728d16b-b393-464e-d1fd-21d4b69e8370"
      },
      "execution_count": null,
      "outputs": [
        {
          "output_type": "stream",
          "name": "stdout",
          "text": [
            "[24.89, 22.85, 22.97, 20.98]\n"
          ]
        }
      ]
    },
    {
      "cell_type": "code",
      "source": [
        "import matplotlib.pyplot as plt\n",
        "\n",
        "# Datos\n",
        "categorias = conteo[:4].index\n",
        "\n",
        "# Crear el gráfico de barras\n",
        "plt.bar(categorias, perhundred_individuals)\n",
        "\n",
        "# Añadir etiquetas\n",
        "plt.xlabel('Países de la UK')\n",
        "plt.ylabel('Número de vacunados por cada 100 personas')\n",
        "plt.title('Gráfico de Barras')\n",
        "\n",
        "# Mostrar el gráfico\n",
        "plt.show()\n"
      ],
      "metadata": {
        "id": "jCE0aMTxCW1U",
        "outputId": "3b27ca08-8e2e-40a6-a69f-b9bf739d3efc",
        "colab": {
          "base_uri": "https://localhost:8080/",
          "height": 472
        }
      },
      "execution_count": null,
      "outputs": [
        {
          "output_type": "display_data",
          "data": {
            "text/plain": [
              "<Figure size 640x480 with 1 Axes>"
            ],
            "image/png": "[encoded data removed]"
          },
          "metadata": {}
        }
      ]
    },
    {
      "cell_type": "markdown",
      "source": [
        "Tienen bastante similitud entre ellos en cuanto a la proporción de personas vacunadas, por lo que vamos a tomar UK en vez de los países individualmente, ya que tiene carácter más general. Además en UK se siguen campañas de vacunación muy parecidas, por lo que es de esperar que sus resultados también lo sean."
      ],
      "metadata": {
        "id": "yLjdogl0BSXV"
      }
    },
    {
      "cell_type": "code",
      "source": [
        "conteo = conteo.drop(conteo[:4].index)"
      ],
      "metadata": {
        "id": "DE-5QIHh3OsU"
      },
      "execution_count": 86,
      "outputs": []
    },
    {
      "cell_type": "code",
      "source": [
        "conteo[:5].index"
      ],
      "metadata": {
        "id": "uOv_4f2Zchd3",
        "colab": {
          "base_uri": "https://localhost:8080/"
        },
        "outputId": "b653dfca-78f7-489f-ce33-cda9bc6c4b75"
      },
      "execution_count": 87,
      "outputs": [
        {
          "output_type": "execute_result",
          "data": {
            "text/plain": [
              "Index(['United Kingdom', 'Israel', 'Russia', 'United States', 'China'], dtype='object', name='country')"
            ]
          },
          "metadata": {},
          "execution_count": 87
        }
      ]
    },
    {
      "cell_type": "markdown",
      "source": [
        "Antes de comenzar a graficar, veremos si los países del top 5 tienen datos fiables en `people_vaccinated`, comparando cuántos NaN tenía cada país."
      ],
      "metadata": {
        "id": "6ndmJU6p7-vX"
      }
    },
    {
      "cell_type": "code",
      "source": [
        "result = ds.groupby('country')['people_vaccinated'].agg([(\"values\", \"count\"), (\"NaN values\", lambda x: x.isna().sum())])\n",
        "result"
      ],
      "metadata": {
        "id": "CDMQyMnS-Dwj",
        "colab": {
          "base_uri": "https://localhost:8080/",
          "height": 455
        },
        "outputId": "bfcda395-ba16-453d-b294-0502f9860747"
      },
      "execution_count": 94,
      "outputs": [
        {
          "output_type": "execute_result",
          "data": {
            "text/plain": [
              "                          values  NaN values\n",
              "country                                     \n",
              "Albania                       13          18\n",
              "Algeria                        0           2\n",
              "Andorra                        3          14\n",
              "Anguilla                       2           8\n",
              "Argentina                     24          25\n",
              "...                          ...         ...\n",
              "Turks and Caicos Islands       2          28\n",
              "United Arab Emirates           1          41\n",
              "United Kingdom                40          24\n",
              "United States                 43          14\n",
              "Wales                         38          26\n",
              "\n",
              "[90 rows x 2 columns]"
            ],
            "text/html": [
              "\n",
              "  <div id=\"df-b6a76241-f9ea-46c3-83c9-a7fde57ee8ca\" class=\"colab-df-container\">\n",
              "    <div>\n",
              "<style scoped>\n",
              "    .dataframe tbody tr th:only-of-type {\n",
              "        vertical-align: middle;\n",
              "    }\n",
              "\n",
              "    .dataframe tbody tr th {\n",
              "        vertical-align: top;\n",
              "    }\n",
              "\n",
              "    .dataframe thead th {\n",
              "        text-align: right;\n",
              "    }\n",
              "</style>\n",
              "<table border=\"1\" class=\"dataframe\">\n",
              "  <thead>\n",
              "    <tr style=\"text-align: right;\">\n",
              "      <th></th>\n",
              "      <th>values</th>\n",
              "      <th>NaN values</th>\n",
              "    </tr>\n",
              "    <tr>\n",
              "      <th>country</th>\n",
              "      <th></th>\n",
              "      <th></th>\n",
              "    </tr>\n",
              "  </thead>\n",
              "  <tbody>\n",
              "    <tr>\n",
              "      <th>Albania</th>\n",
              "      <td>13</td>\n",
              "      <td>18</td>\n",
              "    </tr>\n",
              "    <tr>\n",
              "      <th>Algeria</th>\n",
              "      <td>0</td>\n",
              "      <td>2</td>\n",
              "    </tr>\n",
              "    <tr>\n",
              "      <th>Andorra</th>\n",
              "      <td>3</td>\n",
              "      <td>14</td>\n",
              "    </tr>\n",
              "    <tr>\n",
              "      <th>Anguilla</th>\n",
              "      <td>2</td>\n",
              "      <td>8</td>\n",
              "    </tr>\n",
              "    <tr>\n",
              "      <th>Argentina</th>\n",
              "      <td>24</td>\n",
              "      <td>25</td>\n",
              "    </tr>\n",
              "    <tr>\n",
              "      <th>...</th>\n",
              "      <td>...</td>\n",
              "      <td>...</td>\n",
              "    </tr>\n",
              "    <tr>\n",
              "      <th>Turks and Caicos Islands</th>\n",
              "      <td>2</td>\n",
              "      <td>28</td>\n",
              "    </tr>\n",
              "    <tr>\n",
              "      <th>United Arab Emirates</th>\n",
              "      <td>1</td>\n",
              "      <td>41</td>\n",
              "    </tr>\n",
              "    <tr>\n",
              "      <th>United Kingdom</th>\n",
              "      <td>40</td>\n",
              "      <td>24</td>\n",
              "    </tr>\n",
              "    <tr>\n",
              "      <th>United States</th>\n",
              "      <td>43</td>\n",
              "      <td>14</td>\n",
              "    </tr>\n",
              "    <tr>\n",
              "      <th>Wales</th>\n",
              "      <td>38</td>\n",
              "      <td>26</td>\n",
              "    </tr>\n",
              "  </tbody>\n",
              "</table>\n",
              "<p>90 rows × 2 columns</p>\n",
              "</div>\n",
              "    <div class=\"colab-df-buttons\">\n",
              "\n",
              "  <div class=\"colab-df-container\">\n",
              "    <button class=\"colab-df-convert\" onclick=\"convertToInteractive('df-b6a76241-f9ea-46c3-83c9-a7fde57ee8ca')\"\n",
              "            title=\"Convert this dataframe to an interactive table.\"\n",
              "            style=\"display:none;\">\n",
              "\n",
              "  <svg xmlns=\"http://www.w3.org/2000/svg\" height=\"24px\" viewBox=\"0 -960 960 960\">\n",
              "    <path d=\"M120-120v-720h720v720H120Zm60-500h600v-160H180v160Zm220 220h160v-160H400v160Zm0 220h160v-160H400v160ZM180-400h160v-160H180v160Zm440 0h160v-160H620v160ZM180-180h160v-160H180v160Zm440 0h160v-160H620v160Z\"/>\n",
              "  </svg>\n",
              "    </button>\n",
              "\n",
              "  <style>\n",
              "    .colab-df-container {\n",
              "      display:flex;\n",
              "      gap: 12px;\n",
              "    }\n",
              "\n",
              "    .colab-df-convert {\n",
              "      background-color: #E8F0FE;\n",
              "      border: none;\n",
              "      border-radius: 50%;\n",
              "      cursor: pointer;\n",
              "      display: none;\n",
              "      fill: #1967D2;\n",
              "      height: 32px;\n",
              "      padding: 0 0 0 0;\n",
              "      width: 32px;\n",
              "    }\n",
              "\n",
              "    .colab-df-convert:hover {\n",
              "      background-color: #E2EBFA;\n",
              "      box-shadow: 0px 1px 2px rgba(60, 64, 67, 0.3), 0px 1px 3px 1px rgba(60, 64, 67, 0.15);\n",
              "      fill: #174EA6;\n",
              "    }\n",
              "\n",
              "    .colab-df-buttons div {\n",
              "      margin-bottom: 4px;\n",
              "    }\n",
              "\n",
              "    [theme=dark] .colab-df-convert {\n",
              "      background-color: #3B4455;\n",
              "      fill: #D2E3FC;\n",
              "    }\n",
              "\n",
              "    [theme=dark] .colab-df-convert:hover {\n",
              "      background-color: #434B5C;\n",
              "      box-shadow: 0px 1px 3px 1px rgba(0, 0, 0, 0.15);\n",
              "      filter: drop-shadow(0px 1px 2px rgba(0, 0, 0, 0.3));\n",
              "      fill: #FFFFFF;\n",
              "    }\n",
              "  </style>\n",
              "\n",
              "    <script>\n",
              "      const buttonEl =\n",
              "        document.querySelector('#df-b6a76241-f9ea-46c3-83c9-a7fde57ee8ca button.colab-df-convert');\n",
              "      buttonEl.style.display =\n",
              "        google.colab.kernel.accessAllowed ? 'block' : 'none';\n",
              "\n",
              "      async function convertToInteractive(key) {\n",
              "        const element = document.querySelector('#df-b6a76241-f9ea-46c3-83c9-a7fde57ee8ca');\n",
              "        const dataTable =\n",
              "          await google.colab.kernel.invokeFunction('convertToInteractive',\n",
              "                                                    [key], {});\n",
              "        if (!dataTable) return;\n",
              "\n",
              "        const docLinkHtml = 'Like what you see? Visit the ' +\n",
              "          '<a target=\"_blank\" href=https://colab.research.google.com/notebooks/data_table.ipynb>data table notebook</a>'\n",
              "          + ' to learn more about interactive tables.';\n",
              "        element.innerHTML = '';\n",
              "        dataTable['output_type'] = 'display_data';\n",
              "        await google.colab.output.renderOutput(dataTable, element);\n",
              "        const docLink = document.createElement('div');\n",
              "        docLink.innerHTML = docLinkHtml;\n",
              "        element.appendChild(docLink);\n",
              "      }\n",
              "    </script>\n",
              "  </div>\n",
              "\n",
              "\n",
              "<div id=\"df-58df435a-f888-4676-80e9-b636675c2a6b\">\n",
              "  <button class=\"colab-df-quickchart\" onclick=\"quickchart('df-58df435a-f888-4676-80e9-b636675c2a6b')\"\n",
              "            title=\"Suggest charts\"\n",
              "            style=\"display:none;\">\n",
              "\n",
              "<svg xmlns=\"http://www.w3.org/2000/svg\" height=\"24px\"viewBox=\"0 0 24 24\"\n",
              "     width=\"24px\">\n",
              "    <g>\n",
              "        <path d=\"M19 3H5c-1.1 0-2 .9-2 2v14c0 1.1.9 2 2 2h14c1.1 0 2-.9 2-2V5c0-1.1-.9-2-2-2zM9 17H7v-7h2v7zm4 0h-2V7h2v10zm4 0h-2v-4h2v4z\"/>\n",
              "    </g>\n",
              "</svg>\n",
              "  </button>\n",
              "\n",
              "<style>\n",
              "  .colab-df-quickchart {\n",
              "      --bg-color: #E8F0FE;\n",
              "      --fill-color: #1967D2;\n",
              "      --hover-bg-color: #E2EBFA;\n",
              "      --hover-fill-color: #174EA6;\n",
              "      --disabled-fill-color: #AAA;\n",
              "      --disabled-bg-color: #DDD;\n",
              "  }\n",
              "\n",
              "  [theme=dark] .colab-df-quickchart {\n",
              "      --bg-color: #3B4455;\n",
              "      --fill-color: #D2E3FC;\n",
              "      --hover-bg-color: #434B5C;\n",
              "      --hover-fill-color: #FFFFFF;\n",
              "      --disabled-bg-color: #3B4455;\n",
              "      --disabled-fill-color: #666;\n",
              "  }\n",
              "\n",
              "  .colab-df-quickchart {\n",
              "    background-color: var(--bg-color);\n",
              "    border: none;\n",
              "    border-radius: 50%;\n",
              "    cursor: pointer;\n",
              "    display: none;\n",
              "    fill: var(--fill-color);\n",
              "    height: 32px;\n",
              "    padding: 0;\n",
              "    width: 32px;\n",
              "  }\n",
              "\n",
              "  .colab-df-quickchart:hover {\n",
              "    background-color: var(--hover-bg-color);\n",
              "    box-shadow: 0 1px 2px rgba(60, 64, 67, 0.3), 0 1px 3px 1px rgba(60, 64, 67, 0.15);\n",
              "    fill: var(--button-hover-fill-color);\n",
              "  }\n",
              "\n",
              "  .colab-df-quickchart-complete:disabled,\n",
              "  .colab-df-quickchart-complete:disabled:hover {\n",
              "    background-color: var(--disabled-bg-color);\n",
              "    fill: var(--disabled-fill-color);\n",
              "    box-shadow: none;\n",
              "  }\n",
              "\n",
              "  .colab-df-spinner {\n",
              "    border: 2px solid var(--fill-color);\n",
              "    border-color: transparent;\n",
              "    border-bottom-color: var(--fill-color);\n",
              "    animation:\n",
              "      spin 1s steps(1) infinite;\n",
              "  }\n",
              "\n",
              "  @keyframes spin {\n",
              "    0% {\n",
              "      border-color: transparent;\n",
              "      border-bottom-color: var(--fill-color);\n",
              "      border-left-color: var(--fill-color);\n",
              "    }\n",
              "    20% {\n",
              "      border-color: transparent;\n",
              "      border-left-color: var(--fill-color);\n",
              "      border-top-color: var(--fill-color);\n",
              "    }\n",
              "    30% {\n",
              "      border-color: transparent;\n",
              "      border-left-color: var(--fill-color);\n",
              "      border-top-color: var(--fill-color);\n",
              "      border-right-color: var(--fill-color);\n",
              "    }\n",
              "    40% {\n",
              "      border-color: transparent;\n",
              "      border-right-color: var(--fill-color);\n",
              "      border-top-color: var(--fill-color);\n",
              "    }\n",
              "    60% {\n",
              "      border-color: transparent;\n",
              "      border-right-color: var(--fill-color);\n",
              "    }\n",
              "    80% {\n",
              "      border-color: transparent;\n",
              "      border-right-color: var(--fill-color);\n",
              "      border-bottom-color: var(--fill-color);\n",
              "    }\n",
              "    90% {\n",
              "      border-color: transparent;\n",
              "      border-bottom-color: var(--fill-color);\n",
              "    }\n",
              "  }\n",
              "</style>\n",
              "\n",
              "  <script>\n",
              "    async function quickchart(key) {\n",
              "      const quickchartButtonEl =\n",
              "        document.querySelector('#' + key + ' button');\n",
              "      quickchartButtonEl.disabled = true;  // To prevent multiple clicks.\n",
              "      quickchartButtonEl.classList.add('colab-df-spinner');\n",
              "      try {\n",
              "        const charts = await google.colab.kernel.invokeFunction(\n",
              "            'suggestCharts', [key], {});\n",
              "      } catch (error) {\n",
              "        console.error('Error during call to suggestCharts:', error);\n",
              "      }\n",
              "      quickchartButtonEl.classList.remove('colab-df-spinner');\n",
              "      quickchartButtonEl.classList.add('colab-df-quickchart-complete');\n",
              "    }\n",
              "    (() => {\n",
              "      let quickchartButtonEl =\n",
              "        document.querySelector('#df-58df435a-f888-4676-80e9-b636675c2a6b button');\n",
              "      quickchartButtonEl.style.display =\n",
              "        google.colab.kernel.accessAllowed ? 'block' : 'none';\n",
              "    })();\n",
              "  </script>\n",
              "</div>\n",
              "    </div>\n",
              "  </div>\n"
            ],
            "application/vnd.google.colaboratory.intrinsic+json": {
              "type": "dataframe",
              "variable_name": "result",
              "summary": "{\n  \"name\": \"result\",\n  \"rows\": 90,\n  \"fields\": [\n    {\n      \"column\": \"values\",\n      \"properties\": {\n        \"dtype\": \"number\",\n        \"std\": 19,\n        \"min\": 0,\n        \"max\": 59,\n        \"samples\": [\n          18,\n          34,\n          29\n        ],\n        \"num_unique_values\": 34,\n        \"semantic_type\": \"\",\n        \"description\": \"\"\n      }\n    },\n    {\n      \"column\": \"NaN values\",\n      \"properties\": {\n        \"dtype\": \"number\",\n        \"std\": 14,\n        \"min\": 0,\n        \"max\": 57,\n        \"samples\": [\n          32,\n          11,\n          33\n        ],\n        \"num_unique_values\": 40,\n        \"semantic_type\": \"\",\n        \"description\": \"\"\n      }\n    }\n  ]\n}"
            }
          },
          "metadata": {},
          "execution_count": 94
        }
      ]
    },
    {
      "cell_type": "code",
      "source": [
        "import matplotlib.pyplot as plt\n",
        "filtered_result = result.loc[conteo[:5].index]\n",
        "# Crear el gráfico de barras\n",
        "filtered_result.plot(kind='bar', stacked=True, figsize=(12, 6))\n",
        "\n",
        "# Personalizar el gráfico\n",
        "plt.title('Número de entradas NaN y no NaN en la columna people_vaccinated por país')\n",
        "plt.xlabel('País')\n",
        "plt.ylabel('Número de entradas')\n",
        "plt.legend(['No NaN', 'NaN'])\n",
        "\n",
        "# Mostrar el gráfico\n",
        "plt.show()"
      ],
      "metadata": {
        "id": "e8-m7Q8k97Hj",
        "outputId": "f45403e7-b489-46b4-c26a-5bea88cf4f43",
        "colab": {
          "base_uri": "https://localhost:8080/",
          "height": 662
        }
      },
      "execution_count": 95,
      "outputs": [
        {
          "output_type": "display_data",
          "data": {
            "text/plain": [
              "<Figure size 1200x600 with 1 Axes>"
            ],
            "image/png": "[encoded data removed]"
          },
          "metadata": {}
        }
      ]
    },
    {
      "cell_type": "markdown",
      "source": [
        "La proporción de entradas NaN en Rusia y China en `people_vaccinated`, hacen que sus datos no puedan ser utilizados para el estudio, aún sustituyendo los NaN por las medias, si todos o casi todos son NaN, no se puede analizar correctamente la evolución del país por días de vacunación."
      ],
      "metadata": {
        "id": "aFp1wVeS-X5Z"
      }
    },
    {
      "cell_type": "code",
      "source": [
        "conteo = conteo.drop(['Russia','China'])\n",
        "conteo[:5]"
      ],
      "metadata": {
        "id": "4sLHXlBt-5VN",
        "outputId": "60951561-04ac-482e-b8e2-4b0f5a47e7b8",
        "colab": {
          "base_uri": "https://localhost:8080/"
        }
      },
      "execution_count": 96,
      "outputs": [
        {
          "output_type": "execute_result",
          "data": {
            "text/plain": [
              "country\n",
              "United Kingdom    64\n",
              "Israel            59\n",
              "United States     57\n",
              "Bahrain           55\n",
              "Chile             54\n",
              "dtype: int64"
            ]
          },
          "metadata": {},
          "execution_count": 96
        }
      ]
    },
    {
      "cell_type": "markdown",
      "source": [
        "Estudiemos los NaN con los siguientes países:"
      ],
      "metadata": {
        "id": "b1F1oP093I7X"
      }
    },
    {
      "cell_type": "code",
      "source": [
        "import matplotlib.pyplot as plt\n",
        "filtered_result = result.loc[conteo[:5].index]\n",
        "# Crear el gráfico de barras\n",
        "filtered_result.plot(kind='bar', stacked=True, figsize=(12, 6))\n",
        "\n",
        "# Personalizar el gráfico\n",
        "plt.title('Número de entradas NaN y no NaN en la columna people_vaccinated por país')\n",
        "plt.xlabel('País')\n",
        "plt.ylabel('Número de entradas')\n",
        "plt.legend(['No NaN', 'NaN'])\n",
        "\n",
        "# Mostrar el gráfico\n",
        "plt.show()"
      ],
      "metadata": {
        "id": "gZulT3lA_3YD",
        "outputId": "0829b307-7242-4f39-cfea-047a2d0bbbef",
        "colab": {
          "base_uri": "https://localhost:8080/",
          "height": 662
        }
      },
      "execution_count": 97,
      "outputs": [
        {
          "output_type": "display_data",
          "data": {
            "text/plain": [
              "<Figure size 1200x600 with 1 Axes>"
            ],
            "image/png": "[encoded data removed]"
          },
          "metadata": {}
        }
      ]
    },
    {
      "cell_type": "markdown",
      "source": [
        "De estos países sí que se tienen suficientes valores no NaN como para poder hacer un estudio."
      ],
      "metadata": {
        "id": "aoZsMOEr_6b5"
      }
    },
    {
      "cell_type": "code",
      "source": [
        "import matplotlib.pyplot as plt\n",
        "for pais in conteo[:5].index:\n",
        "  top5 = df[df['country'] == pais]\n",
        "  plt.plot(top5['date'], top5['people_vaccinated'], marker='o', markersize=2, linewidth=1)\n",
        "  plt.legend(pais)\n",
        "# Crear el gráfico de líneas\n",
        "\n",
        "plt.legend(conteo[:5].index)\n",
        "# Configurar el título y etiquetas de los ejes\n",
        "plt.title('Evolución de las vacunaciones')\n",
        "plt.xlabel('Fecha')\n",
        "plt.ylabel('Personas vacunadas')\n",
        "\n",
        "# Rotar las etiquetas del eje x para mejorar la legibilidad\n",
        "plt.xticks(rotation=45)\n",
        "\n",
        "# Mostrar el gráfico\n",
        "plt.grid(True)\n",
        "plt.tight_layout()\n",
        "# Leyenda\n",
        "\n",
        "plt.show()"
      ],
      "metadata": {
        "colab": {
          "base_uri": "https://localhost:8080/",
          "height": 486
        },
        "id": "MiV03UPpYw2j",
        "outputId": "e72a21a2-87b9-4b92-fc5e-7a2243306d95"
      },
      "execution_count": 114,
      "outputs": [
        {
          "output_type": "display_data",
          "data": {
            "text/plain": [
              "<Figure size 640x480 with 1 Axes>"
            ],
            "image/png": "[encoded data removed]"
          },
          "metadata": {}
        }
      ]
    },
    {
      "cell_type": "markdown",
      "source": [
        "De aquellos 5 países que han vacunado más días en total compara su evolución en el tiempo\n",
        "(no importa que en algunas fechas no coincidan). ¿Qué diagrama has usado? ¿Porqué? Teniendo en\n",
        "cuenta que el mejor plan de vacunación es el que se mantiene más constante ¿Cuál es el país que mejor\n",
        "está llevando a cabo la vacunación? Haz una interpretación de dicho plan de vacunación."
      ],
      "metadata": {
        "id": "2Ug-Pyjb3UbU"
      }
    },
    {
      "cell_type": "markdown",
      "source": [
        "En la siguiente gráfica tenemos representados países muy diversos, teniendo en común que todos ellos vacunaron durante más días y llevaron un registro aceptable de los datos de personas vacunadas por días.\n",
        "\n",
        "Estados Unidos tuvo un gran crecimiento de personas vacunadas por día durante su campaña de vacunación, incluso teniendo en cuenta que es el país con más población de los 5, su crecimiento es proporcionalmente superior al de países que fueron más constantes como Israel, Bahrain y Chile. Solo United Kingdom presenta un crecimiento similar pero que se desvanece en los últimos días."
      ],
      "metadata": {
        "id": "qzs4HrR0APgd"
      }
    }
  ]
}