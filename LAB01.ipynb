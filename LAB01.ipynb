{
  "nbformat": 4,
  "nbformat_minor": 0,
  "metadata": {
    "colab": {
      "provenance": [],
      "authorship_tag": "ABX9TyNY7nR36Sq+rLlf2EQFn2WD",
      "include_colab_link": true
    },
    "kernelspec": {
      "name": "python3",
      "display_name": "Python 3"
    },
    "language_info": {
      "name": "python"
    }
  },
  "cells": [
    {
      "cell_type": "markdown",
      "metadata": {
        "id": "view-in-github",
        "colab_type": "text"
      },
      "source": [
        "<a href=\"https://colab.research.google.com/github/CeliaDiazSanchez/Data-Mining/blob/LAB01/LAB01.ipynb\" target=\"_parent\"><img src=\"https://colab.research.google.com/assets/colab-badge.svg\" alt=\"Open In Colab\"/></a>"
      ]
    },
    {
      "cell_type": "markdown",
      "source": [],
      "metadata": {
        "id": "0IpJDtX6HU9r"
      }
    },
    {
      "cell_type": "code",
      "source": [
        "import requests\n",
        "import pandas as pd\n",
        "\n",
        "# URL del archivo CSV en GitHub\n",
        "url = \"https://raw.githubusercontent.com/CeliaDiazSanchez/Data-Mining/LAB01/vacunaciones.csv\"\n",
        "\n",
        "# Realizar la solicitud GET para obtener el contenido del archivo\n",
        "response = requests.get(url)\n",
        "\n",
        "# Verificar si la solicitud fue exitosa (código de estado 200)\n",
        "if response.status_code == 200:\n",
        "    # Guardar el contenido del archivo en un archivo local\n",
        "    with open('vacunaciones.csv', 'wb') as f:\n",
        "        f.write(response.content)\n",
        "    print(\"Archivo descargado exitosamente.\")\n",
        "else:\n",
        "    print(\"Error al descargar el archivo.\")\n",
        "\n",
        "# Cargar el archivo CSV en un DataFrame de pandas\n",
        "df = pd.read_csv('vacunaciones.csv')\n",
        "\n",
        "# Ahora puedes trabajar con el DataFrame df como desees\n",
        "print(df.head(3))"
      ],
      "metadata": {
        "id": "n-CK4GE6KNJ1",
        "outputId": "936cb80e-e277-4f19-c6e3-66f3efafe022",
        "colab": {
          "base_uri": "https://localhost:8080/"
        }
      },
      "execution_count": 8,
      "outputs": [
        {
          "output_type": "stream",
          "name": "stdout",
          "text": [
            "Archivo descargado exitosamente.\n",
            "   country iso_code        date  total_vaccinations  people_vaccinated  \\\n",
            "0  Albania      ALB  2021-01-10                 0.0                0.0   \n",
            "1  Albania      ALB  2021-01-11                 NaN                NaN   \n",
            "2  Albania      ALB  2021-01-12               128.0              128.0   \n",
            "\n",
            "   people_fully_vaccinated  daily_vaccinations_raw  daily_vaccinations  \\\n",
            "0                      NaN                     NaN                 NaN   \n",
            "1                      NaN                     NaN                64.0   \n",
            "2                      NaN                     NaN                64.0   \n",
            "\n",
            "   total_vaccinations_per_hundred  people_vaccinated_per_hundred  \\\n",
            "0                             0.0                            0.0   \n",
            "1                             NaN                            NaN   \n",
            "2                             0.0                            0.0   \n",
            "\n",
            "   people_fully_vaccinated_per_hundred  daily_vaccinations_per_million  \\\n",
            "0                                  NaN                             NaN   \n",
            "1                                  NaN                            22.0   \n",
            "2                                  NaN                            22.0   \n",
            "\n",
            "          vaccines         source_name  \\\n",
            "0  Pfizer/BioNTech  Ministry of Health   \n",
            "1  Pfizer/BioNTech  Ministry of Health   \n",
            "2  Pfizer/BioNTech  Ministry of Health   \n",
            "\n",
            "                                      source_website  \n",
            "0  https://shendetesia.gov.al/vaksinimi-anticovid...  \n",
            "1  https://shendetesia.gov.al/vaksinimi-anticovid...  \n",
            "2  https://shendetesia.gov.al/vaksinimi-anticovid...  \n"
          ]
        }
      ]
    }
  ]
}